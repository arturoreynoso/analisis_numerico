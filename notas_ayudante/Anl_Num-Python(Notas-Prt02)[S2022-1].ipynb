{
 "cells": [
  {
   "cell_type": "markdown",
   "metadata": {},
   "source": [
    "# <span style=\"color: #084B8A;\">Análisis numérico</span>\n",
    "## Python - Notas de clase  \n",
    "***Facultad de Ciencias, UNAM***  \n",
    "*Semestre 2022-1*  \n",
    "Jorge Zavaleta Sánchez"
   ]
  },
  {
   "cell_type": "markdown",
   "metadata": {},
   "source": [
    "# Arreglos\n",
    "\n",
    "Para empaquetar conjuntos de datos, en este caso lo podemos hacer en *Python* mediante:\n",
    "\n",
    "* **Listas** (```list```). Puede cambiar de forma dinámica su contenido mediante los métodos definidos para las listas, además de que puede contener diferentes tipos de datos.\n",
    "* **Tuplas** (```tuple```). Es equivalente a una lista, pero con la diferencia de que no puede cambiar de tamaño.\n",
    "\n",
    "**Notas**:\n",
    "\n",
    "* Tanto las listas como las tuplas son el análogo a un *arreglo*, pero con la diferencia que pueden tener diferentes tipos de datos.\n",
    "* La numeración de los indices comienza en 0 (cero).\n",
    "* El acceso a los elementos se hace a través de corchetes ```[]```.\n",
    "* Se pueden generar arreglos n-dimensionales.\n",
    "\n",
    "## Listas\n",
    "\n",
    "Se generan mediante corchetes ```[]``` y los elementos se separan mediante comas ```,```. Para generar listas n-dimensionales es necesario anidar listas, es decir, hacer listas de listas."
   ]
  },
  {
   "cell_type": "code",
   "execution_count": 51,
   "metadata": {},
   "outputs": [
    {
     "data": {
      "text/plain": [
       "list"
      ]
     },
     "execution_count": 51,
     "metadata": {},
     "output_type": "execute_result"
    }
   ],
   "source": [
    "# Listas simple con el mismo tipo de dato\n",
    "L = [1,2,3,4,5,6]\n",
    "type(L)"
   ]
  },
  {
   "cell_type": "code",
   "execution_count": 52,
   "metadata": {},
   "outputs": [
    {
     "name": "stdout",
     "output_type": "stream",
     "text": [
      "[1, 'Algo', True]\n"
     ]
    }
   ],
   "source": [
    "# Listas simple con diferentes tipos de dato\n",
    "L2 = [1,\"Algo\",True]\n",
    "print(L2)"
   ]
  },
  {
   "cell_type": "code",
   "execution_count": 53,
   "metadata": {},
   "outputs": [
    {
     "data": {
      "text/plain": [
       "'Algo'"
      ]
     },
     "execution_count": 53,
     "metadata": {},
     "output_type": "execute_result"
    }
   ],
   "source": [
    "# Acceso al segundo elemento de la lista\n",
    "L2[1]"
   ]
  },
  {
   "cell_type": "code",
   "execution_count": 54,
   "metadata": {},
   "outputs": [
    {
     "name": "stdout",
     "output_type": "stream",
     "text": [
      "[[1, 'Algo', True], [1, 2, 3, 4, 5, 6]]\n"
     ]
    }
   ],
   "source": [
    "# Lista bidimensional, analogo a poner directamente [[1,\"Algo\",True],[1,2,3,4,5,6]]\n",
    "L3 = [L2,L]\n",
    "print(L3)"
   ]
  },
  {
   "cell_type": "code",
   "execution_count": 55,
   "metadata": {},
   "outputs": [
    {
     "data": {
      "text/plain": [
       "'Algo'"
      ]
     },
     "execution_count": 55,
     "metadata": {},
     "output_type": "execute_result"
    }
   ],
   "source": [
    "# Acceso al segundo elemento de la primera lista\n",
    "L3[0][1]"
   ]
  },
  {
   "cell_type": "code",
   "execution_count": 56,
   "metadata": {},
   "outputs": [
    {
     "name": "stdout",
     "output_type": "stream",
     "text": [
      "[[[1, 'Algo', True], [1, 2, 3, 4, 5, 6]], [[1, 'Algo', True], [1, 2, 3, 4, 5, 6]]]\n"
     ]
    }
   ],
   "source": [
    "# Lista tridimensional\n",
    "L4 = [L3,L3]\n",
    "print(L4)"
   ]
  },
  {
   "cell_type": "code",
   "execution_count": 57,
   "metadata": {},
   "outputs": [
    {
     "data": {
      "text/plain": [
       "4"
      ]
     },
     "execution_count": 57,
     "metadata": {},
     "output_type": "execute_result"
    }
   ],
   "source": [
    "# Acceso al cuarto elemento de la segunda lista de la primera lista\n",
    "L4[0][1][3]"
   ]
  },
  {
   "cell_type": "markdown",
   "metadata": {},
   "source": [
    "Se puede modificar el tamaño de la lista a través de los métodos definidos para listas. Recuérdese que *Python* es un lenguaje de programación orientado a objetos, en el cual cada tipo de dato es un *objeto* definido mediante sus *atributos*, que es lo que define el estado de cada objeto, y este objeto cuenta con diferentes *métodos*, los cuales pueden ser pensados como funciones que actúan sobre los atributos.\n",
    "\n",
    "Para acceder a los métodos es necesario poner ```.``` después del objeto y escribir el nombre del método, que incluso puede tener argumentos adicionales. En *Jupyter* y en *Spyder* es posible mostrar los métodos disponibles para un objeto usando la tecla del **tabulador**. Para ello después de poner ```.``` apretamos la tecla *Tab* y aparecerá un menú, como se muestra en la siguiente imagen\n",
    "\n",
    "![liga](https://i.stack.imgur.com/uOoZ5.png)\n",
    "\n",
    "*En este curso no se hará énfasis en la parte orientada a objetos pero se usarán los métodos cuando sea conveniente*\n",
    "\n",
    "Algunos ejemplos para agregar nuevos elementos a una lista se muestra a continuación."
   ]
  },
  {
   "cell_type": "code",
   "execution_count": 58,
   "metadata": {},
   "outputs": [
    {
     "name": "stdout",
     "output_type": "stream",
     "text": [
      "[1, 2, 3, 4, 5, 6, 7]\n"
     ]
    }
   ],
   "source": [
    "# Agregamos el numero 7 al final de la lista L con el metodo append\n",
    "L.append(7)\n",
    "print(L)"
   ]
  },
  {
   "cell_type": "code",
   "execution_count": 59,
   "metadata": {},
   "outputs": [
    {
     "name": "stdout",
     "output_type": "stream",
     "text": [
      "[1, 2, 3, 'Hola', 4, 5, 6, 7]\n"
     ]
    }
   ],
   "source": [
    "# Agregamos la dcadena 'Hola' en la posicion 3 de la lista L con el metodo insert\n",
    "L.insert(3,'Hola')\n",
    "print(L)"
   ]
  },
  {
   "cell_type": "markdown",
   "metadata": {},
   "source": [
    "## Tuplas\n",
    "\n",
    "Se generan mediante paréntesis ```()``` y los elementos se separan mediante comas ```,```. Para generar tuplas n-dimensionales es necesario anidar tuplas, es decir, hacer tuplas de tuplas."
   ]
  },
  {
   "cell_type": "code",
   "execution_count": 60,
   "metadata": {},
   "outputs": [
    {
     "data": {
      "text/plain": [
       "tuple"
      ]
     },
     "execution_count": 60,
     "metadata": {},
     "output_type": "execute_result"
    }
   ],
   "source": [
    "# Tupla\n",
    "T = (1,2,3,4)\n",
    "type(T)"
   ]
  },
  {
   "cell_type": "code",
   "execution_count": 61,
   "metadata": {},
   "outputs": [
    {
     "data": {
      "text/plain": [
       "2"
      ]
     },
     "execution_count": 61,
     "metadata": {},
     "output_type": "execute_result"
    }
   ],
   "source": [
    "# Acceso al segundo elemento en la tupla T\n",
    "T[1]"
   ]
  },
  {
   "cell_type": "code",
   "execution_count": 62,
   "metadata": {},
   "outputs": [
    {
     "name": "stdout",
     "output_type": "stream",
     "text": [
      "((1, 2, 3, 4), (1, 2, 3, 4))\n"
     ]
    },
    {
     "data": {
      "text/plain": [
       "1"
      ]
     },
     "execution_count": 62,
     "metadata": {},
     "output_type": "execute_result"
    }
   ],
   "source": [
    "# Tupla bidimensional y acceso mediante 2 indices\n",
    "T2 = (T,T)\n",
    "print(T2)\n",
    "T2[0][0]"
   ]
  },
  {
   "cell_type": "code",
   "execution_count": 63,
   "metadata": {},
   "outputs": [
    {
     "name": "stdout",
     "output_type": "stream",
     "text": [
      "((1, 2, 3, 4), [1, 2, 3, 'Hola', 4, 5, 6, 7])\n"
     ]
    }
   ],
   "source": [
    "# Podemos combinar tuplas con listas y viceversa\n",
    "T3 = (T,L)\n",
    "print(T3)"
   ]
  },
  {
   "cell_type": "code",
   "execution_count": 64,
   "metadata": {},
   "outputs": [
    {
     "name": "stdout",
     "output_type": "stream",
     "text": [
      "<class 'tuple'>\n",
      "<class 'tuple'>\n",
      "<class 'list'>\n"
     ]
    },
    {
     "data": {
      "text/plain": [
       "'Hola'"
      ]
     },
     "execution_count": 64,
     "metadata": {},
     "output_type": "execute_result"
    }
   ],
   "source": [
    "# Mostramos el tipo al que corresponde\n",
    "print(type(T3)) # tupla\n",
    "print(type(T3[0])) # tupla\n",
    "print(type(T3[1])) # lista\n",
    "T3[1][3] # Acceso usual mientras el objeto lo permita"
   ]
  },
  {
   "cell_type": "markdown",
   "metadata": {},
   "source": [
    "## Acceso a porciones de un arreglo (*slices*)\n",
    "\n",
    "Podemos acceder de forma dinámica a los elementos de un arreglo mediante ```:```.\n",
    "\n",
    "**Nota**: El acceso está dado de la siguiente manera: ```inicio : final : incremento```, que se conocen como *slices*. Una cosa importante que se debe considerar en este caso es que el valor final no se toma en cuenta, es decir, los valores son tomados menores estrictos que el valor final. Por ejemplo, si lo consideramos como un intervalo, los valores están en $[inicio,final)$."
   ]
  },
  {
   "cell_type": "code",
   "execution_count": 65,
   "metadata": {},
   "outputs": [
    {
     "data": {
      "text/plain": [
       "['Hola', 4, 5]"
      ]
     },
     "execution_count": 65,
     "metadata": {},
     "output_type": "execute_result"
    }
   ],
   "source": [
    "# Los valores de L del indice 3 hasta el 5 (6 menos el incremento de 1 que esta implicito)\n",
    "L[3:6]"
   ]
  },
  {
   "cell_type": "code",
   "execution_count": 66,
   "metadata": {},
   "outputs": [
    {
     "data": {
      "text/plain": [
       "[1, 2, 3, 'Hola', 4, 5, 6, 7]"
      ]
     },
     "execution_count": 66,
     "metadata": {},
     "output_type": "execute_result"
    }
   ],
   "source": [
    "# Todos los elementos de la lista\n",
    "L[:]"
   ]
  },
  {
   "cell_type": "code",
   "execution_count": 67,
   "metadata": {},
   "outputs": [
    {
     "data": {
      "text/plain": [
       "['Hola', 4, 5, 6, 7]"
      ]
     },
     "execution_count": 67,
     "metadata": {},
     "output_type": "execute_result"
    }
   ],
   "source": [
    "# Del indice 3 hasta el final de la lista\n",
    "L[3:]"
   ]
  },
  {
   "cell_type": "code",
   "execution_count": 68,
   "metadata": {},
   "outputs": [
    {
     "data": {
      "text/plain": [
       "[1, 2, 3]"
      ]
     },
     "execution_count": 68,
     "metadata": {},
     "output_type": "execute_result"
    }
   ],
   "source": [
    "# Del inicio de la lista hasta el indice 2 (3 menos el incremento de 1 que esta implicito)\n",
    "L[:3]"
   ]
  },
  {
   "cell_type": "code",
   "execution_count": 69,
   "metadata": {},
   "outputs": [
    {
     "data": {
      "text/plain": [
       "[2, 'Hola', 5]"
      ]
     },
     "execution_count": 69,
     "metadata": {},
     "output_type": "execute_result"
    }
   ],
   "source": [
    "# Del indice 2 hasta el indice 5 con incrementos de 2\n",
    "L[1:6:2]"
   ]
  },
  {
   "cell_type": "markdown",
   "metadata": {},
   "source": [
    "**Nota**: Si se usan valores negativos, el arreglo se recorre del final al inicio, donde el último elemento tendría el índice ```-1```."
   ]
  },
  {
   "cell_type": "code",
   "execution_count": 70,
   "metadata": {},
   "outputs": [
    {
     "data": {
      "text/plain": [
       "7"
      ]
     },
     "execution_count": 70,
     "metadata": {},
     "output_type": "execute_result"
    }
   ],
   "source": [
    "# Ultimo elemento de L\n",
    "L[-1]"
   ]
  },
  {
   "cell_type": "code",
   "execution_count": 71,
   "metadata": {},
   "outputs": [
    {
     "data": {
      "text/plain": [
       "[7, 6, 5, 4, 'Hola', 3, 2, 1]"
      ]
     },
     "execution_count": 71,
     "metadata": {},
     "output_type": "execute_result"
    }
   ],
   "source": [
    "# Recorriendo de atras hacia adelante la lista\n",
    "L[-1:-len(L)-1:-1]"
   ]
  },
  {
   "cell_type": "markdown",
   "metadata": {},
   "source": [
    "**Nota**: La función ```len``` nos permite determinar la longitud de una cadena, lista, tupla, etc."
   ]
  },
  {
   "cell_type": "code",
   "execution_count": 72,
   "metadata": {},
   "outputs": [
    {
     "name": "stdout",
     "output_type": "stream",
     "text": [
      "La longitud de la cadena 'Cadena' es 6\n",
      "La longitud de la lista [1, 2, 3, 'Hola', 4, 5, 6, 7] es 8\n",
      "La longitud de la tupla (1, 2, 3, 4) es 4\n"
     ]
    }
   ],
   "source": [
    "print(f\"La longitud de la cadena 'Cadena' es {len('Cadena')}\")\n",
    "print(f\"La longitud de la lista {L} es {len(L)}\")\n",
    "print(f\"La longitud de la tupla {T} es {len(T)}\")"
   ]
  },
  {
   "cell_type": "markdown",
   "metadata": {},
   "source": [
    "## Módulo ```numpy```\n",
    "\n",
    "El módulo [```numpy```](https://numpy.org/) es una biblioteca para cómputo científico que nos permite hacer cálculos numéricos y tener acceso a rutinas numéricas que se pueden encontrar en *Matlab/Octave*. De esta manera, dentro de este módulo se cuenta con las funciones y constantes matemáticas que encontramos en el módulo ```math```."
   ]
  },
  {
   "cell_type": "code",
   "execution_count": 73,
   "metadata": {},
   "outputs": [],
   "source": [
    "# Cargamos el modulo\n",
    "import numpy as np"
   ]
  },
  {
   "cell_type": "code",
   "execution_count": 74,
   "metadata": {},
   "outputs": [
    {
     "data": {
      "text/plain": [
       "-1.0"
      ]
     },
     "execution_count": 74,
     "metadata": {},
     "output_type": "execute_result"
    }
   ],
   "source": [
    "# Funcion coseno en numpy\n",
    "np.cos(np.pi)"
   ]
  },
  {
   "cell_type": "code",
   "execution_count": 75,
   "metadata": {},
   "outputs": [
    {
     "data": {
      "text/plain": [
       "-1.0"
      ]
     },
     "execution_count": 75,
     "metadata": {},
     "output_type": "execute_result"
    }
   ],
   "source": [
    "# Funcion coseno en math\n",
    "math.cos(math.pi)"
   ]
  },
  {
   "cell_type": "markdown",
   "metadata": {},
   "source": [
    "### Arreglos en ```numpy```\n",
    "\n",
    "Además, ```numpy``` permite tener arreglos n-dimensionales (```ndarray```, vea la  [documentación](https://numpy.org/doc/stable/reference/arrays.html) para mayor información) que se comportan de manera similar a los arreglos que podemos encontrar en *Matlab/Octave*. En particular permite crear *vectores* (arreglos unidimensionales) de tamaño $n$ \n",
    "$$\n",
    "    \\pmb{x} = \\left(\\begin{array}{c} x_{1}\\\\x_{2}\\\\\\ldots\\\\x_{n}\\end{array}\\right),\n",
    "$$\n",
    "y *matrices* (arreglos bidimensionales) de tamaño $m\\times n$ ($m$ renglones y $n$ columnas)\n",
    "\n",
    "$$\n",
    "    A = \\left(\\begin{array}{cccc} \n",
    "        a_{1,1} & a_{1,2} & \\ldots & a_{1,n}\\\\\n",
    "        a_{2,1} & a_{2,2} & \\ldots & a_{2,n}\\\\\n",
    "        \\vdots  & \\vdots  & \\ddots & \\vdots\\\\\n",
    "        a_{m,1} & a_{m,2} & \\ldots & a_{m,n}\\end{array}\\right).\n",
    "$$"
   ]
  },
  {
   "cell_type": "code",
   "execution_count": 76,
   "metadata": {},
   "outputs": [
    {
     "name": "stdout",
     "output_type": "stream",
     "text": [
      "[1 2 3 4]\n"
     ]
    },
    {
     "data": {
      "text/plain": [
       "numpy.ndarray"
      ]
     },
     "execution_count": 76,
     "metadata": {},
     "output_type": "execute_result"
    }
   ],
   "source": [
    "# Generacion de un vector a través de una lista. Tambien se puede usar una tupla\n",
    "v = np.array([1,2,3,4])\n",
    "print(v)\n",
    "type(v)"
   ]
  },
  {
   "cell_type": "code",
   "execution_count": 77,
   "metadata": {},
   "outputs": [
    {
     "name": "stdout",
     "output_type": "stream",
     "text": [
      "[[1 2 3]\n",
      " [4 5 6]]\n"
     ]
    },
    {
     "data": {
      "text/plain": [
       "numpy.ndarray"
      ]
     },
     "execution_count": 77,
     "metadata": {},
     "output_type": "execute_result"
    }
   ],
   "source": [
    "# Generacion de una matriz a través de una lista bidimensional. Tambien se puede usar una tupla\n",
    "M = np.array([[1,2,3],[4,5,6]])\n",
    "print(M)\n",
    "type(M)"
   ]
  },
  {
   "cell_type": "markdown",
   "metadata": {},
   "source": [
    "**Nota**: El acceso a los elementos de los arreglos de ```numpy``` se puede hacer exactamente igual que para las listas y tuplas. Con ello se puede modificar sus valores mediante la referencia a un elemento o a un subconjunto de elementos usando el operador de asignación (=)."
   ]
  },
  {
   "cell_type": "code",
   "execution_count": 78,
   "metadata": {},
   "outputs": [
    {
     "name": "stdout",
     "output_type": "stream",
     "text": [
      "1\n",
      "[2 3]\n",
      "[1 2 3 4]\n"
     ]
    }
   ],
   "source": [
    "# Referencia a los elementos del vector\n",
    "print(v[0]) # Referencia al primer elemento\n",
    "print(v[1:3]) # Referencia a los elementos de la posición 1 a la 2\n",
    "print(v[:]) # Referencia a todos los elementos"
   ]
  },
  {
   "cell_type": "code",
   "execution_count": 79,
   "metadata": {},
   "outputs": [
    {
     "name": "stdout",
     "output_type": "stream",
     "text": [
      "1\n",
      "[4 5 6]\n"
     ]
    }
   ],
   "source": [
    "# Referencia a los elementos de la matriz\n",
    "print(M[0][0]) # Elemento en el primer renglon y primera columna M\n",
    "print(M[1][:]) # Segundo renglon de M"
   ]
  },
  {
   "cell_type": "code",
   "execution_count": 80,
   "metadata": {},
   "outputs": [
    {
     "name": "stdout",
     "output_type": "stream",
     "text": [
      "<class 'numpy.int64'>\n",
      "<class 'numpy.ndarray'>\n"
     ]
    }
   ],
   "source": [
    "# Tipos de datos \n",
    "print(type(M[0][0])) \n",
    "print(type(v[0:2]))"
   ]
  },
  {
   "cell_type": "code",
   "execution_count": 81,
   "metadata": {},
   "outputs": [
    {
     "name": "stdout",
     "output_type": "stream",
     "text": [
      "[[ 1  2 -1]\n",
      " [ 4  5  6]]\n"
     ]
    }
   ],
   "source": [
    "# Modificamos el valor del primer renglon tercera columna\n",
    "M[0][2] = -1\n",
    "print(M)"
   ]
  },
  {
   "cell_type": "code",
   "execution_count": 82,
   "metadata": {},
   "outputs": [
    {
     "name": "stdout",
     "output_type": "stream",
     "text": [
      "[[-5  2 -5]\n",
      " [ 4  5  6]]\n"
     ]
    }
   ],
   "source": [
    "# Modificamos los valores de la primera fila, y de la primera y tercera columna\n",
    "M[0][:3:2] = -5\n",
    "print(M)"
   ]
  },
  {
   "cell_type": "markdown",
   "metadata": {},
   "source": [
    "**Nota**: Sin embargo para tener acceso a submatrices como en el caso de *Matlab/Octave*, la clase ```array``` permite el manejo de los índices a través de un solo par de corchetes, y los índices correspondientes a cada dimensión se separan por comas, de forma análoga a *Matlab/Octave*."
   ]
  },
  {
   "cell_type": "code",
   "execution_count": 83,
   "metadata": {},
   "outputs": [
    {
     "data": {
      "text/plain": [
       "array([[4, 5, 6]])"
      ]
     },
     "execution_count": 83,
     "metadata": {},
     "output_type": "execute_result"
    }
   ],
   "source": [
    "# Intento de obtener la submatriz de todas las filas de M, y de la segunda y tercera columna de M\n",
    "M[:][1:3]"
   ]
  },
  {
   "cell_type": "code",
   "execution_count": 84,
   "metadata": {},
   "outputs": [
    {
     "data": {
      "text/plain": [
       "array([[ 2, -5],\n",
       "       [ 5,  6]])"
      ]
     },
     "execution_count": 84,
     "metadata": {},
     "output_type": "execute_result"
    }
   ],
   "source": [
    "# Submatriz de M de todas las filas de M, y de la segunda y tercera columna de M\n",
    "M[:,1:3]"
   ]
  },
  {
   "cell_type": "code",
   "execution_count": 85,
   "metadata": {},
   "outputs": [
    {
     "data": {
      "text/plain": [
       "array([[-5,  1,  2],\n",
       "       [ 4,  3,  4]])"
      ]
     },
     "execution_count": 85,
     "metadata": {},
     "output_type": "execute_result"
    }
   ],
   "source": [
    "# Se modifican todos los valores en la submatriz con un arreglo del mismo tamaño\n",
    "M[:,1:3] = np.array([[1,2],[3,4]])\n",
    "M"
   ]
  },
  {
   "cell_type": "markdown",
   "metadata": {},
   "source": [
    "#### Funciones para generar arreglos y métodos sobre arreglos de ```numpy```\n",
    "\n",
    "En el caso de las funciones para generar arreglos de *numpy* contamos con una gran variedad que nos permiten crear matrices con formas particulares como en el caso de *Matlab/Octave*. También es posible acceder a métodos para hacer manipulaciones sobre los elementos del arreglo o consultar algunos de los atributos. Una lista completa de las funciones puede ser consultada en la siguiente [liga](https://numpy.org/doc/stable/reference/routines.html) y los métodos disponibles se puede encontrar en la siguiente [liga](https://numpy.org/doc/stable/reference/arrays.ndarray.html#array-methods)."
   ]
  },
  {
   "cell_type": "markdown",
   "metadata": {},
   "source": [
    "La función ```linspace``` dentro de ```numpy``` sirve para crear vectores con elementos espaciados de manera uniforme. La sintaxis es la siguiente\n",
    "\n",
    "```python\n",
    "v = np.linspace(xi,xf,n)\n",
    "```\n",
    "* La variable ```xi``` indica el valor del primer elemento del vector.\n",
    "* La variable ```xf``` indica el valor del último elemento del vector.\n",
    "* La variable ```n``` indica el numero de elementos. Con la sintaxis ```v = linspace(xi,xf)``` la variable ```n``` toma el valor de 50.\n",
    "\n",
    "Así, cada entrada del vector ```v``` estará dada por:\n",
    "```python\n",
    "v[k] = xi + kh\n",
    "``` \n",
    "para ```k``` de ```0``` hasta ```n-1``` y \n",
    "```python\n",
    "h = (xf-xi)/(n-1)\n",
    "```"
   ]
  },
  {
   "cell_type": "code",
   "execution_count": 86,
   "metadata": {},
   "outputs": [
    {
     "name": "stdout",
     "output_type": "stream",
     "text": [
      "[-1.         -0.66666667 -0.33333333  0.          0.33333333  0.66666667\n",
      "  1.          1.33333333  1.66666667  2.        ]\n"
     ]
    }
   ],
   "source": [
    "# Ejemplo de linspace\n",
    "x = np.linspace(-1,2,10)\n",
    "print(x)"
   ]
  },
  {
   "cell_type": "markdown",
   "metadata": {},
   "source": [
    "La función ```arange``` dentro de ```numpy``` también sirve para crear vectores con elementos espaciados de manera uniforme. La sintaxis es la siguiente\n",
    "\n",
    "```python\n",
    "v = np.arange(xi,xf,h)\n",
    "```\n",
    "* La variable ```xi``` indica el valor del primer elemento del vector.\n",
    "* La variable ```xf``` indica la cota superior valor del último elemento del vector.\n",
    "* La variable ```h``` indica el incremento. Con la sintaxis ```v = arange(xi,xf)``` la variable ```h``` toma el valor de 1.\n",
    "\n",
    "Así, cada entrada del vector ```v``` estará dada por:\n",
    "```python\n",
    "v[k] = xi + kh\n",
    "``` \n",
    "para ```k``` $\\geq$ ```0``` de tal manera que ```xi``` $\\leq$ ```v[k]``` $<$ ```xf``` (```v[k]```$\\in [$ ```xi```,```xf``` $)$)."
   ]
  },
  {
   "cell_type": "code",
   "execution_count": 87,
   "metadata": {},
   "outputs": [
    {
     "name": "stdout",
     "output_type": "stream",
     "text": [
      "[-1.  -0.5  0.   0.5  1.   1.5  2.   2.5  3.   3.5  4.   4.5  5.   5.5\n",
      "  6.   6.5  7.   7.5  8.   8.5  9.   9.5]\n"
     ]
    }
   ],
   "source": [
    "# Para tener el analogo al operador : de Octave se usa arange de numpy\n",
    "y = np.arange(-1,10,0.5)\n",
    "print(y)"
   ]
  },
  {
   "cell_type": "markdown",
   "metadata": {},
   "source": [
    "En los siguientes ejemplos se muestran algunas funciones para crear matrices con formas particulares:\n",
    "\n",
    "* ```np.ones(shape)```. Permite crear un arreglo $n$-dimensional con todas sus entradas ```1.``` del tamaño definido por ```shape```. Para crear una matriz de tamaño $m\\times n$, el argumento ```shape``` puede ser una lista o una tupla que contenga el número de filas y columnas si tiene dos entradas ```(m,n)``` o un vector con $m$ entradas si sólo contiene una ```(m)``` o ```(m,)```.\n",
    "* ```np.zeros(shape)```. Permite crear un arreglo $n$-dimensional con todas sus entradas ```0.``` del tamaño definido por ```shape```. Para crear una matriz de tamaño $m\\times n$, el argumento ```shape``` puede ser una lista o una tupla que contenga el número de filas y columnas si tiene dos entradas ```(m,n)``` o un vector con $m$ entradas si sólo contiene una ```(m)``` o ```(m,)```.\n",
    "* ```np.eye(m[,n])```. Permite crear una matriz de tamaño $m\\times n$ donde los elementos son cero, excepto en la diagonal principal donde son 1. Si sólo se da el argumento ```m``` se obtendrá una matriz cuadrada de tamaño $m\\times m$. El segundo argumento ```n``` es opcional y si se específica se tendrá una matriz rectangular de tamaño $m\\times n$."
   ]
  },
  {
   "cell_type": "code",
   "execution_count": 88,
   "metadata": {},
   "outputs": [
    {
     "name": "stdout",
     "output_type": "stream",
     "text": [
      "[[1. 1. 1. 1. 1.]\n",
      " [1. 1. 1. 1. 1.]\n",
      " [1. 1. 1. 1. 1.]\n",
      " [1. 1. 1. 1. 1.]]\n"
     ]
    }
   ],
   "source": [
    "# Funcion ones\n",
    "O = np.ones((4,5))\n",
    "print(O)"
   ]
  },
  {
   "cell_type": "code",
   "execution_count": 89,
   "metadata": {},
   "outputs": [
    {
     "name": "stdout",
     "output_type": "stream",
     "text": [
      "[0. 0. 0. 0. 0. 0. 0. 0. 0.]\n"
     ]
    }
   ],
   "source": [
    "# Funcion zeros\n",
    "u = np.zeros((9))\n",
    "print(u)"
   ]
  },
  {
   "cell_type": "code",
   "execution_count": 90,
   "metadata": {},
   "outputs": [
    {
     "name": "stdout",
     "output_type": "stream",
     "text": [
      "[[1. 0. 0. 0. 0.]\n",
      " [0. 1. 0. 0. 0.]\n",
      " [0. 0. 1. 0. 0.]\n",
      " [0. 0. 0. 1. 0.]\n",
      " [0. 0. 0. 0. 1.]]\n"
     ]
    }
   ],
   "source": [
    "# Funcion eye\n",
    "Q = np.eye(5)\n",
    "print(Q)"
   ]
  },
  {
   "cell_type": "markdown",
   "metadata": {},
   "source": [
    "Hay diversos métodos definidos para ```ndarray```, estos son sólo algunos ejemplos.\n",
    "* ```.diagonal()```. Extrae la diagonal principal.\n",
    "* ```.sum()```. Permite calcular la suma de todos los elementos en el arreglo. Si es un arreglo $n$-dimensional, permite hacer la suma sobre alguna dimensión específica obteniendo un arreglo $(n-1)$-dimensional.\n",
    "* ```.prod()```. Permite calcular el producto de todos los elementos en el arreglo. Si es un arreglo $n$-dimensional, permite hacer el producto sobre alguna dimensión específica obteniendo un arreglo $(n-1)$-dimensional.\n",
    "\n",
    "También se tiene acceso a ciertos atributos que nos dan información sobre el arreglo. Por ejemplo,\n",
    "* ```.shape```. Permite saber la forma de un arreglo. Si el arreglo es una matriz arroja una tupla con el número de filas y columnas y si es un vector, regresa una tupla con el número de elementos.\n",
    "* ```.size```. Permite saber el número de elementos que hay en el arreglo."
   ]
  },
  {
   "cell_type": "code",
   "execution_count": 91,
   "metadata": {},
   "outputs": [
    {
     "data": {
      "text/plain": [
       "array([1., 1., 1., 1.])"
      ]
     },
     "execution_count": 91,
     "metadata": {},
     "output_type": "execute_result"
    }
   ],
   "source": [
    "# Metodo diagonal\n",
    "O.diagonal()"
   ]
  },
  {
   "cell_type": "code",
   "execution_count": 92,
   "metadata": {},
   "outputs": [
    {
     "data": {
      "text/plain": [
       "0.0"
      ]
     },
     "execution_count": 92,
     "metadata": {},
     "output_type": "execute_result"
    }
   ],
   "source": [
    "# Suma de los elementos de un vector\n",
    "u.sum()"
   ]
  },
  {
   "cell_type": "code",
   "execution_count": 93,
   "metadata": {},
   "outputs": [
    {
     "name": "stdout",
     "output_type": "stream",
     "text": [
      "20.0\n",
      "[4. 4. 4. 4. 4.]\n",
      "[5. 5. 5. 5.]\n"
     ]
    }
   ],
   "source": [
    "# Suma de los elementos de una matriz\n",
    "print(O.sum()) #suma de todos los elementos\n",
    "print(O.sum(0)) #suma por filas\n",
    "print(O.sum(1)) #suma por columnas"
   ]
  },
  {
   "cell_type": "code",
   "execution_count": 94,
   "metadata": {},
   "outputs": [
    {
     "data": {
      "text/plain": [
       "24"
      ]
     },
     "execution_count": 94,
     "metadata": {},
     "output_type": "execute_result"
    }
   ],
   "source": [
    "# Producto de los elementos de un vector\n",
    "v.prod()"
   ]
  },
  {
   "cell_type": "code",
   "execution_count": 95,
   "metadata": {},
   "outputs": [
    {
     "name": "stdout",
     "output_type": "stream",
     "text": [
      "-480\n",
      "[-20   3   8]\n",
      "[-10  48]\n"
     ]
    }
   ],
   "source": [
    "# Producto de los elementos de una matriz\n",
    "print(M.prod()) #producto de todos los elementos\n",
    "print(M.prod(0)) #producto por filas\n",
    "print(M.prod(1)) #producto por columnas"
   ]
  },
  {
   "cell_type": "code",
   "execution_count": 96,
   "metadata": {},
   "outputs": [
    {
     "name": "stdout",
     "output_type": "stream",
     "text": [
      "(9,)\n",
      "(4, 5)\n"
     ]
    }
   ],
   "source": [
    "# Tamaño de un arreglo\n",
    "print(u.shape) # Vector\n",
    "print(O.shape) # Matriz"
   ]
  },
  {
   "cell_type": "code",
   "execution_count": 97,
   "metadata": {},
   "outputs": [
    {
     "name": "stdout",
     "output_type": "stream",
     "text": [
      "9\n",
      "20\n"
     ]
    }
   ],
   "source": [
    "# Longitud del arreglo\n",
    "print(u.size) # Vector\n",
    "print(O.size) # Matriz"
   ]
  },
  {
   "cell_type": "markdown",
   "metadata": {},
   "source": [
    "#### Operaciones y funciones sobre arreglos de ```numpy```\n",
    "\n",
    "En el caso de las operaciones, al aplicar cualquier operador aritmético estas se realizan componente a componente. Esto es, si se tienen dos arreglos de ```numpy``` ```A``` y ```B``` del mismo tamaño, entonces ```C``` $=$ ```A``` $\\odot$ ```B``` para $\\odot \\in\\{$ ```+```, ```-```, ```/```, ```*```, ```%```, ```//``` $\\}$ implica que \n",
    "\n",
    "```C[idx1[,idx2[,idx3[....,idxN]]]]``` $=$  ```A[idx1[,idx2[,idx3[....,idxN]]]]``` $\\odot$ ```B[idx1[,idx2[,idx3[....,idxN]]]]```\n",
    "\n",
    "En particular, para vectores esto implica que:\n",
    "\n",
    "```C[i]``` $=$  ```A[i]``` $\\odot$ ```B[i]``` para ```i``` de ```0``` hasta ```n-1```\n",
    "\n",
    "y para matrices\n",
    "\n",
    "```C[i,j]``` $=$  ```A[i,j]``` $\\odot$ ```B[i,j]``` para ```i``` de ```0``` hasta ```m-1``` y ```j``` de ```0``` hasta ```n-1```.\n",
    "\n",
    "Para el caso de las potencias, tener la instrucción ```A**p``` implica que cada entrada del arreglo ```A``` será elevado a la potencia ```p```, esto es ```A[i]**p``` para vectores y ```A[i,j]**p``` para matrices."
   ]
  },
  {
   "cell_type": "code",
   "execution_count": 98,
   "metadata": {},
   "outputs": [
    {
     "name": "stdout",
     "output_type": "stream",
     "text": [
      "[1 2 3 4]\n",
      "[ 3  6  9 12]\n"
     ]
    }
   ],
   "source": [
    "# Suma de vectores y multiplicacion por escalar\n",
    "print(v)\n",
    "print(v + 2*v)"
   ]
  },
  {
   "cell_type": "code",
   "execution_count": 99,
   "metadata": {},
   "outputs": [
    {
     "name": "stdout",
     "output_type": "stream",
     "text": [
      "[ 1  4  9 16]\n"
     ]
    }
   ],
   "source": [
    "# Multiplicacion de vectores elemento a elemento\n",
    "print(v*v)"
   ]
  },
  {
   "cell_type": "code",
   "execution_count": 100,
   "metadata": {},
   "outputs": [
    {
     "name": "stdout",
     "output_type": "stream",
     "text": [
      "[0.5 0.5 0.5 0.5]\n"
     ]
    }
   ],
   "source": [
    "# Division de vectores elemento a elemento\n",
    "print(v/(2*v))"
   ]
  },
  {
   "cell_type": "code",
   "execution_count": 101,
   "metadata": {},
   "outputs": [
    {
     "name": "stdout",
     "output_type": "stream",
     "text": [
      "[ 1  8 27 64]\n"
     ]
    }
   ],
   "source": [
    "# Elevar cada elemento a una potencia \n",
    "print(v**3)"
   ]
  },
  {
   "cell_type": "markdown",
   "metadata": {},
   "source": [
    "**Nota**: También está permitido hacer otras operaciones con escalares, lo cual tendrá el efecto de aplicar a cada entrada del arreglo esa operación con el escalar como segundo operando."
   ]
  },
  {
   "cell_type": "code",
   "execution_count": 102,
   "metadata": {},
   "outputs": [
    {
     "name": "stdout",
     "output_type": "stream",
     "text": [
      "[4 5 6 7]\n",
      "[-9 -8 -7 -6]\n",
      "[1 0 1 0]\n",
      "[0.33333333 0.66666667 1.         1.33333333]\n"
     ]
    }
   ],
   "source": [
    "# Operaciones con escalares\n",
    "print(v+3) # Suma\n",
    "print(v-10) # Restar\n",
    "print(v%2) # Módulo\n",
    "print(v/3) # División"
   ]
  },
  {
   "cell_type": "markdown",
   "metadata": {},
   "source": [
    "Dado que la suma y resta de matrices se define como una operación elemento a elemento, con las implementaciones de esos operadores en el módulo ```numpy``` se tiene cubiertas esas operaciones. Sin embargo, la multiplicación de matrices para $A$ de tamaño $m\\times n$ y $B$ de tamaño $n\\times r$ da como resultado es una matriz $C = AB$ de tamaño $m\\times r$ con entradas\n",
    "$$\n",
    "    C_{i,j} = \\sum_{k=1}^{n} a_{i,k}b_{k,j}\\quad i=1,\\ldots,m,\\,j=1,\\ldots,r.\n",
    "$$\n",
    "*Nota*: Observe que el número de columnas de $A$ debe coincidir con el número de renglones de $B$.\n",
    "\n",
    "Entonces cuando se quiere realizar la multiplicación de matrices, este debe ser realizado mediante el método *dot* o el operador *@*."
   ]
  },
  {
   "cell_type": "code",
   "execution_count": 103,
   "metadata": {},
   "outputs": [
    {
     "data": {
      "text/plain": [
       "array([10., 10., 10., 10., 10.])"
      ]
     },
     "execution_count": 103,
     "metadata": {},
     "output_type": "execute_result"
    }
   ],
   "source": [
    "# Multiplicacion usual de matrices mediante dot\n",
    "v.dot(O)"
   ]
  },
  {
   "cell_type": "code",
   "execution_count": 104,
   "metadata": {},
   "outputs": [
    {
     "data": {
      "text/plain": [
       "array([10., 10., 10., 10., 10.])"
      ]
     },
     "execution_count": 104,
     "metadata": {},
     "output_type": "execute_result"
    }
   ],
   "source": [
    "# Multiplicacion usual de matrices mediante la funcion dot \n",
    "np.dot(v,O)"
   ]
  },
  {
   "cell_type": "code",
   "execution_count": 105,
   "metadata": {},
   "outputs": [
    {
     "data": {
      "text/plain": [
       "array([10., 10., 10., 10., 10.])"
      ]
     },
     "execution_count": 105,
     "metadata": {},
     "output_type": "execute_result"
    }
   ],
   "source": [
    "# Multiplicacion usual de matrices mediante @\n",
    "v @ O"
   ]
  },
  {
   "cell_type": "markdown",
   "metadata": {},
   "source": [
    "Otra característica es que las funciones matemáticas dentro de este módulo se pueden aplicar directamente a los arreglos, teniendo como resultado un arreglo del mismo tamaño a donde cada entrada se le aplica la función. Por ejemplo, dada la matriz ```A```, entonces si se le aplica la función ```np.cos()```, tendremos que si ```B = np.cos(A)```, entonces ```B``` tiene entradas ```B[i,j] = np.cos(A[i,j])```."
   ]
  },
  {
   "cell_type": "code",
   "execution_count": 106,
   "metadata": {},
   "outputs": [
    {
     "name": "stdout",
     "output_type": "stream",
     "text": [
      "Aplicamos coseno a un vector\n",
      "\n",
      "[ 0.54030231 -0.41614684 -0.9899925  -0.65364362]\n",
      "\n",
      "Aplicamos la raiz cuadrada a una matriz\n",
      "\n",
      "[[2.23606798 1.         1.41421356]\n",
      " [2.         1.73205081 2.        ]]\n"
     ]
    }
   ],
   "source": [
    "# Aplicación de funciones a vectores y matrices\n",
    "print(\"Aplicamos coseno a un vector\\n\")\n",
    "print(np.cos(v))\n",
    "print(\"\\nAplicamos la raiz cuadrada a una matriz\\n\")\n",
    "print(np.sqrt(abs(M)))"
   ]
  },
  {
   "cell_type": "markdown",
   "metadata": {},
   "source": [
    "**Nota**: La función ```abs``` sirve para calcular el valor absoluto de un número. Esta función pertenece a las funciones integradas de *Python*, por lo que se puede aplicar a los tipos de datos numéricos. Aunque también es posible usarlas con los tipos de datos del módulo ```numpy```, como se muestra en el ejemplo anterior, también se puede usar la función ```np.abs()``` dentro de este módulo."
   ]
  },
  {
   "cell_type": "markdown",
   "metadata": {},
   "source": [
    "## Ejemplos\n",
    "### Ejemplo 2\n",
    "\n",
    "Cree un vector ```vec``` que tenga 12 elementos de los cuales el primero sea 5, el incremento sea de 4 y el último elemento sea 49. \n",
    "\n",
    "**Solución**: Dado que se da el incremento se puede utilizar la función ```np.arange()```. Teniendo en cuenta que esta función no toma el valor final, es necesario aumentar el final en 1 para que 49 aparezca en el arreglo."
   ]
  },
  {
   "cell_type": "code",
   "execution_count": 107,
   "metadata": {},
   "outputs": [
    {
     "name": "stdout",
     "output_type": "stream",
     "text": [
      "vec: [ 5  9 13 17 21 25 29 33 37 41 45 49]\n"
     ]
    }
   ],
   "source": [
    "vec = np.arange(5,50,4)\n",
    "print(\"vec:\",vec)"
   ]
  },
  {
   "cell_type": "markdown",
   "metadata": {},
   "source": [
    "A partir de ```vec``` cree los siguientes vectores:\n",
    "\n",
    "1. Un vector (```vecA```) que tenga 7 elementos. Los primeros 4 elementos deben ser los primeros 4 elementos del vector ```vec```, y los últimos 3 deben ser los últimos 3 elementos del vector ```vec```.\n",
    "\n",
    "**Solución**: Aquí podemos utilizar la función ```np.append()``` para agregar al primer vector ```vec[0:4]``` el segundo vector ```vec[vec.size-3:]``` y así construir ```vecA```."
   ]
  },
  {
   "cell_type": "code",
   "execution_count": 108,
   "metadata": {},
   "outputs": [
    {
     "name": "stdout",
     "output_type": "stream",
     "text": [
      "vecA: [ 5  9 13 17 41 45 49]\n"
     ]
    }
   ],
   "source": [
    "vecA = np.append(vec[0:4],vec[vec.size-3:])\n",
    "print(\"vecA:\",vecA)"
   ]
  },
  {
   "cell_type": "markdown",
   "metadata": {},
   "source": [
    "2. Un vector (nombrelo ```vecB```) que contenga todos los elementos con índice  impar de ```vec```.\n",
    "\n",
    "**Solución**: Los índices impares son 1,3,...,11. Para determinar los elementos con índice impar de ```vec``` esto se puede hacer a través de los slices indicando el inicio en el índice 1, dejando sin especificar el final para recorrer hasta el final y haciendo incrementos de 2."
   ]
  },
  {
   "cell_type": "code",
   "execution_count": 109,
   "metadata": {},
   "outputs": [
    {
     "name": "stdout",
     "output_type": "stream",
     "text": [
      "vecB: [ 9 17 25 33 41 49]\n"
     ]
    }
   ],
   "source": [
    "vecB = vec[1::2]\n",
    "print(\"vecB:\",vecB)"
   ]
  },
  {
   "cell_type": "markdown",
   "metadata": {},
   "source": [
    "3. Un vector (nombrelo ```vecC```) que contenga todos los elementos con índice  par de ```vec```.\n",
    "\n",
    "**Solución**: Los índices impares son 0,2,...,10. Para determinar los elementos con índice impar de ```vec``` esto se puede hacer a través de los slices donde el inicio no se especifica (puede ser 0) para empezar desde el inicio, dejando sin especificar el final para recorrer hasta el final y haciendo incrementos de 2."
   ]
  },
  {
   "cell_type": "code",
   "execution_count": 110,
   "metadata": {},
   "outputs": [
    {
     "name": "stdout",
     "output_type": "stream",
     "text": [
      "vecC: [ 5 13 21 29 37 45]\n"
     ]
    }
   ],
   "source": [
    "vecC = vec[::2]\n",
    "print(\"vecC:\",vecC)"
   ]
  },
  {
   "cell_type": "markdown",
   "metadata": {},
   "source": [
    "### Ejemplo 3\n",
    "\n",
    "Muestre que la suma de la serie infinita\n",
    "$$\n",
    "    \\sqrt{12}\\sum_{n=0}^{\\infty}\\dfrac{(-3)^{-n}}{2n+1}\n",
    "$$\n",
    "converge a $\\pi$. Haga esto calculando las sumas:\n",
    "1. $\\sqrt{12}\\sum_{n=0}^{10}\\dfrac{(-3)^{-n}}{2n+1}$.\n",
    "2. $\\sqrt{12}\\sum_{n=0}^{20}\\dfrac{(-3)^{-n}}{2n+1}$.\n",
    "3. $\\sqrt{12}\\sum_{n=0}^{50}\\dfrac{(-3)^{-n}}{2n+1}$.\n",
    "\n",
    "Para cada parte cree un vector $n$ en el cual el primer elemento sea 0, el incremento sea 1 y el último término sea 10, 20 ó 50. Luego, use operaciones elemento a elemento para crear un vector cuyos elementos sean $\\dfrac{(-3)^{-n}}{2n+1}$. Finalmente, use el método ```.sum()``` para sumar los términos de la serie y multiplique el resultado por $\\sqrt{12}$. Compare los valores obtenidos en los incisos 1., 2. y 3. con el valor de $\\pi$ del módulo ```numpy```.\n",
    "\n",
    "\n",
    "**Solución**: Para calcular la suma es necesario calcular cada uno de los términos. Luego como $n$ toma valores enteros se usa ```np.arange(n+1)``` para generar un vector con los enteros del ```0``` hasta ```n``` que se guardan en ```t_n```. Así, para calcular el término $n$-esimo de la suma sólo es necesario calcular la expresión $\\dfrac{(-3)^{-n}}{2n+1}$ a cada entrada de ```t_n```, que se hace usando las operaciones elemento a elemento con el vector. Una vez teniendo los términos calculados sólo se hace la suma de todas las entradas con el método ```.sum()``` y se multiplica por $\\sqrt{12}$. Cambiando los valores de ```n``` por ```10```, ```20``` y ```50```, se obtienen los resultados para los incisos 1., 2. y 3., respectivamente. Conforme más términos se calculen, veremos que el error será menor."
   ]
  },
  {
   "cell_type": "code",
   "execution_count": 111,
   "metadata": {},
   "outputs": [
    {
     "name": "stdout",
     "output_type": "stream",
     "text": [
      "La aproximacion de 3.141592653589793 con 11 terminos de la suma es: 3.141593304503081\n",
      "El error absoluto es: 6.51e-07\n"
     ]
    }
   ],
   "source": [
    "n = 10\n",
    "t_n = np.arange(n+1)\n",
    "t_n = (-3.0)**(-t_n) / (2.0*t_n + 1)\n",
    "pi_approx = np.sqrt(12)*t_n.sum()\n",
    "print(f\"La aproximacion de {np.pi} con {n+1} terminos de la suma es: {pi_approx}\")\n",
    "print(f\"El error absoluto es: {np.fabs(pi_approx - np.pi):2.2e}\")"
   ]
  },
  {
   "cell_type": "markdown",
   "metadata": {},
   "source": [
    "### Ejemplo 4\n",
    "\n",
    "Considere las siguientes matrices\n",
    "$$\n",
    "    A = \\begin{pmatrix}\n",
    "        2 & 4 & -1 \\\\\n",
    "        3 & 1 & -5 \\\\\n",
    "        0 & 1 & 4\n",
    "    \\end{pmatrix}\\quad\n",
    "    B = \\begin{pmatrix}\n",
    "        -2 & 5 & 0 \\\\\n",
    "        -3 & 2 & 7 \\\\\n",
    "        -1 & 6 & 9\n",
    "    \\end{pmatrix}\\quad\n",
    "    C = \\begin{pmatrix}\n",
    "        0 & 3 & 5 \\\\\n",
    "        2 & 1 & 0 \\\\\n",
    "        4 & 6 & -3\n",
    "    \\end{pmatrix}\n",
    "$$\n",
    "1. ¿Se cumple que $AB = BA$?\n",
    "2. ¿Se cumple que $A(BC) = (AB)C$?\n",
    "3. ¿Se cumple que $(AB)^{\\intercal} = B^{\\intercal}A^{\\intercal}$?\n",
    "4. ¿Se cumple que $(A + B)^{\\intercal} = A^{\\intercal} + B^{\\intercal}$?\n",
    "\n",
    "**Solución**: Aquí se definen las matrices, se usa el operador ```@``` para realizar la multiplicación de matrices y el atributo ```.T``` para calcular la transpuesta de una matriz ($A^{\\intercal} \\equiv$```A.T```)."
   ]
  },
  {
   "cell_type": "code",
   "execution_count": 112,
   "metadata": {},
   "outputs": [
    {
     "name": "stdout",
     "output_type": "stream",
     "text": [
      "La pregunta 1 no se cumple ya que\n",
      "\n",
      " AB = \n",
      "[[-15  12  19]\n",
      " [ -4 -13 -38]\n",
      " [ -7  26  43]]\n",
      "\n",
      " ≠ \n",
      "\n",
      "BA = \n",
      "[[ 11  -3 -23]\n",
      " [  0  -3  21]\n",
      " [ 16  11   7]]\n",
      "\n",
      "La pregunta 2 si se cumple ya que\n",
      "\n",
      " A(BC) = \n",
      "[[ 100   81 -132]\n",
      " [-178 -253   94]\n",
      " [ 224  263 -164]]\n",
      "\n",
      " = \n",
      "\n",
      "A(BC) = \n",
      "[[ 100   81 -132]\n",
      " [-178 -253   94]\n",
      " [ 224  263 -164]]\n",
      "\n",
      "La pregunta 3 si se cumple ya que\n",
      "\n",
      " (AB)^T = \n",
      "[[-15  -4  -7]\n",
      " [ 12 -13  26]\n",
      " [ 19 -38  43]]\n",
      "\n",
      " = \n",
      "\n",
      "B^T(A^T) = \n",
      "[[-15  -4  -7]\n",
      " [ 12 -13  26]\n",
      " [ 19 -38  43]]\n",
      "\n",
      "La pregunta 4 si se cumple ya que\n",
      "\n",
      " (A+B)^T = \n",
      "[[ 0  0 -1]\n",
      " [ 9  3  7]\n",
      " [-1  2 13]]\n",
      "\n",
      " = \n",
      "\n",
      "A^T + B^T = \n",
      "[[ 0  0 -1]\n",
      " [ 9  3  7]\n",
      " [-1  2 13]]\n"
     ]
    }
   ],
   "source": [
    "A = np.array([[2,4,-1],[3,1,-5],[0,1,4]])\n",
    "B = np.array([[-2,5,0],[-3,2,7],[-1,6,9]])\n",
    "C = np.array([[0,3,5],[2,1,0],[4,6,-3]])\n",
    "print(f\"La pregunta 1 no se cumple ya que\" \\\n",
    "      f\"\\n\\n AB = \\n{A@B}\\n\\n {chr(0x2260)} \\n\\nBA = \\n{B@A}\")\n",
    "print(f\"\\nLa pregunta 2 si se cumple ya que\" \\\n",
    "      f\"\\n\\n A(BC) = \\n{A@(B@C)}\\n\\n {chr(0x003D)} \\n\\nA(BC) = \\n{(A@B)@C}\")\n",
    "print(f\"\\nLa pregunta 3 si se cumple ya que\" \\\n",
    "      f\"\\n\\n (AB)^T = \\n{(A@B).T}\\n\\n {chr(0x003D)} \\n\\nB^T(A^T) = \\n{B.T@A.T}\")\n",
    "print(f\"\\nLa pregunta 4 si se cumple ya que\" \\\n",
    "      f\"\\n\\n (A+B)^T = \\n{(A+B).T}\\n\\n {chr(0x003D)} \\n\\nA^T + B^T = \\n{A.T+B.T}\")\n"
   ]
  }
 ],
 "metadata": {
  "kernelspec": {
   "display_name": "Python 3",
   "language": "python",
   "name": "python3"
  },
  "language_info": {
   "codemirror_mode": {
    "name": "ipython",
    "version": 3
   },
   "file_extension": ".py",
   "mimetype": "text/x-python",
   "name": "python",
   "nbconvert_exporter": "python",
   "pygments_lexer": "ipython3",
   "version": "3.8.5"
  }
 },
 "nbformat": 4,
 "nbformat_minor": 4
}
