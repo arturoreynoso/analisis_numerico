{
 "cells": [
  {
   "cell_type": "markdown",
   "metadata": {},
   "source": [
    "# Ejemplos de cancelación"
   ]
  },
  {
   "cell_type": "code",
   "execution_count": 1,
   "metadata": {},
   "outputs": [],
   "source": [
    "# Modulos necesarios\n",
    "import numpy as np"
   ]
  },
  {
   "cell_type": "markdown",
   "metadata": {},
   "source": [
    "## Cálculo de la desviación estándar muestral\n",
    "\n",
    "Para calcular la desviación estandar muestral se ocupa la fórmula\n",
    "$$\n",
    "    s = \\sqrt{\\frac{1}{N-1}\\sum_{k=1}^{N} (x_{k}-\\overline{x})^{2}}\n",
    "$$\n",
    "donde\n",
    "$$\n",
    "    \\overline{x} = \\frac{1}{N}\\sum_{k=1}^{N}x_{k}\n",
    "$$\n",
    "es la media muestral y $N$ es el tamaño de la muestra."
   ]
  },
  {
   "cell_type": "code",
   "execution_count": 2,
   "metadata": {},
   "outputs": [],
   "source": [
    "def media(x):\n",
    "    \"\"\"Calcula la media muestral de x.\n",
    "    \n",
    "    Parametros:\n",
    "    x - iterable. Debe ser un iterable con los valores de la muestra.\n",
    "    \n",
    "    Regresa:\n",
    "    float. Valor de la media muestral calculada.\n",
    "    \"\"\"\n",
    "    s = 0\n",
    "    for k in x:\n",
    "        s += k\n",
    "    return s/len(x)\n",
    "\n",
    "def devstd(x,opt = 1):\n",
    "    \"\"\"Calcula la desviacion estandar muestral de x, calculando primero la media de x.\n",
    "    \n",
    "    Parametros:\n",
    "    x - iterable. Debe ser un iterable con los valores de la muestra.\n",
    "    opt - int. Si opt == 1 calcula s, si no calcula s**2.\n",
    "    \n",
    "    Regresa:\n",
    "    float. Valor de la desviacion estandar muestral calculada.\n",
    "    \n",
    "    Dependencias:\n",
    "    numpy - modulo. Para usar la funcion sqrt.\n",
    "    media - funcion. Calcula la media muestral de x.\n",
    "    \"\"\"\n",
    "    s,m = 0,media(x)\n",
    "    for k in x:\n",
    "        s += (k-m)**2\n",
    "    if opt == 1:\n",
    "        return np.sqrt(s/(len(x)-1))\n",
    "    return s/(len(x)-1)"
   ]
  },
  {
   "cell_type": "markdown",
   "metadata": {},
   "source": [
    "De la fórmula para $s$, si se desarrollan los términos y se utiliza la fórmula para $\\overline{x}$, es posible reescribir la fórmula de la desviación estándar como:\n",
    "$$\n",
    "    s = \\sqrt{\\frac{1}{N-1}\\left(\\sum_{k=1}^{N}x_{k}^{2} - N\\overline{x}^{2}\\right)} = \\sqrt{\\frac{1}{N-1}\\left(\\sum_{k=1}^{N}x_{k}^{2} - \\frac{1}{N}\\left(\\sum_{k=1}^{N}x_{k}\\right)^{2}\\right)}\n",
    "$$"
   ]
  },
  {
   "cell_type": "code",
   "execution_count": 3,
   "metadata": {},
   "outputs": [],
   "source": [
    "def devstd_1s(x,opt = 1):\n",
    "    \"\"\"Calcula la desviacion estandar muestral de x, calculando al mismo tiempo la media de x.\n",
    "    \n",
    "    Parametros:\n",
    "    x - iterable. Debe ser un iterable con los valores de la muestra.\n",
    "    opt - int. Si opt == 1 calcula s, si no calcula s**2.\n",
    "    \n",
    "    Regresa:\n",
    "    float. Valor de la desviacion estandar muestral calculada.\n",
    "    \n",
    "    Dependencias:\n",
    "    numpy - modulo. Para usar la funcion sqrt.\n",
    "    \"\"\"\n",
    "    N = len(x)\n",
    "    m = sc = 0\n",
    "    for k in x:\n",
    "        m += k\n",
    "        sc += k**2\n",
    "    if opt == 1:\n",
    "        return np.sqrt((sc-m**2/N)/(N-1))\n",
    "    return (sc-m**2/N)/(N-1)"
   ]
  },
  {
   "cell_type": "markdown",
   "metadata": {},
   "source": [
    "Para probar ambas funciones, se usaran diferentes muestras las cuales tienen la misma desviación estándar, pero los valores cambian en magnitud."
   ]
  },
  {
   "cell_type": "code",
   "execution_count": 4,
   "metadata": {},
   "outputs": [],
   "source": [
    "# Muestras\n",
    "X1 = np.array([4.,7.,13.,16.])\n",
    "X2 = X1 + 1e8\n",
    "X3 = X1 + 1e9"
   ]
  },
  {
   "cell_type": "code",
   "execution_count": 5,
   "metadata": {},
   "outputs": [
    {
     "name": "stdout",
     "output_type": "stream",
     "text": [
      "Dame una muestra: X3\n",
      "El resultado de la dev. std. calculado con el algoritmo de un paso es: -170.66666666666666\n",
      "El resultado de la dev. std. calculado con el algoritmo de dos pasos es: 30.0\n"
     ]
    }
   ],
   "source": [
    "# Pruebas\n",
    "opt = 2\n",
    "X = eval(input(\"Dame una muestra: \"))\n",
    "print(f\"El resultado de la dev. std. calculado con el algoritmo de un paso es: {devstd_1s(X,opt)}\")\n",
    "print(f\"El resultado de la dev. std. calculado con el algoritmo de dos pasos es: {devstd(X,opt)}\")"
   ]
  },
  {
   "cell_type": "markdown",
   "metadata": {},
   "source": [
    "## Cálculo de las raíces reales de una ecuación de segundo grado\n",
    "\n",
    "Considérese la ecuación de segundo grado $$ax^2 + bx + c = 0$$ para la cual se quieren calcular sus raíces reales mediante el uso de la fórmula general $$x = \\frac{-b\\pm\\sqrt{b^2-4ac}}{2a}.$$\n",
    "\n",
    "Por lo tanto se debe clasificar las raíces a partir del discriminante $D = b^2-4ac$ en los siguientes casos:\n",
    "\n",
    "* $D > 0$, se tienen dos raíces reales distintas.\n",
    "* $D = 0$, se tienen una raíz real (de multiplicidad 2).\n",
    "* $D < 0$, no hay raíces reales"
   ]
  },
  {
   "cell_type": "code",
   "execution_count": 6,
   "metadata": {},
   "outputs": [],
   "source": [
    "def raicescuadstd(a,b,c):\n",
    "    \"\"\"Calcula las raíces de una ecuación de segundo grado mediante la formula general.\n",
    "    \n",
    "    Parametros:\n",
    "    a - float. Coeficiente del termino cuadratico.\n",
    "    b - float. Coeficiente del termino lineal.\n",
    "    c - float. Coeficiente del termino constante.\n",
    "    \n",
    "    Regresa:\n",
    "    x1,x2 - float. Raices de la ecuacion. Regresa NaN si el valor no existe o no es real.\n",
    "    \n",
    "    Dependencias:\n",
    "    numpy - modulo. Para usar la funcion sqrt y el valor NaN.\n",
    "    \"\"\"\n",
    "    x1 = x2 = np.NaN\n",
    "    if a == 0 and b!= 0:\n",
    "        x1 = -c/b\n",
    "    elif a != 0:\n",
    "        D = b**2 - 4*a*c\n",
    "        if D > 0:\n",
    "            x1,x2 = (-b + np.sqrt(D))/(2*a),(-b - np.sqrt(D))/(2*a)\n",
    "        elif D == 0:\n",
    "            x1 = x2 = -b/(2*a)\n",
    "    return x1,x2"
   ]
  },
  {
   "cell_type": "markdown",
   "metadata": {},
   "source": [
    "También es posible usar la fórmula alternativa\n",
    "$$\n",
    "    x = \\dfrac{2c}{-b\\mp\\sqrt{b^2-4ac}}\n",
    "$$\n",
    "para calcular las raíces. Una implementación cuidadosa se logra al usar una combinación de ambas fórmulas, para que cada una de las raíces se calculen evitando la suma de números con signos opuestos. De esta forma, cuando el discriminante es positivo, *i.e.*, $b^{2}-4ac>0$, y $b\\neq0$ se puede calcular las raíces mediante\n",
    "$$\n",
    "    x_{1} = \\dfrac{-b-\\mathrm{sgn}(b)\\sqrt{b^2-4ac}}{2a}\n",
    "$$\n",
    "y\n",
    "$$\n",
    "    x_{2} = \\dfrac{2c}{-b-\\mathrm{sgn}(b)\\sqrt{b^2-4ac}}\n",
    "$$\n",
    "donde\n",
    "$$\n",
    "    \\mathrm{sgn}(x) = \\begin{cases}\n",
    "        -1 & x<0 \\\\\n",
    "        0 & x=0 \\\\\n",
    "        1 & x>0\n",
    "    \\end{cases}\n",
    "$$"
   ]
  },
  {
   "cell_type": "code",
   "execution_count": 7,
   "metadata": {},
   "outputs": [],
   "source": [
    "def raicescuadmod(a,b,c):\n",
    "    \"\"\"Calcula las raíces de una ecuación de segundo grado mediante la combinación de formulas.\n",
    "    \n",
    "    Parametros:\n",
    "    a - float. Coeficiente del termino cuadratico.\n",
    "    b - float. Coeficiente del termino lineal.\n",
    "    c - float. Coeficiente del termino constante.\n",
    "    \n",
    "    Regresa:\n",
    "    x1,x2 - float. Raices de la ecuacion. Regresa NaN si el valor no existe o no es real.\n",
    "    \n",
    "    Dependencias:\n",
    "    numpy - modulo. Para usar las funciones sqrt, sgn y el valor NaN.\n",
    "    \"\"\"\n",
    "    x1 = x2 = np.NaN\n",
    "    if a == 0 and b!= 0:\n",
    "        x1 = -c/b\n",
    "    elif a != 0:\n",
    "        D = b**2 - 4*a*c\n",
    "        if D > 0:\n",
    "            if b != 0:\n",
    "                x1,x2 = (-b - np.sign(b)*np.sqrt(D))/(2*a),(2*c)/(-b - np.sign(b)*np.sqrt(D))\n",
    "            else:\n",
    "                x1,x2 = np.sqrt(D)/(2*a),-np.sqrt(D)/(2*a)\n",
    "        elif D == 0:\n",
    "            x1 = x2 = -b/(2*a)\n",
    "    return x1,x2"
   ]
  },
  {
   "cell_type": "code",
   "execution_count": 8,
   "metadata": {},
   "outputs": [],
   "source": [
    "# Coeficientes de prueba\n",
    "dat1 = (1.,-1.786737601482363,2.054360090947453e-8)\n",
    "dat2 = 94906265.625,-189812534,94906268.375"
   ]
  },
  {
   "cell_type": "code",
   "execution_count": 9,
   "metadata": {},
   "outputs": [
    {
     "name": "stdout",
     "output_type": "stream",
     "text": [
      "Dame los valores de los coeficientes: dat1\n",
      "\n",
      "La primer raíz es: 1.7867375899845355\n",
      "La segunda raíz es: 1.1497827689943563e-08\n",
      "\n",
      "La primer raíz es: 1.7867375899845355\n",
      "La segunda raíz es: 1.1497827674657215e-08\n"
     ]
    }
   ],
   "source": [
    "# Pruebas\n",
    "a,b,c = eval(input('Dame los valores de los coeficientes: '))\n",
    "x1,x2 = raicescuadstd(a,b,c)\n",
    "print(f\"\\nLa primer raíz es: {x1}\")\n",
    "print(f\"La segunda raíz es: {x2}\")\n",
    "\n",
    "x1,x2 = raicescuadmod(a,b,c)\n",
    "print(f\"\\nLa primer raíz es: {x1}\")\n",
    "print(f\"La segunda raíz es: {x2}\")"
   ]
  },
  {
   "cell_type": "markdown",
   "metadata": {},
   "source": [
    "## Función exponencial\n",
    "\n",
    "Para calcular la función exponencial podemos recurrir a su expasión en series de Taylor alrededor de 0,esto es\n",
    "$$\n",
    "e^{x} = 1 + x + \\dfrac{x^{2}}{2!} + \\dfrac{x^{3}}{3!} + \\cdots = \\sum_{k=0}^{\\infty}\\dfrac{x^{k}}{k!}.\n",
    "$$\n",
    "\n",
    "Haciendo una implementación simple en *python* esta quedaría de la siguiente manera:"
   ]
  },
  {
   "cell_type": "code",
   "execution_count": 10,
   "metadata": {},
   "outputs": [],
   "source": [
    "def miexp(x,n):\n",
    "    \"\"\"Calcula e^x mediante n términos de su serie de Taylor\n",
    "    \n",
    "    Parametros:\n",
    "    x - float. Valor donde se quiere evaluar la función exponencial.\n",
    "    n - int. Numero de terminos a utilizar de la serie para aproximar e^x.\n",
    "    \n",
    "    Regresa:\n",
    "    float. Valor de la aproximacion de e^x.\n",
    "    \n",
    "    Dependencias:\n",
    "    numpy - modulo. Para usar las funcion factorial.\n",
    "    \"\"\"\n",
    "    return sum(list(map(lambda n:x**n/np.math.factorial(n),range(n+1))))"
   ]
  },
  {
   "cell_type": "code",
   "execution_count": 11,
   "metadata": {},
   "outputs": [
    {
     "name": "stdout",
     "output_type": "stream",
     "text": [
      "Dame un valor de x para evualuar e^x: -20\n",
      "Utilizando numpy e^-20.0 = 2.061153622438558e-09\n",
      "Utilizando la funcion propia e^-20.0 = 1.3078303877739301e-09\n"
     ]
    }
   ],
   "source": [
    "n = 75\n",
    "x = float(input(\"Dame un valor de x para evualuar e^x: \"))\n",
    "print(f\"Utilizando numpy e^{x} = {np.exp(x)}\")\n",
    "print(f\"Utilizando la funcion propia e^{x} = {miexp(x,n)}\")"
   ]
  },
  {
   "cell_type": "markdown",
   "metadata": {},
   "source": [
    "Al evaluar la función en valores negativos del argumento se produciran errores. Esto se puede remediar al considerar que $e^{-x} = 1/e^{x}$. Usando esto se puede generar una función que evite este problema."
   ]
  },
  {
   "cell_type": "code",
   "execution_count": 12,
   "metadata": {},
   "outputs": [],
   "source": [
    "def miexp2(x,n):\n",
    "    \"\"\"Calcula e^x mediante n términos de su serie de Taylor\n",
    "    \n",
    "    Parametros:\n",
    "    x - float. Valor donde se quiere evaluar la función exponencial.\n",
    "    n - int. Numero de terminos a utilizar de la serie para aproximar e^x.\n",
    "    \n",
    "    Regresa:\n",
    "    float. Valor de la aproximacion de e^x.\n",
    "    \n",
    "    Dependencias:\n",
    "    numpy - modulo. Para usar las funcion factorial.\n",
    "    \"\"\"\n",
    "    v = sum(list(map(lambda n:abs(x)**n/np.math.factorial(n),range(n+1))))\n",
    "    if x < 0:\n",
    "        return 1/v\n",
    "    return v"
   ]
  },
  {
   "cell_type": "code",
   "execution_count": 13,
   "metadata": {},
   "outputs": [
    {
     "name": "stdout",
     "output_type": "stream",
     "text": [
      "Dame un valor de x para evualuar e^x: -20\n",
      "Utilizando numpy e^-20.0 = 2.061153622438558e-09\n",
      "Utilizando la funcion propia e^-20.0 = 2.0611536224385583e-09\n"
     ]
    }
   ],
   "source": [
    "n = 75\n",
    "x = float(input(\"Dame un valor de x para evualuar e^x: \"))\n",
    "print(f\"Utilizando numpy e^{x} = {np.exp(x)}\")\n",
    "print(f\"Utilizando la funcion propia e^{x} = {miexp2(x,n)}\")"
   ]
  },
  {
   "cell_type": "markdown",
   "metadata": {},
   "source": [
    "También se tiene el efecto de cancelación cuando calculamos la función exponencial cerca de cero. Por ejemplo al calcular $e^x-1$"
   ]
  },
  {
   "cell_type": "code",
   "execution_count": 14,
   "metadata": {},
   "outputs": [
    {
     "name": "stdout",
     "output_type": "stream",
     "text": [
      "Dame un valor de x para evualuar e^x-1: 1e-10\n",
      "Utilizando explicitamente e^1e-10-1 = 1.000000082740371e-10\n",
      "Utilizando la funcion expm1 e^1e-10- 1= 1.00000000005e-10\n"
     ]
    }
   ],
   "source": [
    "x = float(input(\"Dame un valor de x para evualuar e^x-1: \"))\n",
    "print(f\"Utilizando explicitamente e^{x}-1 = {np.exp(x)-1}\")\n",
    "print(f\"Utilizando la funcion expm1 e^{x}- 1= {np.expm1(x)}\")"
   ]
  },
  {
   "cell_type": "markdown",
   "metadata": {},
   "source": [
    "Utilizando la serie de Taylor para $e^x-1$, esto es,\n",
    "$$\n",
    "e^{x} -1 = x + \\dfrac{x^{2}}{2!} + \\dfrac{x^{3}}{3!} + \\cdots = \\sum_{k=1}^{\\infty}\\dfrac{x^{k}}{k!},\n",
    "$$\n",
    "se puede generar una rutina que de resultados correctos."
   ]
  },
  {
   "cell_type": "code",
   "execution_count": 15,
   "metadata": {},
   "outputs": [],
   "source": [
    "def miexpm1(x,n):\n",
    "    \"\"\"Calcula e^x-1 mediante n términos de su serie de Taylor\n",
    "    \n",
    "    Parametros:\n",
    "    x - float. Valor donde se quiere evaluar la función exponencial.\n",
    "    n - int. Numero de terminos a utilizar de la serie para aproximar e^x-1.\n",
    "    \n",
    "    Regresa:\n",
    "    float. Valor de la aproximacion de e^x-1.\n",
    "    \n",
    "    Dependencias:\n",
    "    numpy - modulo. Para usar las funcion factorial.\n",
    "    \"\"\"\n",
    "    return sum(list(map(lambda n:x**n/np.math.factorial(n),range(1,n+1))))"
   ]
  },
  {
   "cell_type": "code",
   "execution_count": 16,
   "metadata": {},
   "outputs": [
    {
     "name": "stdout",
     "output_type": "stream",
     "text": [
      "Dame un valor de x para evualuar e^x-1: 1e-10\n",
      "Utilizando la funcion propia e^1e-10-1 = 1.00000000005e-10\n",
      "Utilizando la funcion expm1 e^1e-10- 1= 1.00000000005e-10\n"
     ]
    }
   ],
   "source": [
    "n = 40\n",
    "x = float(input(\"Dame un valor de x para evualuar e^x-1: \"))\n",
    "print(f\"Utilizando la funcion propia e^{x}-1 = {miexpm1(x,n)}\")\n",
    "print(f\"Utilizando la funcion expm1 e^{x}- 1= {np.expm1(x)}\")"
   ]
  }
 ],
 "metadata": {
  "kernelspec": {
   "display_name": "Python 3",
   "language": "python",
   "name": "python3"
  },
  "language_info": {
   "codemirror_mode": {
    "name": "ipython",
    "version": 3
   },
   "file_extension": ".py",
   "mimetype": "text/x-python",
   "name": "python",
   "nbconvert_exporter": "python",
   "pygments_lexer": "ipython3",
   "version": "3.8.5"
  }
 },
 "nbformat": 4,
 "nbformat_minor": 4
}
