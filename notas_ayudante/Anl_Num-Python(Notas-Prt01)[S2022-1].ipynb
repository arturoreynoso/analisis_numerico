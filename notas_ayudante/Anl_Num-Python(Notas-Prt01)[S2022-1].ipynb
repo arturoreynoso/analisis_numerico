{
 "cells": [
  {
   "cell_type": "markdown",
   "metadata": {},
   "source": [
    "# <span style=\"color: #084B8A;\">Análisis numérico</span>\n",
    "### Python - Notas de clase  \n",
    "***Facultad de Ciencias, UNAM***  \n",
    "*Semestre 2022-1*  \n",
    "Jorge Zavaleta Sánchez"
   ]
  },
  {
   "cell_type": "markdown",
   "metadata": {},
   "source": [
    "# Introducción\n",
    "\n",
    "***Python*** es un lenguaje de programación de *uso general*, *interpretado*, *interactivo*, *orientado a objetos* y de *alto nivel*. Fue creado por *Guido van Rossum* entre 1985 y 1990. El código fuente de *Python* está disponible bajo la *Licencia Pública General GNU* (GPL). *Python* debe su nombre al programa de televisión llamado \"*Circo volador de Monty Python*\".\n",
    "\n",
    "*Python 3.0* fue lanzado en 2008. Aunque se supone que esta versión es incompatible con versiones anteriores, después muchas de sus características importantes se han actualizado para que sean compatibles con la versión 2.7.\n",
    "\n",
    "\n",
    "Algunas características importantes de *Python* son:\n",
    "\n",
    "* **Fácil de aprender, leer y mantener**: *Python* está diseñado para ser muy *legible*. Mientras que otros lenguajes de programación usan puntuación, *Python* utiliza con frecuencia *palabras clave* (*keywords*), y tiene menos construcciones sintácticas que otros lenguajes.\n",
    "* **Una biblioteca estándar amplia**: La mayor parte de la biblioteca de *Python* es muy portátil y compatible con varias plataformas en *UNIX*, *Windows* y *Macintosh*.\n",
    "* **Modo interactivo**: *Python* admite un modo interactivo que permite realizar pruebas interactivas y depurar fragmentos de código.\n",
    "* **Portátil**: *Python* puede ejecutarse en una amplia variedad de plataformas de hardware y tiene la misma interfaz en todas las plataformas.\n",
    "* **Ampliable**: Se puede agregar módulos de bajo nivel al intérprete de *Python*. Estos módulos permiten a los programadores agregar o personalizar sus herramientas para que sean más eficientes.\n",
    "* **Bases de datos**: *Python* proporciona interfaces a las principales bases de datos comerciales.\n",
    "* **Programación GUI**: *Python* admite aplicaciones *GUI* (*Graphic User Interface-Interfaz gráfica de usuario*) que se pueden crear y portar a varios *llamados del sistema*, *bibliotecas* y *sistemas de ventanas*, como *Windows MFC*, *Macintosh* y el sistema *X Window* de *Unix*.\n",
    "* Adicionalmente:\n",
    "    * Admite métodos de programación funcionales y estructurados, así como programación orientada a objetos (*POO*).\n",
    "    * Se puede utilizar como lenguaje de programación o se puede compilar en *bytecode* para crear aplicaciones de gran tamaño.\n",
    "    * Proporciona tipos de datos dinámicos de muy alto nivel y admite la verificación dinámica de tipos.\n",
    "    * Es compatible con la recolección automática de basura.\n",
    "    * Se puede integrar fácilmente con otros lenguajes de programación como *C*, *C++*, *Java*, entre otros.\n",
    "\n",
    "## Notas sobre Jupyter Notebook\n",
    "\n",
    "*Jupyter Notebook* es un entorno informático interactivo basado en la web para crear documentos de *Jupyter notebook*. Un documento de *Jupyter Notebook* contiene una lista ordenada de celdas de entrada/salida que pueden contener código, texto, matemáticas, gráficos y texto enriquecidos, generalmente guardados con la extensión \"*.ipynb*\".\n",
    "\n",
    "Un *Jupyter Notebook* se puede convertir a varios formatos de salida estándar abierto (HTML, diapositiva de presentación, LaTeX, PDF, ReStructuredText , Markdown, Python) a través de \"descargar como\" en la interfaz web. *Jupyter Notebook* puede conectarse a muchos núcleos (*kernels*) para permitir la programación en muchos lenguajes de programación. Por defecto, *Jupyter Notebook* se conecta con el núcleo *IPython*, que nos permite tener un entorno interactivo para *Python*.\n",
    "\n",
    "1. Se usarán dos tipos de celdas:\n",
    "    * ```Code```: Donde se escribirá el código de *Python* y que nos permitirá ejecutarlos de forma interactiva dentro de la libreta.\n",
    "    * ```Markdown```: Donde se pueden incorporar comentarios con formato a través del lenguaje *Markdown*.\n",
    "2. Para evaluar una celda usamos la combinación ```shift+enter``` o ```ctrl+enter```.\n",
    "3. El símbolo ```#``` sirve para poner títulos en una celda ```Markdown```. Para consultar una referencia rápida de cómo escribir un *Markdown* y *LaTeX* (texto matemático) en las libretas de Jupyter véase la siguiente [liga](https://towardsdatascience.com/write-markdown-latex-in-the-jupyter-notebook-10985edb91fd).\n",
    "\n",
    "# Tipos de datos\n",
    "\n",
    "Dentro de los tipos de datos básicos que maneja *Python* se encuentran:\n",
    "\n",
    "* Enteros (```int```)\n",
    "* Flotantes o decimales (```float```)\n",
    "* Cadenas (```str```)\n",
    "* Booleanos (```bool```)\n",
    "* Complejos (```complex```)\n",
    "\n",
    "***Comentarios y funciones básicas en Python***  \n",
    "\n",
    "1. Para poner una línea como comentario es necesario utilizar el símbolo ```#``` al inicio de una línea. Sí se quiere tener un bloque de comentarios, es necesario que cada línea inicie con ```#```. Es posible también poner comentarios después de una instrucción con el mismo procedimiento.\n",
    "2. La función ```type``` sirve para mostrar el tipo de dato que estamos poniendo como argumento.\n",
    "3. La función ```print``` sirve para desplegar el valor que tenga una variable o un tipo de dato."
   ]
  },
  {
   "cell_type": "code",
   "execution_count": null,
   "metadata": {},
   "outputs": [],
   "source": [
    "# Comentario en una linea\n",
    "print(\"Hola mundo\") # Comentario despues de una instruccion"
   ]
  },
  {
   "cell_type": "markdown",
   "metadata": {},
   "source": [
    "## Ejemplos de los tipos de datos\n",
    "\n",
    "Ahora se mostrará, a través de algunos ejemplos, la sintaxis que se debe utilizar para definir los diferentes tipos de datos a través de *literales*. En programación, un **literal** es una notación para representar un valor fijo en el *código fuente*."
   ]
  },
  {
   "cell_type": "code",
   "execution_count": null,
   "metadata": {},
   "outputs": [],
   "source": [
    "# Enteros\n",
    "type(10)   # Notacion decimal\n",
    "type(0b10) # Notacion binaria\n",
    "type(0o10) # Notacion octal\n",
    "type(0x10) # Notacion hexadecimal"
   ]
  },
  {
   "cell_type": "code",
   "execution_count": null,
   "metadata": {},
   "outputs": [],
   "source": [
    "# Numeros de punto flotante (reales)\n",
    "type(10.0)  # Notacion con punto decimal\n",
    "type(1.0e1) # Notacion cientifica 1.0 x 10^1"
   ]
  },
  {
   "cell_type": "code",
   "execution_count": null,
   "metadata": {},
   "outputs": [],
   "source": [
    "# Cadenas (strings)\n",
    "type('Cadena') # Con comillas simples o apostrofe\n",
    "type(\"Cadena\") # Con comillas\n",
    "type(\"\"\"Cad\n",
    "ena\"\"\") # Tres pares de comillas"
   ]
  },
  {
   "cell_type": "markdown",
   "metadata": {},
   "source": [
    "**Nota**: Los tres pares de comillas permiten generar comentarios en bloque, ya que *Python* ignorará los literales de cadena que no están asignados a una variable."
   ]
  },
  {
   "cell_type": "code",
   "execution_count": null,
   "metadata": {},
   "outputs": [],
   "source": [
    "\"\"\"Esto me da la\n",
    "posibilidad de escribir\n",
    "comentario en un bloque\"\"\""
   ]
  },
  {
   "cell_type": "code",
   "execution_count": null,
   "metadata": {},
   "outputs": [],
   "source": [
    "# Booleanos\n",
    "type(True) # Verdadero\n",
    "type(False) # Falso"
   ]
  },
  {
   "cell_type": "code",
   "execution_count": null,
   "metadata": {},
   "outputs": [],
   "source": [
    "# Numeros complejos\n",
    "type(3 + 6j) # La parte imaginaria corresponde al caracter acompañado de j"
   ]
  },
  {
   "cell_type": "markdown",
   "metadata": {},
   "source": [
    "## Operadores aritméticos\n",
    "\n",
    "Los operadores aritméticos disponibles se dan a continuación:\n",
    "\n",
    "| Operador \t|        Operación       \t|   Uso  \t|\n",
    "|:--------:\t|:----------------------:\t|:------:\t|\n",
    "|     +    \t|          Suma          \t|  a + b \t|\n",
    "|     -    \t|          Resta         \t|  a - b \t|\n",
    "|     *    \t|     Multiplicación     \t|  a * b \t|\n",
    "|     /    \t|        División        \t|  a / b \t|\n",
    "|     %    \t|    Módulo (residuo)    \t|  a % b \t|\n",
    "|    //    \t| División entera (piso) \t| a // b \t|\n",
    "|    **    \t|     Exponenciación     \t| a ** b \t|\n",
    "\n",
    "La jerarquía de las operadores, es decir, el orden en que se evalúan las operaciones es la siguiente:\n",
    "\n",
    "* ***Primero***. *Paréntesis*. Aunque no es propiamente un operador, permite cambiar el orden en que se evalúan las operaciones. Para paréntesis anidados, el que está más al interior es el que se evalúa primero.\n",
    "* ***Segundo***. *Potencias*.\n",
    "* ***Tercero***. *Multiplicación y división*. (El modulo y la división entera se encuentran también en este nivel)\n",
    "* ***Cuarto***. *Suma y resta*."
   ]
  },
  {
   "cell_type": "code",
   "execution_count": null,
   "metadata": {},
   "outputs": [],
   "source": [
    "# Suma\n",
    "3+4"
   ]
  },
  {
   "cell_type": "code",
   "execution_count": null,
   "metadata": {},
   "outputs": [],
   "source": [
    "# Resta\n",
    "4-5"
   ]
  },
  {
   "cell_type": "code",
   "execution_count": null,
   "metadata": {},
   "outputs": [],
   "source": [
    "# Multiplicacion\n",
    "3*7"
   ]
  },
  {
   "cell_type": "code",
   "execution_count": null,
   "metadata": {},
   "outputs": [],
   "source": [
    "# Division\n",
    "5/6"
   ]
  },
  {
   "cell_type": "code",
   "execution_count": null,
   "metadata": {},
   "outputs": [],
   "source": [
    "# Potencia\n",
    "3.3**2"
   ]
  },
  {
   "cell_type": "code",
   "execution_count": null,
   "metadata": {},
   "outputs": [],
   "source": [
    "# Modulo\n",
    "5%2"
   ]
  },
  {
   "cell_type": "code",
   "execution_count": null,
   "metadata": {},
   "outputs": [],
   "source": [
    "# Division entera\n",
    "11//3"
   ]
  },
  {
   "cell_type": "code",
   "execution_count": null,
   "metadata": {},
   "outputs": [],
   "source": [
    "# Jerarquia\n",
    "print((3+4)*2)\n",
    "print(3+4*2)"
   ]
  },
  {
   "cell_type": "markdown",
   "metadata": {},
   "source": [
    "Los operadores aritméticos aplicados a tipos de datos numéricos de un mismo tipo pueden producir un tipo de dato numérico diferente, como es el caso de la división entre números enteros, cuyo resultado es de tipo ```float```. Para otros tipos de datos también se pueden usar los operadores aritméticos pero en un sentido diferente, por ejemplo, en el caso de la suma de cadenas esta produce concatenación de cadenas."
   ]
  },
  {
   "cell_type": "code",
   "execution_count": null,
   "metadata": {},
   "outputs": [],
   "source": [
    "# Suma de cadenas = concatenacion de cadenas\n",
    "\"Hola\" + \" Mundo\""
   ]
  },
  {
   "cell_type": "markdown",
   "metadata": {},
   "source": [
    "También se pueden hacer operaciones entre diferentes tipos de datos, pero en algunas ocasiones aparecen errores ```TypeError```, que ocurren cuando la operación no está definida entre los tipos de datos involucrados. Por ejemplo, sumar una cadena con un entero produce un error de tipo ```TypeError```, sin embargo, se puede hacer la multiplicación de cadenas con enteros, cuyo resultado es la repetición de la cadena tantas veces como el valor del entero."
   ]
  },
  {
   "cell_type": "code",
   "execution_count": null,
   "metadata": {},
   "outputs": [],
   "source": [
    "# Multiplicacion de una cadena por un entero\n",
    "4*\"Hola \""
   ]
  },
  {
   "cell_type": "markdown",
   "metadata": {},
   "source": [
    "# Variables\n",
    "\n",
    "Las variables en *Python* no necesitan una declaración explícita para reservar espacio en la memoria. La declaración ocurre automáticamente cuando se asigna un valor a una variable, ya sea a través de una literal o mediante otra variable previamente declarada. Para declarar una variable se utiliza el operador de *asignación* ```=```. La sintaxis a usar es:\n",
    "\n",
    "```python\n",
    "nombre_variable = valor_variable\n",
    "```\n",
    "\n",
    "esto es, el operando a la izquierda del operador ```=``` es el **nombre de la variable** y el operando a la derecha del operador ```=``` es el **valor almacenado** en la variable.\n",
    "\n",
    "Dado que *Python* es un lenguaje interpretado, la asignación de variables es dinámica, por lo que el tipo de dato asignado a una variable se puede cambiar en cualquier momento. Esto requiere poner atención en el manejo de las variables para evitar errores de tipo ```TypeError```.\n",
    "\n",
    "**Nota**: El nombre de las variables debe comenzar con una letra, de la ```A``` a la ```Z``` o de la ```a``` a la ```z``` o un guión bajo (```_```) seguido de cero o más letras, guiones bajos y *dígitos* (```0``` a ```9```). *Python* no permite caracteres de puntuación o caracteres como ```@```, ```$``` y ```%``` dentro de los nombres. También, al ser un lenguaje de programación sensible a mayúsculas y minúsculas se debe prestar atención en los nombres ya que, por ejemplo, ```Variable``` y ```variable```, hacen referencia a dos identificadores de variables diferentes. En la siguiente [liga](https://www.programiz.com/python-programming/keywords-identifier) se puede encontrar las palabras reservadas (*keywords*) que no se pueden usar como nombres de variables."
   ]
  },
  {
   "cell_type": "code",
   "execution_count": null,
   "metadata": {},
   "outputs": [],
   "source": [
    "# Ejemplo cadenas\n",
    "x = \"Hola mundo\"\n",
    "print(x)"
   ]
  },
  {
   "cell_type": "code",
   "execution_count": null,
   "metadata": {},
   "outputs": [],
   "source": [
    "# Ejemplo enteros\n",
    "y = 3 + 4\n",
    "print(y)"
   ]
  },
  {
   "cell_type": "code",
   "execution_count": null,
   "metadata": {},
   "outputs": [],
   "source": [
    "# Ejemplo flotantes, cadenas y salida con formato\n",
    "z = 3.45*2.87\n",
    "y = 3*z\n",
    "s = \"El resultado de la operacion es \"\n",
    "print(s,y)"
   ]
  },
  {
   "cell_type": "code",
   "execution_count": null,
   "metadata": {},
   "outputs": [],
   "source": [
    "# Ejemplo nombre de variable con _\n",
    "_xz = 4\n",
    "print(_xz)"
   ]
  },
  {
   "cell_type": "markdown",
   "metadata": {},
   "source": [
    "## Asignación múltiple\n",
    "\n",
    "*Python* permite asignar un solo valor a varias variables de manera simultánea. También es posible declarar múltiples variables con su respectivo valor en una sola línea."
   ]
  },
  {
   "cell_type": "code",
   "execution_count": null,
   "metadata": {},
   "outputs": [],
   "source": [
    "# Asginacion de un solo valor a varias variables\n",
    "a = b = c = 2\n",
    "print(a,b,c)"
   ]
  },
  {
   "cell_type": "code",
   "execution_count": null,
   "metadata": {},
   "outputs": [],
   "source": [
    "# Declaracion de multiples variables en una sola linea\n",
    "d,e,f = 3.45,5,\"Cadena\"\n",
    "print(d,e,f)"
   ]
  },
  {
   "cell_type": "markdown",
   "metadata": {},
   "source": [
    "## Eliminación de variables\n",
    "\n",
    "Para eliminar la referencia a una o varias variables se utiliza el comando ```del```. La sintaxis a usar es:\n",
    "\n",
    "```python\n",
    "del var1[,var2[,var3[....,varN]]]\n",
    "```"
   ]
  },
  {
   "cell_type": "code",
   "execution_count": null,
   "metadata": {},
   "outputs": [],
   "source": [
    "#Ejemplo de eliminacion de variables\n",
    "print(a,b,c,d,e,f)\n",
    "del a # Borrar una sola variable\n",
    "del b,c,d,e,f # Borrar multiples variables"
   ]
  },
  {
   "cell_type": "markdown",
   "metadata": {},
   "source": [
    "**Nota**: Una vez eliminada una variable ya no será posible acceder a ella a través de su nombre (identificador). Si queremos hacer referencia a una variable que no este declarada o la cual haya sido eliminada, se obtendrá un error de tipo ```NameError```."
   ]
  },
  {
   "cell_type": "markdown",
   "metadata": {},
   "source": [
    "## Variables, operadores booleanos (lógicos) y relacionales\n",
    "\n",
    "Las *variables booleanas* sólo pueden tomar los valores ```True``` o ```False``` y los *operadores booleanos o lógicos* usan operandos de tipo ```bool``` regresan alguno de estos dos valores aunque los operandos pueden ser de diferentes tipos. La siguiente tabla muestra los *operadores booleanos*:\n",
    "\n",
    "| Operador \t| Nombre            \t|\n",
    "|:--------:\t|-------------------\t|\n",
    "|    and   \t| y lógico          \t|\n",
    "|    or    \t| o lógico          \t|\n",
    "|    not   \t| Negación          \t|\n",
    "|    ==    \t| Igual             \t|\n",
    "|    !=    \t| Diferentes        \t|\n",
    "|     >    \t| Mayor que         \t|\n",
    "|     <    \t| Menor que         \t|\n",
    "|    >=    \t| Mayor o igual que \t|\n",
    "|    <=    \t| Menor o igual que \t|\n",
    "\n",
    "Primero se mostrará el uso de los operadores lógicos se Como ejemplo se declararán dos variables booleanas ```cero``` con el valor ```False``` y ```uno``` con el valor ```True``` para construir las tablas de verdad para los operadores *binarios* ```and``` y ```or```, y para el operador *unario* ```not```, con el objetivo de mostrar todos los posibles resultados de aplicar los operadores a las variables booleanas."
   ]
  },
  {
   "cell_type": "code",
   "execution_count": null,
   "metadata": {},
   "outputs": [],
   "source": [
    "# Declaracion de variables booleanas\n",
    "cero,uno = False,True\n",
    "print(cero) # Falso\n",
    "print(uno) # Verdadero"
   ]
  },
  {
   "cell_type": "code",
   "execution_count": null,
   "metadata": {},
   "outputs": [],
   "source": [
    "# Tabla de verdad para el operador binario and\n",
    "print(cero and cero)\n",
    "print(cero and uno)\n",
    "print(uno and cero)\n",
    "print(uno and uno)"
   ]
  },
  {
   "cell_type": "code",
   "execution_count": null,
   "metadata": {},
   "outputs": [],
   "source": [
    "# Tabla de verdad para el operador binario or\n",
    "print(cero or cero)\n",
    "print(cero or uno)\n",
    "print(uno or cero)\n",
    "print(uno or uno)"
   ]
  },
  {
   "cell_type": "code",
   "execution_count": null,
   "metadata": {},
   "outputs": [],
   "source": [
    "# Tabla de verdad para el operador unario not\n",
    "print(not cero)\n",
    "print(not uno)"
   ]
  },
  {
   "cell_type": "markdown",
   "metadata": {},
   "source": [
    "Para literales o variables de tipo numérico se pueden utilizar los operadores de comparación para determinar si se cumple o no una relación de orden, por lo que el resultado de una comparación devuelve un valor de tipo ```bool```."
   ]
  },
  {
   "cell_type": "code",
   "execution_count": null,
   "metadata": {},
   "outputs": [],
   "source": [
    "# Comparacion\n",
    "a,b = 5,7.3\n",
    "print(a,\"==\",b,\"es: \",a==b)\n",
    "print(a,\"!=\",b,\"es: \",a!=b)\n",
    "print(a,\">\",b,\"es: \",a>b)\n",
    "print(a,\">=\",b,\"es: \",a>=b)\n",
    "print(a,\"<\",b,\"es: \",a<b)\n",
    "print(a,\"<=\",b,\"es: \",a<=b)"
   ]
  },
  {
   "cell_type": "markdown",
   "metadata": {},
   "source": [
    "Para el caso de cadenas (```str```), es posible comparar si dos cadenas son iguales mediante el operador ```==``` o diferentes con ```!=```. Pero incluso podemos hacer comparaciones entre cadenas ya que el orden está establecido a través del orden alfabético."
   ]
  },
  {
   "cell_type": "code",
   "execution_count": null,
   "metadata": {},
   "outputs": [],
   "source": [
    "# Ejemplo del uso de la comparacion entre cadenas\n",
    "palabra1 = \"Anaconda\"\n",
    "palabra2 = \"Raton\"\n",
    "\n",
    "print(palabra1 < palabra2)\n",
    "print(palabra1 > palabra2)\n",
    "print(palabra1 == palabra2)"
   ]
  },
  {
   "cell_type": "markdown",
   "metadata": {},
   "source": [
    "La manera que se hace esto es a través de los valores en la codificación de los caracteres en la computadora. *Python* utiliza preferentemente la codificación UTF-8. Así, se van comparando carácter por carácter a través de sus valores enteros y de esta manera se determina cual está primero alfabéticamente.\n",
    "\n",
    "**Nota**: Podemos usar la función ```ord``` para recuperar el valor entero de un carácter. Y podemos hacer lo contrario usando la función ```chr``` para una entrada entera."
   ]
  },
  {
   "cell_type": "code",
   "execution_count": null,
   "metadata": {},
   "outputs": [],
   "source": [
    "# Uso de la funcion ord\n",
    "print(ord(\"A\"))\n",
    "print(ord(\"a\"))\n",
    "print(ord(\"Á\"))\n",
    "print(ord(\"á\"))"
   ]
  },
  {
   "cell_type": "code",
   "execution_count": null,
   "metadata": {},
   "outputs": [],
   "source": [
    "# Uso de la funcion chr\n",
    "print(chr(ord(\"A\")+0))\n",
    "print(chr(ord(\"A\")+1))\n",
    "print(chr(ord(\"A\")+2))\n",
    "print(chr(ord(\"A\")+3))"
   ]
  },
  {
   "cell_type": "code",
   "execution_count": null,
   "metadata": {},
   "outputs": [],
   "source": [
    "# Tambien es posible utilizar su valor hexadecimal dada por la codificacion\n",
    "print(chr(0x706B))"
   ]
  },
  {
   "cell_type": "markdown",
   "metadata": {},
   "source": [
    "# Funciones integradas (*Built-in functions*)\n",
    "\n",
    "*Python* cuenta con funciones integradas que se pueden utilizar para los diferentes tipos de datos. Aunque ya hemos utilizado algunas de ellas, en esta parte trataremos de introducir otras que serán de utilidad. Una referencia para consultar dichas funciones puede ser encontrada en la siguiente [liga](https://python-docs-es.readthedocs.io/es/3.8/library/functions.html).\n",
    "\n",
    "## Función print\n",
    "\n",
    "La función ```print``` nos permite mostrar un mensaje en pantalla."
   ]
  },
  {
   "cell_type": "code",
   "execution_count": null,
   "metadata": {},
   "outputs": [],
   "source": [
    "# Usando una cadena\n",
    "print(\"Hola mundo\")"
   ]
  },
  {
   "cell_type": "markdown",
   "metadata": {},
   "source": [
    "También vamos a tener la posibilidad de mandar texto con formato. Por ejemplo, "
   ]
  },
  {
   "cell_type": "code",
   "execution_count": null,
   "metadata": {},
   "outputs": [],
   "source": [
    "# Usando una cadena y un entero. Salida con formato\n",
    "print(\"Mi numero de la suerte es\",7)"
   ]
  },
  {
   "cell_type": "markdown",
   "metadata": {},
   "source": [
    "Sin embargo, se pueden utilizar los *literales de cadena formateados* (*formatted string literal*) o ***f-string***, para facilitar la lectura desde el código. Los *f-string* son un literal de cadena que se prefija con ```'f'``` o ```'F'```, y son cadenas que pueden contener campos de reemplazo, las cuales son expresiones delimitadas por llaves ```{}```. El siguiente ejemplo muestra su uso."
   ]
  },
  {
   "cell_type": "code",
   "execution_count": null,
   "metadata": {},
   "outputs": [],
   "source": [
    "a,b,c = 29,7,18\n",
    "print(\"Los números ganadores son:\", a,\",\",b,\"y\",c)\n",
    "print(f\"Los números ganadores son: {a}, {b} y {c}\")"
   ]
  },
  {
   "cell_type": "markdown",
   "metadata": {},
   "source": [
    "También se pueden insertar expresiones de *Python* entre las llaves. Las expresiones se reemplazan con su resultado en la cadena, pero se recomienda que las expresiones sean simples. Por ejemplo,"
   ]
  },
  {
   "cell_type": "code",
   "execution_count": null,
   "metadata": {},
   "outputs": [],
   "source": [
    "a,b = 8.5,9.73\n",
    "print(f\"{a} x {b} = {a*b}\")"
   ]
  },
  {
   "cell_type": "markdown",
   "metadata": {},
   "source": [
    "Las *f-strings* sólo están disponibles en la versión de *Python* 3.6 en adelante. En las versiones previas y actuales de *Python*, el método ```.format()``` se puede usar para obtener los mismos resultados"
   ]
  },
  {
   "cell_type": "code",
   "execution_count": null,
   "metadata": {},
   "outputs": [],
   "source": [
    "a,b = -15.2,79.43\n",
    "print(\"{} x {} = {}\".format(a,b,a*b))"
   ]
  },
  {
   "cell_type": "markdown",
   "metadata": {},
   "source": [
    "En este caso, cada uno de las llaves vacías corresponde a cada una de las variables o expresiones en la parte del método ```.format()```. En ambos casos es posible añadir un especificador de formato utilizando ```:``` para controlar como se muestran los valores de las variables en la cadena final."
   ]
  },
  {
   "cell_type": "code",
   "execution_count": null,
   "metadata": {},
   "outputs": [],
   "source": [
    "pi = 3.14159265359\n",
    "print(f\"Diferentes aproximaciones de pi son: {pi:3.2f}, {pi:<15.4f}, o {pi:2.11F}\")\n",
    "print(\"Diferentes aproximaciones de pi son: {0:3.2f}, {0:=+15.4f}, o {0:2.11f}\".format(pi))\n",
    "print(f\"{1000000000.00:,.2f}\")"
   ]
  },
  {
   "cell_type": "markdown",
   "metadata": {},
   "source": [
    "En el caso de las *f-strings* es necesario poner la variable y seguido de los dos puntos el especificador de formato que se le aplicará a dicha variable. Si se utiliza el método ```.format()``` es necesario especificar la posición dentro de este (observe que aquí el primero está indicado por 0) y nuevamente después de los dos puntos el especificador de formato. La sintaxis general para el especificador de formato es:\n",
    "```python\n",
    "{:[bandera][ancho][.precision]tipo}\n",
    "```\n",
    "Una lista de los símbolos disponibles para las banderas es:\n",
    "\n",
    "| Bandera | Descripción                                                          |\n",
    "|---------|----------------------------------------------------------------------|\n",
    "| ```<``` | Alineación a la izq.                                                 |\n",
    "| ```>``` | Alineación a la der.                                                 |\n",
    "| ```^``` | Alineación centrada                                                  |\n",
    "| ```=``` | Pone el signo en la posición más a la izq.                           |\n",
    "| ```+``` | Usa el signo más para indicar si el resultado es positivo o negativo |\n",
    "| ```-``` | Usa el signo menos solamente para valores negativos                  |\n",
    "| ```,``` | Separa cantidades por miles                                          |\n",
    "\n",
    "Una lista para los tipos es:\n",
    "\n",
    "| Tipo    | Descripción                                                              |\n",
    "|---------|--------------------------------------------------------------------------|\n",
    "| ```b``` | Formato binario                                                          |\n",
    "| ```c``` | Convierte el valor a su correspondiente caracter unicode                 |\n",
    "| ```d``` | Formato decimal                                                          |\n",
    "| ```e``` | Formato en notación científica, con e minúscula                          |\n",
    "| ```E``` | Formato en notación científica, con E mayúscula                          |\n",
    "| ```f``` | Formato de punto fijo                                                    |\n",
    "| ```F``` | Formato de punto fijo (```inf``` y ```nan``` se muestran en mayúsculas ) |\n",
    "| ```g``` | Formato general                                                          |\n",
    "| ```G``` | Formato general (con E para notación científica)                         |\n",
    "| ```o``` | Formato octal                                                            |\n",
    "| ```x``` | Formato hexadecimal, minúsculas                                          |\n",
    "| ```x``` | Formato hexadecimal, mayúsculas                                          |\n",
    "| ```n``` | Formato de número                                                        |\n",
    "| ```%``` | Formato de porcentaje                                                    |\n",
    "\n",
    "Otras opciones para salida con formato en *Python* se pueden consultar en la siguiente [liga](https://www.geeksforgeeks.org/python-output-formatting/)."
   ]
  },
  {
   "cell_type": "markdown",
   "metadata": {},
   "source": [
    "### Función input\n",
    "\n",
    "Cuando se realiza un *programa* es necesario recibir información o valores para declarar las variables, es decir, asignarles un valor. Por lo general, esto se hace a través de pedir esta información al usuario. La función ```input``` permite desplegar mensajes y recibir información con la siguiente sintaxis:\n",
    "\n",
    "\n",
    "```python\n",
    "var_salida = input(\"Mensaje como cadena de texto\")\n",
    "```\n",
    "\n",
    "Una cosa que hay que tener en cuenta es que el argumento de salida (```var_salida```) de ```input``` es una cadena (tipo ```str```), por lo que dependiendo del uso hay que hacer una conversión (*casting*) en el tipo de dato. Esto se hace a través de las funciones\n",
    "\n",
    "* ```int(x)``` Convierte el argumento x a uno de tipo ```int```.\n",
    "* ```float(x)``` Convierte el argumento x a uno de tipo ```float```.\n",
    "* ```str(x)``` Convierte el argumento x a uno de tipo *str*."
   ]
  },
  {
   "cell_type": "code",
   "execution_count": null,
   "metadata": {},
   "outputs": [],
   "source": [
    "# Programa para calcular el cuadrado de un numero\n",
    "n = input(\"Dame un numero para calcular su cuadrado: \")\n",
    "print(type(n))\n",
    "print(n + \"^2 = \" + str(float(n)**2))"
   ]
  },
  {
   "cell_type": "markdown",
   "metadata": {},
   "source": [
    "La función ```eval``` analiza la expresión (dada como una cadena) pasada a esta y ejecuta la expresión (código) de *Python* dentro del programa. De esta manera, usada junto con ```input```, podemos dar cualquier expresión valida de *Python* para declarar variables de los diferentes tipos de datos sin la necesidad de usar las otras funciones para conversión de tipos."
   ]
  },
  {
   "cell_type": "code",
   "execution_count": null,
   "metadata": {},
   "outputs": [],
   "source": [
    "t = eval(input(\"Dame una entrada : \"))\n",
    "print(t)\n",
    "print(type(t))"
   ]
  },
  {
   "cell_type": "markdown",
   "metadata": {},
   "source": [
    "## Funciones matemáticas\n",
    "\n",
    "Para poder usar las funciones matemáticas usuales que encontramos por ejemplo en una calculadora científica es necesario importar un módulo. Dado que Python es un lenguaje de propósito general, varias funciones para propósitos específicos vienen empaquetadas en módulos que es necesario importarlas primero para poder utilizarlas. \n",
    "\n",
    "Para utilizar una biblioteca o módulo de funciones adicionales utilizamos el comando *import*. Este comando sólo es necesario ejecutarlo una vez al principio.\n",
    "\n",
    "\n",
    "### Módulo ```math```\n",
    "\n",
    "Las funciones matemáticas usuales como funciones trigonométricas, raíz cuadrada, redondeos, etc, además de constantes como $\\pi$ o $e$ vienen definidas en el módulo *math*. Para poder usar dichas funciones o constantes usamos la instrucción *import math* y después hay que utilizarlas a través del espacio de nombres *math*. Por ejemplo, para usar la función seno, es necesario usar el comando *math.sin()*, para indicar que usaremos la función seno definida en el módulo *math*. Esto se hace así debido a que una función puede estar definida en múltiples módulos (como veremos más adelante) y es necesario indicar a que función de que módulo nos referimos y evitar ambigüedades. La documentación del módulo *math* la podemos consultar en la siguiente [liga](https://docs.python.org/3/library/math.html)."
   ]
  },
  {
   "cell_type": "code",
   "execution_count": 5,
   "metadata": {},
   "outputs": [],
   "source": [
    "# Importamos el paquete math\n",
    "import math"
   ]
  },
  {
   "cell_type": "code",
   "execution_count": null,
   "metadata": {},
   "outputs": [],
   "source": [
    "# Usamos la función coseno de math\n",
    "math.cos(0)"
   ]
  },
  {
   "cell_type": "code",
   "execution_count": null,
   "metadata": {},
   "outputs": [],
   "source": [
    "# Mostramos el valor de la constante pi de math\n",
    "math.pi"
   ]
  },
  {
   "cell_type": "code",
   "execution_count": null,
   "metadata": {},
   "outputs": [],
   "source": [
    "# Usamos la función raiz cuadrada de math\n",
    "math.sqrt(2)"
   ]
  },
  {
   "cell_type": "code",
   "execution_count": null,
   "metadata": {},
   "outputs": [],
   "source": [
    "# Usamos la función techo de math\n",
    "math.ceil(3.45)"
   ]
  },
  {
   "cell_type": "markdown",
   "metadata": {},
   "source": [
    "## Ejemplos\n",
    "\n",
    "### Ejemplo 1\n",
    "\n",
    "1. Evalúe la siguiente expresión y muestre el resultado.\n",
    "$$\n",
    "    (-3.5)^{3} + \\dfrac{e^6}{\\ln 524} + 206^{1/3}\n",
    "$$\n",
    "\n",
    "**Solución**: Para calcular lo que se pide, utilizamos la función exponencial ```math.exp()``` para evaluar el término $e^6$ y la función ```math.log()``` para calcular el logaritmo natural."
   ]
  },
  {
   "cell_type": "code",
   "execution_count": null,
   "metadata": {},
   "outputs": [],
   "source": [
    "# import math #Es necesario este modulo para cargar las funciones. Descomentar si no se ha cargado previamente. \n",
    "print(f\"El resultado es: {(-3.5)**3 + math.exp(6)/math.log(524) + 206**(1/3):2.4f}\")"
   ]
  },
  {
   "cell_type": "markdown",
   "metadata": {},
   "source": [
    "2. Evalúe la siguiente expresión y muestre el resultado.\n",
    "$$\n",
    "    \\frac{2.5^{3}\\left(16-\\dfrac{216}{22}\\right)}{1.7^{4}+14}+\\sqrt[4]{2050}.\n",
    "$$\n",
    "\n",
    "**Solución**: Es importante tener en cuenta que $\\sqrt[4]{x} = x^{\\frac{1}{4}}$. En este caso en lugar del operador ```**```, se uso la función ```math.pow()``` para calcular este término."
   ]
  },
  {
   "cell_type": "code",
   "execution_count": null,
   "metadata": {},
   "outputs": [],
   "source": [
    "# import math #Es necesario este modulo para cargar las funciones. Descomentar si no se ha cargado previamente. \n",
    "print(f\"El resultado es: {2.5**3*(16-216/22) / (1.7**4+14)+ math.pow(2050,1/4):2.4f}\")"
   ]
  },
  {
   "cell_type": "markdown",
   "metadata": {},
   "source": [
    "3. Evalúe la siguiente expresión y muestre el resultado.\n",
    "$$\n",
    "    \\dfrac{\\tan 64^{\\circ}}{\\cos^{2}14^{\\circ}} - \\dfrac{3\\sin 80^{\\circ}}{\\sqrt[3]{0.9}} + \\dfrac{\\cos 55^{\\circ}}{\\sin 11^{\\circ}}.\n",
    "$$\n",
    "\n",
    "**Solución**: Como la expresión contempla los ángulos medidos en grados, es necesario convertirlos a radianes, ya que las funciones trigonométricas dentro del módulo ```math``` reciben los argumentos en radianes. Para ello se puede usar la función ```math.radians()``` para hacer la conversión de grados a radianes. También existe la función ```math.degrees()``` para el proceso inverso. Dado que la expresión es muy larga, para partirla en múltiples líneas se puede usar el símbolo ```\\``` al final de cada línea. Esto le índica a *Python* que la instrucción continua en la siguiente línea, y de este modo la instrucción es legible."
   ]
  },
  {
   "cell_type": "code",
   "execution_count": null,
   "metadata": {},
   "outputs": [],
   "source": [
    "# import math #Es necesario este modulo para cargar las funciones.  Descomentar si no se ha cargado previamente. \n",
    "aux = math.tan(math.radians(64))/math.cos(math.radians(14))**2 \\\n",
    "               - 3*math.sin(math.radians(80))/math.pow(0.9,1/3) \\\n",
    "               + math.cos(math.radians(55))/math.sin(math.radians(11))\n",
    "print(f\"El resultado es: {aux:2.4f}\")"
   ]
  },
  {
   "cell_type": "markdown",
   "metadata": {},
   "source": [
    "4. Defina las variables $a$, $b$, $c$ y $d$ como: $a = 12$, $b = 5.6$, $c = \\dfrac{3a}{b^2}$, y $d = \\dfrac{(a-b)^{c}}{c}$, evalúe la siguiente expresión y muestre el resultado\n",
    "$$\n",
    "    \\exp\\left(\\dfrac{d-c}{a-2b}\\right) + \\ln\\left(\\left|c-d+\\dfrac{b}{a}\\right|\\right)\n",
    "$$\n",
    "\n",
    "**Solución**: Aquí solo hay tener cuidado en la asignación de los valores a las variables y usar la función ```math.fabs()``` para calcular el valor absoluto."
   ]
  },
  {
   "cell_type": "code",
   "execution_count": 2,
   "metadata": {},
   "outputs": [
    {
     "name": "stdout",
     "output_type": "stream",
     "text": [
      "El resultado es: 2292.5402\n"
     ]
    }
   ],
   "source": [
    "# import math #Es necesario este modulo para cargar las funciones.  Descomentar si no se ha cargado previamente. \n",
    "a,b = 12,5.6\n",
    "c = 3*a/b**2\n",
    "d = (a-b)**c/c\n",
    "print(f\"El resultado es: {math.exp((d-c)/(a-2*b)) + math.log(math.fabs(c - d + b/a)):2.4f}\")"
   ]
  }
 ],
 "metadata": {
  "kernelspec": {
   "display_name": "Python 3",
   "language": "python",
   "name": "python3"
  },
  "language_info": {
   "codemirror_mode": {
    "name": "ipython",
    "version": 3
   },
   "file_extension": ".py",
   "mimetype": "text/x-python",
   "name": "python",
   "nbconvert_exporter": "python",
   "pygments_lexer": "ipython3",
   "version": "3.8.5"
  }
 },
 "nbformat": 4,
 "nbformat_minor": 4
}
