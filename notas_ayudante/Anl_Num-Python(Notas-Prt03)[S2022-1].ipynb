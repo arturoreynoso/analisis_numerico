{
 "cells": [
  {
   "cell_type": "markdown",
   "metadata": {},
   "source": [
    "# <span style=\"color: #084B8A;\">Análisis numérico</span>\n",
    "## Python - Notas de clase  \n",
    "***Facultad de Ciencias, UNAM***  \n",
    "*Semestre 2022-1*  \n",
    "Jorge Zavaleta Sánchez"
   ]
  },
  {
   "cell_type": "markdown",
   "metadata": {},
   "source": [
    "# Programación\n",
    "\n",
    "El concepto más fundamental de las *ciencias de la computación* es el concepto de algoritmo. Informalmente, un **algoritmo** es un conjunto de pasos que define cómo hay que realizar una tarea. Para que una máquina como una computadora pueda llevar a cabo una tarea, es preciso diseñar y representar un algoritmo de realización de dicha\n",
    "tarea y en una forma que sea compatible con la máquina. A la representación de un algoritmo se la denomina **programa**. El proceso de desarrollo de un programa, de codificarlo en un formato compatible con la máquina y de introducirlo en una máquina se denomina **programación**.\n",
    "\n",
    "El estudio de los algoritmos comenzó siendo un tema del campo de las matemáticas. De hecho, la búsqueda de algoritmos fue una actividad de gran importancia para los matemáticos mucho antes del desarrollo de las computadoras actuales. El objetivo era determinar un único conjunto de instrucciones que describiera cómo resolver todos los problemas de un tipo concreto. Uno de los ejemplos mejor conocidos de estas investigaciones pioneras es el algoritmo de división para el cálculo del cociente de dos números de varios dígitos. Otro ejemplo es el *algoritmo de Euclides* descubierto por este matemático de la antigua Grecia que permite determinar el máximo común divisor de dos números enteros positivos. \n",
    "\n",
    "Una vez que se ha encontrado un algoritmo para llevar a cabo una determinada tarea, la realización de esta ya no requiere comprender los principios en los que el algoritmo está basado. En lugar de ello, la realización de la tarea se reduce al proceso de seguir simplemente las instrucciones proporcionadas. Por ejemplo, podemos emplear el algoritmo de división para calcular un cociente o el algoritmo de Euclides para hallar el máximo común divisor sin necesidad de entender por qué funciona el algoritmo. En cierto sentido, la inteligencia requerida para resolver ese problema está codificada dentro del algoritmo.\n",
    "\n",
    "\n",
    "## Estructuras de control\n",
    "\n",
    "Se han definido tres estructuras o constructores para un programa o algoritmo estructurado. La idea es que un programa debe estar hecho de una combinación de solo estas tres estructuras: **secuencia**, **decisión** y **repetición**. Se ha demostrado que no es necesario ningún otra estructura. Usar solo estas construcciones hace que un programa o un algoritmo sea fácil de *comprender*, *depurar* o *cambiar*.\n",
    "\n",
    "* *Secuencia*. Un algoritmo, y eventualmente un programa, es una secuencia de instrucciones, que puede ser una instrucción simple o cualquiera de las otras dos estructuras.\n",
    "* *Decisión*. Algunos problemas no se pueden resolver con solo una secuencia de instrucciones simples. Algunas veces se necesita probar una condición. Si el resultado de la prueba es verdadero, se sigue una secuencia de instrucciones: si es falso, se sigue una secuencia diferente de instrucciones.\n",
    "* *Repetición*. En algunos problemas, se debe repetir la misma secuencia de instrucciones. Manejamos esto con la repetición o ciclo (bucle).\n",
    "\n",
    "\n",
    "### Estructuras de decisión (condicionales) [```if```, ```else```, ```elif```]\n",
    "\n",
    "Al igual que en otros lenguajes de programación, en *Python* se pueden utilizar las estructuras de control que nos permiten escribir un programa que no sea sólo una secuencia de instrucciones. Como se menciono antes, las estructuras de decisión o condicionales permiten ejecutar una secuencia específica de instrucciones cuando se cumplen ciertas condiciones. En particular, las palabras reservadas para las estructuras de decisión en *Python* son: ```if```, ```else``` y ```elif```.\n",
    "\n",
    "La estructura más básica consiste en usar sólo ```if```, y esto se da cuando sólo se quiere evaluar una condición. La sintaxis es la siguiente.\n",
    "\n",
    "``` python\n",
    "if condicion:\n",
    "    # Secuencia de instrucciones\n",
    "```\n",
    "\n",
    "En el siguiente ejemplo se muestra el uso de ```if```, al desplegar el mensaje ```\"La contraseña es correcta\"``` sólo cuando las cadenas son iguales."
   ]
  },
  {
   "cell_type": "code",
   "execution_count": 113,
   "metadata": {},
   "outputs": [
    {
     "name": "stdout",
     "output_type": "stream",
     "text": [
      "Dame la constraseña: pass\n",
      "La contraseña es correcta\n"
     ]
    }
   ],
   "source": [
    "password = \"pass\"\n",
    "intento = input(\"Dame la constraseña: \")\n",
    "if password == intento:\n",
    "    print(\"La contraseña es correcta\")"
   ]
  },
  {
   "cell_type": "markdown",
   "metadata": {},
   "source": [
    "La segunda forma es usar ```if``` junto con ```else```,  mediante la siguiente sintaxis,\n",
    "\n",
    "``` python\n",
    "if condicion:\n",
    "    # Secuencia de instrucciones\n",
    "else:\n",
    "    # Secuencia de instrucciones\n",
    "```\n",
    "donde la secuencia de instrucciones después de ```else``` se ejecutara automáticamente cuando la condición evaluada en ```if``` no se cumpla. Continuando con el ejemplo de la contraseña, se puede mandar un mensaje al usuario para que sepa cuando se ha equivocado"
   ]
  },
  {
   "cell_type": "code",
   "execution_count": 114,
   "metadata": {},
   "outputs": [
    {
     "name": "stdout",
     "output_type": "stream",
     "text": [
      "Dame la constraseña: passs\n",
      "La contraseña no es correcta. Intentalo nuevamente\n"
     ]
    }
   ],
   "source": [
    "password = \"pass\"\n",
    "intento = input(\"Dame la constraseña: \")\n",
    "if password == intento:\n",
    "    print(\"La contraseña es correcta\")\n",
    "else:\n",
    "    print(\"La contraseña no es correcta. Intentalo nuevamente\")"
   ]
  },
  {
   "cell_type": "markdown",
   "metadata": {},
   "source": [
    "Cuando es necesario evaluar múltiples condiciones es necesario utilizar las estructuras anteriores junto con ```elif``` mediante la sintaxis\n",
    "\n",
    "``` python\n",
    "if condicion1:\n",
    "    # Secuencia de instrucciones\n",
    "elif condicion2:\n",
    "    # Secuencia de instrucciones\n",
    "#...\n",
    "elif condicionN:\n",
    "    # Secuencia de instrucciones\n",
    "else:\n",
    "    # Secuencia de instrucciones\n",
    "```\n",
    "Por ejemplo, se quiere crear un programa que dado un número $x$ diga si este es positivo, negativo o cero. Dado que hay tres casos posibles hay que tener tres condiciones: $x<0$, $x=0$ ó $x>0$. Utilizando la ley de la tricotomía, podemos omitir una y ponerla después de ```else``` cuando no se cumpla las otras 2. En este caso se omitirá la condición $x=0$."
   ]
  },
  {
   "cell_type": "code",
   "execution_count": 115,
   "metadata": {},
   "outputs": [
    {
     "name": "stdout",
     "output_type": "stream",
     "text": [
      "Dame un número: 5.6\n",
      "5.6 es positivo\n"
     ]
    }
   ],
   "source": [
    "x = float(input(\"Dame un número: \"))\n",
    "if x > 0:\n",
    "    print(f\"{x} es positivo\")\n",
    "elif x < 0:\n",
    "    print(f\"{x} es negativo\")\n",
    "else:\n",
    "    print(\"Es cero\")"
   ]
  },
  {
   "cell_type": "markdown",
   "metadata": {},
   "source": [
    "***Notas***: \n",
    "1. **Es muy importante la indentación para indicar donde está actuando la estructura de control, ya que en *Python* no se usa ningún carácter o delimitador para este fin**.\n",
    "2. Las condiciones deben ser un valor booleano (tipo ```bool```), el cual se puede obtener mediante operaciones booleanas y relacionales o mediante alguna función o método que regrese valores booleanos.\n",
    "3. Es posible anidar las estructuras de control u omitir la parte de ```else```. Esto dependerá del problema a resolver y el algoritmo implementado.\n",
    "\n",
    "### Ejemplos\n",
    "\n",
    "#### Ejemplo 5 (calculo de raíces de una ecuación cuadrática mediante fórmula general)\n",
    "\n",
    "Considérese la ecuación de segundo grado $$ax^2 + bx + c = 0$$ para la cual se quieren calcular sus raíces reales mediante el uso de la formula general $$x = \\frac{-b\\pm\\sqrt{b^2-4ac}}{2a}.$$\n",
    "\n",
    "Por lo tanto se debe clasificar las raíces a partir del discriminante $D = b^2-4ac$ en los siguientes casos:\n",
    "\n",
    "* $D > 0$, se tienen dos raíces reales distintas.\n",
    "* $D = 0$, se tienen una raíz real (de multiplicidad 2).\n",
    "* $D < 0$, no hay raíces reales\n",
    "\n",
    "Para ello se construirá un programa que permita calcular las raíces, considerando el caso adicional cuando $a = 0$, es decir, cuando se tenga una ecuación lineal.\n",
    "\n",
    "##### Programa para clasificar las raíces\n",
    "\n",
    "Se crea un programa que pide valores de los coeficientes de la ecuación cuadrática $a$, $b$ y $c$, se calcula el discriminante y a partir de este se hace la clasificación para mostrar el resultado al usuario"
   ]
  },
  {
   "cell_type": "code",
   "execution_count": 116,
   "metadata": {},
   "outputs": [
    {
     "name": "stdout",
     "output_type": "stream",
     "text": [
      "Dame el valor del coeficiente del termino cuadratico 1\n",
      "Dame el valor del coeficiente del termino lineal -4\n",
      "Dame el valor del coeficiente del termino constante -21\n",
      "La ecuación tiene dos raíces reales x_1 =7.0 y x_2 =-3.0\n"
     ]
    }
   ],
   "source": [
    "# import math #Es necesario este modulo para cargar las funciones. Descomentar si no se ha cargado previamente. \n",
    "# Se piden los coeficientes\n",
    "a = float(input('Dame el valor del coeficiente del termino cuadratico '))\n",
    "b = float(input('Dame el valor del coeficiente del termino lineal '))\n",
    "c = float(input('Dame el valor del coeficiente del termino constante '))\n",
    "\n",
    "# << Procedimiento >>\n",
    "# Se calculan, clasifican y muestran las raices en cada caso.\n",
    "if a == 0:\n",
    "    x1 = -c/b\n",
    "    print(f'La ecuacion es lineal y tiene la raiz {x1}')\n",
    "else:\n",
    "    D = b**2 - 4*a*c \n",
    "    if D > 0:\n",
    "        x1,x2 = (-b + math.sqrt(D))/(2*a),(-b - math.sqrt(D))/(2*a)\n",
    "        print(f'La ecuación tiene dos raíces reales x_1 ={x1} y x_2 ={x2}')\n",
    "    elif D == 0:\n",
    "        x1 = -b/(2*a)\n",
    "        print(f'La ecuacion tiene las raices repetidas {x1}')\n",
    "    else:\n",
    "        print('No hay raices reales')"
   ]
  },
  {
   "cell_type": "markdown",
   "metadata": {},
   "source": [
    "###### Ejemplos \n",
    "\n",
    "* **Caso lineal**. Consideramos el ejemplo $$6x - 12 = 0$$ cuya raíz es x = 2.  \n",
    "* **Raíces reales diferentes**. Consideremos el ejemplo $$x^2 - 4x-21=0$$ cuyas raíces son x = 7 y x = -3.  \n",
    "* **Raíces reales repetidas** Consideremos el ejemplo $$4x^2-12x+9=0$$ cuya raíz es x = 1.5.  \n",
    "* **Raíces complejas** Consideremos el ejemplo $$3x^2 + 1=0$$ que no tiene raíces reales."
   ]
  },
  {
   "cell_type": "markdown",
   "metadata": {},
   "source": [
    "### Estructuras de repetición (ciclos o bucles) [```for```,```while```]\n",
    "\n",
    "Un ciclo o bucle, en programación, es una estructura de control que ejecuta repetidas veces una secuencia de instrucciones, hasta que la condición asignada a dicho ciclo deje de cumplirse.\n",
    "\n",
    "\n",
    "#### Ciclo ```for```\n",
    "El ciclo ```for``` sirve para ejecutar un número predeterminado de veces una instrucción o un conjunto de instrucciones, es decir, ya se sabe de antemano el número exacto de veces que se tiene que repetir esa secuencia. La sintaxis para el ciclo ```for``` en *Python* es:\n",
    "\n",
    "```python\n",
    "for variable in objeto:\n",
    "    #Codigo\n",
    "```\n",
    "\n",
    "donde ```objeto``` puede ser una lista o una tupla o cualquier objeto que sea *iterable*. Es común usar la función predefinida ```range()``` en conjunto con los ciclos ```for``` para generar el objeto sobre el cual se *itera*. De forma análoga a la función ```arange``` del módulo ```numpy```, se puede usar de tres formas\n",
    "\n",
    "* ```range(inicio,fin,incremento)```\n",
    "* ```range(inicio,fin)``` La variable *incremento* toma el valor de 1.\n",
    "* ```range(fin)``` La variable *inicio* toma el valor de 0 e *incremento* 1.\n",
    "\n",
    "Los valores de los argumento de entrada deben ser todos enteros. En todos los casos genera un objeto de tipo ```range``` que se puede interpretar como una lista con los valores comenzando en ```inicio``` y terminando antes de ```fin``` ya que el valor ```fin``` no se considera. Por ejemplo, los siguientes programas muestran los valores generados por ```range``` en sus distintas formas."
   ]
  },
  {
   "cell_type": "code",
   "execution_count": 117,
   "metadata": {},
   "outputs": [
    {
     "name": "stdout",
     "output_type": "stream",
     "text": [
      "0\n",
      "1\n",
      "2\n"
     ]
    }
   ],
   "source": [
    "for i in range(3):\n",
    "    print(i)"
   ]
  },
  {
   "cell_type": "code",
   "execution_count": 118,
   "metadata": {},
   "outputs": [
    {
     "name": "stdout",
     "output_type": "stream",
     "text": [
      "1\n",
      "2\n"
     ]
    }
   ],
   "source": [
    "for i in range(1,3):\n",
    "    print(i)"
   ]
  },
  {
   "cell_type": "code",
   "execution_count": 119,
   "metadata": {},
   "outputs": [
    {
     "name": "stdout",
     "output_type": "stream",
     "text": [
      "7\n",
      "5\n",
      "3\n"
     ]
    }
   ],
   "source": [
    "for i in range(7,1,-2):\n",
    "    print(i)"
   ]
  },
  {
   "cell_type": "markdown",
   "metadata": {},
   "source": [
    "Como se dijo antes, también es posible recorrer los elementos en una lista no importando el tipo de dato contenido en esta, ya que la variable de iteración tomará cada uno de los valores en la lista."
   ]
  },
  {
   "cell_type": "code",
   "execution_count": 120,
   "metadata": {},
   "outputs": [
    {
     "name": "stdout",
     "output_type": "stream",
     "text": [
      "1\n",
      "Persona1\n",
      "True\n",
      "2\n",
      "Persona2\n",
      "True\n",
      "3\n",
      "Persona3\n",
      "False\n"
     ]
    }
   ],
   "source": [
    "LL = [1,\"Persona1\",True,2,\"Persona2\",True,3,\"Persona3\",False]\n",
    "for i in LL:\n",
    "    print(i)"
   ]
  },
  {
   "cell_type": "markdown",
   "metadata": {},
   "source": [
    "#### Ejemplos\n",
    "\n",
    "##### Ejemplo 6 (suma de todos los elementos en un arreglo)\n",
    "\n",
    "El ejemplo consiste en sumar todos los elementos en un arreglo. Considérese el arreglo ```x``` de tamaño ```n``` con componentes ```x[k]``` (```k``` desde ```0``` hasta ```n-1```), y se quiere calcular la suma de todos sus elementos, esto es, \n",
    "```python\n",
    "\ts = x[0] + x[1] + ... + x[n-1]\n",
    "```\n",
    "\n",
    "Dado que la suma es una operación binaria, se necesita ir sumando de dos en dos y acumular los resultados parciales en ```s``` para calcular la suma de todos los elementos, esto es\n",
    "```python\n",
    "    s = x[0] + x[1]\n",
    "\ts = s + x[2]\n",
    "\ts = s + x[3]\n",
    "\t...\n",
    "    s = s + x[n-1]\n",
    "```\n",
    "Si se considera al inicio ```s = 0```, se puede cambiar la instrucción ```s = x[0] + x[1]``` por\n",
    "```python\n",
    "    s = 0\n",
    "    s = s + x[0]\n",
    "    s = s + x[1]\n",
    "```\n",
    "que de forma general, sin contar la instrucción ```s = 0``` se pueden reescribir de la siguiente manera\n",
    "```python\n",
    "    s = s + x[k]\n",
    "```\n",
    "para ```k``` desde ```0``` hasta ```n-1```. Es por esto que un ciclo ```for``` es una buena opción para abordar este problema, ya que se conoce exactamente cuantos elementos sumar y que operación debemos repetir."
   ]
  },
  {
   "cell_type": "code",
   "execution_count": 121,
   "metadata": {},
   "outputs": [
    {
     "name": "stdout",
     "output_type": "stream",
     "text": [
      "Dame una lista de elementos: [1,2,3,4,5]\n",
      "La suma de los elementos de la lista es: 15\n"
     ]
    }
   ],
   "source": [
    "# La lista debe ser ingresada con la sintaxis de Python. por ejemplo, [1,2,3,4,5]\n",
    "x = eval(input(\"Dame una lista de elementos: \"))\n",
    "s = 0\n",
    "for k in range(len(x)):\n",
    "    s = s + x[k]\n",
    "print(f\"La suma de los elementos de la lista es: {s}\")"
   ]
  },
  {
   "cell_type": "markdown",
   "metadata": {},
   "source": [
    "La forma análoga usando el recorrido de cada uno de los elementos en el arreglo y sin el uso de índices."
   ]
  },
  {
   "cell_type": "code",
   "execution_count": 122,
   "metadata": {},
   "outputs": [
    {
     "name": "stdout",
     "output_type": "stream",
     "text": [
      "Dame una lista de elementos: [1,2,3,4,5]\n",
      "La suma de los elementos de la lista es: 15\n"
     ]
    }
   ],
   "source": [
    "# La lista debe ser ingresada con la sintaxis de Python. por ejemplo, [1,2,3,4,5]\n",
    "x = eval(input(\"Dame una lista de elementos: \"))\n",
    "s = 0\n",
    "for elem in x:\n",
    "    s = s + elem\n",
    "print(f\"La suma de los elementos de la lista es: {s}\")"
   ]
  },
  {
   "cell_type": "markdown",
   "metadata": {},
   "source": [
    "**Nota**: Como ya se vio anteriormente, esto está implementado en el método ```.sum()``` para los arreglos de tipo ```ndarray``` de ```numpy```. Pero también está implementado para listas y tuplas mediante la función ```sum```. Por ejemplo,"
   ]
  },
  {
   "cell_type": "code",
   "execution_count": 123,
   "metadata": {},
   "outputs": [
    {
     "name": "stdout",
     "output_type": "stream",
     "text": [
      "15\n",
      "34\n"
     ]
    }
   ],
   "source": [
    "print(sum([1,2,3,4,5]))\n",
    "print(sum((7,8,9,10)))"
   ]
  },
  {
   "cell_type": "markdown",
   "metadata": {},
   "source": [
    "#### Ciclo ```while```\n",
    "Contrario al ciclo ```for```, el ciclo ```while``` se usa en situaciones en las cuales no se sabe con precisión el número de veces que una instrucción o una secuencia de instrucciones debe ser ejecutado. Por lo tanto, es necesario establecer una condición que permita repetir una secuencia de instrucciones hasta que la condición se deje de cumplir. La sintaxis para el ciclo ```while``` en *Python*\n",
    "\n",
    "```python\n",
    "while condicion:\n",
    "    #Codigo\n",
    "```\n",
    "\n",
    "Es posible usar operadores aritméticos mezclados con el operador de asignación para cuando se hacen actualizaciones del valor de una variable mediante operaciones aritméticas. Esto sirve para acortar las expresiones. Un ejemplo de su uso es cuando en los ciclos ```while``` se quiere incrementar el valor de la variable de iteración, por lo general se usa, ```var_iter = var_iter + incremento```, esto se puede representar de manera corta como  ```var_iter += incremento```. A continuación se da una lista de estos operadores y su significado\n",
    "\n",
    "| Operador \t|  Uso  \t| Expresión análoga \t|\n",
    "|:--------:\t|:-----:\t|:-----------------:\t|\n",
    "|    +=    \t|  a+=b \t|     a = a + b     \t|\n",
    "|    -=    \t|  a-=b \t|     a = a - b     \t|\n",
    "|    *=    \t|  a*=b \t|     a = a * b     \t|\n",
    "|    /=    \t|  a/=b \t|     a = a / b     \t|\n",
    "|    %=    \t|  a%=b \t|     a = a % b     \t|\n",
    "|    //=   \t| a//=b \t|     a = a // b    \t|\n",
    "|    **=   \t| a**=b \t|     a = a ** b    \t|\n",
    "\n",
    "El siguiente ejemplo muestra el uso del ciclo ```while```, en el cual se usa la variable ```i``` como parte de la condición. El programa sólo imprime los valores que toma la variable ```i``` a lo largo de la ejecución del ciclo. Observe que esta variable se inicializa con el valor ```0``` para que la condición ```i<10``` se cumpla y entre al ciclo. Posteriormente dentro del ciclo se modifica el valor de ```i``` para que cuando esta variable tome el valor de ```10``` la condición se deje de cumplir y salga del ciclo. "
   ]
  },
  {
   "cell_type": "code",
   "execution_count": 124,
   "metadata": {},
   "outputs": [
    {
     "name": "stdout",
     "output_type": "stream",
     "text": [
      "0\n",
      "1\n",
      "2\n",
      "3\n",
      "4\n",
      "5\n",
      "6\n",
      "7\n",
      "8\n",
      "9\n"
     ]
    }
   ],
   "source": [
    "i = 0\n",
    "while i < 10:\n",
    "    print(i)\n",
    "    i += 1"
   ]
  },
  {
   "cell_type": "markdown",
   "metadata": {},
   "source": [
    "El ciclo ```while``` es la estructura de repetición más general, por lo que es posible escribir un programa en donde se usa el ciclo ```for``` con ```while```, pero no en todas los casos se puede hacer al revés. Tomando el ejemplo de la suma de los elementos del arreglo, este se puede reescribir como:"
   ]
  },
  {
   "cell_type": "code",
   "execution_count": 125,
   "metadata": {},
   "outputs": [
    {
     "name": "stdout",
     "output_type": "stream",
     "text": [
      "Dame una lista de elementos: [1,2,3,4,5]\n",
      "La suma de los elementos de la lista es: 15\n"
     ]
    }
   ],
   "source": [
    "# La lista debe ser ingresada con la sintaxis de Python. por ejemplo, [1,2,3,4,5]\n",
    "x = eval(input(\"Dame una lista de elementos: \"))\n",
    "s = k = 0\n",
    "while k < len(x):\n",
    "    s += x[k]\n",
    "    k += 1\n",
    "print(f\"La suma de los elementos de la lista es: {s}\")"
   ]
  },
  {
   "cell_type": "markdown",
   "metadata": {},
   "source": [
    "**Nota**: Cuando se usa un ciclo ```while``` es importante cuidar que la condición se deje de cumplir en algún momento, ya que si no pasa esto, el programa entrará en un ciclo infinito. En algunos casos se puede usar la combinación de teclas ```ctrl+c``` y en el caso de la libretas la opción del menú ```Kernel```$\\to$```Interrupt```, para interrumpir el proceso."
   ]
  },
  {
   "cell_type": "markdown",
   "metadata": {},
   "source": [
    "#### Ejemplo 7 (búsqueda lineal)\n",
    "\n",
    "El problema de búsqueda consiste en que dado un arreglo ```L``` se determine si un elemento ```x``` se encuentra o no dentro del arreglo. El algoritmo más simple para implementar la búsqueda consiste en comparar cada elemento en ```L``` con ```x``` hasta encontrarlo o recorrer toda la lista en caso contrario. Es por ello que se utiliza un ciclo ```while``` para implementar la búsqueda lineal. \n",
    "\n",
    "Dado que se va a comparar con cada elemento en el arreglo, se usa un índice ```i``` que debe tomar los valores de ```0``` hasta ```n-1```, con ```n = len(L)``` el tamaño del arreglo. Para cada ```i``` se debe hacer la comparación ```L[i] == x``` **mientras** ```i < n``` (ya que son los valores válidos para los índices) y en dado caso que se cumpla parar, ya que significaría que ```x``` está en ```L```. Esto se puede implementar de la siguiente manera:"
   ]
  },
  {
   "cell_type": "code",
   "execution_count": 126,
   "metadata": {},
   "outputs": [
    {
     "name": "stdout",
     "output_type": "stream",
     "text": [
      "Dame una lista de elementos: [1,2,3,4,5]\n",
      "Dame el elemento que quieres buscar dentro de la lista: 3\n",
      "El elemento 3 se encuentra en el indice 2\n"
     ]
    }
   ],
   "source": [
    "# La lista debe ser ingresada con la sintaxis de python. por ejemplo, [1,2,3,4,5]\n",
    "L = eval(input(\"Dame una lista de elementos: \"))\n",
    "x = eval(input(\"Dame el elemento que quieres buscar dentro de la lista: \"))\n",
    "i,n = 0,len(L)\n",
    "while i < n:\n",
    "    if L[i] == x:\n",
    "        print(f\"El elemento {x} se encuentra en el indice {i}\")\n",
    "        break\n",
    "    i += 1\n",
    "if i == n:\n",
    "    print(f\"El elemento {x} no se encuentra en el arreglo\")"
   ]
  },
  {
   "cell_type": "markdown",
   "metadata": {},
   "source": [
    "donde ```break``` es una palabra reservada que permite romper (detener) un ciclo. \n",
    "\n",
    "Sin embargo, es posible incorporar la condición del ```if``` dentro de la condición del ciclo ```while```. Si no se cumple la condición ```L[i] == x``` se procede a incrementar el índice ```i``` en ```1```, lo que es equivalente a incrementar el índice ```i``` en ```1``` **mientras** ```i<n``` **y** ```L[i]!=x```. Esto también implica que si ```L[i] == x``` la condición\n",
    "```python\n",
    "i < n and L[i] != x:\n",
    "```\n",
    "se deje de cumplir, por tanto es la condición que sirve para romper el ciclo tanto para el caso en que se encuentra el elemento ```x``` en ```L```, con ```i``` tomando un valor menor que ```n```, como en el caso contrario, donde ```i``` tomará el valor de ```n```."
   ]
  },
  {
   "cell_type": "code",
   "execution_count": 127,
   "metadata": {},
   "outputs": [
    {
     "name": "stdout",
     "output_type": "stream",
     "text": [
      "Dame una lista de elementos: [1,2,3,4,5]\n",
      "Dame el elemento que quieres buscar dentro de la lista: 8\n",
      "El elemento 8 no se encuentra en el arreglo\n"
     ]
    }
   ],
   "source": [
    "# La lista debe ser ingresada con la sintaxis de python. por ejemplo, [1,2,3,4,5]\n",
    "L = eval(input(\"Dame una lista de elementos: \"))\n",
    "x = eval(input(\"Dame el elemento que quieres buscar dentro de la lista: \"))\n",
    "i,n = 0,len(L)\n",
    "while i < n and L[i] != x:\n",
    "    i += 1\n",
    "    \n",
    "if i < n:\n",
    "    print(f\"El elemento {x} se encuentra en el indice {i}\")\n",
    "else:\n",
    "    print(f\"El elemento {x} no se encuentra en el arreglo\")"
   ]
  },
  {
   "cell_type": "markdown",
   "metadata": {},
   "source": [
    "## Scripts y funciones\n",
    "\n",
    "Podemos crear  scripts y funciones para hacer tareas especificas. Los **scripts** son simplemente una secuencia de instrucciones que se van ejecutando línea por línea para realizar una tarea específica, es decir, esto corresponde a la definición de algoritmo. Por otro lado, las **funciones** también son secuencias de instrucciones que realizan tareas específicas, pero tienen la ventaja de que se pueden reutilizar como **subprogramas** dentro de otros scripts o funciones. En ambos casos, se guardan en archivos ```.py```. Para poder utilizarlas es necesario cargar en memoria los archivos mediante el comando ```run```. En una *interfaz de desarrollo integrado* (IDE) como *Spyder*, se tienen editores que permiten crear, modificar y cargar archivos ```.py``` de manera gráfica.\n",
    "\n",
    "En el caso de *Jupyter*, un script o función se pueden escribir en una celda y la evaluación de esta celda permite cargar en memoria o ejecutar un script. En particular, una libreta de jupyter funciona como un script que depende de la ejecución secuencial (o no) de las celdas.\n",
    "\n",
    "### Funciones\n",
    "\n",
    "Para definir funciones se utiliza la siguiente sintaxis,\n",
    "\n",
    "```python\n",
    "def nombre_funcion(argumentos_entrada):\n",
    "    # Cuerpo de la funcion\n",
    "    return argumentos_salida\n",
    "```\n",
    "\n",
    "**Notas**\n",
    "\n",
    "* Usamos la palabra reservada ```def``` para denotar que estamos definiendo una función en python.\n",
    "* Los argumentos de entrada van separados por ```,```.\n",
    "* Para regresar uno o varios valores tenemos que usar la palabra reservada ```return``` seguida de las variables de salida separadas por ```,```.\n",
    "* Si la función no regresa nada se omite el uso de ```return```.\n",
    "* Los nombres de las funciones siguen las mismas reglas que para el caso de los nombres de variables.\n",
    "* **Es muy importante la indentación para indicar donde finaliza la definición de la función, ya que no se usa ningún elemento para este fin**.\n",
    "\n",
    "#### Argumentos de salida de una función\n",
    "\n",
    "Como se menciono antes, algo importante sobre las funciones en *Python* es que pueden regresar más de un argumento de salida y una vez que la instrucción\n",
    "\n",
    "```python\n",
    "return arg1[,arg2[,arg3[....,argN]]]\n",
    "```\n",
    "\n",
    "sea alcanzada, la ejecución de la función terminará, regresando el valor o valores dados después de ```return```. En este caso, los argumentos de salida, pueden ser:\n",
    "\n",
    "* Un valor específico. Por ejemplo, podemos regresar directamente literales como ```3```, ```\"cadena\"``` o ```False```, sin la necesidad de guardarlo en una variable.\n",
    "* El valor que tenga una variable. Por ejemplo, si dentro de la función se define la variable ```x```, y se pone la instrucción ```return x```, la función regresará el valor que se le haya asignado a ```x```.\n",
    "* El resultado de la evaluación de una instrucción.\n",
    "\n",
    "#### Ejemplos\n",
    "\n",
    "##### Ejemplo 8  (función que calcula el cuadrado de un número)\n",
    "\n",
    "Se va a definir una función que dado un número $n$ calcule su cuadrado, es decir, la función debe regresar $n^2$. Esta función  se llamará ```cuadrado```, cuyo argumento de entrada será $n$ y como argumento de salida regresará $n^2$. La definición queda como:"
   ]
  },
  {
   "cell_type": "code",
   "execution_count": 128,
   "metadata": {},
   "outputs": [],
   "source": [
    "# Funcion cuadrado. Calcula el cuadrado de un numero.\n",
    "def cuadrado(num):\n",
    "    return num**2"
   ]
  },
  {
   "cell_type": "markdown",
   "metadata": {},
   "source": [
    "Ahora se generará un pequeño *script* (o programa) que haga el **llamado** a la función ```cuadrado``` definida arriba."
   ]
  },
  {
   "cell_type": "code",
   "execution_count": 129,
   "metadata": {},
   "outputs": [
    {
     "name": "stdout",
     "output_type": "stream",
     "text": [
      "Dame un numero para calcular su cuadrado: 5\n",
      "5.0^2 = 25.0\n"
     ]
    }
   ],
   "source": [
    "#Script para el uso de cuadrado\n",
    "n = float(input(\"Dame un numero para calcular su cuadrado: \"))\n",
    "print(f\"{n}^2 = {cuadrado(n)}\")"
   ]
  },
  {
   "cell_type": "markdown",
   "metadata": {},
   "source": [
    "##### Ejemplo 9 (función con varios argumentos de salida)\n",
    "\n",
    "Para este ejemplo se va a crear una función que dados dos números enteros positivos $m$ y $n$ regrese el cociente $c$ y el residuo $r$ que se obtienen de la división de m entre n $\\left(\\frac{m}{n}\\right)$. Luego se utilizaran las salidas de la función para determinar si $m$ es divisible entre $n$ (que significa $r=0$) o no (que $r\\neq0$)"
   ]
  },
  {
   "cell_type": "code",
   "execution_count": 130,
   "metadata": {},
   "outputs": [],
   "source": [
    "# Definicion de la funcion\n",
    "def divisible(m,n):\n",
    "    return m//n,m%n"
   ]
  },
  {
   "cell_type": "code",
   "execution_count": 131,
   "metadata": {},
   "outputs": [
    {
     "name": "stdout",
     "output_type": "stream",
     "text": [
      "Dame un numero entero: 13\n",
      "Dame otro un numero entero: 4\n",
      "\n",
      "Debido a que 13 = 3 x 4 + 1, 13 no es divisible por 4. \n"
     ]
    }
   ],
   "source": [
    "# Script\n",
    "m = int(input(\"Dame un numero entero: \"))\n",
    "n = int(input(\"Dame otro un numero entero: \"))\n",
    "c,r = divisible(m,n)\n",
    "if r == 0:\n",
    "    print(f\"\\n{m} es divisible por {n}. \" \\\n",
    "    f\"Por tanto {m} es multiplo de {n} ya que {m} = {c} x {n}\")\n",
    "else:\n",
    "    print(f\"\\nDebido a que {m} = {c} x {n} + {r}, \" \\\n",
    "    f\"{m} no es divisible por {n}. \")"
   ]
  },
  {
   "cell_type": "markdown",
   "metadata": {},
   "source": [
    "### Definición de funciones a través módulos\n",
    "\n",
    "El crear módulos sirve para *empaquetar* todas las funciones necesarias para una tarea y puedan ser usadas sin la necesidad de estar cargandolas en memoria una a una. Para crear un **módulo** se usa un archivo ```.py``` donde se ponen todas las definiciones de las funciones. De esta forma, el módulo se puede cargar a través del comando ```import``` utilizando el nombre del archivo como nombre del módulo.\n",
    "\n",
    "#### Ejemplos\n",
    "\n",
    "##### Ejemplo 10 (conversión de decimal a binario y viceversa)\n",
    "\n",
    "Lo que se hará en este ejemplo es implementar la conversión de números enteros no negativos de su representación decimal a binaria y viceversa. En este caso, se definirán las funciones a través de un módulo creado para este fin.\n",
    "\n",
    "Para el ejemplo se usará el módulo ```conversion``` que se creo desde una libreta de *Jupyter*. El archivo de la libreta se llama ```conversion.ipynb``` y el archivo para el módulo se creo a partir de este desde el menú ```File``` $\\to$ ```Download as``` $\\to$ ```Python (.py)```. El módulo contiene dos funciones con sus descripciones.\n",
    "\n",
    "* ```bin2dec``` - *Conversión binario a decimal*. En este caso es necesario hacerlo mediante un ciclo ```for``` ya que cada entrada de la cadena representa el coeficiente de una potencia de 2. El código es el siguiente, los detalles están en el módulo\n",
    "\n",
    "```python\n",
    "def bin2dec(bin):\n",
    "    d,p = 0,len(bin)-1\n",
    "    for i in bin:\n",
    "        d += int(i)*2**p\n",
    "        p -=1\n",
    "    return d\n",
    "```\n",
    "\n",
    "* ```dec2bin``` - *Conversión decimal a binario*. En este caso es necesario hacerlo mediante un ciclo ```while``` ya que cada hay que hacer divisiones sucesivas por 2 hasta que el número se vuelva 0.  El código es el siguiente, los detalles están en el módulo\n",
    "\n",
    "\n",
    "```python\n",
    "def dec2bin(dec):\n",
    "    bin = \"\"\n",
    "    if dec <= 0:\n",
    "        return \"0\"\n",
    "    else:\n",
    "        while dec > 0:\n",
    "            bin = str(dec%2) + bin\n",
    "            dec //= 2\n",
    "        return bin\n",
    "```\n",
    "\n",
    "Los detalles de estos algoritmos los vimos en la parte de pseudocódigo."
   ]
  },
  {
   "cell_type": "markdown",
   "metadata": {},
   "source": [
    "**Nota**: En el caso de querer cargar un módulo propio dentro de ***Google Colab*** es necesario habilitar la importación de archivos mediante drive. Para ello es necesario evaluar las siguientes celdas antes de importar un módulo propio. Primero, es necesario montar su *drive* al entorno de ejecución para poder buscar el archivo ```.py``` donde se encuentra el módulo."
   ]
  },
  {
   "cell_type": "code",
   "execution_count": 132,
   "metadata": {},
   "outputs": [],
   "source": [
    "# Descomentar las siguientes lineas sólo si se quiere trabajar en Google Colab\n",
    "#from google.colab import drive\n",
    "#drive.mount('/content/drive')"
   ]
  },
  {
   "cell_type": "markdown",
   "metadata": {},
   "source": [
    "Luego, es necesario copiar el archivo al entorno de ejecución. Para ello se necesita copiar la ruta del archivo dentro del *drive*. Por ejemplo, si el archivo ```conversion.py``` se encuentra en la raíz del *drive*, entonces la instrucción a ocupar es:\n",
    "\n",
    "```Python\n",
    "#!cp /content/drive/MyDrive/conversion.py .\n",
    "```\n",
    "\n",
    "**Observe que después de la ruta hay un punto (```.```), eso es importante dejarlo, para que lo copie al entorno de ejecución**."
   ]
  },
  {
   "cell_type": "code",
   "execution_count": 133,
   "metadata": {},
   "outputs": [],
   "source": [
    "# Descomentar la siguientes lineas\n",
    "#!cp /content/drive/MyDrive/conversion.py ."
   ]
  },
  {
   "cell_type": "markdown",
   "metadata": {},
   "source": [
    "Una vez hecho esto se procede de forma normal a como se haría en las libretas de *Jupyter*. En las siguientes celdas se muestra un ejemplo de las funciones de conversión dentro del módulo."
   ]
  },
  {
   "cell_type": "code",
   "execution_count": 134,
   "metadata": {},
   "outputs": [],
   "source": [
    "# Importamos el modulo propio\n",
    "import conversion as conv"
   ]
  },
  {
   "cell_type": "code",
   "execution_count": 135,
   "metadata": {},
   "outputs": [
    {
     "name": "stdout",
     "output_type": "stream",
     "text": [
      "Dame un numero entero no negativo en representacion decimal: 31\n",
      "La representación binaria de 31 es 11111\n"
     ]
    }
   ],
   "source": [
    "# Usamos la conversion de decimal a binario \n",
    "d = int(input(\"Dame un numero entero no negativo en representacion decimal: \"))\n",
    "print(f\"La representación binaria de {d} es {conv.dec2bin(d)}\")"
   ]
  },
  {
   "cell_type": "code",
   "execution_count": 136,
   "metadata": {},
   "outputs": [
    {
     "name": "stdout",
     "output_type": "stream",
     "text": [
      "Dame un numero entero no negativo en representacion binaria: 11111\n",
      "La representación binaria de 11111 es 31\n"
     ]
    }
   ],
   "source": [
    "# Usamos la conversion de decimal a binario \n",
    "b = input(\"Dame un numero entero no negativo en representacion binaria: \")\n",
    "print(f\"La representación binaria de {b} es {conv.bin2dec(b)}\")"
   ]
  },
  {
   "cell_type": "markdown",
   "metadata": {},
   "source": [
    "### Funciones anónimas\n",
    "\n",
    "En *Python* es posible usar **funciones anónimas**, también conocidas como **funciones lambda**. Una función anónima es una definición de función que no está vinculada a un identificador (*nombre de función*). Estas funciones se definen mediante la palabra reservada ```lambda``` mediante la siguiente sintaxis\n",
    "```python\n",
    "lambda var_entrada: expr_salida\n",
    "```\n",
    "\n",
    "**Notas**:\n",
    "* Las variables de entrada se deben separar por ```,```.\n",
    "* La expresión de salida solo es una, pero se puede usar una tupla para regresar múltiples resultados. **Usar separación por ```,``` es lo mismo que definirlo en una tupla, ya que estas se definen así**. Por ejemplo, ```1,2,3``` es equivalente a ```(1,2,3)```.\n",
    "* Se puede asignar a una variable para que esta sirva como su nombre y se utilice como en el caso de las funciones usuales.\n",
    "* En *Python*, generalmente se usan como argumento para una función de orden superior (una función que toma otras funciones como argumentos). Por ejemplo, estos se utilizan junto con funciones integradas como ```filter()```, ```map()``` y ```reduce()```, etc.\n",
    "\n",
    "Un ejemplo análogo a la función ```cuadrado``` mediante funciones anónimas es el siguiente:"
   ]
  },
  {
   "cell_type": "code",
   "execution_count": 137,
   "metadata": {},
   "outputs": [
    {
     "name": "stdout",
     "output_type": "stream",
     "text": [
      "9\n"
     ]
    }
   ],
   "source": [
    "cuad = lambda num: num**2\n",
    "print(cuad(3))"
   ]
  },
  {
   "cell_type": "markdown",
   "metadata": {},
   "source": [
    "Un ejemplo para regresar múltiples expresiones sería:"
   ]
  },
  {
   "cell_type": "code",
   "execution_count": 138,
   "metadata": {},
   "outputs": [
    {
     "name": "stdout",
     "output_type": "stream",
     "text": [
      "(10, 4, 21, 2.3333333333333335, 1, 343, 2)\n"
     ]
    }
   ],
   "source": [
    "# Operadores en Python\n",
    "oper = lambda n1,n2:(n1+n2,n1-n2,n1*n2,n1/n2,n1%n2,n1**n2,n1//n2) #int(n1/n2) = ni//n2\n",
    "print(oper(7,3)) "
   ]
  },
  {
   "cell_type": "markdown",
   "metadata": {},
   "source": [
    "El análogo a la forma de definir la función con *def* sería:\n",
    "\n",
    "```python\n",
    "def oper(n1,n2):\n",
    "    return n1+n2,n1-n2,n1*n2,n1/n2,n1%n2,n1**n2,n1//n2\n",
    "```\n",
    "\n",
    "y los llamados validos correspondientes serían\n",
    "\n",
    "```python\n",
    "v1,v2,v3,v4,v5,v6,v7 = oper(n1,n2)\n",
    "v = oper(n1,n2)\n",
    "```\n",
    "\n",
    "donde ```vi``` (```i = 1,...,7```) se les asignaria el valor de la correspondiente operación y ```v``` sería una tupla con cada entrada la operación correspondiente.\n",
    "\n",
    "**Nota**: En general se recomienda que las expresiones que se evaluan en las funciones anónimas sean simples, por lo que cuando sean muy complejas es mejor definir la funciones a través de ```def```.\n",
    "\n",
    "#### Funciones ```filter```, ```map``` y ```reduce```\n",
    "\n",
    "La función ```filter()``` se emplea para seleccionar algunos elementos particulares de una colección de elementos. La colección utilizada en esta función es un iterador como listas, tuplas, etc.\n",
    "\n",
    "Los elementos que se pueden seleccionar se basan en alguna restricción predefinida. La sintaxis es la siguiente\n",
    "```python\n",
    "result = filter(fun,iterador)\n",
    "```\n",
    "donde los 2 parámetros de entrada :\n",
    "* ```fun```. Una función que define la restricción de filtrado.\n",
    "* ```iterador```. Una colección (cualquier iterador como listas, tuplas, etc.)\n",
    "\n",
    "Por ejemplo, si se quiere extraer todos los números pares dentro de una lista, se puede hacer de la siguiente manera"
   ]
  },
  {
   "cell_type": "code",
   "execution_count": 139,
   "metadata": {},
   "outputs": [
    {
     "name": "stdout",
     "output_type": "stream",
     "text": [
      "[10, 2, 8, 4, 0]\n"
     ]
    }
   ],
   "source": [
    "L = [10,2,8,7,5,4,3,11,0,1]\n",
    "r = filter(lambda x : x % 2 == 0,L)\n",
    "print(list(r))"
   ]
  },
  {
   "cell_type": "markdown",
   "metadata": {},
   "source": [
    "**Nota**. El resultado de estas funciones no es un objeto de tipo ```list```, por lo cual se puede aplicar la función predefinida ```list()``` para convertirlo a este tipo.\n",
    "\n",
    "La función ```map()``` se emplea para aplicar una operación específica a cada elemento en una colección. La sintaxis es análoga a la de ```filter```, y esta dada como sigue\n",
    "```python\n",
    "result = map(fun,iterador)\n",
    "```\n",
    "donde los 2 parámetros de entrada :\n",
    "* ```fun```. Una función que define cómo se realizarán las operaciones en los elementos.\n",
    "* ```iterador```. Una colección (cualquier iterador como listas, tuplas, etc.)\n",
    "\n",
    "Por ejemplo, si se quiere aplicar la función ```cuadrado``` a todos los números pares dentro de una lista, se puede hacer de la siguiente manera"
   ]
  },
  {
   "cell_type": "code",
   "execution_count": 140,
   "metadata": {},
   "outputs": [
    {
     "name": "stdout",
     "output_type": "stream",
     "text": [
      "[100, 4, 64, 49, 25, 16, 9, 121, 0, 1]\n"
     ]
    }
   ],
   "source": [
    "L = [10,2,8,7,5,4,3,11,0,1]\n",
    "r = map(cuadrado,L)\n",
    "print(list(r))"
   ]
  },
  {
   "cell_type": "markdown",
   "metadata": {},
   "source": [
    "La función ```reduce()```, como ```map()```, se emplea para aplicar una operación a cada elemento en una colección. Sin embargo, su funcionamiento es un poco diferente de la función ```map()```. Los siguientes pasos deben ser seguidos por la función ```reduce()``` para calcular una salida:\n",
    "\n",
    "1. Aplicar la operación definida en los 2 primeros elementos de la colección y guardar este resultado parcial.\n",
    "2. Aplicar la operación al resultado parcial y el siguiente elemento dentro de la colección y guardar este nuevo resultado parcial.\n",
    "3. Repetir el paso dos hasta que no queden más elementos.\n",
    "\n",
    "La sintaxis es análoga a las dos funciones anteriores, y esta dada como sigue\n",
    "```python\n",
    "result = reduce(fun,iterador)\n",
    "```\n",
    "donde los 2 parámetros de entrada :\n",
    "\n",
    "* ```fun```. Una función que define cómo se realizarán las operaciones.\n",
    "* ```iterador```. Una colección (cualquier iterador como listas, tuplas, etc.)\n",
    "\n",
    "Esta función se encuentra dentro del módulo ```functools```. Por ejemplo, se puede usar está función para reescribir el programa que suma los elementos dentro de un arreglo (ejemplo 6)."
   ]
  },
  {
   "cell_type": "code",
   "execution_count": 141,
   "metadata": {},
   "outputs": [
    {
     "name": "stdout",
     "output_type": "stream",
     "text": [
      "55\n"
     ]
    }
   ],
   "source": [
    "from functools import reduce\n",
    "L = [1,2,3,4,5,6,7,8,9,10]\n",
    "r = reduce(lambda u,v : u + v,L)\n",
    "print(r)"
   ]
  },
  {
   "cell_type": "markdown",
   "metadata": {},
   "source": [
    "### Funciones con valores por defecto\n",
    "\n",
    "Otro punto importante sobre las funciones es que se puede dar valores por defecto a los argumentos de entrada, de tal manera que si no se ingresa un valor a la función aún puede correr con dichos valores. Además esto permite definir valores especificos para ciertos argumentos de entrada utilizando su nombre y sin importar el orden. Esto da mayor flexibilidad en el llamado de las funciones. Además, dado que la asignación de variables es dinámica, entonces las variables pueden ser de cualquier tipo, incluso otras funciones.\n",
    "\n",
    "### Ejemplos\n",
    "\n",
    "#### Ejemplo 11 (Calculadora científica)\n",
    "\n",
    "En el siguiente ejemplo se simulará el uso de una calculadora científica sólo para el cálculo de algunas funciones trigonométricas, logaritmos y exponenciales. En este ejemplo se usará el módulo ```math``` y diccionarios. \n",
    "\n",
    "Un **diccionario** es una estructura de datos y un tipo de dato (```dict```) en *Python* con características especiales que permite almacenar cualquier tipo de dato como enteros, cadenas, listas e incluso otras funciones y que al igual que las listas es mutable. Además, permite identificar cada elemento por una clave (*Key*), la cual debe ser una cadena (```str```).\n",
    "\n",
    "Una referencia sobre el uso básico de diccionarios y sobre sus métodos se puede consultar en la siguiente [liga](https://devcode.la/tutoriales/diccionarios-en-python/)."
   ]
  },
  {
   "cell_type": "code",
   "execution_count": 142,
   "metadata": {},
   "outputs": [],
   "source": [
    "def aplicarFuncion(f = lambda x:x,x = 0):\n",
    "    \"\"\"Realiza la evaluacion de la funcion 'f' en 'x'.\"\"\"\n",
    "    return f(x)\n",
    "\n",
    "def imprimir(f = \"id\",x = 0.0,fx = 0.0,pre = 5):\n",
    "    \"\"\"Imprime la evaluacion de la funcion 'f' en 'x' ('fx') mostrando 'pre' decimales'.\"\"\"\n",
    "    print(f\"{f}({x:6.{pre}f}) = {fx:6.{pre}f}\")"
   ]
  },
  {
   "cell_type": "code",
   "execution_count": 143,
   "metadata": {},
   "outputs": [
    {
     "name": "stdout",
     "output_type": "stream",
     "text": [
      "Introduce la función a aplicar (sin, cos, tan, exp, log): sin\n",
      "Introduce el valor a evaluar en la función: 0\n",
      "id(0.00000) = 0.00000\n"
     ]
    }
   ],
   "source": [
    "import math\n",
    "Fun = {\"sen\":math.sin, \"cos\":math.cos, \"tan\":math.tan, \"exp\":math.exp, \"log\":math.log}\n",
    "f = input(\"Introduce la función a aplicar (sin, cos, tan, exp, log): \")\n",
    "x = float(input('Introduce el valor a evaluar en la función: '))\n",
    "if f.lower() in Fun:\n",
    "    imprimir(f,x,aplicarFuncion(Fun[f.lower()],x))\n",
    "else:\n",
    "    imprimir(x = x,fx = aplicarFuncion(x = x))"
   ]
  },
  {
   "cell_type": "markdown",
   "metadata": {},
   "source": [
    "### Ejemplo 12 (derivada de una función en un punto)\n",
    "\n",
    "Dada una función $f\\colon \\mathbb{R}\\to\\mathbb{R}$, se considera el problema de calcular la derivada de la función en $x$. Recuérdese que la derivada de la función $f$ en $x$ está dada por\n",
    "$$\n",
    "\tf'(x) = \\lim_{h\\to 0} \\dfrac{f(x+h)-f(x)}{h}\n",
    "$$\n",
    "si el límite existe. Bajo ciertas hipótesis sobre $f$, se puede probar que\n",
    "$$\n",
    "    f'(x) =\\dfrac{f(x+h)-f(x)}{h} + \\mathcal{O}(h)\n",
    "$$\n",
    "donde $\\mathcal{O}(h)$ nos dice que este término es proporcional a $h$, o análogamente, si tomamos la aproximación\n",
    "$$\n",
    "    f'(x) \\approx \\dfrac{f(x+h)-f(x)}{h}\n",
    "$$\n",
    "el orden del error de la aproximación es cercano al orden de $h$, por lo tanto, cuanto más pequeño sea $h$ mejor será la aproximación. A la aproximación dada en la última ecuación se le conoce como **fórmula de diferencias progresivas** ó **regresivas**, de acuerdo si $h>0$ ó $h<0$, respectivamente. Está fórmula da una manera fácil de generar una aproximación de $f'(x)$ ya que solo bastaría usar la última ecuación para $h$ suficientemente pequeño. El problema es como escoger $h$ para evitar errores de redondeo. \n",
    "\t\n",
    "Una manera simple es recurrir a un proceso iterativo al ir variando el valor de $h$ y tomar una sucesión de aproximaciones de la derivada hasta que estas no varíen por más de una cota establecida, es decir, considerando en la iteración $k>1$\n",
    "$$\n",
    "\th_{k} = \\dfrac{h_{k-1}}{2} \\quad\\text{y}\\quad f'_{k} = \\dfrac{f(x+h_{k})-f(x)}{h_{k}}\n",
    "$$\n",
    "mientras $|f'_{k} - f'_{k-1}| > 10^{-e}$ para $e>0$. Una vez que la diferencia entre dos aproximaciones consecutivas sea menor o igual que $10^{-e}$, es decir, $|f'_{k} - f'_{k-1}| \\leq 10^{-e}$, el valor de la aproximación será el valor calculado en $f'_{k}$.\n",
    "\t\n",
    "Para hacer la función que calcule la derivada de una función en un punto es necesario que esta reciba como argumento una función. Para ello no es necesario hacer algo especial dentro de la función pero si en el tipo de argumentos de entrada que recibirá la función. Por el momento, para construir la función supondremos que se da una función a la que denotaremos por la variable ```f``` y se quiere calcular su derivada en el punto ```x```. La función queda dada de la siguiente manera."
   ]
  },
  {
   "cell_type": "code",
   "execution_count": 144,
   "metadata": {},
   "outputs": [],
   "source": [
    "# import numpy as np\n",
    "\n",
    "def derivada(f,x,tol = 1e-12, maxiter = 500):\n",
    "    d,h,it = np.inf,0.5,1\n",
    "    dfx_a = f(x+1) - f(x)\n",
    "    while abs(d) > tol and it < maxiter:\n",
    "        dfx = (f(x+h) - f(x)) / h\n",
    "        d = dfx - dfx_a\n",
    "        dfx_a = dfx\n",
    "        h /= 2\n",
    "        it += 1\n",
    "    return dfx,it"
   ]
  },
  {
   "cell_type": "code",
   "execution_count": 145,
   "metadata": {},
   "outputs": [
    {
     "name": "stdout",
     "output_type": "stream",
     "text": [
      "Dame la función: lambda x:x**2\n",
      "Dame el punto donde quieres evaluar la derivada: 3\n",
      "f'(3) = 6.000000059604645\n"
     ]
    }
   ],
   "source": [
    "f = eval(input(\"Dame la función: \"))\n",
    "x = eval(input(\"Dame el punto donde quieres evaluar la derivada: \"))\n",
    "df,_ = derivada(f,x,1e-16)\n",
    "print(f\"f'({x}) = {df}\")"
   ]
  },
  {
   "cell_type": "markdown",
   "metadata": {},
   "source": [
    "### Recursividad\n",
    "\n",
    "La recursividad es un método para resolver un problema donde la solución depende de soluciones a instancias más pequeñas del mismo problema. Tales problemas generalmente se pueden resolver de forma iterativa, pero esto necesita identificar e indexar las instancias más pequeñas en el momento de la programación. Por el contrario, la recursividad resuelve tales problemas recursivos mediante el uso de funciones que se llaman a sí mismas desde su propio código. El enfoque puede aplicarse a muchos tipos de problemas. \n",
    "\t\n",
    "La definición de una función recursiva tiene uno o más casos base, es decir, instancias para las cuales la función produce un resultado trivial (sin recursividad), y uno o más casos recursivos, es decir, entradas para las cuales el programa se llama a sí mismo. Se mostrará esto a través de algunos ejemplos.\n",
    "\n",
    "#### Ejemplos\n",
    "\n",
    "##### Ejemplo 13 (Cálculo del factorial)\n",
    "Considérese el cálculo del factorial de un entero positivo $n$, denotado por $n!$. El factorial se define como el producto de todos los enteros menores o iguales que $n$, es decir,\n",
    "$$\n",
    "    n! = 1\\cdot2\\cdot3\\cdot(n-1)\\cdot n = \\prod_{k=1}^{n}k,\\tag{13.1}\n",
    "$$\n",
    "tomando adicionalmente que $0! = 1$. De esta manera, el cálculo del factorial se pueden reescribir de manera recursiva de la siguiente manera\n",
    "$$\n",
    "\tn! = \\left\\{\\begin{array}{cl}\n",
    "\t\t      1 & \\text{si } n = 0\\\\\n",
    "\t\tn(n-1)! & \\text{si } n > 0.\n",
    "\t\\end{array}\\right.\\tag{13.2}\n",
    "$$\n",
    "donde, para $n=0$ se tiene el caso base y para $n>0$ se hace el llamado así mismo pero para un problema más pequeño, en este caso el cálculo de $(n-1)!$. *Python* soporta la recursividad, es decir el llamado de una función a si misma. Usando la forma recursiva dada en (13.2) se tiene"
   ]
  },
  {
   "cell_type": "code",
   "execution_count": 146,
   "metadata": {},
   "outputs": [],
   "source": [
    "def factorialRec(n):\n",
    "    if n <= 0:\n",
    "        return 1\n",
    "    else:\n",
    "        return n*factorialRec(n-1)"
   ]
  },
  {
   "cell_type": "markdown",
   "metadata": {},
   "source": [
    "Usando las ideas del ejemplo de la suma de todas las entradas de un arreglo (ejemplo 6) y la definición dada en la ecuación (13.1), la versión iterativa del problema queda como:"
   ]
  },
  {
   "cell_type": "code",
   "execution_count": 147,
   "metadata": {},
   "outputs": [],
   "source": [
    "def factorialIt(n):\n",
    "    nfact = 1\n",
    "    for i in range(1,n+1):\n",
    "        nfact *= i\n",
    "    return nfact"
   ]
  },
  {
   "cell_type": "markdown",
   "metadata": {},
   "source": [
    "Finalmente se muestra el uso de las funciones antes definidas"
   ]
  },
  {
   "cell_type": "code",
   "execution_count": 148,
   "metadata": {},
   "outputs": [
    {
     "name": "stdout",
     "output_type": "stream",
     "text": [
      "Dame el numero entero para calcular su factorial: 10\n",
      "10! = 3628800 (forma recursiva)\n",
      "10! = 3628800 (forma iterativa)\n"
     ]
    }
   ],
   "source": [
    "n = int(input(\"Dame el numero entero para calcular su factorial: \"))\n",
    "print(f\"{n}! = {factorialRec(n)} (forma recursiva)\")\n",
    "print(f\"{n}! = {factorialIt(n)} (forma iterativa)\")"
   ]
  },
  {
   "cell_type": "markdown",
   "metadata": {},
   "source": [
    "##### Ejemplo 14 (Sucesión de Fibonacci)\n",
    "\n",
    "Ahora se considera el problema de calcular el $n$-ésimo número de la sucesión de Fibonacci para $n\\geq0$, el cual esta dado por\n",
    "$$\n",
    "    F_{n} = \\left\\{\\begin{array}{cl}\n",
    "        0 & \\text{si } n = 0\\\\\n",
    "        1 & \\text{si } n = 1\\\\\n",
    "        F_{n-1} + F_{n-2} & \\text{si } n > 1\n",
    "    \\end{array}\\right.\\tag{14.1}\n",
    "$$\n",
    "y cuya definición es claramente recursiva. En este ejemplo hay dos casos base los cuales son para $n=0$ se tiene que $F_{0} = 0$ y para $n=1$, $F_{1} = 1$, y dos casos recursivos para $n>1$, es decir encontrar los términos $n-1$ y $n-2$ de la sucesión. Siguiendo la definición dada por en (14.1), la implementación en *Python* es directa:"
   ]
  },
  {
   "cell_type": "code",
   "execution_count": 149,
   "metadata": {},
   "outputs": [],
   "source": [
    "def fibRec(n):\n",
    "    if n < 1:\n",
    "        return 0\n",
    "    elif n == 1:\n",
    "        return 1\n",
    "    else:\n",
    "        return fibRec(n-1) + fibRec(n-2)"
   ]
  },
  {
   "cell_type": "markdown",
   "metadata": {},
   "source": [
    "Este algoritmo para calcular un término de la sucesión de Fibonacci es especialmente malo pues cada vez que se ejecuta la función, la función realizará dos llamadas a sí misma, cada una de las cuales hará a la vez dos llamadas más y así sucesivamente hasta que terminen en 0 o en 1. El ejemplo se denomina *recursión de árbol*, y sus requisitos de tiempo crecen de forma exponencial y los de espacio de forma lineal.\n",
    "\n",
    "Es por esto que es mejor considerar la fórmula o una forma iterativa. Para hacer la forma iterativa, es importante notar que\n",
    "$$\n",
    "\tF_{k} = F_{k-1} + F_{k-2}\\quad \\forall k > 1\n",
    "$$\n",
    "iniciando con $F_{0} = 0$ y $F_{1} = 1$, es decir, solo es necesario conocer los dos números anteriores para calcular el siguiente. Teniendo en cuenta esto se obtiene el siguiente código:"
   ]
  },
  {
   "cell_type": "code",
   "execution_count": 150,
   "metadata": {},
   "outputs": [],
   "source": [
    "def fibIt(n):\n",
    "    fkm2,fkm1 = 0,1\n",
    "    for i in range(n):\n",
    "        fkm1,fkm2 = fkm1 + fkm2,fkm1\n",
    "    return fkm2"
   ]
  },
  {
   "cell_type": "markdown",
   "metadata": {},
   "source": [
    "Se muestra el uso de las funciones definidas."
   ]
  },
  {
   "cell_type": "code",
   "execution_count": 151,
   "metadata": {},
   "outputs": [
    {
     "name": "stdout",
     "output_type": "stream",
     "text": [
      "¿Cuál es el término de la sucesión de Fibonacci que quieres calcular?: 15\n",
      "F_15 = 610 (forma recursiva)\n",
      "F_15 = 610 (forma iterativa)\n"
     ]
    }
   ],
   "source": [
    "n = int(input(\"¿Cuál es el término de la sucesión de Fibonacci que quieres calcular?: \"))\n",
    "print(f\"F_{n} = {fibRec(n)} (forma recursiva)\")\n",
    "print(f\"F_{n} = {fibIt(n)} (forma iterativa)\")"
   ]
  },
  {
   "cell_type": "markdown",
   "metadata": {},
   "source": [
    "La diferencia en el tiempo de ejecución entre ambas implementaciones es muy grande ya que para este caso los requisitos de tiempo crecen de forma exponencial. Para corroborar esto trate de calcular $F_{40}( = 102334155)$ con ambos códigos y tome el tiempo que se tardan en obtener las soluciones, para ello puede usar el script:"
   ]
  },
  {
   "cell_type": "code",
   "execution_count": 152,
   "metadata": {},
   "outputs": [
    {
     "name": "stdout",
     "output_type": "stream",
     "text": [
      "La implementación recursiva tardó 24.56 seg.\n",
      "La implementación iterativa tardó 3.79e-05 seg.\n"
     ]
    }
   ],
   "source": [
    "import time\n",
    "n = 40\n",
    "inicio = time.time()\n",
    "fibRec(n)\n",
    "fin = time.time()\n",
    "print(f\"La implementación recursiva tardó {fin-inicio:2.2f} seg.\")\n",
    "\n",
    "inicio = time.time()\n",
    "fibIt(n)\n",
    "fin = time.time()\n",
    "print(f\"La implementación iterativa tardó {fin-inicio:2.2e} seg.\")"
   ]
  }
 ],
 "metadata": {
  "kernelspec": {
   "display_name": "Python 3",
   "language": "python",
   "name": "python3"
  },
  "language_info": {
   "codemirror_mode": {
    "name": "ipython",
    "version": 3
   },
   "file_extension": ".py",
   "mimetype": "text/x-python",
   "name": "python",
   "nbconvert_exporter": "python",
   "pygments_lexer": "ipython3",
   "version": "3.8.5"
  }
 },
 "nbformat": 4,
 "nbformat_minor": 4
}
