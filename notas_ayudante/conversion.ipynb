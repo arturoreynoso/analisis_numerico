{
 "cells": [
  {
   "cell_type": "markdown",
   "metadata": {},
   "source": [
    "# Conversión\n",
    "\n",
    "Módulo que realiza converisiones entre representaciones en base $\\beta\\leq10$ de numeros enteros no negativos. Los métodos definidos en el módulo son los siguiente\n",
    "\n",
    "* **bin2dec** - Conversión binario a decimal\n",
    "* **dec2bin** - Conversión decimal a binario\n"
   ]
  },
  {
   "cell_type": "markdown",
   "metadata": {},
   "source": [
    "## Conversión de binario a decimal\n",
    "\n",
    "La función *bin2dec* convierte un número entero no negativo en su representación binaria a su correspondiente representación decimal\n",
    "\n",
    "### Variables de entrada\n",
    "\n",
    "* **bin** - *str*. Número entero no negativo en representación binaria del cual queremos obtener su representación decimal.\n",
    "\n",
    "### Variables de salida\n",
    "\n",
    "* **d** - *int*. Número entero no negativo del cual queremos obtener su representación binaria.\n",
    "\n",
    "### Datos\n",
    "* *Autor*: Jorge Zavaleta\n",
    "* *Fecha de creacion*: 12/03/2021\n",
    "* *Ultima modificación*: 12/03/2021"
   ]
  },
  {
   "cell_type": "code",
   "execution_count": null,
   "metadata": {},
   "outputs": [],
   "source": [
    "def bin2dec(bin):\n",
    "    d,p = 0,len(bin)-1\n",
    "    for i in bin:\n",
    "        d += int(i)*2**p\n",
    "        p -=1\n",
    "    return d"
   ]
  },
  {
   "cell_type": "markdown",
   "metadata": {},
   "source": [
    "## Conversión de decimal a binario\n",
    "\n",
    "La función *dec2bin* convierte un número entero no negativo en su representación decimal a su correspondiente representación binaria\n",
    "\n",
    "### Variables de entrada\n",
    "\n",
    "* **dec** - *int*. Número entero no negativo del cual queremos obtener su representación binaria.\n",
    "\n",
    "### Variables de salida\n",
    "\n",
    "* **bin** - *str*. Representación binaria de *dec*\n",
    "\n",
    "### Datos\n",
    "\n",
    "* *Autor*: Jorge Zavaleta\n",
    "* *Fecha de creacion*: 12/03/2021\n",
    "* *Ultima modificación*: 12/03/2021"
   ]
  },
  {
   "cell_type": "code",
   "execution_count": null,
   "metadata": {},
   "outputs": [],
   "source": [
    "def dec2bin(dec):\n",
    "    bin = \"\"\n",
    "    if dec <= 0:\n",
    "        return \"0\"\n",
    "    else:\n",
    "        while dec > 0:\n",
    "            bin = str(dec%2) + bin\n",
    "            dec //= 2\n",
    "        return bin"
   ]
  }
 ],
 "metadata": {
  "kernelspec": {
   "display_name": "Python 3",
   "language": "python",
   "name": "python3"
  },
  "language_info": {
   "codemirror_mode": {
    "name": "ipython",
    "version": 3
   },
   "file_extension": ".py",
   "mimetype": "text/x-python",
   "name": "python",
   "nbconvert_exporter": "python",
   "pygments_lexer": "ipython3",
   "version": "3.8.5"
  }
 },
 "nbformat": 4,
 "nbformat_minor": 4
}
