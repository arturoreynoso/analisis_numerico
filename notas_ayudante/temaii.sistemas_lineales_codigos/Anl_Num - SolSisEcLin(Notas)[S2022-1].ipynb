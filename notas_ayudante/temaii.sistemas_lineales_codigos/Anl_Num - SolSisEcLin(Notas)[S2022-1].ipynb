{
 "cells": [
  {
   "cell_type": "markdown",
   "metadata": {},
   "source": [
    "# Solución de sistemas de ecuaciones lineales"
   ]
  },
  {
   "cell_type": "code",
   "execution_count": 1,
   "metadata": {},
   "outputs": [],
   "source": [
    "# Modulos necesarios\n",
    "import numpy as np\n",
    "\n",
    "# Excepciones\n",
    "class slsException(Exception):\n",
    "    \n",
    "    def __init__(self,valor):\n",
    "        self.valor = str(valor)\n",
    "        \n",
    "    def __str__(self):\n",
    "        errores = {\"0\":\"Las dimensiones son diferentes. La matriz debe ser cuadrada.\",\n",
    "                  \"1\":\"Los elementos de la diagonal son cero. La matriz no es invertible.\",\n",
    "                  \"2\":\"Los elementos de la diagonal son cero.\"}\n",
    "        if self.valor in errores:\n",
    "            return f\"Error {self.valor}. {errores[self.valor]}\"\n",
    "        else:\n",
    "            return \"Error no clasificado\""
   ]
  },
  {
   "cell_type": "code",
   "execution_count": 2,
   "metadata": {},
   "outputs": [
    {
     "name": "stdout",
     "output_type": "stream",
     "text": [
      "Sistema triangular inferior\n",
      "L = \n",
      "[[1.  0.  0. ]\n",
      " [4.  1.  0. ]\n",
      " [4.  0.5 1. ]]\n",
      "\n",
      "b = \n",
      "[ 3  6 10]\n",
      "\n",
      "Sistema triangular superior\n",
      "U = \n",
      "[[ 1  2  2]\n",
      " [ 0 -4 -6]\n",
      " [ 0  0 -1]]\n",
      "\n",
      "b = \n",
      "[ 3 -6  1]\n",
      "\n",
      "Sistema triangular superior\n",
      "A = \n",
      "[[1 2 2]\n",
      " [4 4 2]\n",
      " [4 6 4]]\n",
      "\n",
      "b = \n",
      "[ 3  6 10]\n"
     ]
    }
   ],
   "source": [
    "# Ejemplos\n",
    "print(\"Sistema triangular inferior\")\n",
    "L = np.array([[1,0,0],[4,1,0],[4,0.5,1]])\n",
    "bl = np.array([3,6,10])\n",
    "print(f\"L = \\n{L}\",f\"b = \\n{bl}\",sep=\"\\n\\n\")\n",
    "\n",
    "print(\"\\nSistema triangular superior\")\n",
    "U = np.array([[1,2,2],[0,-4,-6],[0,0,-1]])\n",
    "bu = np.array([3,-6,1])\n",
    "print(f\"U = \\n{U}\",f\"b = \\n{bu}\",sep=\"\\n\\n\")\n",
    "\n",
    "print(\"\\nSistema triangular superior\")\n",
    "A = np.array([[1,2,2],[4,4,2],[4,6,4]])\n",
    "b = np.array([3,6,10])\n",
    "print(f\"A = \\n{A}\",f\"b = \\n{b}\",sep=\"\\n\\n\")"
   ]
  },
  {
   "cell_type": "markdown",
   "metadata": {},
   "source": [
    "## Sistemas triángulares"
   ]
  },
  {
   "cell_type": "markdown",
   "metadata": {},
   "source": [
    "Se considera $A\\in\\mathbb{R}^{n\\times n}$ una matriz **triangular inferior**, *i.e.*, con sus entradas todas ceros por encima de la diagonal principal ($a_{ij} =0$ $\\forall i<j$) y el sistema\n",
    "\n",
    "$$\n",
    "    A\\pmb{x} = \\begin{pmatrix}\n",
    "        a_{11} & 0      & \\cdots & 0     \\\\\n",
    "        a_{21} & a_{22} & \\cdots & 0     \\\\\n",
    "        \\vdots & \\vdots & \\ddots & \\vdots\\\\\n",
    "        a_{n1} & a_{n2} & \\cdots & a_{nn}\n",
    "     \\end{pmatrix}\n",
    "     \\begin{pmatrix}\n",
    "         x_{1} \\\\ x_{2} \\\\ \\vdots \\\\ x_{n}\n",
    "     \\end{pmatrix} \n",
    "     = \\begin{pmatrix}\n",
    "         b_{1} \\\\ b_{2} \\\\ \\vdots \\\\ b_{n}\n",
    "     \\end{pmatrix} = \\pmb{b}.\n",
    "$$\n",
    "\n",
    "SUponiendo que $a_{ii} \\neq 0$ $\\forall i = 1,\\ldots,n$, la fómula para determinar el vector solución $\\pmb{x}$ está dada por\n",
    "$$\n",
    "    x_{1} = \\frac{b_{1}}{a_{11}}\n",
    "$$\n",
    "$$\n",
    "    x_{i} = \\frac{b_{i} - \\displaystyle\\sum_{k=1}^{i-1}a_{ik}x_{k}}{a_{ii}}\\quad i=2,\\ldots, n\n",
    "$$\n",
    "que se conoce como **sustitución hacia adelante** (*forward substitution*), ya que la solución se va calculando de $x_{1}$ a $x_{n}$."
   ]
  },
  {
   "cell_type": "code",
   "execution_count": 3,
   "metadata": {},
   "outputs": [],
   "source": [
    "# Implementacion 1\n",
    "def fsubs(L,b):\n",
    "    n = L.shape[0]\n",
    "    x = np.empty(b.shape,dtype = \"float64\")\n",
    "    for i in range(n):\n",
    "        s = 0\n",
    "        for k in range(i):\n",
    "            s += L[i,k]*x[k]\n",
    "        x[i] = (b[i] - s)/L[i,i]\n",
    "    return x"
   ]
  },
  {
   "cell_type": "code",
   "execution_count": 4,
   "metadata": {},
   "outputs": [
    {
     "name": "stdout",
     "output_type": "stream",
     "text": [
      "[ 3. -6.  1.] True\n"
     ]
    }
   ],
   "source": [
    "#Prueba\n",
    "x = fsubs(L,bl)\n",
    "print(x,np.allclose(L@x,bl))"
   ]
  },
  {
   "cell_type": "markdown",
   "metadata": {},
   "source": [
    "Para la modificación se usará el lado derecho para ir acumulando los términos en la suma que se puedan calcular conforme se determinen los $x_{i}$. En la primera iteración, es decir $i=1$ se tiene que:\n",
    "$$\n",
    "    x_{1} = \\frac{b_{1}}{a_{11}}\n",
    "$$\n",
    "y para $2\\leq i \\leq n$, ya conociendo $x_1$ se tiene que\n",
    "$$\n",
    "    x_{i} = \\frac{b_{i} - a_{i2}x_{1} - \\displaystyle\\sum_{k=2}^{i-1}a_{ik}x_{k}}{a_{ii}}\n",
    "$$\n",
    "donde podemos reescribir\n",
    "$$\n",
    "    b^{(2)}_{i} = b^{(1)}_{i} - a_{i2}x_{1} \\quad\\text{considerando}\\quad b_{i}^{(1)} = b_{i}\n",
    "$$\n",
    "Así en la segunda iteración ($i=2$)\n",
    "$$\n",
    "    x_{2} = \\frac{b^{(2)}_{2}}{a_{22}}\n",
    "\\quad\n",
    "y \n",
    "\\quad\n",
    "    x_{i} = \\frac{b_{i}^{(2)} - \\displaystyle\\sum_{k=2}^{i-1}a_{ik}x_{k}}{a_{ii}}\\quad\\text{para}\\quad 3\\leq i\\leq n\n",
    "$$\n",
    "\n",
    "\n",
    "En general, en la iteración $j-1$ ya conociendo $x_{j-1}$, si se toma $b_{i}^{(j)} = b_{i}^{(j-1)} - a_{ij}x_{j-1}$ se tendrá que en la iteración $j$\n",
    "$$\n",
    "    x_{j} = \\frac{b^{(j)}_{j}}{a_{jj}}\n",
    "\\quad\n",
    "y \n",
    "\\quad\n",
    "    x_{i} = \\frac{b_{i}^{(j)} - \\displaystyle\\sum_{k=j}^{i-1}a_{ik}x_{k}}{a_{ii}}\\quad\\text{para}\\quad j< i\\leq n\n",
    "$$\n",
    "\n",
    "De esta forma, tomando $b^{(j)}_{j} = b_{j}$ y $b^{(j)}_{i} = b_{i}$, para $j = 1,\\ldots,n$.\n",
    "1. Se calcula $$x_{j} = \\frac{b_{j}}{a_{jj}}$$.\n",
    "2. Para $i = j+1,\\ldots,n$ se actualiza el lado derecho con $$b_{i} = b_{i} - a_{ij}x_{j}$$.\n",
    "\n",
    "Este es el *algoritmo 1* que se implementa a continuación."
   ]
  },
  {
   "cell_type": "code",
   "execution_count": 5,
   "metadata": {},
   "outputs": [],
   "source": [
    "# Implemetacion 2\n",
    "def STI(L,rhs):\n",
    "    m,n = L.shape\n",
    "    if m != n:\n",
    "        raise slsException(0)\n",
    "    b = rhs.copy()\n",
    "    x = np.empty((n,),dtype = \"float64\")\n",
    "    for j in range(n):\n",
    "        if L[j,j] == 0:\n",
    "             raise slsException(1)\n",
    "        x[j] = b[j]/L[j,j]\n",
    "        for i in range(j+1,n):\n",
    "            b[i] = b[i] - L[i,j]*x[j]\n",
    "    return x"
   ]
  },
  {
   "cell_type": "code",
   "execution_count": 6,
   "metadata": {},
   "outputs": [
    {
     "name": "stdout",
     "output_type": "stream",
     "text": [
      "[ 3. -6.  1.] True\n"
     ]
    }
   ],
   "source": [
    "#Prueba\n",
    "x = STI(L,bl)\n",
    "print(x,np.allclose(L@x,bl))"
   ]
  },
  {
   "cell_type": "markdown",
   "metadata": {},
   "source": [
    "Se considera $A\\in\\mathbb{R}^{n\\times n}$ una matriz **triangular superior**, es decir, que las entradas de $A$ debajo de la diagonal principal son cero ($a_{ij} = 0$ $\\forall i>j$). De esta forma el sistema queda de la forma\n",
    "$$\n",
    "    A\\pmb{x} = \\begin{pmatrix}\n",
    "        a_{11} & a_{12} & \\cdots & a_{1n}\\\\\n",
    "        0 & a_{22} & \\cdots & a_{2n}\\\\\n",
    "        \\vdots & \\vdots & \\ddots & \\vdots\\\\\n",
    "        0 & 0 & \\cdots & a_{nn}        \n",
    "     \\end{pmatrix}\n",
    "     \\begin{pmatrix}\n",
    "         x_{1} \\\\ x_{2} \\\\ \\vdots \\\\ x_{n}\n",
    "     \\end{pmatrix} \n",
    "     = \\begin{pmatrix}\n",
    "         b_{1} \\\\ b_{2} \\\\ \\vdots \\\\ b_{n}\n",
    "     \\end{pmatrix} = \\pmb{b}.\n",
    "$$\n",
    "\n",
    "Suponiendo que $a_{ii} \\neq 0$ $\\forall i = 1,\\ldots,n$, se obtienen la fórmula\n",
    "$$\n",
    "    x_{n} = \\frac{b_{n}}{a_{nn}}\n",
    "$$\n",
    "$$\n",
    "    x_{i} = \\frac{b_{i} - \\displaystyle\\sum_{k=i+1}^{n}a_{ik}x_{k}}{a_{ii}}\\quad i=n-1,\\ldots, 1\n",
    "$$\n",
    "la cual se conoce como **sustitución hacia atrás** (*backward subtitution*), ya que la solución se va calculando de $x_{n}$ a $x_{1}$. Un análisis similar se puede realizar para obtener el psudocódigo descrito en el *algoritmo 2* que es el que se implementa a continuación."
   ]
  },
  {
   "cell_type": "code",
   "execution_count": 7,
   "metadata": {},
   "outputs": [],
   "source": [
    "#Implementacion\n",
    "def STS(U,rhs):\n",
    "    m,n = U.shape\n",
    "    if m != n:\n",
    "        raise slsException(0)\n",
    "    b = rhs.copy()\n",
    "    x = np.zeros(b.shape,dtype = \"float64\")\n",
    "    for j in reversed(range(n)):\n",
    "        if U[j,j] == 0:\n",
    "            raise slsException(1)\n",
    "        else:\n",
    "            x[j] = b[j]/U[j,j]\n",
    "            for i in range(j):\n",
    "                b[i] = b[i] - U[i,j]*x[j]\n",
    "    return x"
   ]
  },
  {
   "cell_type": "code",
   "execution_count": 8,
   "metadata": {},
   "outputs": [
    {
     "name": "stdout",
     "output_type": "stream",
     "text": [
      "[-1.  3. -1.] True\n"
     ]
    }
   ],
   "source": [
    "#Prueba\n",
    "x = STS(U,bu)\n",
    "print(x,np.allclose(U@x,bu))"
   ]
  },
  {
   "cell_type": "markdown",
   "metadata": {},
   "source": [
    "## Sistemas lineales\n",
    "\n",
    "### Eliminación Gaussiana\n",
    "\n",
    "Ahora se considera que $A$ es una matriz de $n\\times n$, $\\pmb{x}$ y $\\pmb{b}$ son vectores columna con $n$ entradas, dando lugar al sistema\n",
    "$$\n",
    "    A = \\begin{pmatrix}\n",
    "        a_{11} & a_{12} & \\cdots & a_{1n}\\\\\n",
    "        a_{21} & a_{22} & \\cdots & a_{2n}\\\\\n",
    "        \\vdots & \\vdots & \\ddots & \\vdots\\\\\n",
    "        a_{n1} & a_{n2} & \\cdots & a_{nn}        \n",
    "     \\end{pmatrix},\\quad\n",
    "     \\pmb{x} = \\begin{pmatrix}\n",
    "         x_{1} \\\\ x_{2} \\\\ \\vdots \\\\ x_{n}\n",
    "     \\end{pmatrix},\\quad\n",
    "     \\pmb{b} = \\begin{pmatrix}\n",
    "         b_{1} \\\\ b_{2} \\\\ \\vdots \\\\ b_{n}\n",
    "     \\end{pmatrix}\n",
    "$$\n",
    "\n",
    "El algoritmo estándar para resolver un sistema de ecuaciones lineales se basa en la eliminación gaussiana con algunas modificaciones.\n",
    "\n",
    "La eliminación gaussiana consiste en el proceso de reducción de filas utiliza operaciones elementales de filas y se puede dividir en dos partes. La primera parte (a veces llamada eliminación hacia adelante) reduce un sistema dado a la forma escalonada por filas, a partir de la cual se puede saber si no hay soluciones, una solución única o infinitas soluciones. La segunda parte consiste en aplicar el algoritmo de sustitución hacia atrás, ya que la primera parte transforma la matriz $A$ en una matriz triangular superior al hacer ceros debajo de la diagonal principal.\n",
    "\n",
    "Algo importante que hay que notar, es que la reducción de filas produce una descomposición de la matriz original. Las operaciones elementales de fila pueden verse como la multiplicación por la izquierda de la matriz original por matrices elementales. Luego, la primera parte del algoritmo calcula una descomposición de $LU$, con $L$ una matriz triangular inferior y $U$ una matriz triangular superior. Esto es, la eliminación gaussiana se puede ver como un procedimiento para factorizar una matriz $A$ en su factorización $LU$, la cual se logra multiplicando por la izquierda a la matriz $A$ por una sucesión de matrices $L_{m-1}\\cdots L_{2} L_{1} A = U$ hasta que $U$ sea una matriz triangular superior y $L$ es una matriz triangular inferior, donde $L \\equiv L_{1}^{- 1} L_{2}^{-1}\\cdots L_{m-1}^{- 1}$.\n",
    "\n",
    "\n",
    "Hay tres tipos de *operaciones elementales de fila* que se pueden realizar sobre las filas de una matriz:\n",
    "\n",
    "1. Intercambiar las posiciones de dos filas.\n",
    "2. Multiplicar una fila por un escalar distinto de cero.\n",
    "3. Agregar a una fila un múltiplo escalar de otra.\n",
    "\n",
    "Si la matriz está asociada a un sistema de ecuaciones lineales, estas operaciones no cambian el conjunto de soluciones. Por lo tanto, si el objetivo es resolver un sistema de ecuaciones lineales, el uso de estas operaciones de fila podría facilitar el problema.\n",
    "\n",
    "#### Ejemplo\n",
    "\n",
    "Supongamos que el objetivo es encontrar y describir el conjunto de soluciones para el siguiente sistema de ecuaciones lineales:\n",
    "\n",
    "$$\n",
    "\\begin{array}{cl}\n",
    "    1x + 2y + 2z = 3 & (\\ell_{1})\\\\\n",
    "    4x + 4y + 2z = 6 &(\\ell_{2})\\\\\n",
    "    4x + 6y + 4z = 10 & (\\ell_{3})\n",
    "\\end{array}\n",
    "$$\n",
    "\n",
    "A continuación mostraremos  el proceso de reducción de filas aplicado simultáneamente al sistema de ecuaciones y su matriz aumentada asociada. En la práctica, no se suele tratar los sistemas en términos de ecuaciones ni de la matriz aumentada, sino que se manipulan directamente los arreglos donde se encuentran almacenados $A$ y $\\pmb{b}$. El procedimiento de reducción de filas puede resumirse de la siguiente manera: eliminar $x$ de todas las ecuaciones por debajo de ($\\ell_{1}$, y luego eliminar $y$ de todas las ecuaciones por debajo de ($\\ell_{2}$). Esto pondrá el sistema en forma triangular superior. Luego, utilizando la sustitución hacia atrás, cada incógnita puede resolverse.\n",
    "\n",
    "* Paso 0\n",
    "$$\n",
    "\\left(\\begin{array}{rrr|r}\n",
    "    1 & 2 & 2 &  3 \\\\\n",
    "    4 & 4 & 2 &  6 \\\\\n",
    "    4 & 6 & 4 & 10\n",
    "\\end{array}\\right)\n",
    "$$\n",
    "\n",
    "* Paso 1\n",
    "    * Hacemos $\\ell_{2} + \\frac{-4}{1}\\ell_{1} \\to \\ell_{2}$\n",
    "    * Hacemos $\\ell_{3} + \\frac{-4}{1}\\ell_{1} \\to \\ell_{3}$\n",
    "$$\n",
    "\\left(\\begin{array}{rrr|r}\n",
    "    1 &  2 &  2 &  3 \\\\\n",
    "    0 & -4 & -6 & -6 \\\\\n",
    "    0 & -2 & -4 & -2\n",
    "\\end{array}\\right)\\quad \\text{entonces}\\quad\n",
    "L_{1} = \\begin{pmatrix}\n",
    "     1 & 0 & 0\\\\\n",
    "    -4 & 1 & 0\\\\\n",
    "    -4 & 0 & 1\n",
    "\\end{pmatrix}\n",
    "$$\n",
    "    \n",
    "* Paso 2    \n",
    "    * Hacemos $\\ell_{3} + \\frac{-(-2)}{-4} \\to \\ell_{3}$    \n",
    "$$\n",
    "\\left(\\begin{array}{rrr|r}\n",
    "    1 &  2 &  2 &  3 \\\\\n",
    "    0 & -4 & -6 & -6 \\\\\n",
    "    0 &  0 & -1 &  1\n",
    "\\end{array}\\right)\\quad \\text{entonces}\\quad\n",
    "L_{2} = \\begin{pmatrix}\n",
    "    1 &            0 & 0\\\\\n",
    "    0 &            1 & 0\\\\\n",
    "    0 & -\\frac{1}{2} & 1\n",
    "\\end{pmatrix}\n",
    "$$\n",
    "\n",
    "De aquí, aplicando sustitución hacia atrás podemos ver que $z = -1$, $y = 3$ y $x = -1$. Además se verifica que $L_{2}L_{1}A = U$ con\n",
    "$$\n",
    "U = \\left(\\begin{array}{rrr}\n",
    "    1 &  2 &  2\\\\\n",
    "    0 & -4 & -6 \\\\\n",
    "    0 &  0 & -1\n",
    "\\end{array}\\right)\n",
    "$$\n",
    "\n",
    "Otro punto importante que se debe notar de las matrices $L_{i}$ $i=1,\\ldots,n-1$ es que son matrices triangulares que tienen unos en la diagonal principal y los únicos elementos diferentes de cero son sus elementos de la  $i$-ésima columna, los cuales son los elementos de la $i$-ésima columna de $A$ por debajo de la diagonal divididos por $-a_{ii}$. Esto es, si $l_{ij}$ denota la entrada $ij$ de la matriz $L$, entonces, para $L_{i}$ con $i$ fijo, $l_{ij} = -a_{ij}/a_{ii}$ para $i>j$. Esto nos da los valores por los cuales debemos multiplicar la fila $i$-ésima de $A$ para hacer ceros dedajo de la diagonal de la $i$-ésima columna.\n",
    "\n",
    "El algoritmo se puede resumir a continuación:\n",
    "1. **Para** $j = 1 \\to n-1$ **hacer**\n",
    "    1. **Si** $a_{jj}==0$ **entonces**\n",
    "        1. **detener**\n",
    "    2. **Si no**\n",
    "        1. **Para** $k = j+1 \\to n$ **hacer**\n",
    "            1. $\\ell_{kj} = -a_{kj}/a_{jj}$\n",
    "            2. **Para** $i = j+1 \\to n$ **hacer**\n",
    "                1. $a_{ki} = a_{ki} + \\ell_{kj}a_{ji}$\n",
    "            3. $b_{k} = b_{k} + \\ell_{kj}b_{j}$\n",
    "2. Resolver el sistema triangular $A\\pmb{x} = \\pmb{b}$\n",
    "3. **Regresar** $\\pmb{x}$"
   ]
  },
  {
   "cell_type": "code",
   "execution_count": 9,
   "metadata": {},
   "outputs": [],
   "source": [
    "# implementacion\n",
    "def Gauss(M,rhs):\n",
    "    A,b = M.copy(),rhs.copy()\n",
    "    m,n = A.shape\n",
    "    if m != n:\n",
    "        raise slsException(0)\n",
    "    for j in range(n-1):\n",
    "        if A[j,j] == 0:\n",
    "            raise slsException(2)\n",
    "        for k in range(j+1,n):\n",
    "            l = -A[k,j]/A[j,j]\n",
    "            for i in range(j+1,n):\n",
    "                A[k,i] = A[k,i] + l*A[j,i]\n",
    "            b[k] = b[k] + l*b[j]\n",
    "    return STS(A,b)"
   ]
  },
  {
   "cell_type": "code",
   "execution_count": 10,
   "metadata": {},
   "outputs": [
    {
     "name": "stdout",
     "output_type": "stream",
     "text": [
      "[-1.  3. -1.] True\n"
     ]
    }
   ],
   "source": [
    "x = Gauss(A,b)\n",
    "print(x,np.allclose(A@x,b))"
   ]
  },
  {
   "cell_type": "markdown",
   "metadata": {},
   "source": [
    "### Factorización LU\n",
    "\n",
    "Se quieren encontrar matrices triangulares $L$ inferior y $U$ superior tales que:\n",
    "\n",
    "$$\n",
    "    LU = \\begin{pmatrix}\n",
    "        1         & 0         & \\cdots & 0     \\\\\n",
    "        \\ell_{21} & 1         & \\cdots & 0     \\\\\n",
    "        \\vdots    & \\vdots    & \\ddots & \\vdots\\\\\n",
    "        \\ell_{n1} & \\ell_{n2} & \\cdots & 1\n",
    "     \\end{pmatrix}\n",
    "     \\begin{pmatrix}\n",
    "        u_{11} & u_{12} & \\cdots & u_{1n}\\\\\n",
    "        0      & u_{22} & \\cdots & u_{2n}\\\\\n",
    "        \\vdots & \\vdots & \\ddots & \\vdots\\\\\n",
    "        0     & 0       & \\cdots & u_{nn}        \n",
    "     \\end{pmatrix} = \n",
    "     \\begin{pmatrix}\n",
    "        a_{11} & a_{12} & \\cdots & a_{1n}\\\\\n",
    "        a_{21} & a_{22} & \\cdots & a_{2n}\\\\\n",
    "        \\vdots & \\vdots & \\ddots & \\vdots\\\\\n",
    "        a_{n1} & a_{n2} & \\cdots & a_{nn}        \n",
    "     \\end{pmatrix} = A\n",
    "$$\n",
    "\n",
    "El primer algoritmo para encontrar la descomposición se basa en garantizar que el producto de las matrices $L$ y $U$ es $A$. Sea $M$ una matriz, se denotará por $M_{[k]}$ a la k-esima fila de $M$ y $M^{[k]}$ la k-ésima columna de $M$. Primero observe que la primera fila de $A$ se obtiene al multiplicar la primera fila de $L$ por $U$, esto es,\n",
    "\n",
    "$$\n",
    "    L_{[1]}U = A_{[1]}\n",
    "$$\n",
    "\n",
    "pero, dado que solo $\\ell_{11} = 1$ y $\\ell_{1j} = 0$ para $1 < j < n$, $L_{[1]}U = U_{[1]}$, por tanto\n",
    "\n",
    "$$\n",
    "    U_{[1]} = A_{[1]}\n",
    "$$\n",
    "\n",
    "Una vez determinada la primera fila de $U$, se puede proceder a determinar la primera columna de $L$, esto ya que\n",
    "\n",
    "$$\n",
    "    LU^{[1]} = A^{[1]}\n",
    "$$\n",
    "\n",
    "pero, dado que solo $u_{11} \\neq 0$ y $u_{j1} = 0$ para $1 < j < n$, $LU^{[1]} = u_{11}L^{[1]}$, por tanto\n",
    "\n",
    "$$\n",
    "    L^{[1]} = \\frac{1}{u_{11}}A^{[1]}\n",
    "$$\n",
    "\n",
    "En el paso dos se puede determinar de manera análoga la segunda fila de $U$ al considerar que $L_{[2]}U = A_{[2]}$ y la segunda columna de $L$ al considerar que $LU^{[2]} = A^{[2]}$ se tiene que\n",
    "\n",
    "$$\n",
    "    U_{[2]} = A_{[2]} - \\ell_{21}U_{[1]}\\quad\\text{y}\\quad L^{[2]} = \\frac{1}{u_{22}}(A^{[2]} - u_{12}L^{[1]})\n",
    "$$\n",
    "\n",
    "Así, en la $j$-ésima iteración al considerar que $L_{[j]}U = A_{[j]}$ y que $LU^{[j]} = A^{[j]}$ se tiene que\n",
    "\n",
    "$$\n",
    "    U_{[j]} = A_{[j]} - \\sum_{i=1}^{j-1}\\ell_{ji}U_{[i]}\\quad\\text{y}\\quad L^{[j]} = \\frac{1}{u_{jj}}\\left(A^{[j]} - \\sum_{i=1}^{j-1}u_{ij}L^{[i]}\\right)\n",
    "$$\n",
    "\n",
    "para $1\\leq j \\leq n$.\n",
    "\n",
    "Considerando que hay entradas cero el algoritmo queda de la siguiente manera\n",
    "\n",
    "***Método de Doolittle***\n",
    "1. **Para** $j = 1 \\to n$ **hacer**\n",
    "    1. **Para** $k = j \\to n$ **hacer**\n",
    "        1. $u_{jk} = a_{jk} - \\displaystyle\\sum_{i=1}^{j-1}\\ell_{ji}u_{ik}$\n",
    "    2. $\\ell_{jj} = 1$\n",
    "    3. **Para** $k = j+1 \\to n$ **hacer**\n",
    "        1. $\\ell_{kj} = \\dfrac{1}{u_{jj}}\\left(a_{kj} - \\displaystyle\\sum_{i=1}^{j-1}\\ell_{ki}u_{ij}\\right)$\n",
    "2. **Regresar** $L$ y $U$"
   ]
  },
  {
   "cell_type": "code",
   "execution_count": 11,
   "metadata": {},
   "outputs": [],
   "source": [
    "# Implementacion\n",
    "def flu(A):\n",
    "    m,n = A.shape\n",
    "    if m!= n:\n",
    "        raise slsException(0)\n",
    "    L,U = np.eye(n),np.zeros((n,n))\n",
    "    for j in range(n):\n",
    "        for k in range(j,n):\n",
    "            s = 0\n",
    "            for i in range(j):\n",
    "                s += L[j,i]*U[i,k]\n",
    "            U[j,k] = A[j,k] - s\n",
    "        for k in range(j+1,n):\n",
    "            s = 0\n",
    "            for i in range(j):\n",
    "                s += L[k,i]*U[i,j]\n",
    "            L[k,j] = (A[k,j] - s)/U[j,j]\n",
    "    return L,U"
   ]
  },
  {
   "cell_type": "code",
   "execution_count": 12,
   "metadata": {},
   "outputs": [
    {
     "name": "stdout",
     "output_type": "stream",
     "text": [
      "[[1. 2. 2.]\n",
      " [4. 4. 2.]\n",
      " [4. 6. 4.]] True\n"
     ]
    }
   ],
   "source": [
    "L,U = flu(A);\n",
    "print(L@U,np.allclose(L@U,A))"
   ]
  },
  {
   "cell_type": "code",
   "execution_count": 13,
   "metadata": {},
   "outputs": [
    {
     "name": "stdout",
     "output_type": "stream",
     "text": [
      "[[1.  0.  0. ]\n",
      " [4.  1.  0. ]\n",
      " [4.  0.5 1. ]]\n",
      "\n",
      "[[ 1.  2.  2.]\n",
      " [ 0. -4. -6.]\n",
      " [ 0.  0. -1.]]\n"
     ]
    }
   ],
   "source": [
    "print(L,U,sep=\"\\n\\n\")"
   ]
  },
  {
   "cell_type": "markdown",
   "metadata": {},
   "source": [
    "En este caso sólo es necesario ver que pasa en cada iteración del algoritmo anterior y comparar con las operaciones realizadas en el método de Gauss, ya que al final de ese proceso obtenemos la matriz triangular superior $U$. Definamos \n",
    "$$\n",
    "    \\begin{array}{cl}\n",
    "        a_{ij}^{(1)} = a_{ij} & i,j = 1,\\ldots,n\\\\\n",
    "        a_{ij}^{(k+1)} = a_{ij}^{(k)} - \\ell_{ik}a_{kj}^{(k)} & k \\geq 1,\\,1\\leq i,j \\leq n-k\\\\\n",
    "    \\end{array}\n",
    "$$\n",
    "donde $\\ell_{ik}$ está dada por el método de Doolittle, esto es,\n",
    "$$\n",
    "\\ell_{ik} = \\dfrac{1}{u_{kk}}\\left(a_{ik} - \\displaystyle\\sum_{j=1}^{i-1}\\ell_{kj}u_{jk}\\right)\n",
    "$$\n",
    "Entonces de acuerdo con el algoritmo de la factorización LU, los elementos de la primera fila de $U$ y de la primera columna de $L$ están dados por \n",
    "$$\n",
    "    u_{1j} = a_{1j}^{(1)},\\quad \\ell_{i1} = \\frac{a_{i1}^{(1)}}{a_{11}^{(1)}}\n",
    "$$\n",
    "\n",
    "Para la iteración 2, se tiene que\n",
    "$$\n",
    "    \\begin{array}{c}\n",
    "        u_{2j} = a_{2j} - \\ell_{21}u_{1j} = a_{2j}^{(1)} - \\ell_{21}a_{1j}^{(1)} = a_{2j}^{(2)}\\\\\n",
    "        \\ell_{i2} = \\dfrac{a_{i2} - \\ell_{i1}u_{12}}{u_{22}} = \\dfrac{a_{i2}^{(1)} - \\ell_{i1}a_{12}^{(1)}}{a_{22}^{(2)}} = \\dfrac{a_{i2}^{(2)}}{a_{22}^{(2)}}\n",
    "    \\end{array}\n",
    "$$\n",
    "\n",
    "Para la iteración 3, se tiene que\n",
    "$$\n",
    "    \\begin{array}{c}\n",
    "        u_{3j} = a_{3j} - \\ell_{31}u_{1j} - \\ell_{32}u_{2j} = a_{3j}^{(1)} - \\ell_{31}a_{1j}^{(1)} - \\ell_{32}a_{2j}^{(2)} = a_{3j}^{(2)} - \\ell_{32}a_{2j}^{(2)} = a_{3j}^{(3)}\\\\\n",
    "        \\ell_{i3} = \\dfrac{a_{i3} - \\ell_{i1}u_{13} - \\ell_{i2}u_{23}}{u_{33}} = \\dfrac{a_{i3}^{(1)} - \\ell_{i1}a_{13}^{(1)} - \\ell_{i2}a_{23}^{(2)}}{a_{33}^{(3)}} = \\dfrac{a_{i3}^{(2)} - \\ell_{i2}a_{23}^{(2)}}{a_{33}^{(3)}} = \\dfrac{a_{i3}^{(3)}}{a_{33}^{(3)}}\n",
    "    \\end{array}\n",
    "$$\n",
    "\n",
    "Si se continua de esta manera, se tiene que\n",
    "$$\n",
    "    u_{ij} = a_{ij}^{(i)},\\quad i\\leq j,\\qquad \\ell_{ij} = \\dfrac{a_{ij}^{(j)}}{a_{jj}^{(j)}}\\quad i>j\n",
    "$$\n",
    "\n",
    "Como se mencionó al principio, la matriz $U$ es la matriz triangular que se obtiene de aplicar el método de Gauss, mientras que $L$ es la matriz formada por los elementos que se utilizan para hacer ceros debajo de la columna."
   ]
  },
  {
   "cell_type": "code",
   "execution_count": 14,
   "metadata": {},
   "outputs": [],
   "source": [
    "def lu(M):    \n",
    "    m,n = M.shape\n",
    "    if m != n:\n",
    "        raise slsException(0)\n",
    "    U,L = M.copy(),np.eye(n)\n",
    "    for j in range(n-1):\n",
    "        if U[j,j] == 0:\n",
    "            raise slsException(2)        \n",
    "        for k in range(j+1,n):\n",
    "            L[k,j] = U[k,j]/U[j,j]\n",
    "            for i in range(j+1,n):\n",
    "                U[k,i] = U[k,i] - L[k,j]*U[j,i]\n",
    "        U[j+1:,j] = 0\n",
    "    return L,U"
   ]
  },
  {
   "cell_type": "code",
   "execution_count": 15,
   "metadata": {},
   "outputs": [
    {
     "name": "stdout",
     "output_type": "stream",
     "text": [
      "[[1. 2. 2.]\n",
      " [4. 4. 2.]\n",
      " [4. 6. 4.]] True\n"
     ]
    }
   ],
   "source": [
    "L,U = lu(A);\n",
    "print(L@U,np.allclose(L@U,A))"
   ]
  },
  {
   "cell_type": "code",
   "execution_count": 16,
   "metadata": {},
   "outputs": [
    {
     "name": "stdout",
     "output_type": "stream",
     "text": [
      "[[1.  0.  0. ]\n",
      " [4.  1.  0. ]\n",
      " [4.  0.5 1. ]]\n",
      "\n",
      "[[ 1  2  2]\n",
      " [ 0 -4 -6]\n",
      " [ 0  0 -1]]\n"
     ]
    }
   ],
   "source": [
    "print(L,U,sep = \"\\n\\n\")"
   ]
  },
  {
   "cell_type": "markdown",
   "metadata": {},
   "source": [
    "### Sistemas tridiagonales\n",
    "\n",
    "Se quieren encontrar matrices triangulares $L$ inferior y $U$ superior tales que:\n",
    "\n",
    "$$\n",
    "    \\underset{L}{\\underbrace{\\begin{pmatrix}\n",
    "        1         & 0         & 0      & \\cdots & 0            & 0     \\\\\n",
    "        \\ell_{21} & 1         & 0      & \\cdots & 0            & 0     \\\\\n",
    "        0         & \\ell_{32} & 1      & \\cdots & 0            & 0     \\\\\n",
    "        \\vdots    & \\vdots    & \\vdots & \\ddots & \\vdots       & \\vdots\\\\\n",
    "        0         & 0         & 0      & \\cdots & 1            & 0     \\\\\n",
    "        0         & 0         & 0      & \\cdots & \\ell_{n,n-1} & 1     \\\\\n",
    "     \\end{pmatrix}}}\n",
    "     \\underset{U}{\\underbrace{\\begin{pmatrix}\n",
    "        u_{11} & u_{12} & 0      & 0      & \\cdots & 0           & 0     \\\\\n",
    "        0      & u_{22} & u_{23} & 0      & \\cdots & 0           & 0     \\\\\n",
    "        0      & 0      & u_{33} & u_{34} & \\cdots & 0           & 0     \\\\\n",
    "        \\vdots & \\vdots & \\vdots & \\vdots & \\ddots & \\vdots      & \\vdots\\\\\n",
    "        0      & 0      & 0      & 0      & \\cdots & u_{n-1,n-1} & u_{n-1,n}\\\\\n",
    "        0      & 0      & 0      & 0      & \\cdots & 0           & u_{nn}\\\\\n",
    "     \\end{pmatrix}}} = \n",
    "     \\underset{A}{\\underbrace{\\begin{pmatrix}\n",
    "        a_{11} & a_{12} & 0      & 0      & \\cdots & 0           & 0        \\\\\n",
    "        a_{21} & a_{22} & a_{23} & 0      & \\cdots & 0           & 0        \\\\\n",
    "        0      & a_{32} & a_{33} & a_{34} & \\cdots & 0           & 0        \\\\\n",
    "        \\vdots & \\vdots & \\vdots & \\vdots & \\ddots & \\vdots      & \\vdots   \\\\\n",
    "        0      & 0      & 0      & 0      & \\cdots & a_{n-1,n-1} & a_{n-1,n}\\\\\n",
    "        0      & 0      & 0      & 0      & \\cdots & a_{n,n-1}   & a_{nn}   \\\\\n",
    "     \\end{pmatrix}}}\n",
    "$$\n",
    "\n",
    "Procediendo de la misma manera que antes en la factorización LU, se tiene que $L_{[1]}U = A_{[1]}$, por tanto\n",
    "$$\n",
    "    u_{11} = a_{11}\\quad\\text{y}\\quad u_{12} = a_{12}\n",
    "$$\n",
    "y al hacer $LU^{[1]} = A^{[1]}$ se tiene que,\n",
    "$$\n",
    "    \\ell_{21} = \\frac{a_{21}}{u_{11}}\n",
    "$$\n",
    "\n",
    "En el paso dos se puede determinar de manera análoga la segunda fila de $U$ al considerar que $L_{[2]}U = A_{[2]}$ y la segunda columna de $L$ al considerar que $LU^{[2]} = A^{[2]}$ se tiene que\n",
    "\n",
    "$$\n",
    "    U_{[2]} = A_{[2]} - \\ell_{21}U_{[1]}\\quad\\text{y}\\quad L^{[2]} = \\frac{1}{u_{22}}(A^{[2]} - u_{12}L^{[1]})\n",
    "$$\n",
    "que al considerar las entradas diferentes de cero implica que\n",
    "$$\n",
    "    u_{22} = a_{22} - \\ell_{21}u_{12},\\quad u_{23} = a_{23}\\quad\\text{y}\\quad\\ell_{32} = \\frac{a_{32}}{u_{22}}\n",
    "$$\n",
    "\n",
    "Así, en la $j$-ésima iteración al considerar que $L_{[j]}U = A_{[j]}$ y que $LU^{[j]} = A^{[j]}$ se tiene que\n",
    "\n",
    "$$\n",
    "    U_{[j]} = A_{[j]} - \\sum_{i=1}^{j-1}\\ell_{ji}U_{[i]}\\quad\\text{y}\\quad L^{[j]} = \\frac{1}{u_{jj}}\\left(A^{[j]} - \\sum_{i=1}^{j-1}u_{ij}L^{[i]}\\right)\n",
    "$$\n",
    "\n",
    "para $1 < j < n$. Restringiendose a las entradas distintas de cero se tendría que\n",
    "$$\n",
    "    u_{jj} = a_{jj} - \\ell_{j,j-1}u_{j-1,j},\\quad u_{j,j+1} = a_{j,j+1}\\quad\\text{y}\\quad\\ell_{j+1,j} = \\frac{a_{j+1,j}}{u_{jj}}\n",
    "$$\n",
    "\n",
    "Observando que $u_{11} = a_{11}$, $u_{j,j+1} = a_{j,j+1}$ para $1<j \\leq n$ y reordenando las ecuaciones, se tiene que\n",
    "$$\n",
    "    \\ell_{j,j-1} = \\frac{a_{j,j-1}}{u_{j-1,j-1}}\\quad\\text{y}\\quad u_{jj} = a_{jj} - \\ell_{j,j-1}u_{j-1,j}\n",
    "$$\n",
    "para $1 < j \\leq n$.\n",
    "\n",
    "Dado que la información sólo se encuentra en la diagonal principal y en las diagonales que están arriba y abajo, entonces para ahorrar espacio se puede guardar esta información en tres vectores. Sean $\\pmb{d}\\in\\mathbb{R}^{n}$ y $\\pmb{e},\\pmb{f}\\in\\mathbb{R}^{n-1}$ tales que\n",
    "\n",
    "$$\n",
    "    d_{j} = a_{jj} \\quad 1\\leq j \\leq n,\n",
    "$$\n",
    "$$\n",
    "    e_{j-1} = a_{j,j-1}\\quad 1< j \\leq n\n",
    "$$\n",
    "y\n",
    "$$\n",
    "    f_{j} = a_{j,j+1}\\quad1\\leq j < n\n",
    "$$\n",
    "de esta manera la diagonal debajo de la diagonal principal de $L$ y la diagonal principal de $U$ se pueden guardar en un vector $\\pmb{l}\\in\\mathbb{R}^{n-1}$ y $\\pmb{u}\\in\\mathbb{R}^{n}$, respectivamente, donde sus entradas se pueden calcular como:\n",
    "$$\n",
    "    l_{j-1} = \\frac{e_{j-1}}{u_{j-1}}\\quad\\text{y}\\quad u_{j} = d_{j} - l_{j-1}f_{j-1}\n",
    "$$\n",
    "para $1 < j\\leq n$, y tomando $u_{1} = d_{1}$.\n",
    "\n",
    "Considerando estás últimas ecuaciones el algoritmo queda de la siguiente manera:\n",
    "\n",
    "1. **Para** $j = 1 \\to n$ **hacer**\n",
    "    1. $l_{j-1} = \\frac{e_{j-1}}{u_{j-1}}$\n",
    "    2. $u_{j} = d_{j} - l_{j-1}f_{j-1}$\n",
    "2. **Regresar** $\\pmb{l}$ y $\\pmb{u}$"
   ]
  },
  {
   "cell_type": "code",
   "execution_count": 17,
   "metadata": {},
   "outputs": [],
   "source": [
    "# Implementacion\n",
    "def triDiaglu(d,e,f):\n",
    "    n = d.size\n",
    "    l = np.zeros((n-1,),dtype = \"float64\")\n",
    "    u = np.array(d,copy = True,dtype = \"float64\")\n",
    "    for j in range(1,n):\n",
    "        l[j-1] = e[j-1]/u[j-1]\n",
    "        u[j] = d[j] - l[j-1]*f[j-1]\n",
    "    return l,u"
   ]
  },
  {
   "cell_type": "code",
   "execution_count": 18,
   "metadata": {},
   "outputs": [
    {
     "name": "stdout",
     "output_type": "stream",
     "text": [
      "[[ 2. -1.  0.  0.]\n",
      " [-1.  2. -1.  0.]\n",
      " [ 0. -1.  2. -1.]\n",
      " [ 0.  0. -1.  2.]]\n",
      "\n",
      "[1. 0. 0. 1.]\n"
     ]
    }
   ],
   "source": [
    "# Ejemplo\n",
    "n = 4\n",
    "d = 2*np.ones((n,),dtype=\"float64\")\n",
    "e = -1*np.ones((n-1,),dtype=\"float64\")\n",
    "f = e.copy()\n",
    "M = np.diagflat(d) + np.diagflat(e,-1) + np.diagflat(e,1)\n",
    "b = np.zeros((n,),dtype=\"float64\")\n",
    "b[0] = b[-1] = 1.\n",
    "print(M,b,sep=\"\\n\\n\")"
   ]
  },
  {
   "cell_type": "code",
   "execution_count": 19,
   "metadata": {},
   "outputs": [
    {
     "name": "stdout",
     "output_type": "stream",
     "text": [
      "[[ 1.          0.          0.          0.        ]\n",
      " [-0.5         1.          0.          0.        ]\n",
      " [ 0.         -0.66666667  1.          0.        ]\n",
      " [ 0.          0.         -0.75        1.        ]]\n",
      "\n",
      "[[ 2.         -1.          0.          0.        ]\n",
      " [ 0.          1.5        -1.          0.        ]\n",
      " [ 0.          0.          1.33333333 -1.        ]\n",
      " [ 0.          0.          0.          1.25      ]]\n",
      "\n",
      "[[ 2. -1.  0.  0.]\n",
      " [-1.  2. -1.  0.]\n",
      " [ 0. -1.  2. -1.]\n",
      " [ 0.  0. -1.  2.]]\n",
      "\n",
      "True\n"
     ]
    }
   ],
   "source": [
    "l,u = triDiaglu(d,e,f)\n",
    "L = np.eye(n) + np.diagflat(l,-1)\n",
    "U = np.diagflat(u) + np.diagflat(f,1)\n",
    "print(L,U,L@U,np.allclose(L@U,M),sep=\"\\n\\n\")"
   ]
  },
  {
   "cell_type": "markdown",
   "metadata": {},
   "source": [
    "Dado que tenemos la factorización $LU$ de la matriz tridiagonal $A$, tenemos que resolver los sistemas\n",
    "$$\n",
    "    L\\pmb{y} = \\pmb{b}\\quad\\text{y}\\quad U\\pmb{x} = \\pmb{y}\n",
    "$$\n",
    "para tener la solución del sistema $A\\pmb{x} = \\pmb{b}$. Dadas las caracteristicas de las matrices $L$ y $U$, se tiene que, usando sustitución hacia adelante\n",
    "\n",
    "$$\n",
    "    y_{1} = b_{1}\\quad\\text{y}\\quad y_{j} = b_{j} - l_{j-1}y_{j-1}\\quad\\text{para }1<j\\leq n\n",
    "$$\n",
    "\n",
    "y posteriormente, usando sustitución hacia atrás\n",
    "\n",
    "$$\n",
    "    x_{n} = \\dfrac{y_{n}}{u_{n}}\\quad\\text{y}\\quad x_{j} = \\dfrac{y_{j} - f_{j}x_{j+1}}{u_{j}}\\quad\\text{para }1\\leq j< n\n",
    "$$"
   ]
  },
  {
   "cell_type": "code",
   "execution_count": 20,
   "metadata": {},
   "outputs": [],
   "source": [
    "def triDiagluSol(d,e,f,b):\n",
    "    n = d.size\n",
    "    l = np.zeros((n-1,),dtype = \"float64\")\n",
    "    u = np.array(d,copy = True,dtype = \"float64\")\n",
    "    for j in range(1,n):\n",
    "        l[j-1] = e[j-1]/u[j-1]\n",
    "        u[j] = d[j] - l[j-1]*f[j-1]\n",
    "    l = np.append(b[0],l)\n",
    "    for j in range(1,n):\n",
    "        l[j] = b[j] - l[j-1]*l[j]\n",
    "    u[-1] = l[-1]/u[-1]\n",
    "    for j in reversed(range(n-1)):\n",
    "        u[j] = (l[j] - f[j]*u[j+1])/u[j]\n",
    "    return u"
   ]
  },
  {
   "cell_type": "code",
   "execution_count": 21,
   "metadata": {},
   "outputs": [
    {
     "name": "stdout",
     "output_type": "stream",
     "text": [
      "[1. 1. 1. 1.]\n",
      "\n",
      "True\n"
     ]
    }
   ],
   "source": [
    "x = triDiagluSol(d,e,f,b)\n",
    "print(x,np.allclose(M@x,b), sep = \"\\n\\n\")"
   ]
  }
 ],
 "metadata": {
  "kernelspec": {
   "display_name": "Python 3",
   "language": "python",
   "name": "python3"
  },
  "language_info": {
   "codemirror_mode": {
    "name": "ipython",
    "version": 3
   },
   "file_extension": ".py",
   "mimetype": "text/x-python",
   "name": "python",
   "nbconvert_exporter": "python",
   "pygments_lexer": "ipython3",
   "version": "3.8.5"
  }
 },
 "nbformat": 4,
 "nbformat_minor": 4
}
