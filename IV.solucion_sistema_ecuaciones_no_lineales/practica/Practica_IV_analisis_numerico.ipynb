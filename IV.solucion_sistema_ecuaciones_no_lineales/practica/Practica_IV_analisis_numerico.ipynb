{
  "nbformat": 4,
  "nbformat_minor": 0,
  "metadata": {
    "colab": {
      "name": "Copia de Práctica IV análisis numérico.ipynb",
      "provenance": [],
      "collapsed_sections": []
    },
    "kernelspec": {
      "name": "python3",
      "display_name": "Python 3"
    },
    "language_info": {
      "name": "python"
    }
  },
  "cells": [
    {
      "cell_type": "markdown",
      "source": [
        "# Práctica IV\n",
        "## Solución a sistemas de ecuaciones no lineales\n",
        "### Ceros de funciones\n",
        "###### Integrantes: \n",
        "- López Espíndola Luis Enrique\n",
        "\n",
        "- Mucio Alvarez Santos\n",
        "\n",
        "- Muñiz Lescale Marco Aurelio\n",
        "\n",
        "- Reynoso Sánchez Arturo Yitzack"
      ],
      "metadata": {
        "id": "ZOIl3_LJ_Tf0"
      }
    },
    {
      "cell_type": "markdown",
      "source": [
        "# Ejercicios computacionales"
      ],
      "metadata": {
        "id": "PzaQFkfVYemQ"
      }
    },
    {
      "cell_type": "code",
      "source": [
        "# Funciones auxiliares y módulos requeridos.\n",
        "import numpy as np\n",
        "from typing import Callable  # Para el método de Regla Falsa\n",
        "import math\n",
        "\n",
        "# Se usa en el algoritmo de Factorización LU\n",
        "class sslException(Exception):\n",
        "    \n",
        "    def __init__(self,valor):\n",
        "        self.valor = str(valor)\n",
        "        \n",
        "    def __str__(self):\n",
        "        errores = {\"0\":\"Las dimensiones son diferentes. La matriz debe ser cuadrada.\",\n",
        "                  \"1\":\"Los elementos de la diagonal son cero. La matriz no es invertible.\",\n",
        "                  \"2\":\"Los elementos de la diagonal son cero.\",\n",
        "                  \"3\":\"Los elementos de la diagonal deben ser positivos.\"}\n",
        "        if self.valor in errores:\n",
        "            return f\"Error {self.valor}. {errores[self.valor]}\"\n",
        "        else:\n",
        "            return \"Error no clasificado\"\n",
        "\n",
        "\n",
        "## Solvers for linear equations\n",
        "# Sistema triangular inferior\n",
        "def STI(L,rhs):\n",
        "    m,n = L.shape\n",
        "    if m != n:\n",
        "        raise sslException(0)\n",
        "    b = rhs.copy()\n",
        "    x = np.empty((n,),dtype = \"float64\")\n",
        "    for j in range(n):\n",
        "        if L[j,j] == 0:\n",
        "             raise sslException(1)\n",
        "        x[j] = b[j]/L[j,j]\n",
        "        for i in range(j+1,n):\n",
        "            b[i] = b[i] - L[i,j]*x[j]\n",
        "    return x\n",
        "\n",
        "# Sistema triangular superior\n",
        "def STS(U,rhs):\n",
        "    m,n = U.shape\n",
        "    if m != n:\n",
        "        raise sslException(0)\n",
        "    b = rhs.copy()\n",
        "    x = np.zeros(b.shape,dtype = \"float64\")\n",
        "    for j in reversed(range(n)):\n",
        "        if U[j,j] == 0:\n",
        "            raise sslException(1)\n",
        "        else:\n",
        "            x[j] = b[j]/U[j,j]\n",
        "            for i in range(j):\n",
        "                b[i] = b[i] - U[i,j]*x[j]\n",
        "    return x\n",
        "\n",
        "# Factorización LU sin pivoteo\n",
        "def lu(M):    \n",
        "    m,n = M.shape\n",
        "    if m != n:\n",
        "        raise sslException(0)\n",
        "    U,L = M.copy(),np.eye(n)\n",
        "    for j in range(n-1):\n",
        "        if U[j,j] == 0:\n",
        "            raise sslException(2)        \n",
        "        for k in range(j+1,n):\n",
        "            L[k,j] = U[k,j]/U[j,j]\n",
        "            for i in range(j+1,n):\n",
        "                U[k,i] = U[k,i] - L[k,j]*U[j,i]\n",
        "        U[j+1:,j] = 0\n",
        "    return L,U\n",
        "\n"
      ],
      "metadata": {
        "id": "c7B2N3iLhM-y"
      },
      "execution_count": null,
      "outputs": []
    },
    {
      "cell_type": "markdown",
      "source": [
        "# <FONT COLOR=\"blue\">Ejercicio 1</FONT>\n",
        " Programar métodos de \n",
        "\n",
        "a) Bisección.\n",
        "\n",
        "b) Secante.\n",
        "\n",
        "c) Newton.\n",
        "\n",
        "d) Regla Falsa.\n",
        "\n",
        "Para cada caso, pedir los datos entrada correspondientes: función punto(s) inicial(es), tolerancia, etc. Devolver la raíz si la encuentra, si no desplegar el mensaje donde se diga qu ́e ocurrió. Entregar\n",
        "los códigos de cada método."
      ],
      "metadata": {
        "id": "R6ffAQKP_qCO"
      }
    },
    {
      "cell_type": "markdown",
      "source": [
        "#### a) Bisección"
      ],
      "metadata": {
        "id": "EqxvwyHpiRTa"
      }
    },
    {
      "cell_type": "code",
      "execution_count": null,
      "metadata": {
        "colab": {
          "base_uri": "https://localhost:8080/"
        },
        "id": "_Bzb6e3B9e95",
        "outputId": "11dc851f-8337-4bae-ecbb-9183eddb1a35"
      },
      "outputs": [
        {
          "output_type": "stream",
          "name": "stdout",
          "text": [
            "La raíz con el método de la bisección es: 0.9996337890625\n"
          ]
        }
      ],
      "source": [
        "# Bisección\n",
        "import numpy as np\n",
        "def biseccion(f,Tol,N,a,b):\n",
        "  '''Esta funcion implementa el metodo de la biseccion\n",
        "  para encontrar la raiz de una funcion.\n",
        "  f:   funcion de la cual se busca la raiz\n",
        "  Tol: tolerancia del error numerico\n",
        "  N:   numero maximo de iteraciones\n",
        "  a:   limite inferior del rango inicial\n",
        "  b:   limite superior del rango inicial\n",
        "  '''\n",
        "  # Se estable los puntos iniciales\n",
        "  fa, fb = f(a), f(b)\n",
        "  #no hay un cambio de signo (teorema del valor medio)\n",
        "  #no existe raiz en el intervalo [a,b]\n",
        "  if fa*fb>0:\n",
        "    print (\"no hay raiz en [a,b]\")\n",
        "    return\n",
        "  #contador de iteraciones    \n",
        "  n=1\n",
        "  x0=0.0\n",
        "  #mientras no se exceda el numero de iteraciones\n",
        "  while n<=N:\n",
        "    #se busca la raiz en el punto medio\n",
        "    x1=(a+b)/2.0\n",
        "    fx=f(x1)\n",
        "    #en caso de que la iteracion siguiente y la diferencia\n",
        "    #entre la iteracion anterior no excedan Tol, entonces\n",
        "    #la iteracion actual se aproxima a la solucion buscada\n",
        "    if abs(f(x1)) <= Tol and abs(x1-x0) <= Tol:\n",
        "      return x1\n",
        "    #en caso de no cumplir el criterio de tolerancia\n",
        "    #se actualiza el rango de busqueda\n",
        "    if (fa*fx <0.0):\n",
        "      b=x1 \n",
        "    if (fx*fa >0.0):      \n",
        "      a=x1\n",
        "    x0=x1\n",
        "    #se incrementa el contador de iteraciones\n",
        "    n=n+1\n",
        "\n",
        "\n",
        "def f(x):\n",
        "  return (x**2)-1\n",
        "\n",
        "raiz = biseccion(f,0.001,1000,-0.5,2)\n",
        "print(\"La raíz con el método de la bisección es:\", raiz)"
      ]
    },
    {
      "cell_type": "markdown",
      "source": [
        "#### B) Secante"
      ],
      "metadata": {
        "id": "xtBs6enViZqu"
      }
    },
    {
      "cell_type": "code",
      "source": [
        "def secante(f,x0,x1,tol = 1e-8, maxiter = 500):\n",
        "    \"\"\"Busca un cero de la funcion f mediante el metodo de la secante\n",
        "    - Entrada >\n",
        "      f (function)    - Funcion de la cual se quiere conocer su raiz.\n",
        "      x0 (float)      - Primera aproximación.\n",
        "      x1 (float)      - Segunda aproximación.\n",
        "      tol (float)     - Opcional. Tolerancia para la diferencia entre dos aproximaciones.\n",
        "      maxiter (float) - Opcional. Numero maximo de iteraciones.\n",
        "    \n",
        "    - Salida >\n",
        "      cero (float) - Valor aproximado de un cero .\n",
        "      it (int)     - Número de iteraciones que le toma al metodo encontrar un cero.\n",
        "    \"\"\"\n",
        "    it = 0\n",
        "    while abs(x0 - x1) > tol and it < maxiter:\n",
        "        try:\n",
        "            x0,x1 = x1,x0 - f(x0)*(x1-x0)/(f(x1)-f(x0))\n",
        "        except ZeroDivisionError:\n",
        "            print('La recta secante no tiene interseccion con el eje x')\n",
        "            return None\n",
        "        it += 1\n",
        "    return x1,it"
      ],
      "metadata": {
        "id": "FuDyc1_hiYCd"
      },
      "execution_count": null,
      "outputs": []
    },
    {
      "cell_type": "markdown",
      "source": [
        "#### C) Newton"
      ],
      "metadata": {
        "id": "hU-stXAqit30"
      }
    },
    {
      "cell_type": "code",
      "source": [
        "def newton(f,x,tol = 1e-8, maxiter = 500):\n",
        "    \"\"\"Busca un cero de la funcion f mediante el metodo de Newton\n",
        "    - Entrada >\n",
        "      f (function)    - Funcion de la cual se quiere conocer su raiz.\n",
        "      x (float)       - Punto inicial.\n",
        "      tol (float)     - Opcional. Tolerancia para la diferencia entre dos aproximaciones.\n",
        "      maxiter (float) - Opcional. Numero maximo de iteraciones.\n",
        "    \n",
        "    - Salida >\n",
        "      cero (float) - Valor aproximado de un cero .\n",
        "      it (int)     - Número de iteraciones que le toma al metodo encontrar un cero.\n",
        "    \"\"\"\n",
        "    it,h = 0,1\n",
        "    # Se calcula el cero mediante Newton\n",
        "    while abs(h) > tol and it < maxiter:\n",
        "        try:\n",
        "            h = f(x)/derivada(f,x)\n",
        "        except ZeroDivisionError:\n",
        "            print(f'La derivada de la función en {x} es cero')\n",
        "            return None\n",
        "        cero = x - h\n",
        "        x = cero\n",
        "        it += 1\n",
        "    return cero,it"
      ],
      "metadata": {
        "id": "zC9NfgDAiwOs"
      },
      "execution_count": null,
      "outputs": []
    },
    {
      "cell_type": "code",
      "source": [
        "## Derivada numerica\n",
        "def derivada(f, x, tol):\n",
        "    return (f(x+tol)-f(x))/(tol)\n",
        "\n",
        "def newton(f,x,tol = 1e-5, maxiter = 500):\n",
        "    \"\"\"Busca un cero de la funcion f mediante el metodo de Newton\n",
        "    - Entrada >\n",
        "      f (function)    - Funcion de la cual se quiere conocer su raiz.\n",
        "      x (float)       - Punto inicial.\n",
        "      tol (float)     - Opcional. Tolerancia para la diferencia entre dos aproximaciones.\n",
        "      maxiter (float) - Opcional. Numero maximo de iteraciones.\n",
        "    \n",
        "    - Salida >\n",
        "      cero (float) - Valor aproximado de un cero .\n",
        "      it (int)     - Número de iteraciones que le toma al metodo encontrar un cero.\n",
        "    \"\"\"\n",
        "    it,h = 0,1\n",
        "    # Se calcula el cero mediante Newton\n",
        "    while abs(h) > tol and it < maxiter:\n",
        "        try:\n",
        "            h = f(x)/derivada(f,x,tol)\n",
        "        except ZeroDivisionError:\n",
        "            print(f'La derivada de la función en {x} es cero')\n",
        "            return None\n",
        "        cero = x - h\n",
        "        x = cero\n",
        "        it += 1\n",
        "    return cero,it"
      ],
      "metadata": {
        "id": "D3hGN0DAqO4x"
      },
      "execution_count": null,
      "outputs": []
    },
    {
      "cell_type": "markdown",
      "source": [
        "#### d) Regla Falsa"
      ],
      "metadata": {
        "id": "eGUKbS3dKTXl"
      }
    },
    {
      "cell_type": "code",
      "source": [
        "import math\n",
        "from typing import Callable\n",
        "\n",
        "def regla_falsa(f:Callable[[float], float], a:float, b:float, tolerancia:float) -> float:\n",
        "  \"\"\"\n",
        "  Regresa una raíz de la función (si es que existe) contenido en [a, b] por el \n",
        "  método de la regla falsa o lanza un error.\n",
        "\n",
        "  Argumentos:\n",
        "  f -- la función a obtener el cero. \n",
        "  a -- el primer punto inicial.\n",
        "  b -- el segundo punto inicial.\n",
        "  tolerancia -- la tolerancia de la función.\n",
        "\n",
        "  Regresa:\n",
        "  La raíz de la función, o error si no la encuentra.\n",
        "  \n",
        "  \"\"\"\n",
        "  iteracion = 1\n",
        "  if (f(a)*f(b)> 0):\n",
        "    print(\"Error: Puntos iniciales incorrectos. Las imágenes debe  tener signos diferentes.\")\n",
        "    return \n",
        "  condicion = True\n",
        "\n",
        "  while (condicion):\n",
        "    c = (a*f(b) - b*f(a))/(f(b) - f(a)) \n",
        "    print('Iteración %d, x2 = %0.6f and f(c) = %0.6f' % (iteracion, c, f(c)))\n",
        "    if (f(a)*f(c) < 0):\n",
        "      b = c\n",
        "    else:\n",
        "      a = c\n",
        "    iteracion +=1\n",
        "    condicion = abs(f(c)) > tolerancia\n",
        "  return c"
      ],
      "metadata": {
        "id": "1t-cHCIfKWd5"
      },
      "execution_count": null,
      "outputs": []
    },
    {
      "cell_type": "markdown",
      "source": [
        "# <FONT COLOR=\"blue\">Ejercicio 2</FONT>\n",
        "Usar el Método de Bisección (programado) para encontrar la solución de las siguientes funciones con una tolerancia de $10^{-5}$.\n",
        "\n",
        "a) $f(x) = x-2^{-x}$, para $0\\leq x\\leq 1$\n",
        "\n",
        "b) $f(x) = e^x-x^2+3x-2$, para $0\\leq x\\leq 1$\n",
        "\n",
        "c) $f(x) = 2xcos(2x)-(x + 1)^2$, para $-3\\leq x\\leq -2$ y $-1\\leq x\\leq 0$\n",
        "\n",
        "d) $f(x) = xcos(x)-2x^2+3x-1$, para $0.2\\leq x\\leq 0.3$ y $1.2\\leq x\\leq 1.3$"
      ],
      "metadata": {
        "id": "g6j2GDuCOWNX"
      }
    },
    {
      "cell_type": "code",
      "source": [
        "# Método de Bisección\n",
        "def biseccion(f,a,b,tol = 1e-5, maxiter = 500): # tolerancia de 10^-5\n",
        "    \"\"\"Busca un cero de la funcion f mediante el metodo de biseccion en el intervalo (a,b).\n",
        "    - Entrada >\n",
        "      f (function)    - Funcion de la cual se quiere conocer su raiz.\n",
        "      a (float)       - Extremo inferior del intervalo.\n",
        "      b (float)       - Extremo superior del intervalo.\n",
        "      tol (float)     - Opcional. Tolerancia para la diferencia entre dos aproximaciones.\n",
        "      maxiter (float) - Opcional. Numero maximo de iteraciones.\n",
        "    - Salida >\n",
        "      cero (float) - Valor aproximado de un cero .\n",
        "      it (int)     - Número de iteraciones que le toma al metodo encontrar un cero.\n",
        "    \"\"\"\n",
        "    it = 0\n",
        "    while abs(b-a) > tol and it < maxiter:\n",
        "        it += 1\n",
        "        m = (b+a)/2\n",
        "        if f(b)*f(m) <= 0:\n",
        "            a = m\n",
        "        else:\n",
        "            b = m\n",
        "    return m,it"
      ],
      "metadata": {
        "id": "jxtWNiUlOVSr"
      },
      "execution_count": null,
      "outputs": []
    },
    {
      "cell_type": "code",
      "source": [
        "import numpy as np\n",
        "from IPython.display import display, Latex\n",
        "\n",
        "f1 = lambda x:x-2**(-x)\n",
        "display(Latex(f'$f_1(x) = x-2^{{-x}}$'))\n",
        "x,i = biseccion(f1,0,1)\n",
        "print(f'Un cero de la función f1 para x en [0,1] es {round(x,4)}, ya que f({round(x,4)}) = {round(f1(x),4)}. El método necesitó {i} iteraciones')\n",
        "\n",
        "print(\"\\n\")\n",
        "f2 = lambda x:np.exp(x)-x**2+3*x-2\n",
        "display(Latex(f'$f_2(x) = e^x-x^2+3x-2$'))\n",
        "x,i = biseccion(f2,0,1)\n",
        "print(f'Un cero de la función f2 para x en [0,1] es {round(x,4)}, ya que f({round(x,4)}) = {round(f2(x),4)}. El método necesitó {i} iteraciones')\n",
        "\n",
        "print(\"\\n\")\n",
        "f3 = lambda x:2*x*np.cos(2*x)-(x+1)**2\n",
        "display(Latex(f'$f_3(x) = 2xcos(2x)-(x + 1)^2$'))\n",
        "x,i = biseccion(f3,-3,-2)\n",
        "print(f'Un cero de la función f3 para x en [-3,-2] es {round(x,4)}, ya que f({round(x,4)}) = {round(f3(x),4)}. El método necesitó {i} iteraciones')\n",
        "x,i = biseccion(f3,-1,0)\n",
        "print(f'Un cero de la función f3 para x en [-1,0] es {round(x,4)}, ya que f({round(x,4)}) = {round(f3(x),4)}. El método necesitó {i} iteraciones')\n",
        "\n",
        "print(\"\\n\")\n",
        "f4 = lambda x:x*np.cos(x)-2*x**2+3*x-1\n",
        "display(Latex(f'$f_4(x) = xcos(x)-2x^2+3x-1$'))\n",
        "x,i = biseccion(f4,0.2,0.3)\n",
        "print(f'Un cero de la función f4 para x en [0.2,0.3] es {round(x,4)}, ya que f({round(x,4)}) = {round(f4(x),4)}. El método necesitó {i} iteraciones')\n",
        "x,i = biseccion(f4,1.2,1.3)\n",
        "print(f'Un cero de la función f4 para x en [1.2,1.3] es {round(x,4)}, ya que f({round(x,4)}) = {round(f4(x),4)}. El método necesitó {i} iteraciones')"
      ],
      "metadata": {
        "colab": {
          "base_uri": "https://localhost:8080/",
          "height": 323
        },
        "id": "cXMU9bRgOw1I",
        "outputId": "fe582f8e-2157-4bfe-ec9d-fe17f3ef72aa"
      },
      "execution_count": null,
      "outputs": [
        {
          "output_type": "display_data",
          "data": {
            "text/latex": "$f_1(x) = x-2^{-x}$",
            "text/plain": [
              "<IPython.core.display.Latex object>"
            ]
          },
          "metadata": {}
        },
        {
          "output_type": "stream",
          "name": "stdout",
          "text": [
            "Un cero de la función f1 para x en [0,1] es 0.6412, ya que f(0.6412) = -0.0. El método necesitó 17 iteraciones\n",
            "\n",
            "\n"
          ]
        },
        {
          "output_type": "display_data",
          "data": {
            "text/latex": "$f_2(x) = e^x-x^2+3x-2$",
            "text/plain": [
              "<IPython.core.display.Latex object>"
            ]
          },
          "metadata": {}
        },
        {
          "output_type": "stream",
          "name": "stdout",
          "text": [
            "Un cero de la función f2 para x en [0,1] es 0.2575, ya que f(0.2575) = -0.0. El método necesitó 17 iteraciones\n",
            "\n",
            "\n"
          ]
        },
        {
          "output_type": "display_data",
          "data": {
            "text/latex": "$f_3(x) = 2xcos(2x)-(x + 1)^2$",
            "text/plain": [
              "<IPython.core.display.Latex object>"
            ]
          },
          "metadata": {}
        },
        {
          "output_type": "stream",
          "name": "stdout",
          "text": [
            "Un cero de la función f3 para x en [-3,-2] es -2.1913, ya que f(-2.1913) = 0.0. El método necesitó 17 iteraciones\n",
            "Un cero de la función f3 para x en [-1,0] es -0.7982, ya que f(-0.7982) = 0.0. El método necesitó 17 iteraciones\n",
            "\n",
            "\n"
          ]
        },
        {
          "output_type": "display_data",
          "data": {
            "text/latex": "$f_4(x) = xcos(x)-2x^2+3x-1$",
            "text/plain": [
              "<IPython.core.display.Latex object>"
            ]
          },
          "metadata": {}
        },
        {
          "output_type": "stream",
          "name": "stdout",
          "text": [
            "Un cero de la función f4 para x en [0.2,0.3] es 0.2975, ya que f(0.2975) = -0.0. El método necesitó 14 iteraciones\n",
            "Un cero de la función f4 para x en [1.2,1.3] es 1.2566, ya que f(1.2566) = 0.0. El método necesitó 14 iteraciones\n"
          ]
        }
      ]
    },
    {
      "cell_type": "markdown",
      "source": [
        "# <FONT COLOR=\"blue\">Ejercicio 4</FONT>\n",
        "#### B)\n",
        "Notemos que para este ejercico la toleracia es de $10^{-4}$ y la funcion de este caso es: $$f(x) = x^2-3$$\n",
        "Procedemos a aplicar el algoritmo "
      ],
      "metadata": {
        "id": "A8oxlk7pJJZ7"
      }
    },
    {
      "cell_type": "code",
      "source": [
        "def biseccion(f,a,b,tol = 1e-8, maxiter = 500):\n",
        "    \"\"\"Busca un cero de la funcion f mediante el metodo de biseccion en el intervalo (a,b).\n",
        "    - Entrada >\n",
        "      f (function)    - Funcion de la cual se quiere conocer su raiz.\n",
        "      a (float)       - Extremo inferior del intervalo.\n",
        "      b (float)       - Extremo superior del intervalo.\n",
        "      tol (float)     - Opcional. Tolerancia para la diferencia entre dos aproximaciones.\n",
        "      maxiter (float) - Opcional. Numero maximo de iteraciones.\n",
        "    \n",
        "    - Salida >\n",
        "      cero (float) - Valor aproximado de un cero .\n",
        "      it (int)     - Número de iteraciones que le toma al metodo encontrar un cero.\n",
        "    \"\"\"\n",
        "    it = 0\n",
        "    while abs(b-a) > tol and it < maxiter:\n",
        "        it += 1\n",
        "        m = (b+a)/2\n",
        "        if f(b)*f(m) <= 0:\n",
        "            a = m\n",
        "        else:\n",
        "            b = m\n",
        "    return m,it\n",
        "\n",
        "# Utilizando las funciones mencionada anteriormente \n",
        "func_ej_4 = lambda x:x**2-3\n",
        "x,i = biseccion(func_ej_4,-1,3)\n",
        "print(f'Un cero de la función f1 es {x:2.4e} ya que f({x:2.4e}) = {func_ej_4(x):2.4e}')\n",
        "print(f'El método necesito {i} iteraciones')"
      ],
      "metadata": {
        "id": "zmWYsBhPJYh0",
        "outputId": "0a000d92-f5cf-48b4-cd34-d7dbb9172f7f",
        "colab": {
          "base_uri": "https://localhost:8080/"
        }
      },
      "execution_count": null,
      "outputs": [
        {
          "output_type": "stream",
          "name": "stdout",
          "text": [
            "Un cero de la función f1 es 1.7321e+00 ya que f(1.7321e+00) = 2.1358e-08\n",
            "El método necesito 29 iteraciones\n"
          ]
        }
      ]
    },
    {
      "cell_type": "markdown",
      "source": [
        "# Ejercicio 9"
      ],
      "metadata": {
        "id": "z7x55s7xn7F1"
      }
    },
    {
      "cell_type": "code",
      "source": [
        "def puntofijo(f,x,tol = 1e-5, maxiter = 500):\n",
        "    er=100\n",
        "    i=0\n",
        "    while(i<=maxiter and er>=tol):\n",
        "        temp=x\n",
        "        x=f(x)\n",
        "        er=abs((x-temp))\n",
        "        print(\"%d\\t\\t%.4f\\t\\t%.4f\"%(i,x,er));\n",
        "        i+=1;\n",
        "\n",
        "    print(\"\\nLa solucion mas aproximada es: %.4f con un error de %.4f\"%(x,er));"
      ],
      "metadata": {
        "id": "H16xmfQ6nwDG"
      },
      "execution_count": null,
      "outputs": []
    },
    {
      "cell_type": "code",
      "source": [
        "def fpp(x):\n",
        "  return np.pi+0.5*math.sin(x/2)"
      ],
      "metadata": {
        "id": "pUQL3A5gojgu"
      },
      "execution_count": null,
      "outputs": []
    },
    {
      "cell_type": "code",
      "source": [
        "import numpy as np\n",
        "import math\n",
        "import matplotlib.pyplot as plt\n",
        "puntofijo(fpp,np.pi,tol = 1e-2, maxiter = 500)\n",
        "\n",
        "x = np.arange(0,2*np.pi,0.1)\n",
        "y = np.pi+0.5*np.sin(x/2)\n",
        "\n",
        "plt.plot(x,y)\n",
        "plt.xlabel('x')\n",
        "plt.ylabel('y')\n",
        "plt.show()"
      ],
      "metadata": {
        "colab": {
          "base_uri": "https://localhost:8080/",
          "height": 370
        },
        "id": "9VVTxz96o4QX",
        "outputId": "9df1ee83-0a8e-44c0-b976-424f74f6967b"
      },
      "execution_count": null,
      "outputs": [
        {
          "output_type": "stream",
          "name": "stdout",
          "text": [
            "0\t\t3.6416\t\t0.5000\n",
            "1\t\t3.6260\t\t0.0155\n",
            "2\t\t3.6270\t\t0.0009\n",
            "\n",
            "La solucion mas aproximada es: 3.6270 con un error de 0.0009\n"
          ]
        },
        {
          "output_type": "display_data",
          "data": {
            "image/png": "[encoded data removed]",
            "text/plain": [
              "<Figure size 432x288 with 1 Axes>"
            ]
          },
          "metadata": {
            "needs_background": "light"
          }
        }
      ]
    },
    {
      "cell_type": "markdown",
      "source": [
        "# <FONT COLOR=\"blue\">Ejercicio 13</FONT>\n",
        "Usar Newton para hallar la solución de las siguientes funciones con una tolerancia de $10^{-5}$\n",
        "\n",
        "a) $f(x)=e^x+2^{-x}+2\\cos(x)-6=0$ para $1\\leq x\\leq 2$"
      ],
      "metadata": {
        "id": "e8gu8-fqqi9b"
      }
    },
    {
      "cell_type": "code",
      "source": [
        "def f1(x):\n",
        "  return np.e**x + 2**(-x)+2*math.cos(x)-6\n",
        "\n",
        "newton(f1,1.5)"
      ],
      "metadata": {
        "colab": {
          "base_uri": "https://localhost:8080/"
        },
        "id": "oL_0UwsUq_5V",
        "outputId": "1dc167ad-6643-45f3-f4a8-1479643e723e"
      },
      "execution_count": null,
      "outputs": [
        {
          "output_type": "execute_result",
          "data": {
            "text/plain": [
              "(1.829383601933963, 5)"
            ]
          },
          "metadata": {},
          "execution_count": 9
        }
      ]
    },
    {
      "cell_type": "markdown",
      "source": [
        "b) $f(x)=\\ln(x-1)+\\cos(x-1)=0$ para $1.3\\leq x \\leq 2$"
      ],
      "metadata": {
        "id": "GrJI1zfvtGIs"
      }
    },
    {
      "cell_type": "code",
      "source": [
        "def f2(x):\n",
        "  return np.log(x-1) + math.cos(x-1)\n",
        "\n",
        "newton(f2,1.5)"
      ],
      "metadata": {
        "colab": {
          "base_uri": "https://localhost:8080/"
        },
        "id": "9xO16ZiGsn8y",
        "outputId": "fbce16c2-d754-4b26-e60a-8b9d9a1baa29"
      },
      "execution_count": null,
      "outputs": [
        {
          "output_type": "execute_result",
          "data": {
            "text/plain": [
              "(1.3977484759687708, 4)"
            ]
          },
          "metadata": {},
          "execution_count": 10
        }
      ]
    },
    {
      "cell_type": "markdown",
      "source": [
        "c) $f(x)=2x \\cos(2x)-(x-2)^2=0$ para $2\\leq x \\leq 3$ y $3\\leq x \\leq 4$"
      ],
      "metadata": {
        "id": "VVn8RF2htrr3"
      }
    },
    {
      "cell_type": "code",
      "source": [
        "def f3(x):\n",
        "  return 2*x*math.cos(2*x)-(x-2)**2\n",
        "\n",
        "newton(f3,2.5)\n",
        "newton(f3,3.5)"
      ],
      "metadata": {
        "colab": {
          "base_uri": "https://localhost:8080/"
        },
        "id": "RxNbhFyJuBXI",
        "outputId": "73502c86-f7b4-48d6-c057-4a1978cb7ae9"
      },
      "execution_count": null,
      "outputs": [
        {
          "output_type": "execute_result",
          "data": {
            "text/plain": [
              "(3.7221127731244597, 4)"
            ]
          },
          "metadata": {},
          "execution_count": 11
        }
      ]
    },
    {
      "cell_type": "markdown",
      "source": [
        "d) $f(x)=(x-2)^2-\\ln(x)=0$ para $1\\leq x \\leq 2$ y $e\\leq x \\leq 4$"
      ],
      "metadata": {
        "id": "bEamwm4oucbF"
      }
    },
    {
      "cell_type": "code",
      "source": [
        "def f4(x):\n",
        "  return (x-2)**2-np.log(x)\n",
        "\n",
        "newton(f3,1.5)"
      ],
      "metadata": {
        "colab": {
          "base_uri": "https://localhost:8080/"
        },
        "id": "uG9R3WVguueJ",
        "outputId": "426f6b55-6c99-4ce2-9cfe-183628685424"
      },
      "execution_count": null,
      "outputs": [
        {
          "output_type": "execute_result",
          "data": {
            "text/plain": [
              "(3.722112773106569, 57)"
            ]
          },
          "metadata": {},
          "execution_count": 12
        }
      ]
    },
    {
      "cell_type": "code",
      "source": [
        "newton(f3,3)"
      ],
      "metadata": {
        "colab": {
          "base_uri": "https://localhost:8080/"
        },
        "id": "Def4nIZXvssj",
        "outputId": "c83ce80c-8231-4854-d947-8d6ad460d3ba"
      },
      "execution_count": null,
      "outputs": [
        {
          "output_type": "execute_result",
          "data": {
            "text/plain": [
              "(2.3706869176622742, 6)"
            ]
          },
          "metadata": {},
          "execution_count": 15
        }
      ]
    },
    {
      "cell_type": "markdown",
      "source": [
        "e) $f(x)=e^x-3x^2=0$ para $0\\leq x \\leq 1$ y $3\\leq x \\leq 5$"
      ],
      "metadata": {
        "id": "AAkmi-ZxvBTi"
      }
    },
    {
      "cell_type": "code",
      "source": [
        "def f5(x):\n",
        "  return np.e**x-3*x**2\n",
        "\n",
        "newton(f3,1.5)"
      ],
      "metadata": {
        "colab": {
          "base_uri": "https://localhost:8080/"
        },
        "id": "grarEugYvP1h",
        "outputId": "483e15fa-843f-461a-ea95-07c02bfc987d"
      },
      "execution_count": null,
      "outputs": [
        {
          "output_type": "execute_result",
          "data": {
            "text/plain": [
              "(3.722112773106569, 57)"
            ]
          },
          "metadata": {},
          "execution_count": 17
        }
      ]
    },
    {
      "cell_type": "code",
      "source": [
        "newton(f3,3.5)"
      ],
      "metadata": {
        "colab": {
          "base_uri": "https://localhost:8080/"
        },
        "id": "IAepZXQ_vxYj",
        "outputId": "786e2237-d146-4c4f-d3b8-628adb54c71b"
      },
      "execution_count": null,
      "outputs": [
        {
          "output_type": "execute_result",
          "data": {
            "text/plain": [
              "(3.7221127731244597, 4)"
            ]
          },
          "metadata": {},
          "execution_count": 16
        }
      ]
    },
    {
      "cell_type": "markdown",
      "source": [
        "f) $f(x)=\\sin(x)-e^{-x}=0$ para $0\\leq x \\leq 1$, $3\\leq x \\leq 4$ y $6\\leq x \\leq 7$"
      ],
      "metadata": {
        "id": "arJa-KXXvftw"
      }
    },
    {
      "cell_type": "code",
      "source": [
        "def f5(x):\n",
        "  return math.sin(x)-e**(-x)\n",
        "\n",
        "newton(f3,0.5)"
      ],
      "metadata": {
        "colab": {
          "base_uri": "https://localhost:8080/"
        },
        "id": "AjHb2M0_v3k8",
        "outputId": "be14fcf3-5647-400d-8ce5-a3f6e0883f54"
      },
      "execution_count": null,
      "outputs": [
        {
          "output_type": "execute_result",
          "data": {
            "text/plain": [
              "(3.7221127731019634, 25)"
            ]
          },
          "metadata": {},
          "execution_count": 18
        }
      ]
    },
    {
      "cell_type": "code",
      "source": [
        "newton(f3,3.5)"
      ],
      "metadata": {
        "colab": {
          "base_uri": "https://localhost:8080/"
        },
        "id": "zRpVvBudwBxt",
        "outputId": "c6d3f17d-3687-48f8-d24d-2183205dfa43"
      },
      "execution_count": null,
      "outputs": [
        {
          "output_type": "execute_result",
          "data": {
            "text/plain": [
              "(3.7221127731244597, 4)"
            ]
          },
          "metadata": {},
          "execution_count": 19
        }
      ]
    },
    {
      "cell_type": "code",
      "source": [
        "newton(f3,6.5)"
      ],
      "metadata": {
        "colab": {
          "base_uri": "https://localhost:8080/"
        },
        "id": "XzbsXHjDwFQR",
        "outputId": "6b8fa931-4c70-49ea-cc30-531010fcf7a7"
      },
      "execution_count": null,
      "outputs": [
        {
          "output_type": "execute_result",
          "data": {
            "text/plain": [
              "(6.305037932149481, 500)"
            ]
          },
          "metadata": {},
          "execution_count": 20
        }
      ]
    },
    {
      "cell_type": "markdown",
      "source": [
        "# <FONT COLOR=\"blue\">Ejercicio 14</FONT>\n",
        "Calcular las raíces del ejercicio 13 con el método de Secante."
      ],
      "metadata": {
        "id": "g5vll-RFgm1n"
      }
    },
    {
      "cell_type": "code",
      "source": [
        "def fa(x):\n",
        "  if (x < 1 or x > 2):\n",
        "    print (\"x debe ser mayor o igual a 1 y menor o igual a 2\")\n",
        "    return\n",
        "  return math.exp(x) + 2**(-x) + 2*math.cos(x) - 6\n",
        "\n",
        "def fb(x):\n",
        "  if (x < 1.3 or x > 2):\n",
        "    print(\"x debe ser mayor o igual a 1.3 y menor o igual a 2\")\n",
        "    return\n",
        "  return math.log(x-1) + math.cos(x-1) \n",
        "\n",
        "def fc(x):\n",
        "  if (x < 2 or x > 4):\n",
        "    print(\"x debe ser mayor o igual a 2 y menor o igual a 4\")\n",
        "    return\n",
        "  return 2*x*math.cos(2*x) - (x - 2)**2\n",
        "\n",
        "def fd(x):\n",
        "  if (x < 1 or (2 < x and x < math.e) or 4 < x):\n",
        "    print(\"x debe estar en el intervalo [1, 2] o en el intervalo [e, 4]\")\n",
        "    return\n",
        "  return ((x - 2)**2) - math.log(x)\n",
        "\n",
        "def fe(x):\n",
        "  if (x < 0 or (1 < x and x < 3) or 5 < x):\n",
        "    print(\"x debe estar en el intervalo [0, 1] o en el intervalo [3, 5]\")\n",
        "    return\n",
        "  return (math.exp(x) - 3*(x**2))\n",
        "\n",
        "def ff(x):\n",
        "  if (x < 0 or (1 < x and x < 3) or (4 < x and x < 6) or 7 < x):\n",
        "    print(\"x debe estar en el intervalo [0, 1] o [3, 4] o [6,7]\")\n",
        "    return\n",
        "  return math.sin(x) - math.exp(x)**(-x)\n",
        "\n",
        "print(f\"La raíz de la función fa en el intervalo [1, 2] es x*= {secante(fa,1.8,1.9,1e-5, 500)[0]} después de {secante(fa,1.8,1.9,1e-5, 500)[1]} iteraciones, con  puntos inciales x_0 = 1.8 y x_1 = 1.9\")\n",
        "print(f\"La raíz de la función fb en el intervalo [1.3, 2] es x*= {secante(fb,1.5,1.6,1e-5, 500)[0]} después de {secante(fb,1.5,1.6,1e-5, 500)[1]} iteraciones, con puntos iniciales x_0 = 1.5 y x_1 = 1.6\")\n",
        "print(f\"La raíz de la función fc en el intervalo [2, 3] es x*= {secante(fc,2.1,2.3,1e-5, 500)[0]} después de {secante(fc,2.1,2.3,1e-5, 500)[1]} iteraciones, con puntos iniciales x_0 = 2.1 y x_1 = 2.3\")\n",
        "print(f\"La raíz de la función fc en el intervalo [3, 4] es x*= {secante(fc,3.5,3.6,1e-5, 500)[0]} después de {secante(fc,3.5,3.6,1e-5, 500)[1]} iteraciones, con puntos iniciales x_0 = 3.5 y x_1 = 3.6\")\n",
        "print(f\"La raíz de la función fd en el intervalo [1, 2] es x*= {secante(fd,1.3,1.4,1e-5, 500)[0]} después de {secante(fd,1.3,1.4,1e-5, 500)[1]} iteraciones, con puntos iniciales x_0 = 1.3 y x_1 = 1.4\")\n",
        "print(f\"La raíz de la función fd en el intervalo [e, 4] es x*= {secante(fd,3.1,3.6,1e-5, 500)[0]} después de {secante(fd,3.1,3.6,1e-5, 500)[1]} iteraciones, con puntos iniciales x_0 = 3.1 y x_1 = 3.6\")\n",
        "print(f\"La raíz de la función fe en el intervalo [3, 5] es x*= {secante(fe,4,4.5,1e-5, 500)[0]} después de {secante(fe,4,4.5,1e-5, 500)[1]} iteraciones, con puntos iniciales x_0 = 4 y x_1 = 4.5\")\n",
        "print(f\"La raíz de la función fe en el intervalo [0, 1] es x*= {secante(fe,0.6,0.7,1e-5, 500)[0]} después de {secante(fe,0.6,0.7,1e-5, 500)[1]} iteraciones, con puntos iniciales x_0 = 0.6 y x_1 = 0.7\")\n",
        "print(f\"La raíz de la función ff en el intervalo [0, 1] es x*= {secante(ff,0.6,0.7,1e-5, 500)[0]} después de {secante(ff,0.6,0.7,1e-5, 500)[1]} iteraciones, con puntos iniciales x_0 = 0.6 y x_1 = 0.7\")\n",
        "print(f\"La raíz de la función ff en el intervalo [3, 4] es x*= {secante(ff,3.2,3.3,1e-5, 500)[0]} después de {secante(ff,3.2,3.3,1e-5, 500)[1]} iteraciones, con puntos iniciales x_0 = 3.2 y x_1 = 3.3\")\n",
        "print(f\"La raíz de la función ff en el intervalo [6, 7] es x*= {secante(ff,6.3,6.6,1e-5, 500)[0]} después de {secante(ff,6.3,6.6,1e-5, 500)[1]} iteraciones, con puntos iniciales x_0 = 6.3 y x_1 = 6.6\")"
      ],
      "metadata": {
        "colab": {
          "base_uri": "https://localhost:8080/"
        },
        "id": "ph43COctgz_h",
        "outputId": "6fba7b34-886b-4d0c-c174-dc7c336453bd"
      },
      "execution_count": null,
      "outputs": [
        {
          "output_type": "stream",
          "name": "stdout",
          "text": [
            "La raíz de la función fa en el intervalo [1, 2] es x*= 1.8293836019223229 después de 4 iteraciones, con  puntos inciales x_0 = 1.8 y x_1 = 1.9\n",
            "La raíz de la función fb en el intervalo [1.3, 2] es x*= 1.397748475960274 después de 6 iteraciones, con puntos iniciales x_0 = 1.5 y x_1 = 1.6\n",
            "La raíz de la función fc en el intervalo [2, 3] es x*= 2.3706869177690146 después de 4 iteraciones, con puntos iniciales x_0 = 2.1 y x_1 = 2.3\n",
            "La raíz de la función fc en el intervalo [3, 4] es x*= 3.722112773099417 después de 5 iteraciones, con puntos iniciales x_0 = 3.5 y x_1 = 3.6\n",
            "La raíz de la función fd en el intervalo [1, 2] es x*= 1.4123911679764838 después de 3 iteraciones, con puntos iniciales x_0 = 1.3 y x_1 = 1.4\n",
            "La raíz de la función fd en el intervalo [e, 4] es x*= 3.057103549994917 después de 5 iteraciones, con puntos iniciales x_0 = 3.1 y x_1 = 3.6\n",
            "La raíz de la función fe en el intervalo [3, 5] es x*= 3.733079029089154 después de 6 iteraciones, con puntos iniciales x_0 = 4 y x_1 = 4.5\n",
            "La raíz de la función fe en el intervalo [0, 1] es x*= 0.910007572149006 después de 5 iteraciones, con puntos iniciales x_0 = 0.6 y x_1 = 0.7\n",
            "La raíz de la función ff en el intervalo [0, 1] es x*= 0.6805981744033083 después de 3 iteraciones, con puntos iniciales x_0 = 0.6 y x_1 = 0.7\n",
            "La raíz de la función ff en el intervalo [3, 4] es x*= 3.1415409135857093 después de 3 iteraciones, con puntos iniciales x_0 = 3.2 y x_1 = 3.3\n",
            "La raíz de la función ff en el intervalo [6, 7] es x*= 6.283185307179512 después de 3 iteraciones, con puntos iniciales x_0 = 6.3 y x_1 = 6.6\n"
          ]
        }
      ]
    },
    {
      "cell_type": "markdown",
      "source": [
        "# <FONT COLOR=\"blue\">Ejercicio 15</FONT>\n",
        "Calcular las raices del ejercicio 13 con el metodo de Regla Falsa."
      ],
      "metadata": {
        "id": "EMs6dIuVKjV5"
      }
    },
    {
      "cell_type": "code",
      "source": [
        "# Definicion de las funciones \n",
        "\n",
        "def func_1(x):\n",
        "    return (math.exp(x) + 2**(-x) + 2*math.cos(math.radians(x))- 6)\n",
        "def func_2(x):\n",
        "    return (math.log(x-1) + math.cos(math.radians(x-1)))\n",
        "def func_3(x):\n",
        "    return (2*x*math.cos(math.radians((2*x))) - (x-2)**2)\n",
        "def func_4(x):\n",
        "    return ((x-2)**2 - math.log(x))\n",
        "def func_5(x): \n",
        "    return (math.exp(x) - 3*(x**2))\n",
        "def func_6(x):\n",
        "    return (math.sin(math.radians(x)) - math.exp(-x))\n",
        "\n"
      ],
      "metadata": {
        "id": "PfR6TQKyKkZ1"
      },
      "execution_count": null,
      "outputs": []
    },
    {
      "cell_type": "markdown",
      "source": [
        "a)  $f(x)=e^x+2^{-x}+2\\cos(x)-6=0$ para $1\\leq x\\leq 2$"
      ],
      "metadata": {
        "id": "2wMSphsWKwJc"
      }
    },
    {
      "cell_type": "code",
      "source": [
        "# Funcion a)\n",
        "y = regla_falsa(func_1, 1, 2, .00001)\n",
        "print(f'Un cero de la función funcion a es {y:2.4e} ya que f({y:2.4e}) = {func_1(y):2.4e}')"
      ],
      "metadata": {
        "id": "o4aleTD7KoiP",
        "outputId": "bc107c3e-04f5-4e0b-dd19-9d5da935c3d3",
        "colab": {
          "base_uri": "https://localhost:8080/"
        }
      },
      "execution_count": null,
      "outputs": [
        {
          "output_type": "stream",
          "name": "stdout",
          "text": [
            "Iteración 1, x2 = 1.176934 and f(c) = -0.313720\n",
            "Iteración 2, x2 = 1.242278 and f(c) = -0.114270\n",
            "Iteración 3, x2 = 1.265355 and f(c) = -0.040141\n",
            "Iteración 4, x2 = 1.273373 and f(c) = -0.013921\n",
            "Iteración 5, x2 = 1.276142 and f(c) = -0.004806\n",
            "Iteración 6, x2 = 1.277097 and f(c) = -0.001657\n",
            "Iteración 7, x2 = 1.277426 and f(c) = -0.000571\n",
            "Iteración 8, x2 = 1.277540 and f(c) = -0.000197\n",
            "Iteración 9, x2 = 1.277579 and f(c) = -0.000068\n",
            "Iteración 10, x2 = 1.277592 and f(c) = -0.000023\n",
            "Iteración 11, x2 = 1.277597 and f(c) = -0.000008\n",
            "Un cero de la función funcion a es 1.2776e+00 ya que f(1.2776e+00) = -8.0329e-06\n"
          ]
        }
      ]
    },
    {
      "cell_type": "markdown",
      "source": [
        "b) $f(x)=\\ln(x-1)+\\cos(x-1)=0$ para $1.3\\leq x \\leq 2$"
      ],
      "metadata": {
        "id": "diVIMvhELDdf"
      }
    },
    {
      "cell_type": "code",
      "source": [
        "# Funcion b)\n",
        "print(\"Para la funcion b) en el intervalo [1.3,2], tenemos:\\n\")\n",
        "y = regla_falsa(func_2, 1.3, 2, .00001)\n",
        "print(f'Un cero de la función funcion b es {y:2.4e} ya que f({y:2.4e}) = {func_2(y):2.4e}')"
      ],
      "metadata": {
        "id": "oV-yTdBZK4JW",
        "outputId": "73cadd38-abe0-4b8a-abb9-1035ba9a0641",
        "colab": {
          "base_uri": "https://localhost:8080/"
        }
      },
      "execution_count": null,
      "outputs": [
        {
          "output_type": "stream",
          "name": "stdout",
          "text": [
            "Para la funcion b) en el intervalo [1.3,2], tenemos:\n",
            "\n",
            "Iteración 1, x2 = 1.418613 and f(c) = 0.129165\n",
            "Iteración 2, x2 = 1.372626 and f(c) = 0.012799\n",
            "Iteración 3, x2 = 1.368338 and f(c) = 0.001226\n",
            "Iteración 4, x2 = 1.367930 and f(c) = 0.000117\n",
            "Iteración 5, x2 = 1.367891 and f(c) = 0.000011\n",
            "Iteración 6, x2 = 1.367887 and f(c) = 0.000001\n",
            "Un cero de la función funcion b es 1.3679e+00 ya que f(1.3679e+00) = 1.0649e-06\n"
          ]
        }
      ]
    },
    {
      "cell_type": "markdown",
      "source": [
        "c) $f(x)=2x \\cos(2x)-(x-2)^2=0$ para $2\\leq x \\leq 3$ y $3\\leq x \\leq 4$"
      ],
      "metadata": {
        "id": "kNebUuyrLnuD"
      }
    },
    {
      "cell_type": "code",
      "source": [
        "# Funcion c)\n",
        "print(\"Para la funcion c) tenemos: \\n\\nPara el intervalo [2,3]\")\n",
        "# Intervalo [2,3]\n",
        "y = regla_falsa(func_3, 2, 3, .00001)\n",
        "try:\n",
        "    print(f'Un cero de la función funcion c es {y:2.4e} ya que f({y:2.4e}) = {func_3(y):2.4e}')\n",
        "except:\n",
        "    print(\"Revisa el intervalo\")\n",
        "    \n",
        "# Intervalo [3,4]\n",
        "print(\"Para el intervalo [3,4]\")\n",
        "y = regla_falsa(func_3, 3, 4, .00001)\n",
        "try:\n",
        "    print(f'Un cero de la función funcion c es {y:2.4e} ya que f({y:2.4e}) = {func_3(y):2.4e}')\n",
        "except:\n",
        "    print(\"Revisa el intervalo\")"
      ],
      "metadata": {
        "id": "jdQuyyoyLAVx",
        "outputId": "df7f7fed-f6aa-4f46-8a07-0b80c0322607",
        "colab": {
          "base_uri": "https://localhost:8080/"
        }
      },
      "execution_count": null,
      "outputs": [
        {
          "output_type": "stream",
          "name": "stdout",
          "text": [
            "Para la funcion c) tenemos: \n",
            "\n",
            "Para el intervalo [2,3]\n",
            "Error: Puntos iniciales incorrectos. Las imágenes debe  tener signos diferentes.\n",
            "Revisa el intervalo\n",
            "Para el intervalo [3,4]\n",
            "Error: Puntos iniciales incorrectos. Las imágenes debe  tener signos diferentes.\n",
            "Revisa el intervalo\n"
          ]
        }
      ]
    },
    {
      "cell_type": "markdown",
      "source": [
        "d) $f(x)=(x-2)^2-\\ln(x)=0$ para $1\\leq x \\leq 2$ y $e\\leq x \\leq 4$"
      ],
      "metadata": {
        "id": "Y6CLi1yLL_-b"
      }
    },
    {
      "cell_type": "code",
      "source": [
        "# Funcion d)\n",
        "# Intervalo [1,2]\n",
        "print(\"Para la funcion d) tenemos: \\n\\n Para el intervalo [1,2]\")\n",
        "y = regla_falsa(func_4, 1, 2, .00001)\n",
        "try:\n",
        "    print(f'Un cero de la función funcion d es {y:2.4e} ya que f({y:2.4e}) = {func_4(y):2.4e}')\n",
        "except:\n",
        "    print(\"Revisa el intervalo\")\n",
        "    \n",
        "# Intervalo [e,4]\n",
        "print(\"\\n\\nPara el intervalo [e,4]\")\n",
        "y = regla_falsa(func_4, float(math.exp(1)), 4, .00001)\n",
        "try:\n",
        "    print(f'Un cero de la función funcion d es {y:2.4e} ya que f({y:2.4e}) = {func_4(y):2.4e}')\n",
        "except:\n",
        "    print(\"Revisa el intervalo\")"
      ],
      "metadata": {
        "id": "eSLleZzDL0iX",
        "outputId": "8bb5e6da-301a-4bd7-bf24-9da677461746",
        "colab": {
          "base_uri": "https://localhost:8080/"
        }
      },
      "execution_count": null,
      "outputs": [
        {
          "output_type": "stream",
          "name": "stdout",
          "text": [
            "Para la funcion d) tenemos: \n",
            "\n",
            " Para el intervalo [1,2]\n",
            "Iteración 1, x2 = 1.590616 and f(c) = -0.296526\n",
            "Iteración 2, x2 = 1.455537 and f(c) = -0.078936\n",
            "Iteración 3, x2 = 1.422210 and f(c) = -0.018371\n",
            "Iteración 4, x2 = 1.414594 and f(c) = -0.004142\n",
            "Iteración 5, x2 = 1.412884 and f(c) = -0.000927\n",
            "Iteración 6, x2 = 1.412501 and f(c) = -0.000207\n",
            "Iteración 7, x2 = 1.412416 and f(c) = -0.000046\n",
            "Iteración 8, x2 = 1.412397 and f(c) = -0.000010\n",
            "Iteración 9, x2 = 1.412392 and f(c) = -0.000002\n",
            "Un cero de la función funcion d es 1.4124e+00 ya que f(1.4124e+00) = -2.3092e-06\n",
            "\n",
            "\n",
            "Para el intervalo [e,4]\n",
            "Iteración 1, x2 = 2.918568 and f(c) = -0.227325\n",
            "Iteración 2, x2 = 3.005099 and f(c) = -0.090086\n",
            "Iteración 3, x2 = 3.038248 and f(c) = -0.033323\n",
            "Iteración 4, x2 = 3.050355 and f(c) = -0.012012\n",
            "Iteración 5, x2 = 3.054699 and f(c) = -0.004290\n",
            "Iteración 6, x2 = 3.056249 and f(c) = -0.001527\n",
            "Iteración 7, x2 = 3.056800 and f(c) = -0.000543\n",
            "Iteración 8, x2 = 3.056996 and f(c) = -0.000193\n",
            "Iteración 9, x2 = 3.057065 and f(c) = -0.000069\n",
            "Iteración 10, x2 = 3.057090 and f(c) = -0.000024\n",
            "Iteración 11, x2 = 3.057099 and f(c) = -0.000009\n",
            "Un cero de la función funcion d es 3.0571e+00 ya que f(3.0571e+00) = -8.6557e-06\n"
          ]
        }
      ]
    },
    {
      "cell_type": "markdown",
      "source": [
        "e) $f(x)=e^x-3x^2=0$ para $0\\leq x \\leq 1$ y $3\\leq x \\leq 5$"
      ],
      "metadata": {
        "id": "He5txfFmMaSA"
      }
    },
    {
      "cell_type": "code",
      "source": [
        "# Funcion e)\n",
        "# Intervalo [0,1]\n",
        "print(\"Para la funcion e) tenemos: \\n\\n Para el intervalo [0, 1]\")\n",
        "y = regla_falsa(func_5, 0, 1, .00001)\n",
        "try:\n",
        "    print(f'Un cero de la función funcion e es {y:2.4e} ya que f({y:2.4e}) = {func_5(y):2.4e}')\n",
        "except:\n",
        "    print(\"Revisa el intervalo\")\n",
        "    \n",
        "# Intervalo [3,5]\n",
        "print(\"\\n\\nPara el intervalo [3,5]\")\n",
        "y = regla_falsa(func_5, 3, 5, .00001)\n",
        "try:\n",
        "    print(f'Un cero de la función funcion e es {y:2.4e} ya que f({y:2.4e}) = {func_5(y):2.4e}')\n",
        "except:\n",
        "    print(\"Revisa el intervalo\")"
      ],
      "metadata": {
        "id": "Rc8WTkBzMLXi",
        "outputId": "b2372580-569d-4c15-df8e-f69d63940f75",
        "colab": {
          "base_uri": "https://localhost:8080/"
        }
      },
      "execution_count": null,
      "outputs": [
        {
          "output_type": "stream",
          "name": "stdout",
          "text": [
            "Para la funcion e) tenemos: \n",
            "\n",
            " Para el intervalo [0, 1]\n",
            "Iteración 1, x2 = 0.780203 and f(c) = 0.355766\n",
            "Iteración 2, x2 = 0.902867 and f(c) = 0.021159\n",
            "Iteración 3, x2 = 0.909653 and f(c) = 0.001056\n",
            "Iteración 4, x2 = 0.909990 and f(c) = 0.000052\n",
            "Iteración 5, x2 = 0.910007 and f(c) = 0.000003\n",
            "Un cero de la función funcion e es 9.1001e-01 ya que f(9.1001e-01) = 2.5828e-06\n",
            "\n",
            "\n",
            "Para el intervalo [3,5]\n",
            "Iteración 1, x2 = 3.172157 and f(c) = -6.328850\n",
            "Iteración 2, x2 = 3.317226 and f(c) = -5.428236\n",
            "Iteración 3, x2 = 3.433085 and f(c) = -4.386170\n",
            "Iteración 4, x2 = 3.521425 and f(c) = -3.368699\n",
            "Iteración 5, x2 = 3.586295 and f(c) = -2.484454\n",
            "Iteración 6, x2 = 3.632572 and f(c) = -1.776801\n",
            "Iteración 7, x2 = 3.664885 and f(c) = -1.242495\n",
            "Iteración 8, x2 = 3.687106 and f(c) = -0.855133\n",
            "Iteración 9, x2 = 3.702222 and f(c) = -0.582056\n",
            "Iteración 10, x2 = 3.712431 and f(c) = -0.393189\n",
            "Iteración 11, x2 = 3.719290 and f(c) = -0.264243\n",
            "Iteración 12, x2 = 3.723883 and f(c) = -0.176969\n",
            "Iteración 13, x2 = 3.726952 and f(c) = -0.118244\n",
            "Iteración 14, x2 = 3.728999 and f(c) = -0.078884\n",
            "Iteración 15, x2 = 3.730364 and f(c) = -0.052570\n",
            "Iteración 16, x2 = 3.731272 and f(c) = -0.035010\n",
            "Iteración 17, x2 = 3.731877 and f(c) = -0.023305\n",
            "Iteración 18, x2 = 3.732279 and f(c) = -0.015508\n",
            "Iteración 19, x2 = 3.732547 and f(c) = -0.010318\n",
            "Iteración 20, x2 = 3.732725 and f(c) = -0.006864\n",
            "Iteración 21, x2 = 3.732844 and f(c) = -0.004566\n",
            "Iteración 22, x2 = 3.732923 and f(c) = -0.003037\n",
            "Iteración 23, x2 = 3.732975 and f(c) = -0.002020\n",
            "Iteración 24, x2 = 3.733010 and f(c) = -0.001343\n",
            "Iteración 25, x2 = 3.733033 and f(c) = -0.000893\n",
            "Iteración 26, x2 = 3.733048 and f(c) = -0.000594\n",
            "Iteración 27, x2 = 3.733059 and f(c) = -0.000395\n",
            "Iteración 28, x2 = 3.733065 and f(c) = -0.000263\n",
            "Iteración 29, x2 = 3.733070 and f(c) = -0.000175\n",
            "Iteración 30, x2 = 3.733073 and f(c) = -0.000116\n",
            "Iteración 31, x2 = 3.733075 and f(c) = -0.000077\n",
            "Iteración 32, x2 = 3.733076 and f(c) = -0.000051\n",
            "Iteración 33, x2 = 3.733077 and f(c) = -0.000034\n",
            "Iteración 34, x2 = 3.733078 and f(c) = -0.000023\n",
            "Iteración 35, x2 = 3.733078 and f(c) = -0.000015\n",
            "Iteración 36, x2 = 3.733079 and f(c) = -0.000010\n",
            "Iteración 37, x2 = 3.733079 and f(c) = -0.000007\n",
            "Un cero de la función funcion e es 3.7331e+00 ya que f(3.7331e+00) = -6.6881e-06\n"
          ]
        }
      ]
    },
    {
      "cell_type": "markdown",
      "source": [
        "f) $f(x)=\\sin(x)-e^{-x}=0$ para $0\\leq x \\leq 1$, $3\\leq x \\leq 4$ y $6\\leq x \\leq 7$"
      ],
      "metadata": {
        "id": "8gB0qkJuMik4"
      }
    },
    {
      "cell_type": "code",
      "source": [
        "# Funcion f)\n",
        "# Intervalo [0,1]\n",
        "print(\"Para la funcion f) tenemos: \\n\\n Para el intervalo [0, 1]\")\n",
        "y = regla_falsa(func_6, 0, 1, .00001)\n",
        "try:\n",
        "    print(f'Un cero de la función funcion f es {y:2.4e} ya que f({y:2.4e}) = {func_6(y):2.4e}')\n",
        "except:\n",
        "    print(\"Revisa el intervalo\")\n",
        "    \n",
        "# Intervalo [3,4]\n",
        "print(\"\\n\\nPara el intervalo [3,4]\")\n",
        "y = regla_falsa(func_6, 3, 4, .00001)\n",
        "try:\n",
        "    print(f'Un cero de la función funcion f es {y:2.4e} ya que f({y:2.4e}) = {func_6(y):2.4e}')\n",
        "except:\n",
        "    print(\"Revisa el intervalo\")\n",
        "\n",
        "# Intervalo [6,7]\n",
        "print(\"\\n\\nPara el intervalo [6,7]\")\n",
        "y = regla_falsa(func_6, 6, 7, .00001)\n",
        "try:\n",
        "    print(f'Un cero de la función funcion f es {y:2.4e} ya que f({y:2.4e}) = {func_6(y):2.4e}')\n",
        "except:\n",
        "    print(\"Revisa el intervalo\")"
      ],
      "metadata": {
        "id": "UeQ7_97vMThV",
        "outputId": "2961eb81-1c3b-42ad-ee65-6f3e7dd4ac30",
        "colab": {
          "base_uri": "https://localhost:8080/"
        }
      },
      "execution_count": null,
      "outputs": [
        {
          "output_type": "stream",
          "name": "stdout",
          "text": [
            "Para la funcion f) tenemos: \n",
            "\n",
            " Para el intervalo [0, 1]\n",
            "Error: Puntos iniciales incorrectos. Las imágenes debe  tener signos diferentes.\n",
            "Revisa el intervalo\n",
            "\n",
            "\n",
            "Para el intervalo [3,4]\n",
            "Error: Puntos iniciales incorrectos. Las imágenes debe  tener signos diferentes.\n",
            "Revisa el intervalo\n",
            "\n",
            "\n",
            "Para el intervalo [6,7]\n",
            "Error: Puntos iniciales incorrectos. Las imágenes debe  tener signos diferentes.\n",
            "Revisa el intervalo\n"
          ]
        }
      ]
    },
    {
      "cell_type": "markdown",
      "source": [
        "# <FONT COLOR=\"blue\">Ejercicio 16</FONT>\n",
        "El siguiente polinomio\n",
        "$$\n",
        "P(x) = 230x^4 + 18x^3 + 9x^2 - 221x - 9\n",
        "$$\n",
        "tiene dos ceros, uno en $[-1,0]$ y otro en $[0,1]$, hallarlos con una tolerancia de $10^{-6}$ para\n",
        "\n",
        "a) Método de Regla Falsa.\n",
        "\n",
        "b) Método de Secante.\n",
        "\n",
        "c) Método de Newton.\n",
        "\n",
        "Usando los programas de cada método."
      ],
      "metadata": {
        "id": "D9Jelsb9PFKp"
      }
    },
    {
      "cell_type": "code",
      "source": [
        "# Módulos\n",
        "from typing import Callable\n",
        "\n",
        "# Derivada  (función auxiliar)\n",
        "def derivada(f,x,tol = 1e-12, maxiter = 500):\n",
        "    \"\"\"Calcula la derivada de f en x (f'(x)) mediante diferencias progresivas.\n",
        "    \n",
        "    - Entrada >    \n",
        "      f (function)  - Funcion de la cual se quiere conocer su derivada.\n",
        "      x (float)     - Punto donde se quiere conocer el valor de f'.\n",
        "      tol (float)   - Opcional. Tolerancia para la diferencia entre dos aproximaciones.\n",
        "      maxiter (int) - Opcional. Numero maximo de iteraciones.\n",
        "    \n",
        "    - Salida >\n",
        "      dfx (float) - Valor aproximado de f'(x).\n",
        "    \"\"\"\n",
        "    d,h,it = np.inf,0.5,1\n",
        "    dfx_a = f(x+1) - f(x)\n",
        "    while abs(d) > tol and it < maxiter:\n",
        "        dfx = (f(x+h) - f(x)) / h\n",
        "        d = dfx - dfx_a\n",
        "        dfx_a = dfx\n",
        "        h /= 2\n",
        "        it += 1\n",
        "    return dfx\n",
        "\n",
        "# Método Regla Falsa\n",
        "def regla_falsa(f:Callable[[float], float], a:float, b:float, tolerancia:float) -> float:\n",
        "  \"\"\"\n",
        "  Regresa una raíz de la función (si es que existe) contenido en [a, b] por el \n",
        "  método de la regla falsa o lanza un error.\n",
        "  Argumentos:\n",
        "  f -- la función a obtener el cero. \n",
        "  a -- el primer punto inicial.\n",
        "  b -- el segundo punto inicial.\n",
        "  tolerancia -- la tolerancia de la función.\n",
        "  Regresa:\n",
        "  La raíz de la función, o error si no la encuentra.\n",
        "  \"\"\"\n",
        "  iteracion = 0\n",
        "  if (f(a)*f(b)> 0):\n",
        "    print(\"Error: Puntos iniciales incorrectos. Las imágenes debe  tener signos diferentes.\")\n",
        "    return \n",
        "  condicion = True\n",
        "  while (condicion):\n",
        "    c = (a*f(b) - b*f(a))/(f(b) - f(a)) \n",
        "    # print('Iteración %d, x2 = %0.6f and f(c) = %0.6f' % (iteracion+1, c, f(c)))\n",
        "    if (f(a)*f(c) < 0):\n",
        "      b = c\n",
        "    else:\n",
        "      a = c\n",
        "    iteracion +=1\n",
        "    condicion = abs(f(c)) > tolerancia\n",
        "  return c, iteracion\n",
        "\n",
        "# Método Secante\n",
        "def secante(f,x0,x1,tol, maxiter = 500):\n",
        "    \"\"\"Busca un cero de la funcion f mediante el metodo de la secante\n",
        "    - Entrada >\n",
        "      f (function)    - Funcion de la cual se quiere conocer su raiz.\n",
        "      x0 (float)      - Primera aproximación.\n",
        "      x1 (float)      - Segunda aproximación.\n",
        "      tol (float)     - Opcional. Tolerancia para la diferencia entre dos aproximaciones.\n",
        "      maxiter (float) - Opcional. Numero maximo de iteraciones.\n",
        "    - Salida >\n",
        "      cero (float) - Valor aproximado de un cero .\n",
        "      it (int)     - Número de iteraciones que le toma al metodo encontrar un cero.\n",
        "    \"\"\"\n",
        "    it = 0\n",
        "    while abs(x0 - x1) > tol and it < maxiter:\n",
        "        try:\n",
        "            x0,x1 = x1,x0 - f(x0)*(x1-x0)/(f(x1)-f(x0))\n",
        "        except ZeroDivisionError:\n",
        "            print('La recta secante no tiene interseccion con el eje x')\n",
        "            return None\n",
        "        it += 1\n",
        "    return x1,it\n",
        "\n",
        "# Método Newton\n",
        "def newton(f,x,tol, maxiter = 500):\n",
        "    \"\"\"Busca un cero de la funcion f mediante el metodo de Newton\n",
        "    - Entrada >\n",
        "      f (function)    - Funcion de la cual se quiere conocer su raiz.\n",
        "      x (float)       - Punto inicial.\n",
        "      tol (float)     - Opcional. Tolerancia para la diferencia entre dos aproximaciones.\n",
        "      maxiter (float) - Opcional. Numero maximo de iteraciones.\n",
        "    - Salida >\n",
        "      cero (float) - Valor aproximado de un cero .\n",
        "      it (int)     - Número de iteraciones que le toma al metodo encontrar un cero.\n",
        "    \"\"\"\n",
        "    it,h = 0,1\n",
        "    # Se calcula el cero mediante Newton\n",
        "    while abs(h) > tol and it < maxiter:\n",
        "        try:\n",
        "            h = f(x)/derivada(f,x)\n",
        "        except ZeroDivisionError:\n",
        "            print(f'La derivada de la función en {x} es cero')\n",
        "            return None\n",
        "        cero = x - h\n",
        "        x = cero\n",
        "        it += 1\n",
        "    return cero,it"
      ],
      "metadata": {
        "id": "pKD14apeMkNt"
      },
      "execution_count": null,
      "outputs": []
    },
    {
      "cell_type": "code",
      "source": [
        "from IPython.display import display, Latex\n",
        "import random as rdm\n",
        "\n",
        "p = lambda x:230*x**4 + 18*x**3 + 9*x**2 - 221*x - 9\n",
        "display(Latex(f'$P(x) = 230x^4 + 18x^3 + 9x^2 - 221x - 9$'))\n",
        "\n",
        "print(\"\\n\")\n",
        "print(\"Método de la Regla Falsa:\")\n",
        "x,i = regla_falsa(p, -1, 0, 1e-6)\n",
        "print(f'Un cero de la función P para x en [-1,0] es {round(x,4)}, ya que f({round(x,4)}) = {round(p(x),4)}. El método necesitó {i} iteraciones')\n",
        "x,i = regla_falsa(p, 0, 1, 1e-6)\n",
        "print(f'Un cero de la función P para x en [0,1] es {round(x,4)}, ya que f({round(x,4)}) = {round(p(x),4)}. El método necesitó {i} iteraciones')\n",
        "\n",
        "print(\"\\n\")\n",
        "print(\"Método de la Secante:\")\n",
        "x,i = secante(p, -1, 0, 1e-6)\n",
        "print(f'Un cero de la función P para x en [-1,0] es {round(x,4)}, ya que f({round(x,4)}) = {round(p(x),4)}. El método necesitó {i} iteraciones')\n",
        "x,i = secante(p, 0, 1, 1e-6)\n",
        "print(f'Un cero de la función P para x en [0,1] es {round(x,4)}, ya que f({round(x,4)}) = {round(p(x),4)}. El método necesitó {i} iteraciones')\n",
        "\n",
        "print(\"\\n\")\n",
        "print(\"Método de Newton:\")\n",
        "x,i = newton(p, rdm.uniform(-1,0), 1e-6) # tomamos x0 como aleatorio\n",
        "print(f'Un cero de la función P para x en [-1,0] es {round(x,4)}, ya que f({round(x,4)}) = {round(p(x),4)}. El método necesitó {i} iteraciones')\n",
        "x,i = newton(p, rdm.uniform(0,1), 1e-6)\n",
        "print(f'Un cero de la función P para x en [0,1] es {round(x,4)}, ya que f({round(x,4)}) = {round(p(x),4)}. El método necesitó {i} iteraciones')"
      ],
      "metadata": {
        "colab": {
          "base_uri": "https://localhost:8080/",
          "height": 314
        },
        "id": "Fdp9F4eaPN8V",
        "outputId": "b9c332d0-a139-4af4-9244-82415a641b48"
      },
      "execution_count": null,
      "outputs": [
        {
          "output_type": "display_data",
          "data": {
            "text/latex": "$P(x) = 230x^4 + 18x^3 + 9x^2 - 221x - 9$",
            "text/plain": [
              "<IPython.core.display.Latex object>"
            ]
          },
          "metadata": {}
        },
        {
          "output_type": "stream",
          "name": "stdout",
          "text": [
            "\n",
            "\n",
            "Método de la Regla Falsa:\n",
            "Un cero de la función P para x en [-1,0] es -0.0407, ya que f(-0.0407) = -0.0. El método necesitó 24 iteraciones\n",
            "Un cero de la función P para x en [0,1] es 0.9624, ya que f(0.9624) = -0.0. El método necesitó 10 iteraciones\n",
            "\n",
            "\n",
            "Método de la Secante:\n",
            "Un cero de la función P para x en [-1,0] es -0.0407, ya que f(-0.0407) = -0.0. El método necesitó 4 iteraciones\n",
            "Un cero de la función P para x en [0,1] es -0.0407, ya que f(-0.0407) = -0.0. El método necesitó 11 iteraciones\n",
            "\n",
            "\n",
            "Método de Newton:\n",
            "Un cero de la función P para x en [-1,0] es -0.0407, ya que f(-0.0407) = 0.0. El método necesitó 5 iteraciones\n",
            "Un cero de la función P para x en [0,1] es -0.0407, ya que f(-0.0407) = 0.0. El método necesitó 5 iteraciones\n"
          ]
        }
      ]
    },
    {
      "cell_type": "markdown",
      "source": [
        "# <FONT COLOR=\"blue\">Ejercicio 18</FONT>\n",
        "Escribir un programa usando el método de Newton para resolver el problema de hallar la raíz $\\textit{n-ésima}$ de un número $y$, o de manera equivalente, resolver $f(x) = x^n - y = 0$. La rutina debe devolver tanto valores reales como complejos."
      ],
      "metadata": {
        "id": "tC5BloA9jOwL"
      }
    },
    {
      "cell_type": "code",
      "source": [
        "import numpy as np\n",
        "def derivada(n,x):\n",
        "  return n*(x**(n-1))\n",
        "def f(n,x,y):\n",
        "  return (x**n) - y\n",
        "def newton(n,x,y,tol = 1e-8, maxiter = 500):\n",
        "    \"\"\"Busca un cero de la funcion f mediante el metodo de Newton\n",
        "    - Entrada >\n",
        "      n (int)               - El grado del polinomio.\n",
        "      x (float or complex)  - Punto inicial dado.\n",
        "      y (float)             - El punto al que se quiere extraer la raíz.\n",
        "      tol (float)           - Opcional. Tolerancia para la diferencia entre dos aproximaciones.\n",
        "      maxiter (int)       - Opcional. Numero maximo de iteraciones.\n",
        "    \n",
        "    - Salida >\n",
        "      cero (float) - Valor aproximado de un cero .\n",
        "      it (int)     - Número de iteraciones que le toma al metodo encontrar un cero.\n",
        "    \"\"\"\n",
        "\n",
        "    it,h = 0,1\n",
        "    # Se calcula el cero mediante Newton\n",
        "    while abs(h) > tol and it < maxiter:\n",
        "        try:\n",
        "            h = f(n,x,y)/derivada(n,x)\n",
        "        except ZeroDivisionError:\n",
        "            print(f'La derivada de la función en {x} es cero')\n",
        "            return None\n",
        "        cero = x - h\n",
        "        x = cero\n",
        "        it += 1\n",
        "    return cero,it\n",
        "\n",
        "# Probamos el método.\n",
        "# Las raíces cuadradas del número complejo w = 3+4j son \n",
        "# z_0 = 2 + i y z_1 = -2-i.\n",
        "# Vamos a dar valores iniciales \"cercanos\" a las raíces, \n",
        "# u = 2.05 + 1.1*i \n",
        "# v = -1.9 -0.8i\n",
        "sol1 = newton(n = 2,x = 2.05 + 1.1j, y = 3+4j)\n",
        "sol2 = newton (n = 2, x = -1.9 - 0.8j, y = 3+4j)\n",
        "print(f'Dado el punto inicial u = 2.05 + 1.1i, el método de Newton converge a la raíz {sol1[0]}, lo cual es correcto. Tomó {sol1[1]} iteraciones.')\n",
        "print(f'Dado el punto inicial u = 2.05 + 1.1i, el método de Newton converge a la raíz {sol2[0]}, lo cual es correcto. Tomó {sol2[1]} iteraciones.')\n"
      ],
      "metadata": {
        "colab": {
          "base_uri": "https://localhost:8080/"
        },
        "id": "ASrpj9EgjVa3",
        "outputId": "56f8e423-f51f-4eae-e208-4a56c0da157f"
      },
      "execution_count": null,
      "outputs": [
        {
          "output_type": "stream",
          "name": "stdout",
          "text": [
            "Dado el punto inicial u = 2.05 + 1.1i, el método de Newton converge a la raíz (2+1j), lo cual es correcto. Tomó 4 iteraciones.\n",
            "Dado el punto inicial u = 2.05 + 1.1i, el método de Newton converge a la raíz (-2-1j), lo cual es correcto. Tomó 4 iteraciones.\n"
          ]
        }
      ]
    },
    {
      "cell_type": "markdown",
      "source": [
        "# <FONT COLOR=\"blue\">Ejercicio 19</FONT>\n",
        "El control de un determinado sistema eléctrico conduce a la resolución del siguiente sistema de ecuaciones no lineales:\n",
        "\n",
        "\\begin{align}\n",
        "I*cos(\\phi)&= 2/3\\\\\n",
        "cos(\\delta) + 0.91*I*sin(\\phi + \\delta) &= 1.22 \\\\\n",
        "0.76*I*cos(\\phi + \\delta) &= sin(\\delta)\n",
        "\\end{align}\n",
        "\n",
        "sabiendo que por consideraciones técnicas los ángulos $\\phi$ y $\\delta$ deben estar comprendidos entre 0 y $\\pi/2$ y que la densidad de la corriente I debe ser positiva, se pide resolver mediante el método de Newton el sistema partiendo de los datos iniciales siguientes:\n",
        "\n",
        "<ol type = \"a\">\n",
        "<li> $I=1$, $\\phi=0.1$ y $\\delta=0.1$</li>\n",
        "<li> $I=\\phi=\\delta=1$</li>\n",
        "</ol>\n",
        "\n",
        "Comentar la admisibilidad de las soluciones encontradas."
      ],
      "metadata": {
        "id": "KZ8Xqn8-jeeR"
      }
    },
    {
      "cell_type": "code",
      "source": [
        "# La función norm la usamos en los ejercicios 19,20 y 21.\n",
        "def norm(*args):\n",
        "  result = 0\n",
        "  for x in args:\n",
        "    result += x**2\n",
        "  return math.sqrt(result)\n",
        "\n",
        "#Solución 19\n",
        "def Jacobian19(I, theta, delta):\n",
        "  \"\"\"Devuelve la matriz Jacobiana del sistema del problema 19.\n",
        "    - Entrada >\n",
        "      I (int)            - Variable del sistema\n",
        "      Theta (float)      - Ángulo, variable del sistema.\n",
        "      delta (float)      - Ángulo, variable del sistema.\n",
        "    \n",
        "    - Salida >\n",
        "      matrix (np.matrix de 3x3) - Matriz Jacobiana del sistema.\n",
        "  \"\"\"\n",
        "  matrix = np.zeros((3,3))\n",
        "  matrix[0][0] = math.cos(theta)\n",
        "  matrix[0][1] = -I*math.sin(theta)\n",
        "  matrix[0][2] = 0\n",
        "  matrix[1][0] = 0.91*math.sin(theta + delta)\n",
        "  matrix[1][1] = 0.91*I*math.cos(theta + delta)\n",
        "  matrix[1][2] = 0.91*I*math.cos(theta + delta)\n",
        "  matrix[2][0] = 0.76*math.cos(theta+delta)\n",
        "  matrix[2][1] = -0.76*I*math.sin(theta+delta)\n",
        "  matrix[2][2] = -0.76*I*math.sin(theta+delta) - math.cos(delta)\n",
        "  return matrix\n",
        "\n",
        "def F19(I, theta, delta):\n",
        "  \"\"\"Devuelve los valores de la función F del sistema del problema 19.\n",
        "    - Entrada >\n",
        "      I (int)            - Variable del sistema.\n",
        "      Theta (float)      - Ángulo, variable del sistema.\n",
        "      delta (float)      - Ángulo, variable del sistema.\n",
        "    \n",
        "    - Salida >\n",
        "      Vector (np.array de 3x1) - Valores del vector F.\n",
        "  \"\"\"\n",
        "  matrix = np.empty((3,), dtype = \"float\")\n",
        "  matrix[0] = I*math.cos(theta)-(2/3)\n",
        "  matrix[1] = math.cos(delta) + 0.91*I*math.sin(theta+delta) - 1.22\n",
        "  matrix[2] = 0.76*I*math.cos(theta+delta) - math.sin(delta)\n",
        "  return matrix\n",
        "  \n",
        "def NewtonGeneralizado19(I, theta, delta, tol = 1e-8, iteraciones = 500): \n",
        "  \"\"\"Busca un cero de la funcion f mediante el metodo de Newton.\n",
        "    - Entrada >\n",
        "      I (int)            - Variable del sistema\n",
        "      Theta (float)      - Ángulo, variable del sistema.\n",
        "      delta (float)      - Ángulo, variable del sistema.\n",
        "      tol (float)        - Opcional. Tolerancia para la diferencia entre dos aproximaciones.\n",
        "      maxiter (int)    - Opcional. Numero maximo de iteraciones.\n",
        "    \n",
        "    - Salida >\n",
        "      I (float) - Valor aproximado de un cero.\n",
        "      theta (float) - Valor aproximado de un cero.\n",
        "      delta (float) - Valor aproximado de un cero.\n",
        "  \"\"\"\n",
        "  iteracion = 1\n",
        "  y1 = 1\n",
        "  y2 = 1\n",
        "  y3 = 1\n",
        "  while (iteracion < iteraciones and norm(y1, y2, y3) > tol):\n",
        "    L,U  = lu(Jacobian19(I,theta,delta))\n",
        "    y1, y2, y3 = STS(U,STI(L,-F19(I,theta,delta)))\n",
        "    I = I + y1\n",
        "    theta = theta + y2\n",
        "    delta = delta + y3\n",
        "    iteracion += 1\n",
        "  return I, theta, delta\n",
        "\n",
        "sol1 = NewtonGeneralizado19(1,0.1,0.1)\n",
        "sol2 = NewtonGeneralizado19(1,1,1)\n",
        "print(f'Con los valores iniciales I = 1, theta = 0.1 y delta = 0.1, el método de Newton converge a los valores I = {sol1[0]}, theta = {sol1[1]} y delta = {sol1[2]}. Por lo tanto, la solución encontrada es admisible.')\n",
        "print(f'Con los valores iniciales I = 1, theta = 1 y delta = 1, el método de Newton converge a los valores I = {sol2[0]}, theta = {sol2[1]} y delta = {sol2[2]}. Por lo tanto, la solución encontrada es admisible.')\n",
        "print('Con ambos conjuntos de valores iniciales, se llegó a la misma solución admisible por medio del método de Newton.')"
      ],
      "metadata": {
        "colab": {
          "base_uri": "https://localhost:8080/"
        },
        "id": "-9xnA1HHjlJO",
        "outputId": "571f16e9-14ba-4da3-a378-4fbab211b753"
      },
      "execution_count": null,
      "outputs": [
        {
          "output_type": "stream",
          "name": "stdout",
          "text": [
            "Con los valores iniciales I = 1, theta = 0.1 y delta = 0.1, el método de Newton converge a los valores I = 0.6701311611642177, theta = 0.10172842270473823 y delta = 0.4489413862603279. Por lo tanto, la solución encontrada es admisible.\n",
            "Con los valores iniciales I = 1, theta = 1 y delta = 1, el método de Newton converge a los valores I = 0.6701311610008239, theta = 0.10172842031620373 y delta = 0.4489413867149362. Por lo tanto, la solución encontrada es admisible.\n",
            "Con ambos conjuntos de valores iniciales, se llegó a la misma solución admisible por medio del método de Newton.\n"
          ]
        }
      ]
    },
    {
      "cell_type": "markdown",
      "source": [
        "# <FONT COLOR=\"blue\">Ejercicio 20</FONT>\n",
        "Resolver el siguiente sistema de ecuaciones no lineales por el Método de Newton:\n",
        "\n",
        "\\begin{align}\n",
        "U + \\frac{0.27}{U} - 1.31*cos(\\phi) &= 0\\\\\n",
        "\\frac{0.405}{U} -1.31*sin(\\phi) &= 0\n",
        "\\end{align}\n",
        "\n",
        "dar al menos 3 condiciones iniciales distintas y comentar los resultados."
      ],
      "metadata": {
        "id": "7MbjwoVbjsS7"
      }
    },
    {
      "cell_type": "code",
      "source": [
        "def Jacobian20(x, y):\n",
        "  \"\"\"Regresa la matriz Jacobiana del problema 20.\n",
        "    - Entrada >\n",
        "      x (float)            - Variable del sistema\n",
        "      y (float)          - Variable del sistema.\n",
        "    \n",
        "    - Salida >\n",
        "      matrix (np.matrix de 2x2) - Matriz Jacobiana del sistema.\n",
        "  \"\"\"\n",
        "  matrix = np.zeros((2,2))\n",
        "  matrix = np.zeros((2,2))\n",
        "  matrix[0][0] = 1 - (0.27/x**2)\n",
        "  matrix[0][1] = 1.31*math.sin(y)\n",
        "  matrix[1][0] = -4.05/x**2\n",
        "  matrix[1][1] = -1.31*math.cos(y)\n",
        "  return matrix\n",
        "\n",
        "def F20(x, y):\n",
        "  \"\"\"Devuelve los valores de la función F del sistema del problema 20.\n",
        "    - Entrada >\n",
        "      x (int)            - Variable del sistema\n",
        "      y (float)          - Variable del sistema.\n",
        "     \n",
        "    - Salida >\n",
        "      Vector (np.array de 2x1) - Valores del vector F.\n",
        "  \"\"\"\n",
        "  matrix = np.empty((2,), dtype = \"float\")\n",
        "  matrix[0] = x + (0.27/x) -1.31*math.cos(y)\n",
        "  matrix[1]= (0.405/x) - 1.31*math.sin(y)\n",
        "  return matrix\n",
        "\n",
        "def NewtonGeneralizado20(x1, x2, tol = 1e-8, iteraciones = 1000): \n",
        "  \"\"\"Busca un cero de la función F mediante el método de Newton.\n",
        "    - Entrada >\n",
        "      x1 (float)         - Variable del sistema\n",
        "      x2 (float)         - Variable del sistema.\n",
        "      tol (float)        - Opcional. Tolerancia para la diferencia entre dos aproximaciones.\n",
        "      maxiter (int)    - Opcional. Numero maximo de iteraciones.\n",
        "    \n",
        "    - Salida >\n",
        "      x1 (float)      - Valor aproximado de un cero.\n",
        "      x2 (float)      - Valor aproximado de un cero.\n",
        "  \"\"\"\n",
        "  iteracion = 1\n",
        "  y1 = 1\n",
        "  y2 = 1\n",
        "  while (iteracion < iteraciones and norm(y1, y2) > tol):\n",
        "    L,U  = lu(Jacobian20(x1,x2))\n",
        "    y1, y2 = STS(U,STI(L,-F20(x1,x2)))\n",
        "    x1 = x1 + y1\n",
        "    x2 = x2 + y2\n",
        "    iteracion += 1\n",
        "  return x1, x2\n",
        "\n",
        "sol1 = NewtonGeneralizado20(3,5)\n",
        "sol2 = NewtonGeneralizado20(-2,4)\n",
        "sol3 = NewtonGeneralizado20(-2,-2)\n",
        "print(f\"Dado el punto inicial (3,5), obetenemos como solución al punto {sol1}\")\n",
        "print(f\"Dado el punto inicial (-2,4), obetenemos como solución al punto {sol2}\")\n",
        "print(f\"Dado el punto inicial (-2,-2), obetenemos como solución al punto {sol3}\")\n",
        "print(f\"Existen al menos 3 ceros del sistema de ecuaciones.\")"
      ],
      "metadata": {
        "colab": {
          "base_uri": "https://localhost:8080/"
        },
        "id": "2DHwUIWIj03D",
        "outputId": "4d7aa536-2ca4-4618-d312-72948b422744"
      },
      "execution_count": null,
      "outputs": [
        {
          "output_type": "stream",
          "name": "stdout",
          "text": [
            "Dado el punto inicial (3,5), obetenemos como solución al punto (-0.508019238849895, 10.079022715779661)\n",
            "Dado el punto inicial (-2,4), obetenemos como solución al punto (-0.5080192415522472, 66.62769048055246)\n",
            "Dado el punto inicial (-2,-2), obetenemos como solución al punto (-0.5080194096469792, -2.4873478886874)\n",
            "Existen al menos 3 ceros del sistema de ecuaciones.\n"
          ]
        }
      ]
    },
    {
      "cell_type": "markdown",
      "source": [
        "# <FONT COLOR=\"blue\">Ejercicio 21</FONT>\n",
        "Resolver  los siguientes sistemas programando el Método de Newton para varias variables.\n",
        "\n",
        "<ol type = \"a\">\n",
        "  <li> Puntos iniciales $x_1 = 15$ y $x_2=-2$</li>\n",
        "  <br \\>\n",
        "  \\begin{align}\n",
        "    x_1 + x_2(x_2(5-x_2)-2) &= 13 \\\\\n",
        "    x_1 + x_2(x_2(1+x_2)+14) &= 29\n",
        "  \\end{align}\n",
        "  <br \\>\n",
        "  <li> Puntos iniciales $x_1=(1 + \\sqrt{3})/2, \\; x_2 = (1 - \\sqrt{3})/2$ y $x_3 = \\sqrt{3}$</li>\n",
        "  <br \\>\n",
        "  \\begin{align}\n",
        "  x_1^{2} + x_2^{2} + x_3^{2} &= 5\\\\\n",
        "  x_1 + x_2 &= 1\\\\\n",
        "  x_1 + x_3 &= 3\n",
        "  \\end{align}\n",
        "  <br \\>\n",
        "  <li>Puntos iniciales $x_1 = 1, \\; x_2=2, \\; x_3 = 1, \\; x_4=1.$</li>\n",
        "  <br \\>\n",
        "  \\begin{align}\n",
        "  x_1 + 10x_2 &= 0\\\\\n",
        "  \\sqrt{5}(x_3 - x_4) &= 0\\\\\n",
        "  (x_2 - x_3)^2 &= 0\\\\\n",
        "  \\sqrt{10}(x_1 - x_4)^2 &= 0\n",
        "  \\end{align}\n",
        "  <br \\>"
      ],
      "metadata": {
        "id": "abG97fUOj5eb"
      }
    },
    {
      "cell_type": "code",
      "source": [
        "#Solución 21a)\n",
        "def Jacobian21a(x, y):\n",
        "  \"\"\"Regresa la matriz Jacobiana del problema 21a.\n",
        "    - Entrada >\n",
        "      x (float)            - Variable del sistema\n",
        "      y (float)          - Variable del sistema.\n",
        "    \n",
        "    - Salida >\n",
        "      matrix (np.matrix de 2x2) - Matriz Jacobiana del sistema.\n",
        "  \"\"\"\n",
        "  matrix = np.zeros((2,2))\n",
        "  matrix[0][0] = 1\n",
        "  matrix[0][1] = 10*y-3*(y**2)-2\n",
        "  matrix[1][0] = 1\n",
        "  matrix[1][1] = 2*y + 3*(y**2)+14\n",
        "  return matrix\n",
        "\n",
        "def F21a(x, y):\n",
        "  \"\"\"Devuelve los valores de la función F del sistema del problema 21a.\n",
        "    - Entrada >\n",
        "      x (float)            - Variable del sistema\n",
        "      y (float)          - Variable del sistema.\n",
        "     \n",
        "    - Salida >\n",
        "      Vector (np.array de 2x1) - Valores del vector F.\n",
        "  \"\"\"\n",
        "  matrix = np.empty((2,), dtype = \"float\")\n",
        "  matrix[0] = x + 5*y**2 - y**3 - 2*y -13\n",
        "  matrix[1]= x + y**2 + y**3 + 14*y -29\n",
        "  return matrix\n",
        "  \n",
        "def NewtonGeneralizado21a(x1, x2, tol = 1e-8, iteraciones = 1000): \n",
        "  \"\"\"Busca un cero de la función F mediante el método de Newton.\n",
        "    - Entrada >\n",
        "      x1 (float)         - Variable del sistema\n",
        "      x2 (float)         - Variable del sistema.\n",
        "      tol (float)        - Opcional. Tolerancia para la diferencia entre dos aproximaciones.\n",
        "      iteraciones (int)  - Opcional. Numero maximo de iteraciones.\n",
        "    \n",
        "    - Salida >\n",
        "      x1 (float)      - Valor aproximado de un cero.\n",
        "      x2 (float)      - Valor aproximado de un cero.\n",
        "      iteracion (int) - El número de iteraciones que tomó el método.\n",
        "  \"\"\"\n",
        "  iteracion = 1\n",
        "  y1 = 1\n",
        "  y2 = 1\n",
        "  while (iteracion < iteraciones and norm(y1, y2) > tol):\n",
        "    L,U  = lu(Jacobian21a(x1,x2))\n",
        "    y1, y2 = STS(U,STI(L,-F21a(x1,x2)))\n",
        "    x1 = x1 + y1\n",
        "    x2 = x2 + y2\n",
        "    iteracion += 1\n",
        "  return x1, x2, iteracion\n",
        "\n",
        "sol = NewtonGeneralizado21a(15,-2)\n",
        "print(f'Dado el punto inicial x1=15 y x2 = -2, el método de Newton converge al punto x1* = {sol[0]}, x2* = {sol[1]}, ya que F(x1*, x2*) = {F21a(sol[0], sol[1])}. El método tomó {sol[2]} iteraciones.')"
      ],
      "metadata": {
        "colab": {
          "base_uri": "https://localhost:8080/"
        },
        "id": "ryVuTADPkGOi",
        "outputId": "908b8a8f-00c0-4314-9672-7fde6bbea63e"
      },
      "execution_count": null,
      "outputs": [
        {
          "output_type": "stream",
          "name": "stdout",
          "text": [
            "Dado el punto inicial x1=15 y x2 = -2, el método de Newton converge al punto x1* = 10.265301021086406, x2* = 1.1396805819961067, ya que F(x1*, x2*) = [0. 0.]. El método tomó 7 iteraciones.\n"
          ]
        }
      ]
    },
    {
      "cell_type": "code",
      "source": [
        "#Solución 21b)\n",
        "def Jacobian21b(x, y, z):\n",
        "  \"\"\"Regresa la matriz Jacobiana del problema 21b.\n",
        "    - Entrada >\n",
        "      x (float)          - Variable del sistema\n",
        "      y (float)          - Variable del sistema.\n",
        "      z (float)          - Variable del sistema.\n",
        "    \n",
        "    - Salida >\n",
        "      matrix (np.matrix de 3x3) - Matriz Jacobiana del sistema.\n",
        "  \"\"\"\n",
        "  matrix = np.zeros((3,3))\n",
        "  matrix[0][0] = 2*x\n",
        "  matrix[0][1] = 2*y\n",
        "  matrix[0][2] = 2*z\n",
        "  matrix[1][0] = 1\n",
        "  matrix[1][1] = 1\n",
        "  matrix[1][2] = 0\n",
        "  matrix[2][0] = 1\n",
        "  matrix[2][1] = 0\n",
        "  matrix[2][2] = 1\n",
        "  return matrix\n",
        "\n",
        "def F21b(x, y, z):\n",
        "  \"\"\"Devuelve los valores de la función F del sistema del problema 21b.\n",
        "    - Entrada >\n",
        "      x (float)          - Variable del sistema\n",
        "      y (float)          - Variable del sistema.\n",
        "      z (float)          - Variable del sistema.\n",
        "     \n",
        "    - Salida >\n",
        "      Vector (np.array de 3x1) - Valores del vector F.\n",
        "  \"\"\"\n",
        "  matrix = np.empty((3,), dtype = \"float\")\n",
        "  matrix[0] = x**2 + y**2 + z**2 -5\n",
        "  matrix[1] = x + y - 1\n",
        "  matrix[2] = x + z - 3 \n",
        "  return matrix\n",
        "  \n",
        "def NewtonGeneralizado21b(x1, x2, x3, tol = 1e-8, iteraciones = 1000): \n",
        "  \"\"\"Busca un cero de la función F mediante el método de Newton.\n",
        "    - Entrada >\n",
        "      x1 (float)         - Variable del sistema\n",
        "      x2 (float)         - Variable del sistema.\n",
        "      x3 (float)         - Variable del sistema.\n",
        "      tol (float)        - Opcional. Tolerancia para la diferencia entre dos aproximaciones.\n",
        "      iteraciones (int)  - Opcional. Numero maximo de iteraciones.\n",
        "    \n",
        "    - Salida >\n",
        "      x1 (float)      - Valor aproximado de un cero.\n",
        "      x2 (float)      - Valor aproximado de un cero.\n",
        "      x3 (float)      - Valor aproximado de un cero.\n",
        "      iteracion (int) - El número de iteraciones que tomó el método.\n",
        "  \"\"\"\n",
        "  iteracion = 1\n",
        "  y1 = 1\n",
        "  y2 = 1\n",
        "  y3 = 1\n",
        "  while (iteracion < iteraciones and norm(y1, y2, y3) > tol):\n",
        "    L,U  = lu(Jacobian21b(x1,x2,x3))\n",
        "    y1, y2, y3 = STS(U,STI(L,-F21b(x1,x2,x3)))\n",
        "    x1 = x1 + y1\n",
        "    x2 = x2 + y2\n",
        "    x3 = x3 + y3\n",
        "    iteracion += 1\n",
        "  return x1, x2, x3, iteracion\n",
        "\n",
        "sol = NewtonGeneralizado21b((1+math.sqrt(3))/2, (1-math.sqrt(3))/2, math.sqrt(3))\n",
        "print(f'Dado el punto inicial x1=(1+3^(0.5))/2, x2 = (1-3^(0.5))/2, x3 = 3^(0.5), el método de Newton converge al punto x1* = {sol[0]}, x2* = {sol[1]}, x3* = {sol[2]}, ya que F(x1*, x2*, x3*) = {F21b(sol[0], sol[1], sol[2])}. El método tomó {sol[3]} iteraciones.')"
      ],
      "metadata": {
        "colab": {
          "base_uri": "https://localhost:8080/"
        },
        "id": "jecjgu8jkNEA",
        "outputId": "c733f5fa-139c-42f9-eb1c-88c8dc7b8dc6"
      },
      "execution_count": null,
      "outputs": [
        {
          "output_type": "stream",
          "name": "stdout",
          "text": [
            "Dado el punto inicial x1=(1+3^(0.5))/2, x2 = (1-3^(0.5))/2, x3 = 3^(0.5), el método de Newton converge al punto x1* = 1.6666666666666665, x2* = -0.6666666666666665, x3* = 1.3333333333333335, ya que F(x1*, x2*, x3*) = [0. 0. 0.]. El método tomó 59 iteraciones.\n"
          ]
        }
      ]
    },
    {
      "cell_type": "code",
      "source": [
        "#Solución 21c)\n",
        "# Con el punto dado (x1,x2,x3,x4) = (1,1,2,1) el método no logra converger, ya \n",
        "# que la matriz\n",
        "# Jacobiana inicial no es invertible. Lo que hacemos es modificar x1 = 0.99. \n",
        "# Además, permutamos los  renglones de la matriz jacobiana, para que la facto-\n",
        "# rización LU la podamos realizar. x2 era x1, x3 era x1, x4 era x3 y x1 era x4.\n",
        "# Al final no importa la permutación, ya que el método converge al punto (0,0,0,0)\n",
        "\n",
        "def Jacobian21c(x1, x2, x3, x4):\n",
        "  \"\"\"Regresa la matriz Jacobiana del problema 21c.\n",
        "    - Entrada >\n",
        "      x1 (float)          - Variable del sistema\n",
        "      x2 (float)          - Variable del sistema.\n",
        "      x3 (float)          - Variable del sistema.\n",
        "      x4 (float)          - Variable del sistema.\n",
        "    - Salida >\n",
        "      matrix (np.matrix de 4x4) - Matriz Jacobiana del sistema.\n",
        "  \"\"\"\n",
        "  matrix = np.zeros((4,4))\n",
        "  matrix[1][0] = 1\n",
        "  matrix[1][1] = 10\n",
        "  matrix[1][2] = 0\n",
        "  matrix[1][3] = 0\n",
        "\n",
        "  matrix[2][0] = 0\n",
        "  matrix[2][1] = 0\n",
        "  matrix[2][2] = math.sqrt(5)\n",
        "  matrix[2][3] = -math.sqrt(5)\n",
        "  \n",
        "  matrix[3][0] = 0\n",
        "  matrix[3][1] =  2*x2 - 2*x3\n",
        "  matrix[3][2] = -2*x2 + 2*x3\n",
        "  matrix[3][3] = 0\n",
        "  \n",
        "  matrix[0][0] = 2*math.sqrt(10)*x1 - 2*math.sqrt(10)*x4\n",
        "  matrix[0][1] = 0\n",
        "  matrix[0][2] = 0\n",
        "  matrix[0][3] = -2*math.sqrt(10)*x1 + 2*math.sqrt(10)*x4\n",
        "  return matrix\n",
        "\n",
        "def F21c(x1, x2, x3, x4):\n",
        "  \"\"\"Devuelve los valores de la función F del sistema del problema 21b.\n",
        "    - Entrada >\n",
        "      x1 (float)          - Variable del sistema\n",
        "      x2 (float)          - Variable del sistema.\n",
        "      x3 (float)          - Variable del sistema.\n",
        "      x4 (float)          - Variable del sistema. \n",
        "    - Salida >\n",
        "      Vector (np.array de 4x1) - Valores del vector F.\n",
        "  \"\"\"\n",
        "  matrix = np.empty((4,), dtype = \"float\")\n",
        "  matrix[1] = x1 + 10*x2\n",
        "  matrix[2] = math.sqrt(5)*x3 - math.sqrt(5)*x4\n",
        "  matrix[3] = x2**2 - 2*x2*x3 + x3**2\n",
        "  matrix[0] =  math.sqrt(10)*(x1**2) - 2*math.sqrt(10)*x1*x4 + math.sqrt(10)*x4**2\n",
        "  return matrix\n",
        "  \n",
        "def NewtonGeneralizado21c(x1, x2, x3, x4, tol = 1e-8, iteraciones = 1000): \n",
        "  \"\"\"Busca un cero de la función F mediante el método de Newton.\n",
        "    - Entrada >\n",
        "      x1 (float)         - Variable del sistema\n",
        "      x2 (float)         - Variable del sistema.\n",
        "      x3 (float)         - Variable del sistema.\n",
        "      x4 (float)         - Variable del sistema.\n",
        "      tol (float)        - Opcional. Tolerancia para la diferencia entre dos aproximaciones.\n",
        "      iteraciones (int)  - Opcional. Numero maximo de iteraciones.\n",
        "    \n",
        "    - Salida >\n",
        "      x1 (float)      - Valor aproximado de un cero.\n",
        "      x2 (float)      - Valor aproximado de un cero.\n",
        "      x3 (float)      - Valor aproximado de un cero.\n",
        "      x4 (float)      - Valor aproximado de un cero.\n",
        "      iteracion (int) - El número de iteraciones que tomó el método.\n",
        "  \"\"\"\n",
        "  iteracion = 1\n",
        "  y1 = 1\n",
        "  y2 = 1\n",
        "  y3 = 1\n",
        "  y4 = 1\n",
        "  while (iteracion < iteraciones and norm(y1, y2, y3, y4) > tol):\n",
        "    L,U  = lu(Jacobian21c(x1,x2,x3, x4))\n",
        "    y1, y2, y3, y4 = STS(U,STI(L,-F21c(x1,x2,x3, x4)))\n",
        "    x1 = x1 + y1\n",
        "    x2 = x2 + y2\n",
        "    x3 = x3 + y3\n",
        "    x4 = x4 + y4\n",
        "    iteracion += 1\n",
        "  return x1, x2, x3, x4, iteracion\n",
        "\n",
        "sol = NewtonGeneralizado21c(0.99,1,2,1)\n",
        "print(f'Dado el punto inicial x1=0.99, x2 = 1, x3 =2 y x4 = 1, el método de Newton converge al punto x1* = {sol[0]}, x2* = {sol[1]}, x3* = {sol[2]} y x4* = {sol[3]}, ya que F(x1*, x2*, x3*, x4*) = {F21c(sol[0], sol[1], sol[2], sol[3])}. El método tomó {sol[4]} iteraciones.')"
      ],
      "metadata": {
        "colab": {
          "base_uri": "https://localhost:8080/"
        },
        "id": "ulmOIbVDkSj8",
        "outputId": "dc9969f1-d108-46b7-a1d9-8e1d3b02f47f"
      },
      "execution_count": null,
      "outputs": [
        {
          "output_type": "stream",
          "name": "stdout",
          "text": [
            "Dado el punto inicial x1=0.99, x2 = 1, x3 =2 y x4 = 1, el método de Newton converge al punto x1* = 3.3527612686157943e-09, x2* = -3.352761268615794e-10, x3* = 3.3900141716003378e-09 y x4* = 3.390014171600338e-09, ya que F(x1*, x2*, x3*, x4*) = [4.38854184e-21 4.13590306e-25 0.00000000e+00 1.38777878e-17]. El método tomó 29 iteraciones.\n"
          ]
        }
      ]
    }
  ]
}