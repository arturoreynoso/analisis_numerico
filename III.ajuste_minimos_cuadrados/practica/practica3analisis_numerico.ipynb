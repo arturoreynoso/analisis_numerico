{
  "nbformat": 4,
  "nbformat_minor": 0,
  "metadata": {
    "colab": {
      "name": "Untitled0.ipynb",
      "provenance": [],
      "collapsed_sections": []
    },
    "kernelspec": {
      "name": "python3",
      "display_name": "Python 3"
    },
    "language_info": {
      "name": "python"
    }
  },
  "cells": [
    {
      "cell_type": "markdown",
      "source": [
        "# Práctica III - Análisis numérico\n",
        "\n",
        "## Equipo:\n",
        "<ul>\n",
        "<li> López Espíndola Luis Enrique\n",
        "<li> Mucio Alvarez Santos\n",
        "<li> Muñiz Lescale Marco Aurelio\n",
        "<li> Reynoso Sánchez Arturo Yitzack\n",
        "</ul>"
      ],
      "metadata": {
        "id": "7b0jJPuNa92k"
      }
    },
    {
      "cell_type": "markdown",
      "source": [
        "### Preliminares \n"
      ],
      "metadata": {
        "id": "LgvtVGBTDSbE"
      }
    },
    {
      "cell_type": "code",
      "source": [
        "# Excepciones\n",
        "\n",
        "class sslException(Exception):\n",
        "\n",
        "    def __init__(self, valor):\n",
        "        self.valor = str(valor)\n",
        "\n",
        "    def __str__(self):\n",
        "        errores = {\"0\": \"Las dimensiones son diferentes. La matriz debe ser cuadrada.\",\n",
        "                   \"1\": \"Los elementos de la diagonal son cero. La matriz no es invertible.\",\n",
        "                   \"2\": \"Los elementos de la diagonal son cero.\",\n",
        "                   \"3\": \"Los elementos de la diagonal deben ser positivos.\"}\n",
        "        if self.valor in errores:\n",
        "            return f\"Error {self.valor}. {errores[self.valor]}\"\n",
        "        else:\n",
        "            return \"Error no clasificado\"\n"
      ],
      "metadata": {
        "id": "ShtObXdeDVtY"
      },
      "execution_count": null,
      "outputs": []
    },
    {
      "cell_type": "markdown",
      "source": [
        "# <FONT COLOR=\"blue\">Ejercicio 23</FONT>"
      ],
      "metadata": {
        "id": "SZPSF125IRZB"
      }
    },
    {
      "cell_type": "markdown",
      "source": [
        "a) Resolver el siguiente problema de mínimos cuadrados usando cualquier método de los vistos en clase.\n",
        "$$\\left(\\begin{array}{cc} 0.16 & 0.10 \\\\\n",
        "0.17 & 0.11 \\\\\n",
        "20.02 & 1.29\\end{array}\\right) \\left(\\begin{array}{c} x_1\\\\ y_1\\end{array}\\right)  \\approx  \\left(\\begin{array}{c} 0.26\\\\ 0.28\\\\3.31\\end{array}\\right)$$\n",
        "\n",
        "b) Resolver el mismo problema con la siguiente perturbación en el vector $\\overline{b}$,\n",
        "$$\\overline{b}= \\left(\\begin{array}{c} 0.27\\\\ 0.25\\\\3.33\\end{array}\\right)$$\n",
        "c) Compara los resultados de los incisos anteriores, ¿se puede explicar la diferencia entre ellos?\n"
      ],
      "metadata": {
        "id": "PA6JWCXCbOtE"
      }
    },
    {
      "cell_type": "code",
      "execution_count": null,
      "metadata": {
        "colab": {
          "base_uri": "https://localhost:8080/"
        },
        "id": "uC5DKpFea9Lm",
        "outputId": "eaceea53-ee76-4be3-827e-6db03ccb2225"
      },
      "outputs": [
        {
          "output_type": "stream",
          "name": "stdout",
          "text": [
            "[  42.60845481 -609.08654005]\n",
            "[  42.86446328 -612.74755855]\n"
          ]
        }
      ],
      "source": [
        "import numpy as np\n",
        "\n",
        "def sustDelante(L, b):\n",
        "    n=len(L)\n",
        "    y=np.empty_like(b)\n",
        "    y[0] = b[0]\n",
        "    for i in range(1,n):\n",
        "        y[i] = b[i]\n",
        "        for j in range(0,i):\n",
        "            y[i] -= L[i][j]*y[j]\n",
        "    return y\n",
        "\n",
        "def sustAtras(U, y):\n",
        "    n=len(U)\n",
        "    x=np.empty_like(y)\n",
        "    x[n-1] = y[n-1]/U[n-1][n-1]\n",
        "    for i in range(n-2,-1,-1):\n",
        "        x[i] = y[i]\n",
        "        for j in range(i+1,n):\n",
        "            x[i] -= U[i][j]*x[j]\n",
        "        x[i] /= U[i][i]\n",
        "    return x\n",
        "\n",
        "def cholesky(mat):\n",
        "    L = np.zeros_like(mat)\n",
        "    #Creamos un for que vaya de 0 al numero de renglones de la matriz.\n",
        "    for k in range(len(mat)):\n",
        "        #Creamos un for para ir sumando.\n",
        "        for i in range(k):\n",
        "            suma = mat[k,i]\n",
        "            for j in range(i):\n",
        "                suma -= (L[i,j]* L[k,j])\n",
        "            L[k,i] = (suma)/ L[i,i]\n",
        "            L[i,k] = L[k,i]\n",
        "        suma = mat[k,k]\n",
        "        for j in range(k):\n",
        "            suma -= (L[k,j]*L[k,j])\n",
        "        L[k,k] = np.sqrt(suma)\n",
        "    return L\n",
        "\n",
        "# funcion que calcula los coeficientes alfa y betha\n",
        "def minimos(A,b):\n",
        "    At = A.T\n",
        "    # ecuaciones normales\n",
        "    aprim = np.matmul(At,A)\n",
        "    bprim = np.matmul(At,b)\n",
        "    # utilizando cholesky \n",
        "    L = cholesky(aprim)\n",
        "    y = sustDelante(L, bprim)\n",
        "    x = sustAtras(L, y)\n",
        "    # vector solucion del sistema de ecuaciones normales\n",
        "    return x\n",
        "\n",
        "#Se define el conjunto de datos que seran ajustados\n",
        "mat = np.array([[0.16 ,0.10],[0.17 , 0.11],[20.02 , 1.29]])\n",
        "b = np.array([0.26,0.28,3.31])\n",
        "b_1 = np.array([0.27,0.25,3.33])\n",
        "#Se calculan los coeficientes de la recta que ajusta los datos\n",
        "x = minimos(mat, b)\n",
        "z = minimos(mat, b_1)\n",
        "# se imprimen los coeficientes alfa y betha que ajustan la recta\n",
        "print(x)\n",
        "print(z)\n",
        "\n"
      ]
    },
    {
      "cell_type": "markdown",
      "source": [
        "# <FONT COLOR=\"blue\">Ejercicio 24</FONT>"
      ],
      "metadata": {
        "id": "cL7lA_beIZ91"
      }
    },
    {
      "cell_type": "markdown",
      "source": [
        "Ejercicio 3.5. Heath M. Scientific Computing págs. 153-154. Inciso a y b.\n"
      ],
      "metadata": {
        "id": "hcNqp0fKnLP7"
      }
    },
    {
      "cell_type": "code",
      "source": [
        "import matplotlib.pyplot as plt\n",
        "datos = np.array([[1,1.02],[1,0.95],[1,0.87],[1,0.77],[1,0.67],[1,0.56],[1,0.44],[1,0.30],[1,0.16],[1,0.01]])\n",
        "b = np.array([0.39,0.32,0.27,0.22,0.18,0.15,0.13,0.12,0.13,0.15])\n",
        "coef = minimos(datos, b)\n",
        "print(coef)"
      ],
      "metadata": {
        "colab": {
          "base_uri": "https://localhost:8080/"
        },
        "id": "kdZep7VVtXfQ",
        "outputId": "201060a2-665c-46ce-94c3-ea11283935d9"
      },
      "execution_count": null,
      "outputs": [
        {
          "output_type": "stream",
          "name": "stdout",
          "text": [
            "[ 1.94792595 -2.25477696]\n"
          ]
        }
      ]
    },
    {
      "cell_type": "code",
      "source": [
        "cord_x = [1.02,0.95,0.87,0.77,0.67,0.56,0.44,0.30,0.16,0.01]\n",
        "cord_y = [0.39,0.32,0.27,0.22,0.18,0.15,0.13,0.12,0.13,0.15]\n",
        "eje_x = np.linspace(0,1,100)\n",
        "y=1.94792595 -2.25477696*eje_x\n",
        "plt.plot(cord_x,cord_y,\"o\")\n",
        "plt.plot(eje_x,y)\n",
        "\n",
        "plt.show()"
      ],
      "metadata": {
        "colab": {
          "base_uri": "https://localhost:8080/",
          "height": 265
        },
        "id": "4A3Afu9ToVHv",
        "outputId": "1da9d6a6-4955-45da-bc0d-1c6845f4088f"
      },
      "execution_count": null,
      "outputs": [
        {
          "output_type": "display_data",
          "data": {
            "image/png": "[encoded data removed]",
            "text/plain": [
              "<Figure size 432x288 with 1 Axes>"
            ]
          },
          "metadata": {
            "needs_background": "light"
          }
        }
      ]
    },
    {
      "cell_type": "markdown",
      "source": [
        "# <FONT COLOR=\"blue\">Ejercicio 25</FONT>\n",
        "\n",
        "Para mostrar la diferencia numérica entre el método de Ecuaciones Normales y la factorización $QR$ se requiere un problema de mínimos cuadrados que sea mal condicionado. Para ello consideremos el ajuste del siguiente polinomio de grado $n-1$, \n",
        "\n",
        "$p_{n-1}(t) = x_1 + x_2t + x_3t^2 + \\cdots + x_nt^{n-1}$\n",
        "\n",
        "para $m$ datos $(t_i, y_i), m>n$. Elegimos $t_i = (i-1)/(m-1), i=1,.., m$. Los valores para $y_i$ serán los dados al evaluar el polinomio con las $t_i$ dadas previamente y tomando $x_j = 1$ para $j=1,..,n$, se quiere ver si se pueden recuperar los valores de las $x_j$ con los métodos estudiados.\n",
        "\n",
        "Primero se genera una perturbación para los valores $y_i$ dado por \n",
        "\n",
        "$y_i = y_i + (2u_i - 1)*\\epsilon, \\;$ $i=1,...,m$\n",
        "\n",
        "con $u_i \\in [0,1]$ números aleatorios. Usar $m=21 \\; n=12$ y $\\epsilon=10^{-10}$.\n",
        "\n",
        "Después de generar la lista de datos $(t_i,y_i)$ se comparan los dos métodos para ajustar el polinomio. Primero, formar el Sistema de Ecuaciones Normales para el problema y resolver por la Factorización de Cholesky. Segundo utilizar algún método para factorizar la matriz en una $QR$ y resolver.\n",
        "\n",
        "<ol type=\"a\">\n",
        "<li>¿Para cuál de los métodos la solución es más sensible a la perturbación generada?</li>\n",
        "<li>¿Cuál de los métodos está más próximo a tener la solución exacta dada por $x_i=1$?</li>\n",
        "<li>¿La diferencia en las soluciones afecta en el ajuste de puntos $(t_i,y_i)$ por el polinomio, por qué?</li>\n",
        "</ol>\n",
        "\n",
        "Argumentar todas las respuestas con los resultados de ambos métodos.\n",
        "\n",
        "**Respuesta**: Generamos los valores de $y_i$ originales. Para ello,generamos los valores $t_i$ y las perturbaciones $u_i$.\n",
        "\n",
        "\n",
        "las perturbaciones para los valores $y_i$."
      ],
      "metadata": {
        "id": "daXnA2tXIfgJ"
      }
    },
    {
      "cell_type": "code",
      "source": [
        "\n",
        "import numpy as np\n",
        "from numpy import random\n",
        "import matplotlib.pyplot as plt\n",
        "\n",
        "# Factorización de Cholesky\n",
        "def chol(M):\n",
        "    m,n = M.shape\n",
        "    if m != n:\n",
        "        raise sslException(0)\n",
        "    L = np.zeros(M.shape,dtype = \"float64\")\n",
        "    for k in range(n):\n",
        "        s = 0.0\n",
        "        for r in range(k):\n",
        "            s += L[k,r]**2\n",
        "        L[k,k] = np.sqrt(M[k,k] - s)\n",
        "        for j in range(k+1,n):\n",
        "            s = 0.0\n",
        "            for r in range(k):\n",
        "                s += L[j,r]*L[k,r]\n",
        "            L[j,k] = (M[j,k] - s)/L[k,k]\n",
        "    return L\n",
        "\n",
        "# Sistema triangular inferior\n",
        "def STI(L,rhs):\n",
        "    m,n = L.shape\n",
        "    if m != n:\n",
        "        raise sslException(0)\n",
        "    b = rhs.copy()\n",
        "    x = np.empty((n,),dtype = \"float64\")\n",
        "    for j in range(n):\n",
        "        if L[j,j] == 0:\n",
        "             raise sslException(1)\n",
        "        x[j] = b[j]/L[j,j]\n",
        "        for i in range(j+1,n):\n",
        "            b[i] = b[i] - L[i,j]*x[j]\n",
        "    return x\n",
        "\n",
        "# Sistema triangular superior\n",
        "def STS(U,rhs):\n",
        "    m,n = U.shape\n",
        "    if m != n:\n",
        "        raise sslException(0)\n",
        "    b = rhs.copy()\n",
        "    x = np.zeros(b.shape,dtype = \"float64\")\n",
        "    for j in reversed(range(n)):\n",
        "        if U[j,j] == 0:\n",
        "            raise sslException(1)\n",
        "        else:\n",
        "            x[j] = b[j]/U[j,j]\n",
        "            for i in range(j):\n",
        "                b[i] = b[i] - U[i,j]*x[j]\n",
        "    return x\n",
        "\n",
        "\n",
        "u = random.rand(21)\n",
        "t = np.zeros(21)\n",
        "\n",
        "\n",
        "for i in range(21):\n",
        "  t[i] = ((i+1)-1)/(21 - 1)\n",
        "\n",
        "## La matriz de vandermonde para el vector t\n",
        "A = np.vander(t,12, increasing=True)\n",
        "\n",
        "# Generamos el vector y dado por la ecuación polinomial, que en \n",
        "# nuestro caso es dado un renglón en A, sumamos los elementos de las diferentes \n",
        "# columnas del renglón de A. \n",
        "# Obtenemos un vector con tamaño 21. \n",
        "yreal = np.sum(A, axis = 1)\n",
        "print(yreal)\n",
        "\n",
        "\n",
        "# Generamos el vector y con perturbaciones. \n",
        "epsilon = 10**(-10)\n",
        "yperturbado = yreal + (2*u-1)*epsilon"
      ],
      "metadata": {
        "id": "YGKgn8fZIhZ2",
        "colab": {
          "base_uri": "https://localhost:8080/"
        },
        "outputId": "2a2160a2-d335-4c1d-e112-749539dc8d39"
      },
      "execution_count": null,
      "outputs": [
        {
          "output_type": "stream",
          "name": "stdout",
          "text": [
            "[ 1.          1.05263158  1.11111111  1.17647059  1.24999999  1.33333325\n",
            "  1.42857067  1.53845634  1.6666387   1.81805645  1.99951172  2.22051952\n",
            "  2.49455804  2.8408914   3.28719571  3.87329459  4.65640262  5.71838829\n",
            "  7.17570464  9.19279825 12.        ]\n"
          ]
        }
      ]
    },
    {
      "cell_type": "markdown",
      "source": [
        "El sistema lineal $A^{\\intercal}A\\pmb{x} = A^{\\intercal}\\pmb{y}$ es comunmente conocido como sistema de **ecuaciones normales**.\n",
        "\n",
        "dado que $A^{\\intercal}A$ es una matriz simétrica definida positiva, podemos aplicar la factorización de Cholesky de modo tal que\n",
        "$$\n",
        "    LL^{\\intercal} = A^{\\intercal}A\n",
        "$$\n",
        "donde $L$ es una matriz triangular inferior.\n",
        "\n",
        "De tal manera que se resuelvan los sistemas\n",
        "$$\n",
        "    L\\pmb{w} = A^{\\intercal}\\pmb{y}\\quad\\text{y}\\quad L^{\\intercal}\\pmb{x} = \\pmb{w}\n",
        "$$\n",
        "para obtener el vector de parámetros $\\pmb{x}$"
      ],
      "metadata": {
        "id": "W9asJexu6ZBB"
      }
    },
    {
      "cell_type": "code",
      "source": [
        "L = chol(A.T@A)\n",
        "with np.printoptions(precision=4, suppress=True):\n",
        "    print(L)\n",
        "\n",
        "x_ec = STS(L.T,STI(L,yperturbado@A))\n",
        "print(x_ec)"
      ],
      "metadata": {
        "id": "9joTYpiR6hUT",
        "colab": {
          "base_uri": "https://localhost:8080/"
        },
        "outputId": "f41876f5-8afc-4d3e-e65d-ba2cdf157ea3"
      },
      "execution_count": null,
      "outputs": [
        {
          "output_type": "stream",
          "name": "stdout",
          "text": [
            "[[4.5826 0.     0.     0.     0.     0.     0.     0.     0.     0.\n",
            "  0.     0.    ]\n",
            " [2.2913 1.3874 0.     0.     0.     0.     0.     0.     0.     0.\n",
            "  0.     0.    ]\n",
            " [1.5657 1.3874 0.3744 0.     0.     0.     0.     0.     0.     0.\n",
            "  0.     0.    ]\n",
            " [1.2029 1.2688 0.5617 0.0987 0.     0.     0.     0.     0.     0.\n",
            "  0.     0.    ]\n",
            " [0.9856 1.1502 0.6492 0.1973 0.0256 0.     0.     0.     0.     0.\n",
            "  0.     0.    ]\n",
            " [0.841  1.0487 0.687  0.2764 0.0641 0.0066 0.     0.     0.     0.\n",
            "  0.     0.    ]\n",
            " [0.738  0.9644 0.6994 0.3359 0.1055 0.0197 0.0017 0.     0.     0.\n",
            "  0.     0.    ]\n",
            " [0.661  0.8944 0.6985 0.3796 0.145  0.0373 0.0058 0.0004 0.     0.\n",
            "  0.     0.    ]\n",
            " [0.6013 0.8358 0.6906 0.4115 0.1807 0.0573 0.0124 0.0016 0.0001 0.\n",
            "  0.     0.    ]\n",
            " [0.5537 0.7864 0.6793 0.4347 0.2119 0.0781 0.0211 0.0039 0.0005 0.\n",
            "  0.     0.    ]\n",
            " [0.5149 0.7442 0.6664 0.4514 0.2388 0.0986 0.0312 0.0073 0.0012 0.0001\n",
            "  0.     0.    ]\n",
            " [0.4828 0.7078 0.653  0.4633 0.2619 0.1184 0.0423 0.0117 0.0024 0.0003\n",
            "  0.     0.    ]]\n",
            "[1.         1.00000121 0.99995495 1.00063565 0.99533632 1.02026778\n",
            " 0.9443893  1.09898351 0.88591118 1.08217947 0.96637367 1.00596696]\n"
          ]
        }
      ]
    },
    {
      "cell_type": "markdown",
      "source": [
        "Ahora vamos a a realizar el ajuste usando la transformación de Householder. "
      ],
      "metadata": {
        "id": "CedHdptP8pAZ"
      }
    },
    {
      "cell_type": "code",
      "source": [
        "def qr_Householder(A):\n",
        "    m,n = A.shape\n",
        "    Q = np.eye(m)\n",
        "    R = np.array(A,dtype = \"float64\")\n",
        "    for k in range(n):\n",
        "        v = np.copy(R[k:,k])\n",
        "        alfa = -np.sign(v[0])*np.linalg.norm(v)\n",
        "        v -= alfa*canonico(v.size)\n",
        "        v /= np.linalg.norm(v)        \n",
        "        Q_hh = np.eye(v.size) - 2*(v.reshape(v.size,1)@v.reshape(1,v.size))\n",
        "        R[k:,k:] = Q_hh@R[k:,k:]\n",
        "        Q[:,k:] = Q[:,k:]@Q_hh\n",
        "    return Q,R\n",
        "\n",
        "Q_hh, R_hh = qr_Householder(A)\n",
        "\n",
        "# Se resuelve el sistema triangular y se muestra la solucion\n",
        "x_hh = STS(R_hh[:3,:3],yperturbado@Q_hh[:,:3])\n",
        "x_hh = STS(R_hh[:12,:12],yperturbado@Q_hh[:,:12])\n",
        "print(x_hh)\n",
        "\n",
        "\n",
        "x_original = np.ones(12) \n",
        "norm_ec = np.linalg.norm(x_original-x_ec)\n",
        "norm_hh = np.linalg.norm(x_original-x_hh)\n",
        "print(norm_ec)\n",
        "print(norm_hh)\n",
        "\n",
        "# b) \n",
        "# El método con mejor ajuste es el de Transformación de Householder, al tener\n",
        "# el vector diferencia con la solución original (vector de unos) menor. "
      ],
      "metadata": {
        "id": "FO5on20J9teB",
        "colab": {
          "base_uri": "https://localhost:8080/"
        },
        "outputId": "75e4e3ac-2e8c-402e-ed2c-a414a93ea027"
      },
      "execution_count": null,
      "outputs": [
        {
          "output_type": "stream",
          "name": "stdout",
          "text": [
            "[1.         1.         0.99999984 1.00000185 0.99998968 1.00002926\n",
            " 0.99996388 0.99998673 1.00010094 0.99986941 1.00007533 0.99998308]\n",
            "0.18509262774538646\n",
            "0.0001888130915334838\n"
          ]
        }
      ]
    },
    {
      "cell_type": "markdown",
      "source": [
        ""
      ],
      "metadata": {
        "id": "rUx9UCr7U5QA"
      }
    },
    {
      "cell_type": "markdown",
      "source": [
        "# <FONT COLOR=\"blue\">Ejercicio 26</FONT>"
      ],
      "metadata": {
        "id": "Yq3qYEJkIh8w"
      }
    },
    {
      "cell_type": "markdown",
      "source": [
        "Resolver\n",
        "<ol type=\"a\">\n",
        "<li> Implementar los métodos de Gram-Schmidt Clásico y Modificado para generar la matriz ortogonal $Q$ cuyas columnas forman una base ortogonal para el espacio columna de la Matriz $H$ de Hilbert cuyas entras están dadas por\n",
        "$$\n",
        "  h_{i,j} = \\frac{1}{i+j-1}, \\hspace{1cm} n=2,...,12\n",
        "$$\n",
        "\n",
        "Como la medida de calidad en los resultados (específicamente la pérdida de ortogonalidad), graficar la cantidad\n",
        "$$\n",
        "  -\\log_{10}(\\vert\\vert I-Q^tQ \\vert\\vert) \\hspace{3cm}(2)\n",
        "$$\n",
        "la cual puede ser interpretada como los \"dígitos de precisión\", para cada método como función de n.\n",
        "\n",
        "Como tercer método de comparación, dada la matriz $Q$ obtenida del procedimiento Clásico de Gram-Schmidt, volver a calcular una nueva $Q$ con la anterior, es decir, aplicar dos veces el método clásico. Graficar con $(2)$ la medida de ortogonalidad creada.\n",
        "\n",
        "¿Cómo pueden compararse los 3 métodos en rapidez, almacenamiento y exactitud?\n",
        "<li> Repetir a) usando la factorización de Householder para poner $H=QR$. Calcular la cantidad pedida en la ecuación $(2)$ y comparar nuevamente con los anteriores.\n",
        "<li> Una manera de calcular una base ortogonal es usando las ecuaciones normales. Al formar la matriz de las ecuaciones normales y calcular su factorización de Cholesky $A^tA = LL^t$, tenemos que $Q=AL^t$ es ortogonal y su espacio columna es el mismo que el de $A$. Repetir el procedimiento alterior usando la matriz $Q$ obtenida arriba. Graficar los resultados comparando con los obtenidos por Gram-Schmidt.\n",
        "<li> ¿Se puede dar una explicación de la calidad de los resultados obtenidos por los distintos métodos?\n",
        "</ol>"
      ],
      "metadata": {
        "id": "bNpxAQsdq0G7"
      }
    },
    {
      "cell_type": "markdown",
      "source": [
        "### Solución:"
      ],
      "metadata": {
        "id": "ufm-TIVPs-va"
      }
    },
    {
      "cell_type": "code",
      "source": [
        "import numpy as np\n",
        "from numpy import linalg\n",
        "from scipy.linalg import hilbert\n",
        "import matplotlib.pyplot as plt\n",
        "\n",
        "# Funciones auxiliares\n",
        "def canonico(n,j = 1):\n",
        "    x,indx = np.zeros((max(1,n),)),0\n",
        "    if j >= 0 and j <= n:\n",
        "        indx = j-1\n",
        "    x[indx] = 1.0\n",
        "    return x\n",
        "\n",
        "# Factorización Gram-Schmidt Clásico\n",
        "def qr_GramSchmidt(A):\n",
        "    m,n = A.shape\n",
        "    Q = np.empty((m,n),dtype = \"float64\")\n",
        "    R = np.zeros((n,n))\n",
        "    for k in range(n): # sobre las columnas\n",
        "        Q[:,k] = np.copy(A[:,k])\n",
        "        for j in range(k):\n",
        "            R[j,k] = Q[:,j].T@A[:,k]\n",
        "            Q[:,k] -= R[j,k]*Q[:,j] # componentes\n",
        "        R[k,k] = np.linalg.norm(Q[:,k])\n",
        "        Q[:,k] /= R[k,k] # normalizar\n",
        "    return Q  # ,R  # solo regrsamos Q\n",
        "\n",
        "# Factorización Gram-Schmidt Modificado\n",
        "def qr_GramSchmidt_Mod(A):\n",
        "    m,n = A.shape\n",
        "    Q = np.empty((m,n),dtype = \"float64\")\n",
        "    R = np.zeros((n,n))\n",
        "    for k in range(n): # sobre las colunas\n",
        "        Q[:,k] = np.copy(A[:,k])\n",
        "        R[k,k] = np.linalg.norm(Q[:,k])\n",
        "        Q[:,k] = Q[:,k]/R[k,k] # normalizar\n",
        "        for j in range(k+1,n):\n",
        "            R[k,j] = Q[:,k].T@Q[:,j]\n",
        "            Q[:,j] -= R[k,j]*Q[:,k] # componentes\n",
        "    return Q  # ,R  # solo regrsamos Q\n",
        "\n",
        "# Factorización Householder\n",
        "def qr_Householder(A):\n",
        "    m,n = A.shape\n",
        "    Q = np.eye(m)\n",
        "    R = np.array(A,dtype = \"float64\")\n",
        "    for k in range(n): # sobre las columnas\n",
        "        v = np.copy(R[k:,k])\n",
        "        alfa = -np.sign(v[0])*np.linalg.norm(v)\n",
        "        v -= alfa*canonico(v.size)\n",
        "        v /= np.linalg.norm(v)        \n",
        "        Q_hh = np.eye(v.size) - 2*(v.reshape(v.size,1)@v.reshape(1,v.size)) # convertimos a vectores fila y columna (vector oeseholder)\n",
        "        R[k:,k:] = Q_hh@R[k:,k:]\n",
        "        Q[:,k:] = Q[:,k:]@Q_hh\n",
        "    return Q #,R  # solo regresamos Q"
      ],
      "metadata": {
        "id": "b0WFZXzXIjoM"
      },
      "execution_count": null,
      "outputs": []
    },
    {
      "cell_type": "code",
      "source": [
        "n = range(2,13) # dimensión de la matriz de Hilbert\n",
        "pc1 = [] # digitos de presición aplicando una vez Gram-Schmidt Clásico a la matriz de Hilbert\n",
        "pc2 = [] # digitos de presición aplicando dos veces Gram-Schmidt Clásico a la matriz de Hilbert\n",
        "pm = [] # digitos de presición aplicando Gram-Schmidt Modificado a la matriz de Hilbert\n",
        "ph = [] # digitos de presición aplicando Householder a la matriz de Hilbert\n",
        "pc = [] # digitos de presición aplicando Cholesky a la matriz de Hilbert"
      ],
      "metadata": {
        "id": "PLGs8M0nq-PS"
      },
      "execution_count": null,
      "outputs": []
    },
    {
      "cell_type": "markdown",
      "source": [
        "### a)"
      ],
      "metadata": {
        "id": "sKYx7X7PrGX6"
      }
    },
    {
      "cell_type": "code",
      "source": [
        "# Aplicando una vez Gram-Schmidt Clásico\n",
        "for i in n:\n",
        "  H = hilbert(i) # matriz de Hilbert\n",
        "  Q = qr_GramSchmidt(H) # aplicamos una vez Gram-Schmidt Clásico\n",
        "  d = -np.log10( linalg.norm( np.identity(i)-Q.T@Q ) ) # entre más grande sea d, Q es más ortogonal\n",
        "  pc1.append(d)\n",
        "# Graficamos\n",
        "plt.scatter(n,pc1,color = 'steelblue')\n",
        "ax = plt.gca()\n",
        "ax.set_xlabel(\"$n$\")\n",
        "ax.set_ylabel(\"dígitos de precisión\")\n",
        "plt.title(\"Aplicando una vez Gram-Schmidt Clásico\")\n",
        "plt.show()\n",
        "\n",
        "print(\"\\n\")\n",
        "# Aplicando una vez Gram-Schmidt Modificado\n",
        "for i in n:\n",
        "  H = hilbert(i) # matriz de Hilbert\n",
        "  Q = qr_GramSchmidt_Mod(H) # aplicamos Gram-Schmidt Modificado\n",
        "  d = -np.log10( linalg.norm( np.identity(i)-Q.T@Q ) ) # entre más grande sea d, Q es más ortogonal\n",
        "  pm.append(d)\n",
        "# Graficamos\n",
        "plt.scatter(n,pm,color = 'steelblue')\n",
        "ax = plt.gca()\n",
        "ax.set_xlabel(\"$n$\")\n",
        "ax.set_ylabel(\"dígitos de precisión\")\n",
        "plt.title(\"Aplicando Gram-Schmidt Modificado\")\n",
        "plt.show()\n",
        "\n",
        "print(\"\\n\")\n",
        "# Aplicando dos veces Gram-Schmidt Clásico\n",
        "for i in n:\n",
        "  H = hilbert(i) # matriz de Hilbert\n",
        "  Q = qr_GramSchmidt(qr_GramSchmidt(H)) # aplicamos dos veces Gram-Schmidt Clásico\n",
        "  d = -np.log10( linalg.norm( np.identity(i)-Q.T@Q ) ) # entre más grande sea d, Q es más ortogonal\n",
        "  pc2.append(d)\n",
        "# Graficamos\n",
        "plt.scatter(n,pc2,color = 'steelblue')\n",
        "ax = plt.gca()\n",
        "ax.set_xlabel(\"$n$\")\n",
        "ax.set_ylabel(\"dígitos de precisión\")\n",
        "plt.title(\"Aplicando dos veces Gram-Schmidt Clásico\")\n",
        "plt.show()"
      ],
      "metadata": {
        "colab": {
          "base_uri": "https://localhost:8080/",
          "height": 920
        },
        "id": "_cw0r3B8rBib",
        "outputId": "66c3ca66-1c6e-4c61-a431-f85e19982cf9"
      },
      "execution_count": null,
      "outputs": [
        {
          "output_type": "display_data",
          "data": {
            "image/png": "[encoded data removed]",
            "text/plain": [
              "<Figure size 432x288 with 1 Axes>"
            ]
          },
          "metadata": {
            "needs_background": "light"
          }
        },
        {
          "output_type": "stream",
          "name": "stdout",
          "text": [
            "\n",
            "\n"
          ]
        },
        {
          "output_type": "display_data",
          "data": {
            "image/png": "[encoded data removed]",
            "text/plain": [
              "<Figure size 432x288 with 1 Axes>"
            ]
          },
          "metadata": {
            "needs_background": "light"
          }
        },
        {
          "output_type": "stream",
          "name": "stdout",
          "text": [
            "\n",
            "\n"
          ]
        },
        {
          "output_type": "display_data",
          "data": {
            "image/png": "[encoded data removed]",
            "text/plain": [
              "<Figure size 432x288 with 1 Axes>"
            ]
          },
          "metadata": {
            "needs_background": "light"
          }
        }
      ]
    },
    {
      "cell_type": "markdown",
      "source": [
        "#### Comparación:\n",
        "Del más al menos rápido:\n",
        "\n",
        "1. Aplicando una vez Gram-Schmidt Clásico\n",
        "2. Aplicando Gram-Schmidt Modificado\n",
        "3. Aplicando dos veces Gram-Schmidt Clásico\n",
        "\n",
        "Del que ocupa más almacenamiento al que ocupa menos:\n",
        "\n",
        "1. Aplicando dos veces Gram-Schmidt Clásico\n",
        "2. Aplicando Gram-Schmidt Modificado\n",
        "3. Aplicando una vez Gram-Schmidt Clásico\n",
        "\n",
        "Del más exacto al menos exacto:\n",
        "\n",
        "1. Aplicando dos veces Gram-Schmidt Clásico\n",
        "2. Aplicando una vez Gram-Schmidt Clásico\n",
        "3. Aplicando Gram-Schmidt Modificado"
      ],
      "metadata": {
        "id": "ZbRZjVQQrScL"
      }
    },
    {
      "cell_type": "markdown",
      "source": [
        "### b)"
      ],
      "metadata": {
        "id": "dxKE83P9rWlJ"
      }
    },
    {
      "cell_type": "code",
      "source": [
        "# Aplicando Householder\n",
        "for i in n:\n",
        "  H = hilbert(i) # matriz de Hilbert\n",
        "  Q = qr_Householder(H) # aplicamos Householder\n",
        "  d = -np.log10( linalg.norm( np.identity(i)-Q.T@Q ) ) # entre más grande sea d, Q es más ortogonal\n",
        "  ph.append(d)\n",
        "# Graficamos\n",
        "plt.scatter(n,ph,color = 'steelblue')\n",
        "ax = plt.gca()\n",
        "ax.set_xlabel(\"$n$\")\n",
        "ax.set_ylabel(\"dígitos de precisión\")\n",
        "plt.title(\"Aplicando Householder\")\n",
        "plt.show()"
      ],
      "metadata": {
        "colab": {
          "base_uri": "https://localhost:8080/",
          "height": 295
        },
        "id": "pDBwL79rrTfp",
        "outputId": "cd4ac89c-8824-4c3f-a691-632428888b34"
      },
      "execution_count": null,
      "outputs": [
        {
          "output_type": "display_data",
          "data": {
            "image/png": "[encoded data removed]",
            "text/plain": [
              "<Figure size 432x288 with 1 Axes>"
            ]
          },
          "metadata": {
            "needs_background": "light"
          }
        }
      ]
    },
    {
      "cell_type": "markdown",
      "source": [
        "Observaciones: Notamos que el método de Householder es mucho mejor que todos los anteriores en todos los ámbitos."
      ],
      "metadata": {
        "id": "wdhdLyw8rfhy"
      }
    },
    {
      "cell_type": "markdown",
      "source": [
        "### c)"
      ],
      "metadata": {
        "id": "Bj4c_DKDrjaz"
      }
    },
    {
      "cell_type": "code",
      "source": [
        "# Aplicando Householder + Cholesky\n",
        "for i in n:\n",
        "  H = hilbert(i) # matriz de Hilbert\n",
        "  A = qr_Householder(H) # aplicamos Householder\n",
        "  L = np.linalg.cholesky(A.T@A) # aplicamos Cholesky\n",
        "  Q = A@L.T # ortogonal\n",
        "  d = -np.log10( linalg.norm( np.identity(i)-Q.T@Q ) ) # entre más grande sea d, Q es más ortogonal\n",
        "  pc.append(d)\n",
        "# Graficamos\n",
        "plt.scatter(n,pc,color = 'steelblue')\n",
        "ax = plt.gca()\n",
        "ax.set_xlabel(\"$n$\")\n",
        "ax.set_ylabel(\"dígitos de precisión\")\n",
        "plt.title(\"Aplicando Householder + Cholesky\")\n",
        "plt.show()"
      ],
      "metadata": {
        "colab": {
          "base_uri": "https://localhost:8080/",
          "height": 295
        },
        "id": "DnZlLFN7rm_j",
        "outputId": "52472f54-7fd4-420a-d03b-f2540ff1a9cf"
      },
      "execution_count": null,
      "outputs": [
        {
          "output_type": "display_data",
          "data": {
            "image/png": "[encoded data removed]",
            "text/plain": [
              "<Figure size 432x288 with 1 Axes>"
            ]
          },
          "metadata": {
            "needs_background": "light"
          }
        }
      ]
    },
    {
      "cell_type": "markdown",
      "source": [
        "Observaciones: El método de Householder + Cholesky es más efectivo que los de Gram-Schmidt, pero un poco menos efectivo que el de Householder. Además este método de Householder + Cholesky ocupa más memoria y tarda un poco más que todos los anteriores."
      ],
      "metadata": {
        "id": "6fXUHt4Nrq-I"
      }
    },
    {
      "cell_type": "markdown",
      "source": [
        "### d)\n",
        "\n",
        "#### Calidad de resultados:\n",
        "\n",
        "Del más al de menos calidad:\n",
        "1. Aplicando Householder\n",
        "2. Aplicando Householder + Cholesky\n",
        "3. Aplicando dos veces Gram-Schmidt Clásico\n",
        "4. Aplicando una vez Gram-Schmidt Clásico\n",
        "5. Aplicando Gram-Schmidt Modificado\n",
        "\n",
        "En general, el método de Householder tienen una mayor estabilidad numérica que el método de Gram-Schmidt.\n",
        "\n",
        "$Q$ siempre está cerca de $H$ para todos los métodos.\n",
        "\n",
        "Sin embargo, su comportamiento es muy diferente a la hora de producir ortogonalidad.\n",
        "\n",
        "¿Qué tan cerca está $Q*Q^t$ de la identidad?\n",
        "\n",
        "Gram-Schmidt clásico: Suele tener una ortogonalidad muy pobre.\n",
        "\n",
        "Gram-Schmidt modificado: En teoría es mejor que el clásico, pero falla completamente cuando la matriz es singular (en este caso la matriz de Hilbert es singular).\n",
        "\n",
        "Householder: Siempre tiene una buena ortogonalidad."
      ],
      "metadata": {
        "id": "m8F7iwq3rxoc"
      }
    },
    {
      "cell_type": "markdown",
      "source": [
        "# <FONT COLOR=\"blue\">Ejercicio 27</FONT>"
      ],
      "metadata": {
        "id": "1P1Xr_9_IkV4"
      }
    },
    {
      "cell_type": "markdown",
      "source": [
        "¿Cuál es la solución exacta al problema de mínimos cuadrados como funcion de ϵ para el siguiente sistema?:\n",
        "$$\\left(\\begin{array}{ccc} 1& 1& 1 \\\\\n",
        "ϵ& 0& 0 \\\\\n",
        "0& ϵ& 0\\\\\n",
        "0& 0& ϵ\\end{array}\\right) \\left(\\begin{array}{c} x_1\\\\ x_2\\\\ x_3\\end{array}\\right)  \\approx  \\left(\\begin{array}{c} 1\\\\ 0\\\\0\\\\0\\end{array}\\right)$$\n",
        "\n",
        "Resolver el problemea de mínimos cuadrados usando cada uno de los métodos listados. Para cada método variar el valor de ϵ tan pequeño como se pueda hasta obtener una solución exacta\n",
        "Probar explicitamente valores cercanos a \n",
        "$$ϵ \\approx \\sqrtϵ_m \\hspace{.5 cm}\\wedge \\hspace{.5cm} ϵ \\approx ϵ_m$$ \n",
        "\n",
        "Nota: El profesor comentó en clase que bastaba con aplicar solo los dos valores mencionados arriba para cada uno de los métodos listados, y así lo haremos \n"
      ],
      "metadata": {
        "id": "9iEPO7bt1qIE"
      }
    },
    {
      "cell_type": "markdown",
      "source": [
        "### Solución:"
      ],
      "metadata": {
        "id": "gFHcDre137jZ"
      }
    },
    {
      "cell_type": "markdown",
      "source": [
        "Alrededor de los ejercicios anteriores se definieron las funciones de la mayoría de los métodos solicitados, asi que solo definiremos el método de Givens y una pequeña funcion para el método de ecuaciones normales\n",
        "\n",
        "Givens: \n",
        "Este métedo consistirá de dos funciones, la función principal recibirá como parametro la matriz y relaizará el algoritmo de Givenes visto en clase, y cuando llegtue al puntoi donde necesita definir s y c se apoyara en otra fumcion para definir estos valores "
      ],
      "metadata": {
        "id": "UQDpgiqO39vK"
      }
    },
    {
      "cell_type": "code",
      "source": [
        "from math import copysign, hypot, sqrt\n",
        "\n",
        "def givens(A):\n",
        "    # Descomposicion QR usando las rotaciones de Givens \n",
        "    (n,m) = np.shape(A)\n",
        "\n",
        "    # Inicializamos Q y R.\n",
        "    Q = np.identity(n)\n",
        "    R = np.copy(A)\n",
        "\n",
        "    # Iteramos sobre la matriz triangular inferior \n",
        "    #Obtenemos los indices de la matriz triangular con la funcion tril_indeces de numpy\n",
        "    (rows, cols) = np.tril_indices(n, -1, m)\n",
        "    for (r, cl) in zip(rows, cols):\n",
        "\n",
        "        # Realizamos la matriz de Rotacion y\n",
        "        # damos forma a nuestra matriz R.\n",
        "        if R[r, cl] != 0:\n",
        "            (c, s) = givens_matriz_r(R[cl, cl], R[r, cl])\n",
        "\n",
        "            G = np.identity(n)\n",
        "            G[[cl, r], [cl, r]] = c\n",
        "            G[r, cl] = s\n",
        "            G[cl, r] = -s\n",
        "\n",
        "            R = G@R\n",
        "            Q = Q@G.T\n",
        "    return Q, R\n",
        "\n",
        "\n",
        "def givens_matriz_r(a, b):\n",
        "    #Definimos las entradas de la matriz de rotacion de givens\n",
        "    r = hypot(a, b) \n",
        "    c = a/r\n",
        "    s = -b/r\n",
        "\n",
        "    return (c, s)\n",
        "\n"
      ],
      "metadata": {
        "id": "ozrhLJmCIl-I"
      },
      "execution_count": null,
      "outputs": []
    },
    {
      "cell_type": "markdown",
      "source": [
        "Ecuaciones normales: Para este método es vital notar que $A^tA$ es simétrica definida positiva, así que una vez calculada esta matriz podemos aplicar la sustitucion de Cholesky para resolver nuestro problema "
      ],
      "metadata": {
        "id": "AZLLF50DAnev"
      }
    },
    {
      "cell_type": "code",
      "source": [
        "def ec_normales_vec(A, b):\n",
        "    L = chol(A.T@A)\n",
        "    try:\n",
        "      x = STS(L.T,STI(L,b@A))\n",
        "      return L, x\n",
        "    except:\n",
        "      return L"
      ],
      "metadata": {
        "id": "jh4rUedTBqj7"
      },
      "execution_count": null,
      "outputs": []
    },
    {
      "cell_type": "markdown",
      "source": [
        "Por ultimo redefinimos unas funciones que alteramos en el camino "
      ],
      "metadata": {
        "id": "yNFmUW9fHDoZ"
      }
    },
    {
      "cell_type": "code",
      "source": [
        "#Ahora si dejamos que devuelva Q y R\n",
        "# Factorización Householder\n",
        "def qr_Householder(A):\n",
        "    m,n = A.shape\n",
        "    Q = np.eye(m)\n",
        "    R = np.array(A,dtype = \"float64\")\n",
        "    for k in range(n): # sobre las columnas\n",
        "        v = np.copy(R[k:,k])\n",
        "        alfa = -np.sign(v[0])*np.linalg.norm(v)\n",
        "        v -= alfa*canonico(v.size)\n",
        "        v /= np.linalg.norm(v)        \n",
        "        Q_hh = np.eye(v.size) - 2*(v.reshape(v.size,1)@v.reshape(1,v.size)) # convertimos a vectores fila y columna (transformación)\n",
        "        R[k:,k:] = Q_hh@R[k:,k:]\n",
        "        Q[:,k:] = Q[:,k:]@Q_hh # vector householder\n",
        "    return Q,R  \n",
        "\n",
        "# Factorización Gram-Schmidt Clásico\n",
        "def qr_GramSchmidt(A):\n",
        "    m,n = A.shape\n",
        "    Q = np.empty((m,n),dtype = \"float64\")\n",
        "    R = np.zeros((n,n))\n",
        "    for k in range(n):\n",
        "        Q[:,k] = np.copy(A[:,k])\n",
        "        for j in range(k):\n",
        "            R[j,k] = Q[:,j].T@A[:,k]\n",
        "            Q[:,k] -= R[j,k]*Q[:,j]\n",
        "        R[k,k] = np.linalg.norm(Q[:,k])\n",
        "        Q[:,k] /= R[k,k]\n",
        "    return Q,R "
      ],
      "metadata": {
        "id": "Drc9vbd9HCET"
      },
      "execution_count": null,
      "outputs": []
    },
    {
      "cell_type": "markdown",
      "source": [
        "Con nuestros dos últimos métdos ya definidos podemos dar respuesta a nuestro ejercicio, para ello generamos un ciclo con el fin de ahorrar tiempo \n"
      ],
      "metadata": {
        "id": "m_TbHZiYCQXB"
      }
    },
    {
      "cell_type": "code",
      "source": [
        "#Definimos como se imprimira el jale \n",
        "np.set_printoptions(precision=4, suppress=True)\n",
        "#Definimos el epsilon de maquina \n",
        "epsilon = np.finfo(float).eps\n",
        "eps = [epsilon, sqrt(epsilon)]\n",
        "#Nuestro vector definido \n",
        "b = np.array([1,0,0,0])\n",
        "\n",
        "for e in eps:\n",
        "  print(f\"Para epsilon = {e}, aplicando cada uno de los metodos solicitados tendremos lo siguiente\")\n",
        "  A = np.array([[1, 1, 1],\n",
        "              [e, 0, 0],\n",
        "              [0, e, 0],\n",
        "              [0, 0, e]])\n",
        "  print(f\"A = \\n{A}\")\n",
        "  # A) Ecuaciones Normales ---------------------------------------------------\n",
        "  L = ec_normales_vec(A,b) \n",
        "  print(\"Aplicando el metodo de ecuaciones normales y solucionando\"\n",
        "          +\" con la factorizacion de Cholesky tenemos que:\",\n",
        "        f\"A^t*A = \\n{A.T@A}\", f\"L = \\n{L}\",\n",
        "        \"Para resolver el sistema aplicamos Cholesky, arrojandonos que\"\n",
        "        +\"\\n Desgraciadamente en este caso no hay solucion por los ceros que se forman\\n\",\n",
        "        sep=\"\\n\\n\")\n",
        "  # B) House Holder ----------------------------------------------------------\n",
        "  q_hh, r_hh = qr_Householder(A)\n",
        "  # Resolviendo el sistema\n",
        "  y = q_hh.T@b\n",
        "  x = STS(r_hh[:2, :2], y)\n",
        "  print(\"Aplicando la factorizacion QR con reflexiones de House Holder tenemos que:\",\n",
        "        f\"Q = \\n{q_hh}\", f\"R = \\n{r_hh}\", f\"Entoces \\nQR = \\n{q_hh@r_hh}\",\n",
        "        f\"Comprobando con el modulo numpy, nuetra respuesta es: {np.allclose(q_hh@r_hh,A)}\",\n",
        "        \"Para resolver el sistema debemos resolver Q^t*b = y de manera directa y depues utilizar\"\n",
        "        + \" sustitucion hacia atras para resolver el sistema Rx = y\",\n",
        "        f\"Con Q^t =\\n{q_hh.T}\", f\"Y b = \\n{b}\", f\"Entonces Q^t*b = \\n{y}\",\n",
        "        \"Resolviendo Rx = y con sustitucion hacia atras tenemos que\",  f\"x =\\n{x}\", sep=\"\\n\\n\")\n",
        "  # C) Givens ---------------------------------------------------------------\n",
        "  (Q, R) = givens(A)\n",
        "  # Resolviendo el sistema\n",
        "  y = Q.T@b\n",
        "  x = STS(R[:2, :2], y)\n",
        "\n",
        "  # Pues con esto imprimimos  el ultimo resultado\n",
        "  print(\"Aplicando la factorizacion QR con rotacion de Givens tenemos que:\",\n",
        "        f\"Q = \\n{Q}\", f\"R = \\n{R}\", f\"Entoces \\nQR = \\n{Q@R}\",\n",
        "        f\"Comprobando con el modulo numpy, nuetra respuesta es: {np.allclose(Q@R,A)}\",\n",
        "        \"Para resolver el sistema debemos resolver Q^t*b = y de manera directa y depues utilizar\"\n",
        "        + \" sustitucion hacia atras para resolver el sistema Rx = y\",\n",
        "        f\"Con Q^t =  \\n{Q.T}\", f\"Y b = \\n{b}\", f\"Entonces Q^t*b = \\n{y}\",\n",
        "        \"Resolviendo Rx = y con sustitucion hacia atras tenemos que\",  f\"x =\\n{x}\\n\\n\", sep=\"\\n\\n\")\n",
        " # D) Ortogonalizacion Gram-Schmidt Clasico.----------------------------------------------\n",
        "  (Q, R) = qr_GramSchmidt(A)\n",
        "  # Resolviendo el sistema\n",
        "  y = Q.T@b\n",
        "  x = STS(R[:2, :2], y)\n",
        "\n",
        "  # Pues con esto imprimimos  el ultimo resultado\n",
        "  print(\"Aplicando Ortogonalizacion Gram-Schmidt Clasica tenemos que:\",\n",
        "        f\"Q = \\n{Q}\", f\"R = \\n{R}\", f\"Entoces \\nQR = \\n{Q@R}\",\n",
        "        f\"Comprobando con el modulo numpy, nuetra respuesta es: {np.allclose(Q@R,A)}\",\n",
        "        \"Para resolver el sistema debemos resolver Q^t*b = y de manera directa y depues utilizar\"\n",
        "        + \" sustitucion hacia atras para resolver el sistema Rx = y\",\n",
        "        f\"Con Q^t =  \\n{Q.T}\", f\"Y b = \\n{b}\", f\"Entonces Q^t*b = \\n{y}\",\n",
        "        \"Resolviendo Rx = y con sustitucion hacia atras tenemos que\",  f\"x =\\n{x}\\n\\n\", sep=\"\\n\\n\")\n",
        "\n",
        "  \n"
      ],
      "metadata": {
        "colab": {
          "base_uri": "https://localhost:8080/"
        },
        "id": "oSBcgrwYCg9X",
        "outputId": "e2005ef4-46ab-400c-d1f9-bef2a2628942"
      },
      "execution_count": null,
      "outputs": [
        {
          "output_type": "stream",
          "name": "stdout",
          "text": [
            "Para epsilon = 2.220446049250313e-16, aplicando cada uno de los metodos solicitados tendremos lo siguiente\n",
            "A = \n",
            "[[1. 1. 1.]\n",
            " [0. 0. 0.]\n",
            " [0. 0. 0.]\n",
            " [0. 0. 0.]]\n",
            "Aplicando el metodo de ecuaciones normales y solucionando con la factorizacion de Cholesky tenemos que:\n",
            "\n",
            "A^t*A = \n",
            "[[1. 1. 1.]\n",
            " [1. 1. 1.]\n",
            " [1. 1. 1.]]\n",
            "\n",
            "L = \n",
            "[[ 1.  0.  0.]\n",
            " [ 1.  0.  0.]\n",
            " [ 1. nan nan]]\n",
            "\n",
            "Para resolver el sistema aplicamos Cholesky, arrojandonos que\n",
            " Desgraciadamente en este caso no hay solucion por los ceros que se forman\n",
            "\n",
            "Aplicando la factorizacion QR con reflexiones de House Holder tenemos que:\n",
            "\n",
            "Q = \n",
            "[[-1.      0.      0.     -0.    ]\n",
            " [-0.     -0.7071 -0.4082  0.5774]\n",
            " [ 0.      0.7071 -0.4082  0.5774]\n",
            " [ 0.      0.      0.8165  0.5774]]\n",
            "\n",
            "R = \n",
            "[[-1. -1. -1.]\n",
            " [ 0.  0.  0.]\n",
            " [ 0.  0.  0.]\n",
            " [ 0.  0. -0.]]\n",
            "\n",
            "Entoces \n",
            "QR = \n",
            "[[ 1.  1.  1.]\n",
            " [ 0.  0.  0.]\n",
            " [ 0.  0. -0.]\n",
            " [ 0.  0.  0.]]\n",
            "\n",
            "Comprobando con el modulo numpy, nuetra respuesta es: True\n",
            "\n",
            "Para resolver el sistema debemos resolver Q^t*b = y de manera directa y depues utilizar sustitucion hacia atras para resolver el sistema Rx = y\n",
            "\n",
            "Con Q^t =\n",
            "[[-1.     -0.      0.      0.    ]\n",
            " [ 0.     -0.7071  0.7071  0.    ]\n",
            " [ 0.     -0.4082 -0.4082  0.8165]\n",
            " [-0.      0.5774  0.5774  0.5774]]\n",
            "\n",
            "Y b = \n",
            "[1 0 0 0]\n",
            "\n",
            "Entonces Q^t*b = \n",
            "[-1.  0.  0. -0.]\n",
            "\n",
            "Resolviendo Rx = y con sustitucion hacia atras tenemos que\n",
            "\n",
            "x =\n",
            "[0.5 0.5 0.  0. ]\n",
            "Aplicando la factorizacion QR con rotacion de Givens tenemos que:\n",
            "\n",
            "Q = \n",
            "[[ 1.      0.      0.     -0.    ]\n",
            " [ 0.     -0.7071 -0.4082  0.5774]\n",
            " [ 0.      0.7071 -0.4082  0.5774]\n",
            " [ 0.      0.      0.8165  0.5774]]\n",
            "\n",
            "R = \n",
            "[[ 1.  1.  1.]\n",
            " [ 0.  0.  0.]\n",
            " [ 0.  0.  0.]\n",
            " [ 0.  0. -0.]]\n",
            "\n",
            "Entoces \n",
            "QR = \n",
            "[[ 1.  1.  1.]\n",
            " [ 0.  0.  0.]\n",
            " [ 0.  0. -0.]\n",
            " [ 0.  0.  0.]]\n",
            "\n",
            "Comprobando con el modulo numpy, nuetra respuesta es: True\n",
            "\n",
            "Para resolver el sistema debemos resolver Q^t*b = y de manera directa y depues utilizar sustitucion hacia atras para resolver el sistema Rx = y\n",
            "\n",
            "Con Q^t =  \n",
            "[[ 1.      0.      0.      0.    ]\n",
            " [ 0.     -0.7071  0.7071  0.    ]\n",
            " [ 0.     -0.4082 -0.4082  0.8165]\n",
            " [-0.      0.5774  0.5774  0.5774]]\n",
            "\n",
            "Y b = \n",
            "[1 0 0 0]\n",
            "\n",
            "Entonces Q^t*b = \n",
            "[ 1.  0.  0. -0.]\n",
            "\n",
            "Resolviendo Rx = y con sustitucion hacia atras tenemos que\n",
            "\n",
            "x =\n",
            "[0.5 0.5 0.  0. ]\n",
            "\n",
            "\n",
            "Aplicando Ortogonalizacion Gram-Schmidt Clasica tenemos que:\n",
            "\n",
            "Q = \n",
            "[[ 1.      0.      0.    ]\n",
            " [ 0.     -0.7071 -0.7071]\n",
            " [ 0.      0.7071  0.    ]\n",
            " [ 0.      0.      0.7071]]\n",
            "\n",
            "R = \n",
            "[[1. 1. 1.]\n",
            " [0. 0. 0.]\n",
            " [0. 0. 0.]]\n",
            "\n",
            "Entoces \n",
            "QR = \n",
            "[[1. 1. 1.]\n",
            " [0. 0. 0.]\n",
            " [0. 0. 0.]\n",
            " [0. 0. 0.]]\n",
            "\n",
            "Comprobando con el modulo numpy, nuetra respuesta es: True\n",
            "\n",
            "Para resolver el sistema debemos resolver Q^t*b = y de manera directa y depues utilizar sustitucion hacia atras para resolver el sistema Rx = y\n",
            "\n",
            "Con Q^t =  \n",
            "[[ 1.      0.      0.      0.    ]\n",
            " [ 0.     -0.7071  0.7071  0.    ]\n",
            " [ 0.     -0.7071  0.      0.7071]]\n",
            "\n",
            "Y b = \n",
            "[1 0 0 0]\n",
            "\n",
            "Entonces Q^t*b = \n",
            "[1. 0. 0.]\n",
            "\n",
            "Resolviendo Rx = y con sustitucion hacia atras tenemos que\n",
            "\n",
            "x =\n",
            "[1. 0. 0.]\n",
            "\n",
            "\n",
            "Para epsilon = 1.4901161193847656e-08, aplicando cada uno de los metodos solicitados tendremos lo siguiente\n",
            "A = \n",
            "[[1. 1. 1.]\n",
            " [0. 0. 0.]\n",
            " [0. 0. 0.]\n",
            " [0. 0. 0.]]\n",
            "Aplicando el metodo de ecuaciones normales y solucionando con la factorizacion de Cholesky tenemos que:\n",
            "\n",
            "A^t*A = \n",
            "[[1. 1. 1.]\n",
            " [1. 1. 1.]\n",
            " [1. 1. 1.]]\n",
            "\n",
            "L = \n",
            "(array([[1., 0., 0.],\n",
            "       [1., 0., 0.],\n",
            "       [1., 0., 0.]]), array([1., 0., 0.]))\n",
            "\n",
            "Para resolver el sistema aplicamos Cholesky, arrojandonos que\n",
            " Desgraciadamente en este caso no hay solucion por los ceros que se forman\n",
            "\n",
            "Aplicando la factorizacion QR con reflexiones de House Holder tenemos que:\n",
            "\n",
            "Q = \n",
            "[[-1.      0.      0.     -0.    ]\n",
            " [-0.     -0.7071 -0.4082  0.5774]\n",
            " [ 0.      0.7071 -0.4082  0.5774]\n",
            " [ 0.      0.      0.8165  0.5774]]\n",
            "\n",
            "R = \n",
            "[[-1. -1. -1.]\n",
            " [-0.  0.  0.]\n",
            " [ 0.  0.  0.]\n",
            " [ 0.  0. -0.]]\n",
            "\n",
            "Entoces \n",
            "QR = \n",
            "[[ 1.  1.  1.]\n",
            " [ 0.  0.  0.]\n",
            " [-0.  0. -0.]\n",
            " [ 0.  0.  0.]]\n",
            "\n",
            "Comprobando con el modulo numpy, nuetra respuesta es: True\n",
            "\n",
            "Para resolver el sistema debemos resolver Q^t*b = y de manera directa y depues utilizar sustitucion hacia atras para resolver el sistema Rx = y\n",
            "\n",
            "Con Q^t =\n",
            "[[-1.     -0.      0.      0.    ]\n",
            " [ 0.     -0.7071  0.7071  0.    ]\n",
            " [ 0.     -0.4082 -0.4082  0.8165]\n",
            " [-0.      0.5774  0.5774  0.5774]]\n",
            "\n",
            "Y b = \n",
            "[1 0 0 0]\n",
            "\n",
            "Entonces Q^t*b = \n",
            "[-1.  0.  0. -0.]\n",
            "\n",
            "Resolviendo Rx = y con sustitucion hacia atras tenemos que\n",
            "\n",
            "x =\n",
            "[0.5 0.5 0.  0. ]\n",
            "Aplicando la factorizacion QR con rotacion de Givens tenemos que:\n",
            "\n",
            "Q = \n",
            "[[ 1.      0.      0.     -0.    ]\n",
            " [ 0.     -0.7071 -0.4082  0.5774]\n",
            " [ 0.      0.7071 -0.4082  0.5774]\n",
            " [ 0.      0.      0.8165  0.5774]]\n",
            "\n",
            "R = \n",
            "[[ 1.  1.  1.]\n",
            " [ 0.  0.  0.]\n",
            " [ 0.  0.  0.]\n",
            " [ 0.  0. -0.]]\n",
            "\n",
            "Entoces \n",
            "QR = \n",
            "[[ 1.  1.  1.]\n",
            " [ 0.  0.  0.]\n",
            " [ 0.  0. -0.]\n",
            " [ 0.  0.  0.]]\n",
            "\n",
            "Comprobando con el modulo numpy, nuetra respuesta es: True\n",
            "\n",
            "Para resolver el sistema debemos resolver Q^t*b = y de manera directa y depues utilizar sustitucion hacia atras para resolver el sistema Rx = y\n",
            "\n",
            "Con Q^t =  \n",
            "[[ 1.      0.      0.      0.    ]\n",
            " [ 0.     -0.7071  0.7071  0.    ]\n",
            " [ 0.     -0.4082 -0.4082  0.8165]\n",
            " [-0.      0.5774  0.5774  0.5774]]\n",
            "\n",
            "Y b = \n",
            "[1 0 0 0]\n",
            "\n",
            "Entonces Q^t*b = \n",
            "[ 1.  0.  0. -0.]\n",
            "\n",
            "Resolviendo Rx = y con sustitucion hacia atras tenemos que\n",
            "\n",
            "x =\n",
            "[0.5 0.5 0.  0. ]\n",
            "\n",
            "\n",
            "Aplicando Ortogonalizacion Gram-Schmidt Clasica tenemos que:\n",
            "\n",
            "Q = \n",
            "[[ 1.      0.      0.    ]\n",
            " [ 0.     -0.7071 -0.7071]\n",
            " [ 0.      0.7071  0.    ]\n",
            " [ 0.      0.      0.7071]]\n",
            "\n",
            "R = \n",
            "[[1. 1. 1.]\n",
            " [0. 0. 0.]\n",
            " [0. 0. 0.]]\n",
            "\n",
            "Entoces \n",
            "QR = \n",
            "[[1. 1. 1.]\n",
            " [0. 0. 0.]\n",
            " [0. 0. 0.]\n",
            " [0. 0. 0.]]\n",
            "\n",
            "Comprobando con el modulo numpy, nuetra respuesta es: True\n",
            "\n",
            "Para resolver el sistema debemos resolver Q^t*b = y de manera directa y depues utilizar sustitucion hacia atras para resolver el sistema Rx = y\n",
            "\n",
            "Con Q^t =  \n",
            "[[ 1.      0.      0.      0.    ]\n",
            " [ 0.     -0.7071  0.7071  0.    ]\n",
            " [ 0.     -0.7071  0.      0.7071]]\n",
            "\n",
            "Y b = \n",
            "[1 0 0 0]\n",
            "\n",
            "Entonces Q^t*b = \n",
            "[1. 0. 0.]\n",
            "\n",
            "Resolviendo Rx = y con sustitucion hacia atras tenemos que\n",
            "\n",
            "x =\n",
            "[1. 0. 0.]\n",
            "\n",
            "\n"
          ]
        },
        {
          "output_type": "stream",
          "name": "stderr",
          "text": [
            "/usr/local/lib/python3.7/dist-packages/ipykernel_launcher.py:21: RuntimeWarning: invalid value encountered in double_scalars\n"
          ]
        }
      ]
    },
    {
      "cell_type": "code",
      "source": [
        ""
      ],
      "metadata": {
        "id": "-Gle1rAlCPir"
      },
      "execution_count": null,
      "outputs": []
    }
  ]
}