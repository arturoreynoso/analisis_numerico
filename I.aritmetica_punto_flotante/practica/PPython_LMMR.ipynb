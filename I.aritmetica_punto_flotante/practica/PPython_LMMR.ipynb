{
  "nbformat": 4,
  "nbformat_minor": 0,
  "metadata": {
    "colab": {
      "name": "Practica 1 analisis numerico .ipynb",
      "provenance": [],
      "collapsed_sections": []
    },
    "kernelspec": {
      "name": "python3",
      "display_name": "Python 3"
    },
    "language_info": {
      "name": "python"
    }
  },
  "cells": [
    {
      "cell_type": "markdown",
      "metadata": {
        "id": "vplSZopD65dN"
      },
      "source": [
        "# Práctica 1 - Análisis numérico\n",
        "\n",
        "## Autores:\n",
        "<ul>\n",
        "<li> López Espíndola Luis Enrique\n",
        "<li> Mucio Alvarez Santos\n",
        "<li> Muñiz Lescale Marco Aurelio\n",
        "<li> Reynoso Sánchez Arturo Yitzack\n",
        "</ul>"
      ]
    },
    {
      "cell_type": "markdown",
      "metadata": {
        "id": "xr8U-25w7G9w"
      },
      "source": [
        "## <FONT COLOR=\"blue\">Ejercicio 1</FONT>\n",
        "El valor de $\\pi$ puede ser estimado a partir de la expresión\n",
        "\n",
        "$$\\frac{2}{\\pi}=\\frac{\\sqrt{2}}{2}\\cdot \\frac{\\sqrt{2+\\sqrt{2}}}{2}\\cdot \\frac{\\sqrt{2+\\sqrt{2+\\sqrt{2}}}}{2}$$\n",
        "\n",
        "Escriba un script que determine $\\pi$ para cualquier número de términos. Para hacer esto, se debe preguntar al usuario el número de términos, después calcular el correspondiente valor de\n",
        "la aproximación de $\\pi$ y mostrarla al usuario."
      ]
    },
    {
      "cell_type": "code",
      "metadata": {
        "id": "IPqjiWmY5Fv3",
        "colab": {
          "base_uri": "https://localhost:8080/"
        },
        "outputId": "cca5cd2f-da31-42af-8598-de6ef9b7d5e7"
      },
      "source": [
        "import numpy as np\n",
        "# Función que calcula de forma recursiva la expresión de la raíz cuadrada \n",
        "# de 2 mas la raíz cuadrada de 2 y así sucesivamente.\n",
        "def raiz(n:int)->float:\n",
        "  '''\n",
        "  Esta función realiza el cálculo de una raíz cuadrada de 2 más la raíz \n",
        "  cuadrada de 2 más la raíz cuadrada de dos ... sucesivamente de forma recursiva\n",
        "  inputs:\n",
        "    n: cantidad de valores para  la raíz\n",
        "  outputs:\n",
        "    sqrt(2+sqrt(2+sqrt(2+...)))\n",
        "  '''\n",
        "  if(n==1):\n",
        "    return np.sqrt(2)\n",
        "  else:\n",
        "    return np.sqrt(2+raiz(n-1))\n",
        "\n",
        "# Función que aproxima pi y utiliza la funcion anterior\n",
        "def aproximacion_pi(n:int)->float:\n",
        "  '''\n",
        "  Esta función realiza el cálculo de la aporximación de pi dependiendo de la \n",
        "  cantidad de término que tenga la raíz de 2  más la raíz de 2 sucesivamente.\n",
        "  Se utiliza la función deifnida como raiz(n)\n",
        "    n: cantidad de valores para  la aproximación\n",
        "  outputs:\n",
        "    aproximación de pi\n",
        "  >>>aproximacion_pi(55)\n",
        "  3.141592653589794\n",
        "  '''\n",
        "  # Si n=1 significa que sólo se busca un factor\n",
        "  if(n==1):\n",
        "    return (2**(n+1))/raiz(n)\n",
        "  # Para dos o más factores\n",
        "  else:\n",
        "    pi = 2**(n+1) \n",
        "    a = 1\n",
        "    # se utiliza para hallar el producto de la cantidad de factores\n",
        "    for i in range(n):\n",
        "      a = a*raiz(i+1)\n",
        "    # devuelve la aproximación de pi con n factores\n",
        "    return pi*(1/a)\n",
        "# Al correr el programa se le pide al usuario que ingrese un valor numérico entero\n",
        "try:\n",
        "    n = int(input(\"Dame un numero entero para el número de factores para la aproximacion: \"))\n",
        "    print(\"El valor de pi para \", n,\" factores es: \",aproximacion_pi(n))\n",
        "except ValueError:\n",
        "    print(\"Error en los argumentos de entrada, estos deben ser numéricos enteros\")\n",
        "\n"
      ],
      "execution_count": null,
      "outputs": [
        {
          "output_type": "stream",
          "name": "stdout",
          "text": [
            "Dame un numero entero para el número de factores para la aproximacion: 55\n",
            "El valor de pi para  55  factores es:  3.141592653589794\n"
          ]
        }
      ]
    },
    {
      "cell_type": "markdown",
      "metadata": {
        "id": "RSYt7qJSqKTf"
      },
      "source": [
        "## <FONT COLOR=\"blue\">Ejercicio 2</FONT>\n",
        "Un número primo de Mersenne es un número primo que es igual a $2^n − 1$, donde $n$ es un entero. Por ejemplo, $31$ es un número primo de Mersenne ya que $31 = 2^5 −1$. Escriba un scprit que encuentre todos los números primos de Mersenne entre 1 y 10,000."
      ]
    },
    {
      "cell_type": "code",
      "metadata": {
        "colab": {
          "base_uri": "https://localhost:8080/"
        },
        "id": "rKekjYKXqsLh",
        "outputId": "0a444c86-5525-46de-c960-5857881efa2c"
      },
      "source": [
        "from math import log\n",
        "# primero verificamos si un número es primo\n",
        "def verificar_primo(num:int):\n",
        "  '''\n",
        "  función que verifica si un número es primo o no\n",
        "  inputs:\n",
        "    num. número a verficar\n",
        "  outputs:\n",
        "    True o False dependiendo si es primo o no\n",
        "  '''\n",
        "  # queremos que sea positivo\n",
        "    if(num < 1):\n",
        "        return False\n",
        "    # el 1 por def no es primo\n",
        "    elif(num == 1):\n",
        "      return False\n",
        "    # es el primer primo\n",
        "    elif(num == 2):\n",
        "        return True\n",
        "    # nos seguimos para numeros mayores a dos\n",
        "    else:\n",
        "        for i in range(2, num):\n",
        "            if num % i == 0:\n",
        "                return False\n",
        "        return True            \n",
        "# creamos una lista con todos los numeros primos del 1 a 10000\n",
        "lista = []\n",
        "def primos(n):\n",
        "  '''\n",
        "  función que guarda los números primos del 1 a 10000\n",
        "  '''\n",
        "  # arreglo vacío donde irán los primos\n",
        "  for i in range(n):\n",
        "    resultado = verificar_primo(i)\n",
        "    if resultado is True:\n",
        "      # se va guardando cada primo luego de verificar si en efecto es primo\n",
        "        lista.append(i)\n",
        "  return lista\n",
        "\n",
        "def primos_Mersenne(lista):\n",
        "  '''\n",
        "  función que busca todos los números que cumplen con ser de Mersenne\n",
        "  '''\n",
        "  lista_Mersenne = []\n",
        "  for i in lista:\n",
        "  # por definicion, un primo p es de Mersenne si p=2^n-1, despuejando a la n se tiene\n",
        "  # ln(p+1)=n ln(2), con n \\in N, es decir, ln(p+1)/ln(2) debe ser un numero entero\n",
        "    if( (log(i+1) / log(2)).is_integer() == True ):\n",
        "      lista_Mersenne.append(i)\n",
        "  return lista_Mersenne\n",
        "\n",
        "print(\"Los primos de Mersenne entre 1 y 10,000 son: \", primos_Mersenne(primos(10000)))\n",
        "\n"
      ],
      "execution_count": null,
      "outputs": [
        {
          "output_type": "stream",
          "name": "stdout",
          "text": [
            "Los primos de Mersenne entre 1 y 10,000 son:  [3, 7, 31, 127, 8191]\n"
          ]
        }
      ]
    },
    {
      "cell_type": "markdown",
      "metadata": {
        "id": "61IUJmZ9L1CR"
      },
      "source": [
        "## <FONT COLOR=\"blue\">Ejercicio 3</FONT>"
      ]
    },
    {
      "cell_type": "markdown",
      "metadata": {
        "id": "yt6BFkkcaY99"
      },
      "source": [
        "La expansión en series de Taylor para $\\sin x$ alrededor de $x=0$ está dada por:\n",
        "$$\\sin x=x-\\frac{x^3}{3!}+\\frac{x^5}{5!}-\\frac{x^7}{7!}+...=\\sum_{k=0}^{\\infty}\\frac{(-1)^k}{(2k+1)!} x^{2k+1}$$\n",
        "donde el ángulo $x$ está en radianes.\n",
        "<ol type = \"a\"> \n",
        "<li> Haga una función usando la expansión en series de Taylor. Como nombre de la función use $\\texttt{sinTay(x)}$ y como argumento de entrada use $\\texttt{x}$, de tal manera que el llamado a la función sea $\\texttt{sinTay(x)}$. El argumento de entrada es $\\texttt{x}$ es el ángulo en grados y la función debe regresar el valor de $\\sin(x)$ Dentro de la función debe usar un ciclo para agregar términos de la serie. Si $a_k$ es el $k-$ésimo término de la serie, entonces usar la suma parcial $S_k$ de los términos $S_k=S_{k-1}+a_k$. En cada paso calcule el estimado del error $E$ dado por:\n",
        "$$E=|\\frac{S_k-S_{k-1}}{S_{k-1}}|$$\n",
        "Pare de sumar términos cuando $E\\leq 0.000001$. Dado que $\\sin \\theta=sin(360 \\pm 360n$ para algún $n \\in \\mathbb{Z}$ escriba su función de tal manera que si el ángulo es mayor a 360$^{\\circ}$ o menor que - 360$^{\\circ}$ entonces la serie de Taylor sea calculada usando el menor número de términos (usando un valor para $x$ que sea más cercano a 0)\n",
        "\n",
        "<li> Haga un $\\texttt{script}$ donde reporte los resultados obtenidos por su función  $\\texttt{sinTay(x)}$ al calcular:\n",
        "\n",
        "<ul>\n",
        "<li> $\\sin(39^{\\circ})$\n",
        "<li> $\\sin(205^{\\circ})$\n",
        "<li> $\\sin(-70^{\\circ})$\n",
        "<li> $\\sin(754^{\\circ})$\n",
        "<li> $\\sin(19000^{\\circ})$\n",
        "<li> $\\sin(-748^{\\circ})$\n",
        "</ul>\n",
        "y compare sus  resultados con los que se obtienen al hacer el cálulo directamente en $\\texttt{Python}$ con las funciones $\\texttt{sin}$ implementadas en los módulos $\\texttt{math}$ o $\\texttt{numpy}$\n",
        "\n",
        "<li> Realice la gráfica de su función $\\texttt{sinTay(x)}$ en el intervalo [-360°,360°] y compárela con la gráfica de la función $\\texttt{sin}$ evaluada en el mismo intevalo. La comparación deber hecha en la misma figura\n",
        "</ol>\n"
      ]
    },
    {
      "cell_type": "code",
      "metadata": {
        "id": "ZGMnr8EIL461"
      },
      "source": [
        "import numpy as np\n",
        "\n",
        "def fact(n):\n",
        "  if n == 0 or n == 1: return 1\n",
        "  product = 1\n",
        "  for j in range(2, n+1):\n",
        "    product *= j\n",
        "  return product  \n",
        "\n",
        "def angulo(x:float)->float:\n",
        "  '''\n",
        "  Convierte el ángulo dado por el usuario al ángulo más cercano a 0\n",
        "  inputs:\n",
        "    x: ángulo ingresado por el usuario\n",
        "  outputs:\n",
        "    y: ángulo ingresado por el usuario transformado a su equivalente más cercano a cero en radianes \n",
        "  '''\n",
        "  # Transformamos los grados a radianes\n",
        "  x = (x%360)*np.pi/180    \n",
        "\n",
        "  # Los radianes los llevamos a un punto en el intervalo [-pi/2, pi/2] con \n",
        "  # misma imagen. \n",
        "  if np.pi/2<=x<=3*np.pi/2:\n",
        "    x = np.pi - x\n",
        "  elif 3*np.pi/2 < x <= 2*np.pi:\n",
        "    x = x - 2*np.pi\n",
        "  return x\n",
        "\n",
        "def sinTay(x:float)->float:\n",
        "  '''\n",
        "  Nos devuelve el valor de la función seno usando el polinomio de Taylor\n",
        "  Input: \n",
        "  x : ángulo en grados centígrados\n",
        "  suma : el seno de x usando la expansión por polinomio de Taylor de la función\n",
        "     seno.\n",
        "  '''\n",
        "  y = angulo(x)\n",
        "  if y == 0: return 0\n",
        "  # Valores iniciales que se actualizan en cada ciclo\n",
        "  E = 1\n",
        "  suma =  y\n",
        "  i = 1\n",
        "  while E > 0.000001:\n",
        "    iterm = ((-1)**(i)/fact(2*i+1))*y**(2*i+1)\n",
        "    E = np.abs(iterm)/suma\n",
        "    suma += iterm\n",
        "    i += 1\n",
        "  return suma\n"
      ],
      "execution_count": null,
      "outputs": []
    },
    {
      "cell_type": "code",
      "metadata": {
        "colab": {
          "base_uri": "https://localhost:8080/"
        },
        "id": "xR5F6noxMXJw",
        "outputId": "8883a087-2a93-41f0-b344-69febb1b963b"
      },
      "source": [
        "# Resultados:\n",
        "for i in [39,205,-70,754,19000,-748]:\n",
        "  print(\"Para el seno de \",i,\"° nuestra funcion regresa \",sinTay(i),\" mientras que Python\",np.sin(angulo(i)), \"\\n una diferencia de \", sinTay(i)-np.sin(angulo(i)))"
      ],
      "execution_count": null,
      "outputs": [
        {
          "output_type": "stream",
          "name": "stdout",
          "text": [
            "Para el seno de  39 ° nuestra funcion regresa  0.6293203914128462  mientras que Python 0.6293203910498374 \n",
            " una diferencia de  3.630088452055702e-10\n",
            "Para el seno de  205 ° nuestra funcion regresa  -0.42248706056574953  mientras que Python -0.4226182617406994 \n",
            " una diferencia de  0.0001312011749498576\n",
            "Para el seno de  -70 ° nuestra funcion regresa  -0.9177994949904855  mientras que Python -0.9396926207859085 \n",
            " una diferencia de  0.02189312579542302\n",
            "Para el seno de  754 ° nuestra funcion regresa  0.5591929035510594  mientras que Python 0.5591929034707469 \n",
            " una diferencia de  8.031253440066166e-11\n",
            "Para el seno de  19000 ° nuestra funcion regresa  -0.9425821698763991  mientras que Python -0.9848077530122081 \n",
            " una diferencia de  0.04222558313580904\n",
            "Para el seno de  -748 ° nuestra funcion regresa  -0.4692406077484572  mientras que Python -0.4694715627858906 \n",
            " una diferencia de  0.00023095503743336687\n"
          ]
        }
      ]
    },
    {
      "cell_type": "code",
      "metadata": {
        "colab": {
          "base_uri": "https://localhost:8080/",
          "height": 295
        },
        "id": "m9FM2DoyNgQ_",
        "outputId": "c1d6fb0e-bfb4-425e-dd6f-8838e8bc9e1f"
      },
      "source": [
        "# Gráfica de la función sinTay(x) vs np.sin(x)\n",
        "# Cargamos las librerias y paquetes\n",
        "from matplotlib import pyplot as plt #Graficas 2D\n",
        "x = np.linspace(-360,360)\n",
        "y = np.sin(x*np.pi/180)\n",
        "values = []\n",
        "for i in x:\n",
        "  values.append(sinTay(i))\n",
        "plt.plot(x,values,'or',label='$sinTay(x)$')\n",
        "plt.plot(x,y,'-b',label='$np.sin(x)$')\n",
        "ax = plt.gca() # Se obtiene el control para los ejes actuales\n",
        "ax.set_xlabel(\"$x$\") # Etiqueta eje x\n",
        "ax.set_ylabel(\"$f(x)$\") # Etiqueta eje y\n",
        "ax.set_title(\"np.sin(x) vs sinTay(x)\") # Titulo\n",
        "ax.legend(loc = 'upper right') # Leyenda a partir de las etiquetas\n",
        "plt.show()"
      ],
      "execution_count": null,
      "outputs": [
        {
          "output_type": "display_data",
          "data": {
            "image/png": "[encoded data removed]",
            "text/plain": [
              "<Figure size 432x288 with 1 Axes>"
            ]
          },
          "metadata": {
            "needs_background": "light"
          }
        }
      ]
    },
    {
      "cell_type": "code",
      "metadata": {
        "colab": {
          "base_uri": "https://localhost:8080/"
        },
        "id": "eGQl0hSBhMY3",
        "outputId": "23efc1c3-d53b-4865-aefc-19eb3634872f"
      },
      "source": [
        "-390%360"
      ],
      "execution_count": null,
      "outputs": [
        {
          "output_type": "execute_result",
          "data": {
            "text/plain": [
              "330"
            ]
          },
          "metadata": {},
          "execution_count": 7
        }
      ]
    },
    {
      "cell_type": "markdown",
      "metadata": {
        "id": "78M0FR5tEyiY"
      },
      "source": [
        "## <FONT COLOR=\"blue\">Ejercicio 4</FONT>\n",
        "Haga funciones en Python que implementen las siguientes operaciones con matrices utilizando solamente ciclos (for ó while) y referencias a los elementos de las matrices. Para representar las matrices en Python puede usar listas, tuplas o arreglos de numpy, sólo que para la última opción no se pueden usar los operadores ya implementados para los ndarray.\n",
        "\n",
        "<ol type = \"a\"> \n",
        "<li> <i>Suma de matrices.</i> Sean $A, B, C \\in M_{mxn}(\\mathbb{R})$, la suma de matices $C=A+B$ tiene por entradas $c_{i,j}=a_{i,j}+b_{i,j}$ para $1\\leq i\\leq m$, $1\\leq j\\leq n$.\n",
        "<li> <i>Producto de matrices.</i> Sean $A \\in M_{mxn}(\\mathbb{R})$, $B \\in M_{nxp}(\\mathbb{R})$ y $C \\in M_{mxp}(\\mathbb{R})$, el producto de matrices $C=AB$ tiene por entradas $c_{i,j}=\\displaystyle\\sum_{k=1}^{n}a_{i,k}b_{k,j}$ para $1\\leq i\\leq m$, $1\\leq j\\leq p$.\n",
        "<li> <i>Traza de una matriz.</i> Sea $A \\in M_{nxn}(\\mathbb{R})$, la traza se define como $tr(A)=\\displaystyle\\sum_{i=1}^{n}a_{i,i}$.\n",
        "<li> <i>Transpuesta de una matriz.</i> Sea $A \\in M_{mxn}(\\mathbb{R})$, la transpuesta de $A$, la cual se denota como $A^{T} \\in M_{nxm}(\\mathbb{R})$ tiene por entradas $(A^{T})_{i,j}=a_{j,i}$ para $1\\leq i\\leq m$, $1\\leq j\\leq n$.\n",
        "<li> Utilice las funciones creadas en los incisos anteriores y las matrices\n",
        "    \\begin{equation}\n",
        "    A =\n",
        "    \\begin{pmatrix}\n",
        "    17 & -3 & 6 & 13 & 12 \\\\\n",
        "    -8 & 5 & 15 & -9 & 10 \\\\\n",
        "    -7 & 7 & -20 & 3 & -22 \\\\\n",
        "    -22 & 2 & -7 & 7 & 10 \\\\\n",
        "    -7 & 1 & 5 & -9 & -2\n",
        "    \\end{pmatrix}\n",
        "    \\end{equation}\n",
        "    \\begin{equation}\n",
        "    B =\n",
        "    \\begin{pmatrix}\n",
        "    -9 & 9 & 3 \\\\\n",
        "    -10 & 1 & 1 \\\\\n",
        "    -23 & -10 & -9 \\\\\n",
        "    7 & -5 & -6 \\\\\n",
        "    -3 & -8 & -27\n",
        "    \\end{pmatrix}\n",
        "    \\end{equation}\n",
        "    \\begin{equation}\n",
        "    C =\n",
        "    \\begin{pmatrix}\n",
        "    -8 & 2 & -2 & 8 & -10 \\\\\n",
        "    -1 & 4 & 16 & 8 & 11 \\\\\n",
        "    -5 & -16 & 9 & -15 & -18 \n",
        "    \\end{pmatrix}\n",
        "    \\end{equation}\n",
        "    \\begin{equation}\n",
        "    D =\n",
        "    \\begin{pmatrix}\n",
        "    13 & 24 & -11 \\\\\n",
        "    1 & 1 & -17 \\\\\n",
        "    16 & -2 & -10\n",
        "    \\end{pmatrix}\n",
        "    \\end{equation}\n",
        "para realizar las siguientes operaciones escritas en un script\n",
        "<ul>\n",
        "<li> $A+BC$\n",
        "<li> $C+B^{T}$\n",
        "<li> $ABC$\n",
        "<li> $BD+C^{T}$\n",
        "<li> $(BDC+A)^{T}$\n",
        "<li> $tr((CB)^{T})+D$\n",
        "</ul>\n",
        "\n",
        "</ol>"
      ]
    },
    {
      "cell_type": "markdown",
      "metadata": {
        "id": "AEXflhmnG1D_"
      },
      "source": [
        "<u>Solución:</u>"
      ]
    },
    {
      "cell_type": "markdown",
      "metadata": {
        "id": "6z1F-p2CG3Qe"
      },
      "source": [
        "Creación de funciones:"
      ]
    },
    {
      "cell_type": "markdown",
      "metadata": {
        "id": "MJriUyOIG9PE"
      },
      "source": [
        "Suma de matrices"
      ]
    },
    {
      "cell_type": "code",
      "metadata": {
        "id": "ESq1M1-9ES5j"
      },
      "source": [
        "def suma(m1, m2):  # Recibe como parámetros las 2 matrices a sumar\n",
        "    \n",
        "    # Verificamos que las 2 matrices tengan la misma dimención (mismo número de filas y columnas)\n",
        "    if len(m1) == len(m2) and len(m1[0]) == len(m2[0]):\n",
        "    \n",
        "        m3 = []  # lista vacía que posteriormente contendrá la suma\n",
        "        \n",
        "        # Construimos la dimención de la matriz m3 y la llenamos de puros ceros\n",
        "        # m3 tentrá la misma dimención que m1 y m2\n",
        "        for i in range(len(m1)):  # mismo número de filas que m1 y m2 \n",
        "            m3.append([])  # creamos filas vacías\n",
        "            for j in range(len(m1[0])):  # mismo número de columnas que m1 y m2\n",
        "                m3[i].append(0)  # llenamos toda la matriz de ceros por el monento\n",
        "        \n",
        "        # Sustituimos la matríz m3 de ceros por la suma\n",
        "        for i in range(len(m3)):  # recorre las filas de m3\n",
        "            for j in range(len(m3[0])):  # recorre las columnas de m3\n",
        "                m3[i][j] = m1[i][j] + m2[i][j]  # $c_{i,j} = a_{i,j} + b_{i,j}$\n",
        "        \n",
        "        return m3  # regresamos la suma\n",
        "                \n",
        "    else:\n",
        "        \n",
        "        return None  # no regresamos nada (print(\"No se pueden sumar\"))"
      ],
      "execution_count": null,
      "outputs": []
    },
    {
      "cell_type": "markdown",
      "metadata": {
        "id": "8ug376TQHL81"
      },
      "source": [
        "Producto de matrices"
      ]
    },
    {
      "cell_type": "code",
      "metadata": {
        "id": "EUjHJ8rhGuWs"
      },
      "source": [
        "def producto(m1, m2):  # Recibe como parámetros las 2 matrices a multiplicar en ese orden (AB ≠ BA)\n",
        "    \n",
        "    # Verificamos que el número de columnas de la matriz m1 sea igual al numero de filas de la matriz m2\n",
        "    if len(m1[0]) == len(m2):\n",
        "        \n",
        "        m3 = []  # lista vacía que posteriormente contendrá el producto\n",
        "        \n",
        "        # Construimos la dimención de la matriz m3 y la llenamos de puros ceros\n",
        "        # m3 tentrá el mismo número de filas que m1 y el mismo número de columnas que m2\n",
        "        for i in range(len(m1)):  # mismo número de filas que m1\n",
        "            m3.append([])  # creamos filas vacías\n",
        "            for j in range(len(m2[0])):  # mismo número de columnas que m2\n",
        "                m3[i].append(0)  # llenamos toda la matríz de ceros por el momento\n",
        "        \n",
        "        # Sustituimos la matriz m3 de ceros por la multiplicación\n",
        "        for i in range(len(m1)):  # recorre las filas de m1\n",
        "            for j in range(len(m2[0])):  # recorre las columnas de m2\n",
        "                for k in range(len(m1[0])):  # recorre las columnas de m1\n",
        "                    m3[i][j] += m1[i][k]*m2[k][j]  # $c_{i,j} = \\sum_{k=1}^{n} a_{i,k}b_{k,j}$\n",
        "        \n",
        "        return m3  # regresamos la multiplicación\n",
        "    \n",
        "    else:\n",
        "        \n",
        "        return None  # no regresamos nada (print(\"No se pueden sumar\"))"
      ],
      "execution_count": null,
      "outputs": []
    },
    {
      "cell_type": "markdown",
      "metadata": {
        "id": "BjuHRBRYHRyV"
      },
      "source": [
        "Traza de una matriz"
      ]
    },
    {
      "cell_type": "code",
      "metadata": {
        "id": "yl6aSjV3Guhs"
      },
      "source": [
        "def traza(m):  # Recibe como parámetro una matriz cuadrada\n",
        "    \n",
        "    # Verificamos que sea una matriz cuadrada (mismo número de filas que de columnas)\n",
        "    if len(m) == len(m[0]):\n",
        "        \n",
        "        trm = 0  # traza de m (suma de la diagonal de m)\n",
        "        \n",
        "        for i in range(len(m)):  # recorre los eleentos de la diagonal\n",
        "            trm += m[i][i]  # $tr(A) = \\sum_{i=1}^{n} a_{i,i}$\n",
        "        \n",
        "        return trm  # regresamos la traza de m\n",
        "    \n",
        "    else:\n",
        "        \n",
        "        return None  # no regresamos nada (print(\"No se pueden sumar\"))"
      ],
      "execution_count": null,
      "outputs": []
    },
    {
      "cell_type": "markdown",
      "metadata": {
        "id": "YDl2JUTgHdm1"
      },
      "source": [
        "Transpuesta de una matriz"
      ]
    },
    {
      "cell_type": "code",
      "metadata": {
        "id": "JbhSjSebGumW"
      },
      "source": [
        "def transpuesta(m):  # Recibe como parámetro una matriz\n",
        "    \n",
        "    mT = []  # lista vacía que posteriormente contendrá la transpuesta de m\n",
        "    \n",
        "    # Construimos la dimención de la matriz mT y la llenamos de puros ceros\n",
        "    # el número de filas de mT será el número de columnas de m y el número de columnas de mT será el número de filas de m\n",
        "    for i in range(len(m[0])):  # filas de mT = columnas de m\n",
        "        mT.append([])  # creamos filas vacías\n",
        "        for j in range(len(m)):  # columnas de mT = filas de m\n",
        "            mT[i].append(0)  # llenamos toda la matriz de ceros por el monento\n",
        "        \n",
        "        # Sustituimos la matríz mT de ceros por la transpuesta de m\n",
        "        for i in range(len(mT)):  # recorre las filas de mT\n",
        "            for j in range(len(mT[0])):  # recorre las columnas de mT\n",
        "                mT[i][j] = m[j][i]  # $(A^{T})_{i,j} = a_{j,i}$\n",
        "    \n",
        "    return mT  # regrasamos la transpueta de m"
      ],
      "execution_count": null,
      "outputs": []
    },
    {
      "cell_type": "markdown",
      "metadata": {
        "id": "J_qN96m-Ht5-"
      },
      "source": [
        "Mostrar matriz"
      ]
    },
    {
      "cell_type": "code",
      "metadata": {
        "id": "-RliNL4-Guvt"
      },
      "source": [
        "# imprime una matriz con formato\n",
        "def mostrar(matriz):   # Recibe como parámetro una matriz\n",
        "    for fila in matriz:\n",
        "        for elemento in fila:\n",
        "            print(\" \", elemento, end = \" \")\n",
        "        print()"
      ],
      "execution_count": null,
      "outputs": []
    },
    {
      "cell_type": "markdown",
      "metadata": {
        "id": "acCg-X7QH3eF"
      },
      "source": [
        "Definción de las matrices a operar:"
      ]
    },
    {
      "cell_type": "code",
      "metadata": {
        "colab": {
          "base_uri": "https://localhost:8080/"
        },
        "id": "L1vgGcojGu4D",
        "outputId": "a86a43fa-9247-44f3-bc02-2a83984c8431"
      },
      "source": [
        "# Definimos las matrices que nos dan como listas de listas\n",
        "A = [[17,-3,6,13,12],[-8,5,15,-9,10],[-7,7,-20,3,-22],[-22,2,-7,7,10],[-7,1,5,-9,-2]]\n",
        "B = [[-9,9,3],[-10,1,1],[-23,-10,-9],[7,-5,-6],[-3,-8,-27]]\n",
        "C = [[-8,2,-2,8,-10],[-1,4,16,8,11],[-5,-16,9,-15,-18]]\n",
        "D = [[13,24,-11],[1,1,-17],[16,-2,-10]]\n",
        "\n",
        "# Mostramos La matrices\n",
        "print(\"Matriz A\")\n",
        "mostrar(A)\n",
        "print()\n",
        "print(\"Matriz B\")\n",
        "mostrar(B)\n",
        "print()\n",
        "print(\"Matriz C\")\n",
        "mostrar(C)\n",
        "print()\n",
        "print(\"Matriz D\")\n",
        "mostrar(D)"
      ],
      "execution_count": null,
      "outputs": [
        {
          "output_type": "stream",
          "name": "stdout",
          "text": [
            "Matriz A\n",
            "  17   -3   6   13   12 \n",
            "  -8   5   15   -9   10 \n",
            "  -7   7   -20   3   -22 \n",
            "  -22   2   -7   7   10 \n",
            "  -7   1   5   -9   -2 \n",
            "\n",
            "Matriz B\n",
            "  -9   9   3 \n",
            "  -10   1   1 \n",
            "  -23   -10   -9 \n",
            "  7   -5   -6 \n",
            "  -3   -8   -27 \n",
            "\n",
            "Matriz C\n",
            "  -8   2   -2   8   -10 \n",
            "  -1   4   16   8   11 \n",
            "  -5   -16   9   -15   -18 \n",
            "\n",
            "Matriz D\n",
            "  13   24   -11 \n",
            "  1   1   -17 \n",
            "  16   -2   -10 \n"
          ]
        }
      ]
    },
    {
      "cell_type": "markdown",
      "metadata": {
        "id": "gNQP4cD9IGLq"
      },
      "source": [
        "Operación de las matrices:"
      ]
    },
    {
      "cell_type": "markdown",
      "metadata": {
        "id": "jJihSCgOILNL"
      },
      "source": [
        "$A+BC$"
      ]
    },
    {
      "cell_type": "code",
      "metadata": {
        "colab": {
          "base_uri": "https://localhost:8080/"
        },
        "id": "t4Qz1oszIA0U",
        "outputId": "6d8bce42-1eac-41e0-a4f3-ca12715ada98"
      },
      "source": [
        "op1 = suma(A, producto(B, C))  # Nota: BC ≠ CB\n",
        "mostrar(op1)"
      ],
      "execution_count": null,
      "outputs": [
        {
          "output_type": "stream",
          "name": "stdout",
          "text": [
            "  65   -33   195   -32   147 \n",
            "  66   -27   60   -96   103 \n",
            "  232   65   -215   -126   260 \n",
            "  -43   92   -155   113   -7 \n",
            "  160   395   -360   308   426 \n"
          ]
        }
      ]
    },
    {
      "cell_type": "markdown",
      "metadata": {
        "id": "CRtykXvLIUXl"
      },
      "source": [
        "$C+B^{T}$"
      ]
    },
    {
      "cell_type": "code",
      "metadata": {
        "colab": {
          "base_uri": "https://localhost:8080/"
        },
        "id": "-FmovJsmIQx3",
        "outputId": "a041c9cf-5aab-4498-dc98-b866790ffafd"
      },
      "source": [
        "op2 = suma(C, transpuesta(B))\n",
        "mostrar(op2)"
      ],
      "execution_count": null,
      "outputs": [
        {
          "output_type": "stream",
          "name": "stdout",
          "text": [
            "  -17   -8   -25   15   -13 \n",
            "  8   5   6   3   3 \n",
            "  -2   -15   0   -21   -45 \n"
          ]
        }
      ]
    },
    {
      "cell_type": "markdown",
      "metadata": {
        "id": "wiuN-D2mIarl"
      },
      "source": [
        "$ABC$"
      ]
    },
    {
      "cell_type": "code",
      "metadata": {
        "colab": {
          "base_uri": "https://localhost:8080/"
        },
        "id": "j1LdmXAtIQ2y",
        "outputId": "679d7335-bf85-4515-d780-51509da512e4"
      },
      "source": [
        "op3 = producto(A, producto(B, C))  # Nota: A(BC) = (AB)C\n",
        "mostrar(op3)"
      ],
      "execution_count": null,
      "outputs": [
        {
          "output_type": "stream",
          "name": "stdout",
          "text": [
            "  3759   5832   -4396   3904   8623 \n",
            "  5430   4080   -6530   206   8048 \n",
            "  -8335   -9572   10478   -4370   -15401 \n",
            "  -1058   4760   -7389   5631   -597 \n",
            "  788   -1130   -191   -2005   -145 \n"
          ]
        }
      ]
    },
    {
      "cell_type": "markdown",
      "metadata": {
        "id": "B5UspWYZIijR"
      },
      "source": [
        "$BD+C^{T}$"
      ]
    },
    {
      "cell_type": "code",
      "metadata": {
        "colab": {
          "base_uri": "https://localhost:8080/"
        },
        "id": "cwvt2oMgIQ5k",
        "outputId": "dee77b20-8234-463c-a6f4-58f3049e058e"
      },
      "source": [
        "op4 = suma(producto(B, D), transpuesta(C))  # Nota: BD ≠ DB\n",
        "mostrar(op4)"
      ],
      "execution_count": null,
      "outputs": [
        {
          "output_type": "stream",
          "name": "stdout",
          "text": [
            "  -68   -214   -89 \n",
            "  -111   -237   67 \n",
            "  -455   -528   522 \n",
            "  -2   183   53 \n",
            "  -489   -15   421 \n"
          ]
        }
      ]
    },
    {
      "cell_type": "markdown",
      "metadata": {
        "id": "BYNwiZnTIoiT"
      },
      "source": [
        "$(BDC+A)^{T}$"
      ]
    },
    {
      "cell_type": "code",
      "metadata": {
        "colab": {
          "base_uri": "https://localhost:8080/"
        },
        "id": "Mp4uyuCvIuDr",
        "outputId": "5742df01-d00a-4800-bad0-eb748e0e004f"
      },
      "source": [
        "op5 = transpuesta(suma(producto(B, producto(D, C)), A))  # Nota: B(CD) = (BC)D\n",
        "mostrar(op5)"
      ],
      "execution_count": null,
      "outputs": [
        {
          "output_type": "stream",
          "name": "stdout",
          "text": [
            "  1130   722   1596   -457   1656 \n",
            "  369   -2513   -11283   -406   -8085 \n",
            "  -4038   -2868   -3201   3425   4498 \n",
            "  -911   -4086   -15668   307   -10634 \n",
            "  -219   -3005   -10710   811   -3400 \n"
          ]
        }
      ]
    },
    {
      "cell_type": "markdown",
      "metadata": {
        "id": "B2xj7p7jIytt"
      },
      "source": [
        "$tr((CB)^{T}+D)$"
      ]
    },
    {
      "cell_type": "code",
      "metadata": {
        "colab": {
          "base_uri": "https://localhost:8080/"
        },
        "id": "2c-vY-LSI3Z5",
        "outputId": "7076d961-db63-48e5-c510-a444830820d9"
      },
      "source": [
        "op6 = traza(suma(transpuesta(producto(C, B)), D))  # Nota: CB ≠ BC\n",
        "print(op6)"
      ],
      "execution_count": null,
      "outputs": [
        {
          "output_type": "stream",
          "name": "stdout",
          "text": [
            "359\n"
          ]
        }
      ]
    },
    {
      "cell_type": "markdown",
      "metadata": {
        "id": "apcgt1wgPMzp"
      },
      "source": [
        "## <FONT COLOR=\"blue\">Ejercicio 5</FONT>\n",
        "Una transformación $w: \\mathbb{R}^2 \\to \\mathbb{R}^2$ de la forma:\n",
        "\n",
        "\\begin{align}\n",
        "        w(\\bar{x}) = \\begin{pmatrix}\n",
        "        ax + by +c \\\\\n",
        "        cx + dy + e \n",
        "        \\end{pmatrix}\n",
        "    \\end{align}\n",
        "\n",
        "donde $a, b, c, d, e$ y $f$ son números reales, y $\\bar{x}=(x, y)^T \\in \\mathbb{R}^2$ es llamada una transformación afín (de dimensión 2). Esta transformación afín se puede representar de forma matricial, esto es \n",
        "\n",
        "$$w(\\bar{x}) = A\\bar{x} + \\bar{b}$$\n",
        "\n",
        "para \n",
        "\\begin{align}\n",
        "        A = \\begin{pmatrix}\n",
        "        a & b \\\\\n",
        "        c & d \n",
        "        \\end{pmatrix}\\;\\;\\;\n",
        "        \\bar{b}= \\begin{pmatrix}\n",
        "        e\\\\\n",
        "        f\n",
        "        \\end{pmatrix}.\n",
        "    \\end{align}\n",
        "\n",
        "El fractal del helecho *(helecho Barnsley)* puede ser implementado al graficar puntos creados iterativamente de acuerdo a la transformación afín \n",
        "\n",
        "\\begin{align}\n",
        "        \\begin{pmatrix}\n",
        "        x_{k+1} \\\\\n",
        "        y_{k+1} \n",
        "        \\end{pmatrix}= w_{H}(\\bar{x_k})=\n",
        "        A \\begin{pmatrix}\n",
        "        x_k\\\\\n",
        "        y_k\n",
        "        \\end{pmatrix} + \\bar{b}\n",
        "    \\end{align}\n",
        "\n",
        "para $A$ y $\\bar{b}$ elegidos en cada iteración $k$ de manera aleatoria con diferente probabilidad de entre una de las siguientes reglas: \n",
        "\n",
        "1.  <FONT COLOR=\"blue\">Regla 1</FONT> (con 85% de probabilidad)\n",
        "\\begin{align}\n",
        "  A = \\begin{pmatrix}\n",
        "      0.85 & 0.04 \\\\\n",
        "      -0.04 & 0.85 \n",
        "      \\end{pmatrix}\\;\\;\\;\n",
        "  \\bar{b}= \\begin{pmatrix}\n",
        "            0\\\\\n",
        "            1.6\n",
        "            \\end{pmatrix}\n",
        "\\end{align}\n",
        "\n",
        "2. <FONT COLOR=\"blue\">Regla 2</FONT> (con 7% de probabilidad)\n",
        "\\begin{align}\n",
        "  A = \\begin{pmatrix}\n",
        "      0.20 & -0.26 \\\\\n",
        "      0.23 & 0.22 \n",
        "      \\end{pmatrix}\\;\\;\\;\n",
        "  \\bar{b}= \\begin{pmatrix}\n",
        "            0\\\\\n",
        "            1.6\n",
        "            \\end{pmatrix}\n",
        "\\end{align}\n",
        "\n",
        "3. <FONT COLOR=\"blue\">Regla 3</FONT> (con 7% de probabilidad)\n",
        "\\begin{align}\n",
        "  A = \\begin{pmatrix}\n",
        "      -0.15 & 0.28 \\\\\n",
        "      0.26 & 0.24 \n",
        "      \\end{pmatrix}\\;\\;\\;\n",
        "  \\bar{b}= \\begin{pmatrix}\n",
        "            0\\\\\n",
        "            0.44\n",
        "            \\end{pmatrix}\n",
        "\\end{align}\n",
        "\n",
        "4. <FONT COLOR=\"blue\">Regla 4</FONT> (con 1% de probabilidad)\n",
        "\\begin{align}\n",
        "  A = \\begin{pmatrix}\n",
        "      0 & 0 \\\\\n",
        "      0 & 0.16 \n",
        "      \\end{pmatrix}\\;\\;\\;\n",
        "  \\bar{b}= \\begin{pmatrix}\n",
        "            0\\\\\n",
        "            0\n",
        "            \\end{pmatrix}\n",
        "\\end{align}\n",
        "\n",
        "<FONT COLOR=\"blue\">a)</FONT> Escriba una función que regrese dos vectores $x$ y $y$ cuyas entradas $k$ ($k = 0$ hasta $n-1$) correspondan a los $n$ puntos generados iterativamente por la transformación $w_H$. Tome como punto inicial $x[0]=x_0 = 0.5$ y $y[0]=y_0=0.5$."
      ]
    },
    {
      "cell_type": "code",
      "metadata": {
        "id": "iRjsiR_qQUj9"
      },
      "source": [
        "import random \n",
        "import numpy as np\n",
        "\n",
        "random.seed(10)\n",
        "def helecho_barnsley(n, p1 = 0.85, p2 = 0.07, p3 = 0.07):\n",
        "    '''\n",
        "    Esta función regresa una matriz con dos renglones y n columnas.\n",
        "    El primer renglón es el vector x, el segundo renglón es el vector\n",
        "    y, que reproducen la figura del helecho de Barnsley, por medio de \n",
        "    una transformación afín: w(x) = A(x) + b\n",
        "    Parámetros\n",
        "    n: el número de puntos a graficar.\n",
        "    p1, p2, p3: las probabilidades para la matriz A y el vector b\n",
        "    del helecho de Barnsley\n",
        "    Salida\n",
        "    Matriz M de 2xn, donde M[0,:] es el vector x y M[1,:] es el vector y\n",
        "    '''\n",
        "    x_bar = np.zeros((2, n))\n",
        "    x_bar[:,0] = 0.5 \n",
        "    for i in range(1, n):\n",
        "        rn = random.random()\n",
        "        if (rn <= p1):\n",
        "            A = np.array([[0.85, 0.04],[-0.04, 0.85]])\n",
        "            b = np.array([0, 1.6])\n",
        "        elif (p1 < rn and rn <= p1 + p2):\n",
        "            A = np.array([[0.20, -0.26],[0.23, 0.22]])\n",
        "            b = np.array([0, 1.6])\n",
        "        elif (p1 + p2 < rn and rn <= p1 + p2 + p3):\n",
        "            A = np.array([[-0.15, 0.28],[0.26, 0.24]])\n",
        "            b = np.array([0, 0.44])\n",
        "        else:\n",
        "            A = np.array([[0, 0],[0, 0.16]])\n",
        "            b = np.array([0, 0])\n",
        "        x_bar[:,i] = A@x_bar[:,i-1] + b\n",
        "    return x_bar"
      ],
      "execution_count": null,
      "outputs": []
    },
    {
      "cell_type": "markdown",
      "metadata": {
        "id": "5qf8zZkZQZvf"
      },
      "source": [
        "<FONT COLOR=\"blue\">b)</FONT> Use un script y la función <TT>subplot</TT> para mostrar las gráficas que se obtienen con $n = 50, 500, 5000$ y $50,000$ iteraciones (puntos). Para generar las gráficas, use la función del inciso anterior y grafique $x$ vs $y$ como puntos invdividuales (use <TT>scatter<TT>)."
      ]
    },
    {
      "cell_type": "code",
      "metadata": {
        "colab": {
          "base_uri": "https://localhost:8080/",
          "height": 297
        },
        "id": "6i4WIjsYQde4",
        "outputId": "ceae370a-a398-4951-c61e-7bed9ea8f34f"
      },
      "source": [
        "import matplotlib.pyplot as plt\n",
        "\n",
        "fig1 = helecho_barnsley(50)\n",
        "fig2 = helecho_barnsley(500)\n",
        "fig3 = helecho_barnsley(5000)\n",
        "fig4 = helecho_barnsley(50000)\n",
        "\n",
        "fig, axs = plt.subplots(2, 2)\n",
        "axs[0,0].scatter(fig1[0,:], fig1[1,:], s = 0.2, edgecolor = 'green')\n",
        "axs[0,0].set_xlabel(\"n = 50\")\n",
        "axs[0,1].scatter(fig2[0,:], fig2[1,:], s = 0.2, edgecolor = 'green')\n",
        "axs[0,1].set_xlabel(\"n = 500\")\n",
        "axs[1,0].scatter(fig3[0,:], fig3[1,:], s = 0.2, edgecolor = 'green')\n",
        "axs[1,0].set_xlabel(\"n = 5000\")\n",
        "axs[1,1].scatter(fig4[0,:], fig4[1,:], s = 0.2, edgecolor = 'green')\n",
        "axs[1,1].set_xlabel(\"n = 50000\")\n",
        "\n",
        "fig.tight_layout()\n",
        "\n",
        "plt.show() "
      ],
      "execution_count": null,
      "outputs": [
        {
          "output_type": "display_data",
          "data": {
            "image/png": "[encoded data removed]",
            "text/plain": [
              "<Figure size 432x288 with 4 Axes>"
            ]
          },
          "metadata": {
            "needs_background": "light"
          }
        }
      ]
    },
    {
      "cell_type": "markdown",
      "metadata": {
        "id": "LAoB1SX3faIf"
      },
      "source": [
        "## <FONT COLOR=\"blue\">Ejercicio 6</FONT>\n",
        "Realice un programa que permita calcular la edad de una persona (al dia de hoy) a partir de su fecha de nacimiento. Para ello, pida la fecha de nacimiento del usuario $(dd-mm-aaaa)$ y haga una o varias funciones que permitan calcular la edad en anios, meses y dias. Por ejemplo, si la fecha de nacimiento es:  $22-4-2000$, la respuesta del programa debe ser $21$ años, $6$ meses\n",
        "y $7$ días considerando que la fecha de hoy es la fecha de entrega \n",
        "$(29-10-2021)$.\n",
        "\n",
        "El programa debe comprobar que la fecha de nacimiento sea válida (es decir, que exista en el calendario), que no sea una fecha mayor que la fecha del dia de hoy y en dado caso que no se cumplan estas condiciones mandar los mensajes correspondientes. Puede usar el modulo datetime para recuperar la fecha de hoy de su sistema mediante el siguiente codigo:\n"
      ]
    },
    {
      "cell_type": "markdown",
      "metadata": {
        "id": "2kY9tu20mi4D"
      },
      "source": [
        "\n",
        "```\n",
        "from datetime import date \n",
        "hoy = date.today()\n",
        "print(hoy.day, hoy.month, hoy.year)\n",
        "```\n",
        "\n"
      ]
    },
    {
      "cell_type": "markdown",
      "metadata": {
        "id": "iqsKPNmDluaO"
      },
      "source": [
        "<FONT COLOR=\"blue\">Nota: </FONT> No puede usar ninguna otra función o estructura del módulo datetime aparte de las líneas previas."
      ]
    },
    {
      "cell_type": "markdown",
      "metadata": {
        "id": "w3-8IixadVU9"
      },
      "source": [
        " Importamos lo permitido del módulo date time y definimos la tupla month, donde la i-ésima entrada representa el i-esimo mes del año, y el valor asignado a esta es el numero de días que tiene el mes, por practicidad se dejan de lado los años bisiestos (Ojo: Esto no afecta el resultado deseado)"
      ]
    },
    {
      "cell_type": "code",
      "metadata": {
        "id": "BhKfT1nVdUO4"
      },
      "source": [
        "from datetime import date\n",
        "hoy = date.today()\n",
        "month = (31, 28, 31, 30, 31, 30, 31, 31, 30, 31, 30, 31)\n"
      ],
      "execution_count": null,
      "outputs": []
    },
    {
      "cell_type": "markdown",
      "metadata": {
        "id": "hFd6CjAmmFj5"
      },
      "source": [
        "Definimos la funcion que verifica que nuestra fecha sea valida, esta función regresa una tupla con dos elementos.\n",
        "Lo primero que hace la funcion es separar el parametro recibido y almacenarlo en una lista (bd), y después verifica 4 cosas: \n",
        "\n",
        "1. Que cada elemento de bd sea del tipo integer\n",
        "2. Que cada entrada de bd este en los rangos de días, meses y años validos, respectivamente\n",
        "3. Que los días especificados no sean mayores a los días con los que el mes introducido cuenta\n",
        "4. Se comprueba que la fecha introducida por el usuario no se mayor a la fecha actual, en el caso de que el año de nacimiento sea el actual \n",
        "\n",
        "Parámetros\n",
        "\n",
        "birth_date: Input del usuario, no tiene un 'tipo' definido \n",
        "\n",
        "Salida\n",
        "\n",
        "Tupla de dos elementos, el primer elemento es un boolean y el segundo es una lista de tres elementos"
      ]
    },
    {
      "cell_type": "code",
      "metadata": {
        "id": "Tfo18b6dl1xk"
      },
      "source": [
        "# Función que verifica que nuestra fecha sea correcta \n",
        "def debA(birth_date): \n",
        "    try:\n",
        "        # Tomamos el input del usuario y lo separamos por cada '-', como \n",
        "        # maximo se pueden hacer dos divisiones\n",
        "        bd = birth_date.split(sep=\"-\", maxsplit=2) # Crea una lista\n",
        "        # Verificación 1\n",
        "        for i in range(len(bd)):\n",
        "            bd[i] = int(bd[i])\n",
        "        # Verificación 2\n",
        "        if(bd[0] not in range(1, 32) or bd[1] not in range(1, 13) or\n",
        "                bd[2] not in range(1, (hoy.year + 1))):\n",
        "            raise\n",
        "        # Verificación 3\n",
        "        elif(month[bd[1]-1] < bd[0]): \n",
        "            raise\n",
        "        # Verificación 4\n",
        "        elif(bd[2] == hoy.year):\n",
        "            if(bd[1] == hoy.month and bd[0] >= hoy.day):\n",
        "                raise\n",
        "            elif(bd[1] > hoy.month):\n",
        "                raise\n",
        "        # Si pasa todas las verificaciones\n",
        "        else:\n",
        "            return (True, bd)\n",
        "    except:\n",
        "        return (False,bd)\n"
      ],
      "execution_count": null,
      "outputs": []
    },
    {
      "cell_type": "markdown",
      "metadata": {
        "id": "skshVJY-vQ-3"
      },
      "source": [
        "Definimos la funcion que calcula nuestra edad. \n",
        "Lo primero que hace la funcion es apoyarse en la función que definimos arriba para saber si la fecha introducida es valida. Después, toma la lista que devuelve la funcion debA y pone los elmentos en cantidades 'correctas' para poder encontrar la diferencia con la fecha actual, esto lo hace mediante dos acciones:\n",
        "\n",
        "\n",
        "1. Si el dia de nacimiento es mas grande que el dia actual, entonces no se cuenta ese mes y se suma a la varible de los díasla cantidad de días correspondiente al mes que se esta 'quitando', para poder hacer la resta y encontrar la diferencia correcta\n",
        "2. Si el mes de nacimiento es mas grande que el mes actual, entonces no se cuenta ese año y se suma 12 (los meses en un año) a la varaible de los meses para poder hacer la resta y encontrar la diferencia correcta \n",
        "\n",
        "Parámetros\n",
        "\n",
        "birth_date: Input del usuario, no tiene un 'tipo' definido \n",
        "\n",
        "Salida\n",
        "\n",
        "En caso de que el input por el usuario sea el adecuado 'imprime' el calculo de la edad, en caso contrario 'imprime' el mensaje 'Fecha invalida'\n",
        "\n",
        "Dependecias\n",
        "\n",
        "Esta funcion se apoya de la tupla que regresa la rutina debA(), "
      ]
    },
    {
      "cell_type": "code",
      "metadata": {
        "id": "iGJGRQKgs7No"
      },
      "source": [
        "# Definimos la funcion que realizara el calculo de la fecha de la persona \n",
        "def findA(birth_date):\n",
        "    verif = debA(birth_date)\n",
        "    # En caso de que el input sea valido\n",
        "    if(verif[0]):\n",
        "        hoy_d= hoy.day\n",
        "        hoy_m = hoy.month\n",
        "        hoy_y = hoy.year\n",
        "        # Caso 1:\n",
        "        if (verif[1][0] > hoy_d):\n",
        "            hoy_m = hoy_m - 1\n",
        "            hoy_d = hoy_d + month[verif[1][1]-1]\n",
        "        # Caso 2\n",
        "        if (verif[1][1] > hoy_m):\n",
        "            hoy_y = hoy_y - 1\n",
        "            hoy_m = hoy_m + 12\n",
        "\n",
        "        # Calculamos los dias, los meses y los anios\n",
        "        cant_d = hoy_d - verif[1][0]\n",
        "        cant_m = hoy_m - verif[1][1]\n",
        "        cant_y = hoy_y - verif[1][2]\n",
        "\n",
        "        # print present age\n",
        "        print(\"Tu edad actual es:\", cant_y, \"anios\", cant_m, \"meses\", \n",
        "              cant_d, \"dias\")\n",
        "    # Si el input no es valido\n",
        "    else:\n",
        "        print(\"Fecha Invalida\")\n"
      ],
      "execution_count": null,
      "outputs": []
    },
    {
      "cell_type": "markdown",
      "metadata": {
        "id": "o2AzznbIzguS"
      },
      "source": [
        "Una vez definidas las funciones, podemos calcular la edad de la persona"
      ]
    },
    {
      "cell_type": "code",
      "metadata": {
        "colab": {
          "base_uri": "https://localhost:8080/"
        },
        "id": "25v4V6xNoiJp",
        "outputId": "9ab02d40-a2d4-4b28-ed66-5e048dca67e3"
      },
      "source": [
        "\n",
        "a = findA(input(\"Calcula tu edad. \\nIntroduce tu fecha de nacimiento (dd-mm-aaaa): \"))\n"
      ],
      "execution_count": null,
      "outputs": [
        {
          "output_type": "stream",
          "name": "stdout",
          "text": [
            "Calcula tu edad. \n",
            "Introduce tu fecha de nacimiento (dd-mm-aaaa): 31-08-2001\n",
            "Tu edad actual es: 20 anios 1 meses 29 dias\n"
          ]
        }
      ]
    },
    {
      "cell_type": "code",
      "metadata": {
        "colab": {
          "base_uri": "https://localhost:8080/"
        },
        "id": "lFKLahBXOfcW",
        "outputId": "c11b9e28-36d7-41cd-d255-d29165b0b59e"
      },
      "source": [
        "-570%360"
      ],
      "execution_count": null,
      "outputs": [
        {
          "output_type": "execute_result",
          "data": {
            "text/plain": [
              "150"
            ]
          },
          "metadata": {},
          "execution_count": 3
        }
      ]
    }
  ]
}