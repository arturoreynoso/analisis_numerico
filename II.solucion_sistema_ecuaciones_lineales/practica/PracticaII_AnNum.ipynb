{
  "nbformat": 4,
  "nbformat_minor": 0,
  "metadata": {
    "colab": {
      "name": "PracticaII_AnNum.ipynb",
      "provenance": [],
      "collapsed_sections": []
    },
    "kernelspec": {
      "name": "python3",
      "display_name": "Python 3"
    },
    "language_info": {
      "name": "python"
    }
  },
  "cells": [
    {
      "cell_type": "markdown",
      "metadata": {
        "id": "QlhtIX346s5H"
      },
      "source": [
        "# Práctica 2 - Análisis numérico\n",
        "\n",
        "## Autores:\n",
        "<ul>\n",
        "<li> López Espíndola Luis Enrique\n",
        "<li> Mucio Alvarez Santos\n",
        "<li> Muñiz Lescale Marco Aurelio\n",
        "<li> Reynoso Sánchez Arturo Yitzack\n",
        "</ul>"
      ]
    },
    {
      "cell_type": "markdown",
      "metadata": {
        "id": "M_B0jljeD4T7"
      },
      "source": [
        "Modulos Necesarios:"
      ]
    },
    {
      "cell_type": "code",
      "metadata": {
        "id": "5pi_R8mUDsq9"
      },
      "source": [
        "import numpy as np"
      ],
      "execution_count": null,
      "outputs": []
    },
    {
      "cell_type": "markdown",
      "metadata": {
        "id": "niuAzqYOD69A"
      },
      "source": [
        "Excepciones: Definimos nuestra clase de excepciones. Por las diferentes cosas raras que puedan salir,\n",
        "se dan posibles errores previamente identificados y sino se lanza el error y se da como no clasificado\n",
        "\n"
      ]
    },
    {
      "cell_type": "code",
      "metadata": {
        "id": "BPrXUeWsEAmh"
      },
      "source": [
        "class sslException(Exception):\n",
        "    # Se inicia la clase determinando cual es la etiqueta del erorr\n",
        "    def __init__(self, valor):\n",
        "        self.valor = str(valor)\n",
        "\n",
        "    # Se determina el cjto de errores previamente identificados (PI), se toma \n",
        "    # la etiqueta que inicio la clase, y se determina si esta en el cjto PI, si\n",
        "    # si se lanza el mensaje correspondiente a esa excepccion, sino se\n",
        "    # \"catalogo\" como un error no clasificado\n",
        "    def __str__(self):\n",
        "        errores = {\"0\": \"Las dimensiones son diferentes. La matriz debe ser cuadrada.\",\n",
        "                   \"1\": \"Los elementos de la diagonal son cero. La matriz no es invertible.\",\n",
        "                   \"2\": \"Los elementos de la diagonal son cero.\",\n",
        "                   \"3\": \"Los elementos de la diagonal deben ser positivos.\"}\n",
        "        if self.valor in errores:\n",
        "            return f\"Error {self.valor}. {errores[self.valor]}\"\n",
        "        else:\n",
        "            return \"Error no clasificado\"\n"
      ],
      "execution_count": null,
      "outputs": []
    },
    {
      "cell_type": "markdown",
      "metadata": {
        "id": "2p5Bf2gtEcR_"
      },
      "source": [
        "Para facilitar un poco los codigos importamos un par de funciones hechas en clase con Jorge, con sus\n",
        "respectivos comentarios"
      ]
    },
    {
      "cell_type": "markdown",
      "metadata": {
        "id": "qFuFBLHPEoP8"
      },
      "source": [
        "Sistema Triangular Inferior (Sustitucion hacia a adelante)\\:\n",
        "\n",
        "Definimos la rutina que realizará la sustitucion hacia adelante\n"
      ]
    },
    {
      "cell_type": "code",
      "metadata": {
        "id": "wKHouXWPDxmB"
      },
      "source": [
        "def STI(L, rhs):\n",
        "    m, n = L.shape  # Dimensiones de L\n",
        "    if m != n:  # En caso de que no sea cuadrada\n",
        "        raise sslException(0)\n",
        "    b = rhs.copy()\n",
        "    # Creamos el vector, un vector basura del tamaño que se necesita\n",
        "    x = np.empty((n,), dtype=\"float64\")\n",
        "    # Aqui empezamos a construir la sutitucion hacia adelante\n",
        "    for j in range(n):\n",
        "        if L[j, j] == 0:  # La diagonal tiene ceros, lo que nos impide invertirla\n",
        "            raise sslException(1)\n",
        "        x[j] = b[j]/L[j, j]\n",
        "        for i in range(j+1, n):\n",
        "            b[i] = b[i] - L[i, j]*x[j]\n",
        "    return x"
      ],
      "execution_count": null,
      "outputs": []
    },
    {
      "cell_type": "markdown",
      "metadata": {
        "id": "g4zXBkjCFXu3"
      },
      "source": [
        "Sistema Triangular Superior (Sustitución hacia a atrás)"
      ]
    },
    {
      "cell_type": "code",
      "metadata": {
        "id": "t7_Wl6BEFgn-"
      },
      "source": [
        "def STS(U, rhs):\n",
        "    m, n = U.shape  # Dimensiones de U\n",
        "    if m != n:  # Si la matriz no es cuadrada\n",
        "        raise sslException(0)\n",
        "    b = rhs.copy()\n",
        "    # Creamos el vector, un vector basura del tamaño que se necesita\n",
        "    x = np.zeros(b.shape, dtype=\"float64\")\n",
        "    # Aqui empezamos a construir la sutitucion hacia atras\n",
        "    # Aqui esta la clave para que vaya de Xn a X1\n",
        "    for j in reversed(range(n)):\n",
        "        if U[j, j] == 0:  # La diagonal tiene ceros, U no es invertible\n",
        "            raise sslException(1)\n",
        "        else:\n",
        "            x[j] = b[j]/U[j, j]\n",
        "            for i in range(j):\n",
        "                b[i] = b[i] - U[i, j]*x[j]\n",
        "    return x\n",
        "\n"
      ],
      "execution_count": null,
      "outputs": []
    },
    {
      "cell_type": "markdown",
      "metadata": {
        "id": "PN6HbnTZ63T_"
      },
      "source": [
        "# <FONT COLOR=\"blue\">Ejercicio 25</FONT>"
      ]
    },
    {
      "cell_type": "markdown",
      "metadata": {
        "id": "sxAqN229BgKf"
      },
      "source": [
        "Dado el sistem $Ax = b$\n",
        "\n",
        "<li><i> Resolver con eliminacion Gaussiana para\n",
        "\\begin{equation}\n",
        "    A =\n",
        "    \\begin{pmatrix}\n",
        "    2 & 4 & -2  \\\\\n",
        "    4 & 9 & -3  \\\\\n",
        "    -2 & -1 & 7 \\\\\n",
        "    \\end{pmatrix}\\;\\;\\;\n",
        "    b= \\begin{pmatrix}\n",
        "    2\\\\\n",
        "    8\\\\\n",
        "    10\n",
        "    \\end{pmatrix}.\n",
        "    \\end{equation}\n"
      ]
    },
    {
      "cell_type": "code",
      "metadata": {
        "id": "OeMcJfpjDc0K"
      },
      "source": [
        "# Definimos nuestra funcion de eliminacion gaussiana\n",
        "def Gauss(M, rhs):\n",
        "    A, b = M.copy(), rhs.copy()  # Definimos nuestra matriz y solucion b, con lo recibido\n",
        "    m, n = A.shape  # Dimensiones de A\n",
        "    if m != n:  # Checa si la matriz es cuadrada\n",
        "        raise sslException(0)\n",
        "    # Se empieza la reduccion\n",
        "    for j in range(n-1):\n",
        "        if A[j, j] == 0:  # Ceros en la diagonal, A es no invertible\n",
        "            raise sslException(2)\n",
        "        for k in range(j+1, n):\n",
        "            # Factor que permite se forme el cero en la entrada que necesitamos\n",
        "            l = -A[k, j]/A[j, j]\n",
        "            # Nuevo renglon\n",
        "            for i in range(j+1, n):\n",
        "                A[k, i] = A[k, i] + l*A[j, i]\n",
        "            # Nueva entrada de la ultima columna de la matriz aumentada\n",
        "            b[k] = b[k] + l*b[j]\n",
        "    # Una vez reducido el jale, aplicamos la solucion a sistemas de ecuaciones y lo regresamos\n",
        "    return STS(A, b)\n"
      ],
      "execution_count": null,
      "outputs": []
    },
    {
      "cell_type": "markdown",
      "metadata": {
        "id": "X9RMz622GVDi"
      },
      "source": [
        "Una vez definida la función podemos aplicar el método"
      ]
    },
    {
      "cell_type": "code",
      "metadata": {
        "colab": {
          "base_uri": "https://localhost:8080/"
        },
        "id": "xqf9whJmGcNT",
        "outputId": "ee75d31d-f54b-4e94-c109-c8400844000d"
      },
      "source": [
        "# Introducimos nuestras matrices\n",
        "A = np.array([[2, 4, -2], [4, 9, -3], [-2, -1, 7]])\n",
        "b = np.array([2, 8, 10])\n",
        "print(f\"A = \\n{A}\", f\"b = \\n{b}\", sep=\"\\n\\n\")"
      ],
      "execution_count": null,
      "outputs": [
        {
          "output_type": "stream",
          "name": "stdout",
          "text": [
            "A = \n",
            "[[ 2  4 -2]\n",
            " [ 4  9 -3]\n",
            " [-2 -1  7]]\n",
            "\n",
            "b = \n",
            "[ 2  8 10]\n"
          ]
        }
      ]
    },
    {
      "cell_type": "markdown",
      "metadata": {
        "id": "9iJ0oLIzGtfr"
      },
      "source": [
        "Resolvemos "
      ]
    },
    {
      "cell_type": "code",
      "metadata": {
        "colab": {
          "base_uri": "https://localhost:8080/"
        },
        "id": "5XeI9jEIGsmy",
        "outputId": "4c1ba1ad-32fb-4215-85f3-2f47e1e9041d"
      },
      "source": [
        "x = Gauss(A, b)\n",
        "print(\"Aplicando elimininacion Gaussiana tenemos que:\",\n",
        "      f\"x = {x}\",\n",
        "      f\"Comprobando con el modulo numpy, nuetra respuesta es: {np.allclose(A@x,b)}\", \n",
        "      sep=\"\\n\")\n"
      ],
      "execution_count": null,
      "outputs": [
        {
          "output_type": "stream",
          "name": "stdout",
          "text": [
            "Aplicando elimininacion Gaussiana tenemos que:\n",
            "x = [-7.  4.  0.]\n",
            "Comprobando con el modulo numpy, nuetra respuesta es: True\n"
          ]
        }
      ]
    },
    {
      "cell_type": "markdown",
      "metadata": {
        "id": "6lnTqyvgG8sk"
      },
      "source": [
        "<li><i> Usar Factorizacion LU de A para resolver el sistema Ay = c, donde:\n",
        "\\begin{equation}\n",
        "c= \\begin{pmatrix}\n",
        "    4\\\\\n",
        "    8\\\\\n",
        "    -6\n",
        "    \\end{pmatrix}.\n",
        "\\end{equation}"
      ]
    },
    {
      "cell_type": "code",
      "metadata": {
        "id": "ojvYMCqpIrIf"
      },
      "source": [
        "c = np.array([4, 8, -6])"
      ],
      "execution_count": null,
      "outputs": []
    },
    {
      "cell_type": "markdown",
      "metadata": {
        "id": "Vt4dhIX6Hh2E"
      },
      "source": [
        "Definimos nuestra funcion de Factorizacion LU"
      ]
    },
    {
      "cell_type": "code",
      "metadata": {
        "id": "5CWswTe7Hn89"
      },
      "source": [
        "def lu(M):\n",
        "    m, n = M.shape  # Dimensiones de M\n",
        "    if m != n:  # Por si no es cuadrada\n",
        "        raise sslException(0)\n",
        "    # Se define U como copia de M y L una matriz identidad de n*n\n",
        "    U, L = M.copy(), np.eye(n)\n",
        "    # Aplicamos reduccion gaussiana para construir U\n",
        "    # & L se construye con los elementos que se utlizan para hacer ceros debajo de la columna\n",
        "    for j in range(n-1):\n",
        "        if U[j, j] == 0:  # Si tiene ceros en la diagonal no es invertible\n",
        "            raise sslException(2)\n",
        "        for k in range(j+1, n):\n",
        "            L[k, j] = U[k, j]/U[j, j]\n",
        "            for i in range(j+1, n):\n",
        "                U[k, i] = U[k, i] - L[k, j]*U[j, i]\n",
        "        U[j+1:, j] = 0\n",
        "    return L, U"
      ],
      "execution_count": null,
      "outputs": []
    },
    {
      "cell_type": "markdown",
      "metadata": {
        "id": "nhBYofMQHvUD"
      },
      "source": [
        "Aplicamos la factorización LU"
      ]
    },
    {
      "cell_type": "code",
      "metadata": {
        "colab": {
          "base_uri": "https://localhost:8080/"
        },
        "id": "t3UAGBD7H3-7",
        "outputId": "219837e8-5d83-4fb0-8965-885e50a44c66"
      },
      "source": [
        "L, U = lu(A)\n",
        "print(\"Aplicandola factorizacion LU tenemos que:\",\n",
        "      f\"L = \\n{L}\", f\"U = \\n{U}\", f\"Entoces \\nLU = \\n{L@U}\",\n",
        "      f\"Comprobando con el modulo numpy, nuetra respuesta es: {np.allclose(L@U,A)}\", sep=\"\\n\\n\")"
      ],
      "execution_count": null,
      "outputs": [
        {
          "output_type": "stream",
          "name": "stdout",
          "text": [
            "Aplicandola factorizacion LU tenemos que:\n",
            "\n",
            "L = \n",
            "[[ 1.  0.  0.]\n",
            " [ 2.  1.  0.]\n",
            " [-1.  3.  1.]]\n",
            "\n",
            "U = \n",
            "[[ 2  4 -2]\n",
            " [ 0  1  1]\n",
            " [ 0  0  2]]\n",
            "\n",
            "Entoces \n",
            "LU = \n",
            "[[ 2.  4. -2.]\n",
            " [ 4.  9. -3.]\n",
            " [-2. -1.  7.]]\n",
            "\n",
            "Comprobando con el modulo numpy, nuetra respuesta es: True\n"
          ]
        }
      ]
    },
    {
      "cell_type": "markdown",
      "metadata": {
        "id": "8u-eqfGHIBAX"
      },
      "source": [
        "Y recordemos que $$LU\\hat{y}=c \\longleftrightarrow L\\hat{z} = c y U\\hat{y} = z$$\n",
        "Entonces resolviendo el sistema tenemos que:"
      ]
    },
    {
      "cell_type": "code",
      "metadata": {
        "colab": {
          "base_uri": "https://localhost:8080/"
        },
        "id": "RZW7HdbdIb1_",
        "outputId": "436c5d52-49f6-44ac-b188-312de16d170f"
      },
      "source": [
        "z = STI(L, c) # Se resuelve el sistema de la triangular inferior\n",
        "y = STS(U, z) # Se resuelve el sistema de la traingular superior \n",
        "print(\"Resolviendo el sistema tenemos que:\",\n",
        "      f\"Lz = c -> z = {z}\", f\"& Uy = z -> y = {y}\", sep=\"\\n\")\n"
      ],
      "execution_count": null,
      "outputs": [
        {
          "output_type": "stream",
          "name": "stdout",
          "text": [
            "Resolviendo el sistema tenemos que:\n",
            "Lz = c -> z = [  4.  16. -50.]\n",
            "& Uy = z -> y = [-1.39814815 -4.03703704  1.85185185]\n"
          ]
        }
      ]
    },
    {
      "cell_type": "markdown",
      "metadata": {
        "id": "IldK-KFu7UXL"
      },
      "source": [
        "# <FONT COLOR=\"blue\">Ejercicio 26</FONT>"
      ]
    },
    {
      "cell_type": "markdown",
      "metadata": {
        "id": "4Fuaz360JXhJ"
      },
      "source": [
        "Sean $A$ y $b$ dados como sigue:\n",
        "<ol type = \"a\"> \n",
        "<li> <i>) \n",
        "\n",
        "\\begin{equation}\n",
        "A =\n",
        "    \\begin{pmatrix}\n",
        "    4 & -1 & 3  \\\\\n",
        "    -8 & 4 & -7  \\\\\n",
        "    12 & 1 & 8 \\\\\n",
        "    \\end{pmatrix}\\;\\;\\;\n",
        "    b= \\begin{pmatrix}\n",
        "    -8\\\\\n",
        "    19\\\\\n",
        "    -19\n",
        "    \\end{pmatrix}.\n",
        "    \\end{equation}\n",
        "\n",
        "<li> <i>) \n",
        "\\begin{equation}\n",
        "A =\n",
        "    \\begin{pmatrix}\n",
        "    1 & 4 & -2 & 1  \\\\\n",
        "    -2 & -4 & -3 & 1 \\\\\n",
        "    1 & 16 & -17 & 9 \\\\\n",
        "    2 & 4 & -9 & -3 \n",
        "    \\end{pmatrix}\\;\\;\\;\n",
        "    b= \\begin{pmatrix}\n",
        "    3.5\\\\\n",
        "    -2.5\\\\\n",
        "    15\\\\\n",
        "    10.5\n",
        "  \\end{pmatrix}.\n",
        "\\end{equation}\n",
        "\n",
        "<li> <i>) \n",
        "\\begin{equation}\n",
        "A =\n",
        "    \\begin{pmatrix}\n",
        "    4 & 5 & -1 & 2 & 3  \\\\\n",
        "    12 & 13 & 0 & 10 & 3 \\\\\n",
        "    -8 & -8 & 5 & -11 & 4 \\\\\n",
        "    16 & 18 & -7 & 20 & 4 \\\\\n",
        "    -4 & -9 & 31 & -31 & -1\n",
        "    \\end{pmatrix}\\;\\;\\;\n",
        "    b= \\begin{pmatrix}\n",
        "    34\\\\\n",
        "    93\\\\\n",
        "    -33\\\\\n",
        "    131\\\\\n",
        "    -58\n",
        "  \\end{pmatrix}.\n",
        "\\end{equation}\n",
        "\n",
        "Resolver cada sistema $A\\hat{x} = \\hat{b}$ con las rutinas:\n",
        "<ol type = \"b\"> \n",
        "<li><i> Factorizacion LU.\n",
        "<li><i> Factorizacion LU con pivoteo parcial\n",
        "<li><i>Factorizacion LU con pivoteo total\n",
        "\n",
        "Comparar los resultados"
      ]
    },
    {
      "cell_type": "markdown",
      "metadata": {
        "id": "izYmURY1XwsV"
      },
      "source": [
        "Empezamos definiendo las funciones de nuestras rutinas\n",
        "<ol type= \"*\">\n",
        "\n",
        "*   Para la Factorización LU se ocupara la runia lu(M), definada en el ejercicio 25\n",
        "*   Definimos la rutina lupp(M) para el pivoteo parcial "
      ]
    },
    {
      "cell_type": "code",
      "metadata": {
        "id": "V_ZifhZ8ZMCd"
      },
      "source": [
        "\n",
        "def lupp(M):\n",
        "    m, n = M.shape  # Dimensiones de M\n",
        "    if m != n:  # Por si no es cuadrada\n",
        "        raise sslException(0)\n",
        "    # Se define U como copia de M y L una matriz identidad de n*n\n",
        "    U, L= np.array(M,dtype = \"float64\") , np.zeros(M.shape)\n",
        "    piv = np.arange(0,n)\n",
        "    # Aplicamos reduccion gaussiana para construir U\n",
        "    # & L se construye con los elementos que se utlizan para hacer ceros debajo del \n",
        "    # pivote\n",
        "    for j in range(n-1):\n",
        "        # pivote\n",
        "        p = np.argmax(abs(U[piv[j:],j]))+ j \n",
        "        if U[piv[p], j] == 0: \n",
        "            raise sslException(4)\n",
        "        if piv[p] != piv[j]:\n",
        "            z = piv[p]\n",
        "            piv[p] = piv[j]\n",
        "            piv[j] = z\n",
        "        for k in range(j+1, n):\n",
        "            L[piv[k], j] = U[piv[k], j]/U[piv[j], j]\n",
        "            for i in range(j+1, n):\n",
        "                U[piv[k], i] = U[piv[k], i] - L[piv[k], j]*U[piv[j], i]\n",
        "        U[piv[j+1:], j] = 0\n",
        "    for l in range(n):\n",
        "        L[piv[l], l] = 1\n",
        "    return L, U[piv,:], piv"
      ],
      "execution_count": null,
      "outputs": []
    },
    {
      "cell_type": "markdown",
      "metadata": {
        "id": "2MGpnhJPqpPM"
      },
      "source": [
        "La rutina de factorizacion LU con pivote Total no podimos obtnerla, desarrollamos lo siguiente pero presenta detalles:"
      ]
    },
    {
      "cell_type": "code",
      "metadata": {
        "id": "Zy5_Fb_Nq3Ql"
      },
      "source": [
        "def lupt(M):\n",
        "    m, n = M.shape  # Dimensiones de M\n",
        "    if m != n:  # Por si no es cuadrada\n",
        "        raise sslException(0)\n",
        "    # Se define U como copia de M y L una matriz identidad de n*n\n",
        "    U, L= np.array(M,dtype = \"float64\") , np.zeros(M.shape)\n",
        "    pivr = np.arange(0,n)\n",
        "    pivc = np.arange(0,n)\n",
        "    # Aplicamos reduccion gaussiana para construir U\n",
        "    # & L se construye con los elementos que se utlizan para hacer ceros debajo de la columna\n",
        "    for j in range(n-1):\n",
        "        # pivote\n",
        "        u = U[pivr[j:],pivc[j:]]\n",
        "        p = np.unravel_index(np.argmax(abs(u)),U.shape)\n",
        "        if U[pivr[p[0]], pivc[p[1]]] == 0: \n",
        "            raise sslException(2)\n",
        "        if pivr[p[0]] != pivr[j]:\n",
        "            z = pivr[p[0]]\n",
        "            pivr[p[0]] = piv[j]\n",
        "            pivr[j] = z\n",
        "        if pivc[p[1]] != pivc[j]:\n",
        "            z = pivc[p[1]]\n",
        "            pivc[p[1]] = pivc[j]\n",
        "            pivc[j] = z\n",
        "        for k in range(j+1, n):\n",
        "            L[pivr[k], pivc[j]] = U[pivr[k], pivc[j]]/U[pivr[j], pivc[j]]\n",
        "            for i in range(j+1, n):\n",
        "                U[pivr[k], pivc[i]] = U[pivr[k], pivc[i]] - L[pivr[k], pivc[j]]*U[pivr[j], piv\n",
        "        U[pivr[j+1:], pivc[j]] = 0\n",
        "    for l in (range(n)):\n",
        "        L[pivr[l], pivc[l]] = 1\n",
        "    return L[pivr,:], U[:,pivc], pivr\n"
      ],
      "execution_count": null,
      "outputs": []
    },
    {
      "cell_type": "markdown",
      "metadata": {
        "id": "vjuUM8x8aYY7"
      },
      "source": [
        "Aplicamos nuestras rutinas a cada inciso \n",
        "\n",
        "a)"
      ]
    },
    {
      "cell_type": "code",
      "metadata": {
        "id": "2IS9TLX07a3Z",
        "colab": {
          "base_uri": "https://localhost:8080/"
        },
        "outputId": "02c9a383-a634-4a00-ce26-9b3aa47bbbe1"
      },
      "source": [
        "A = np.array([[4,-1,3],[-8,4,7],[12,1,8]])\n",
        "b = np.array([-8,19,-19])\n",
        "# Aplicamos la factorizacion LU\n",
        "L, U = lu(A)\n",
        "print(\"Aplicandola factorizacion LU tenemos que:\",\n",
        "      f\"L = \\n{L}\", f\"U = \\n{U}\", f\"Entoces \\nLU = \\n{L@U}\",\n",
        "      f\"Comprobando con el modulo numpy, nuetra respuesta es: {np.allclose(L@U,A)}\", sep=\"\\n\\n\")\n",
        "\n",
        "# Y recordemos que LUx = b sii  Ly = b & Ux = y\n",
        "y = STI(L, b) # Se resuelve el sistema de la triangular inferior\n",
        "x = STS(U, y) # Se resuelve el sistema de la traingular superior \n",
        "\n",
        "# Resolviendo el sistema tenemos que:\n",
        "print(\"Resolviendo el sistema tenemos que:\",\n",
        "      f\"Ly = c -> y = {y}\", f\"& Ux = y -> x = {x}\", sep=\"\\n\")\n",
        "\n",
        "# Aplicamos la factorizacion LU con pivoteo parcial\n",
        "L, U, piv = lupp(A)\n",
        "print(\"\\nAplicandola factorizacion LU con pivoteo parcial tenemos que:\",\n",
        "      f\"L = \\n{L}\", f\"U = \\n{U}\", f\"Entoces \\nLU = \\n{L@U}\", \n",
        "      f\"piv = \\n{piv}\",\n",
        "      f\"Comprobando con el modulo numpy, nuetra respuesta es: {np.allclose(L@U,A)}\", sep=\"\\n\\n\")\n",
        "\n",
        "# Y recordemos que LUx = b sii  Ly = b & Ux = y\n",
        "y = STI(L[piv,:], b) # Se resuelve el sistema de la triangular inferior\n",
        "x = STS(U, y) # Se resuelve el sistema de la traingular superior \n",
        "\n",
        "# Resolviendo el sistema tenemos que:\n",
        "print(\"Resolviendo el sistema tenemos que:\",\n",
        "      f\"Ly = c -> y = {y}\", f\"& Ux = y -> x = {x}\", sep=\"\\n\")"
      ],
      "execution_count": null,
      "outputs": [
        {
          "output_type": "stream",
          "name": "stdout",
          "text": [
            "Aplicandola factorizacion LU tenemos que:\n",
            "\n",
            "L = \n",
            "[[ 1.  0.  0.]\n",
            " [-2.  1.  0.]\n",
            " [ 3.  2.  1.]]\n",
            "\n",
            "U = \n",
            "[[  4  -1   3]\n",
            " [  0   2  13]\n",
            " [  0   0 -27]]\n",
            "\n",
            "Entoces \n",
            "LU = \n",
            "[[ 4. -1.  3.]\n",
            " [-8.  4.  7.]\n",
            " [12.  1.  8.]]\n",
            "\n",
            "Comprobando con el modulo numpy, nuetra respuesta es: True\n",
            "Resolviendo el sistema tenemos que:\n",
            "Ly = c -> y = [-8.  3. -1.]\n",
            "& Ux = y -> x = [-1.71296296  1.25925926  0.03703704]\n",
            "\n",
            "Aplicandola factorizacion LU con pivoteo parcial tenemos que:\n",
            "\n",
            "L = \n",
            "[[ 0.33333333 -0.28571429  1.        ]\n",
            " [-0.66666667  1.          0.        ]\n",
            " [ 1.          0.          0.        ]]\n",
            "\n",
            "U = \n",
            "[[12.          1.          8.        ]\n",
            " [ 0.          4.66666667 12.33333333]\n",
            " [ 0.          0.          3.85714286]]\n",
            "\n",
            "Entoces \n",
            "LU = \n",
            "[[ 4. -1.  3.]\n",
            " [-8.  4.  7.]\n",
            " [12.  1.  8.]]\n",
            "\n",
            "piv = \n",
            "[2 1 0]\n",
            "\n",
            "Comprobando con el modulo numpy, nuetra respuesta es: True\n",
            "Resolviendo el sistema tenemos que:\n",
            "Ly = c -> y = [ -8.  13. -12.]\n",
            "& Ux = y -> x = [ 0.49007937 11.00793651 -3.11111111]\n"
          ]
        }
      ]
    },
    {
      "cell_type": "markdown",
      "metadata": {
        "id": "xlxeyBdmf0U4"
      },
      "source": [
        "b)"
      ]
    },
    {
      "cell_type": "code",
      "metadata": {
        "id": "tYcVr_bQf3b1",
        "colab": {
          "base_uri": "https://localhost:8080/"
        },
        "outputId": "be2c43e5-815e-46bb-ee48-32a6dd9c1bd2"
      },
      "source": [
        "A = np.array([[1,4,-2,1],[-2,-4,-3,1],[1,16,-17,9],[2,4,-9,-3]])\n",
        "b = np.array([3.5,-2.5,15,10.5])\n",
        "# Aplicamos la factorizacion LU\n",
        "L, U = lu(A)\n",
        "print(\"Aplicandola factorizacion LU tenemos que:\",\n",
        "      f\"L = \\n{L}\", f\"U = \\n{U}\", f\"Entoces \\nLU = \\n{L@U}\",\n",
        "      f\"Comprobando con el modulo numpy, nuetra respuesta es: {np.allclose(L@U,A)}\", sep=\"\\n\\n\")\n",
        "\n",
        "# Y recordemos que LUx = b sii  Ly = b & Ux = y\n",
        "y = STI(L, b) # Se resuelve el sistema de la triangular inferior\n",
        "x = STS(U, y) # Se resuelve el sistema de la traingular superior \n",
        "\n",
        "# Resolviendo el sistema tenemos que:\n",
        "print(\"Resolviendo el sistema tenemos que:\",\n",
        "      f\"Ly = c -> y = {y}\", f\"& Ux = y -> x = {x}\", sep=\"\\n\")\n",
        "\n",
        "# Aplicamos la factorizacion LU con pivoteo parcial\n",
        "L, U, piv = lupp(A)\n",
        "print(\"\\nAplicandola factorizacion LU con pivoteo parcial tenemos que:\",\n",
        "      f\"L = \\n{L}\", f\"U = \\n{U}\", f\"Entoces \\nLU = \\n{L@U}\", \n",
        "      f\"piv = \\n{piv}\",\n",
        "      f\"Comprobando con el modulo numpy, nuetra respuesta es: {np.allclose(L@U,A)}\", sep=\"\\n\\n\")\n",
        "\n",
        "# Y recordemos que LUx = b sii  Ly = b & Ux = y\n",
        "y = STI(L[piv,:], b) # Se resuelve el sistema de la triangular inferior\n",
        "x = STS(U, y) # Se resuelve el sistema de la traingular superior \n",
        "\n",
        "# Resolviendo el sistema tenemos que:\n",
        "print(\"Resolviendo el sistema tenemos que:\",\n",
        "      f\"Ly = c -> y = {y}\", f\"& Ux = y -> x = {x}\", sep=\"\\n\")\n"
      ],
      "execution_count": null,
      "outputs": [
        {
          "output_type": "stream",
          "name": "stdout",
          "text": [
            "Aplicandola factorizacion LU tenemos que:\n",
            "\n",
            "L = \n",
            "[[ 1.  0.  0.  0.]\n",
            " [-2.  1.  0.  0.]\n",
            " [ 1.  3.  1.  0.]\n",
            " [ 2. -1. -2.  1.]]\n",
            "\n",
            "U = \n",
            "[[ 1  4 -2  1]\n",
            " [ 0  4 -7  3]\n",
            " [ 0  0  6 -1]\n",
            " [ 0  0  0 -4]]\n",
            "\n",
            "Entoces \n",
            "LU = \n",
            "[[  1.   4.  -2.   1.]\n",
            " [ -2.  -4.  -3.   1.]\n",
            " [  1.  16. -17.   9.]\n",
            " [  2.   4.  -9.  -3.]]\n",
            "\n",
            "Comprobando con el modulo numpy, nuetra respuesta es: True\n",
            "Resolviendo el sistema tenemos que:\n",
            "Ly = c -> y = [ 3.5  4.5 -2.   4. ]\n",
            "& Ux = y -> x = [-0.5  1.  -0.5 -1. ]\n",
            "\n",
            "Aplicandola factorizacion LU con pivoteo parcial tenemos que:\n",
            "\n",
            "L = \n",
            "[[-0.5         0.14285714  0.07142857  1.        ]\n",
            " [ 1.          0.          0.          0.        ]\n",
            " [-0.5         1.          0.          0.        ]\n",
            " [-1.          0.          1.          0.        ]]\n",
            "\n",
            "U = \n",
            "[[ -2.          -4.          -3.           1.        ]\n",
            " [  0.          14.         -18.5          9.5       ]\n",
            " [  0.           0.         -12.          -2.        ]\n",
            " [  0.           0.           0.           0.28571429]]\n",
            "\n",
            "Entoces \n",
            "LU = \n",
            "[[  1.   4.  -2.   1.]\n",
            " [ -2.  -4.  -3.   1.]\n",
            " [  1.  16. -17.   9.]\n",
            " [  2.   4.  -9.  -3.]]\n",
            "\n",
            "piv = \n",
            "[1 2 3 0]\n",
            "\n",
            "Comprobando con el modulo numpy, nuetra respuesta es: True\n",
            "Resolviendo el sistema tenemos que:\n",
            "Ly = c -> y = [ 3.5        -0.75       18.5        11.03571429]\n",
            "& Ux = y -> x = [103.14583333 -36.80729167  -7.97916667  38.625     ]\n"
          ]
        }
      ]
    },
    {
      "cell_type": "markdown",
      "metadata": {
        "id": "1iD0_7ium-GT"
      },
      "source": [
        "c)\n"
      ]
    },
    {
      "cell_type": "code",
      "metadata": {
        "colab": {
          "base_uri": "https://localhost:8080/"
        },
        "id": "4V24gIH6nDLE",
        "outputId": "12309e34-a86f-4d2d-ad51-db043d7a7ba3"
      },
      "source": [
        "A = np.array([[4,5,-1,2,3],[12,13,0,10,3],[-8,-8,5,-11,4],[16,18,-7,20,4],[-4,-9,31,-31,-1]])\n",
        "b = np.array([34,93,-33,131,-58])\n",
        "# Aplicamos la factorizacion LU\n",
        "L, U = lu(A)\n",
        "print(\"Aplicandola factorizacion LU tenemos que:\",\n",
        "      f\"L = \\n{L}\", f\"U = \\n{U}\", f\"Entoces \\nLU = \\n{L@U}\",\n",
        "      f\"Comprobando con el modulo numpy, nuetra respuesta es: {np.allclose(L@U,A)}\", sep=\"\\n\\n\")\n",
        "\n",
        "# Y recordemos que LUx = b sii  Ly = b & Ux = y\n",
        "y = STI(L, b) # Se resuelve el sistema de la triangular inferior\n",
        "x = STS(U, y) # Se resuelve el sistema de la traingular superior \n",
        "\n",
        "# Resolviendo el sistema tenemos que:\n",
        "print(\"Resolviendo el sistema tenemos que:\",\n",
        "      f\"Ly = c -> y = {y}\", f\"& Ux = y -> x = {x}\", sep=\"\\n\")\n",
        "\n",
        "# Aplicamos la factorizacion LU con pivoteo parcial\n",
        "L, U, piv = lupp(A)\n",
        "print(\"\\nAplicandola factorizacion LU con pivoteo parcial tenemos que:\",\n",
        "      f\"L = \\n{L}\", f\"U = \\n{U}\", f\"Entoces \\nLU = \\n{L@U}\", \n",
        "      f\"piv = \\n{piv}\",\n",
        "      f\"Comprobando con el modulo numpy, nuetra respuesta es: {np.allclose(L@U,A)}\", sep=\"\\n\\n\")\n",
        "\n",
        "# Y recordemos que LUx = b sii  Ly = b & Ux = y\n",
        "y = STI(L[piv,:], b) # Se resuelve el sistema de la triangular inferior\n",
        "x = STS(U, y) # Se resuelve el sistema de la traingular superior \n",
        "\n",
        "# Resolviendo el sistema tenemos que:\n",
        "print(\"Resolviendo el sistema tenemos que:\",\n",
        "      f\"Ly = c -> y = {y}\", f\"& Ux = y -> x = {x}\", sep=\"\\n\")"
      ],
      "execution_count": null,
      "outputs": [
        {
          "output_type": "stream",
          "name": "stdout",
          "text": [
            "Aplicandola factorizacion LU tenemos que:\n",
            "\n",
            "L = \n",
            "[[ 1.  0.  0.  0.  0.]\n",
            " [ 3.  1.  0.  0.  0.]\n",
            " [-2. -1.  1.  0.  0.]\n",
            " [ 4.  1. -1.  1.  0.]\n",
            " [-1.  2.  4. -5.  1.]]\n",
            "\n",
            "U = \n",
            "[[ 4  5 -1  2  3]\n",
            " [ 0 -2  3  4 -6]\n",
            " [ 0  0  6 -3  4]\n",
            " [ 0  0  0  5  2]\n",
            " [ 0  0  0  0  8]]\n",
            "\n",
            "Entoces \n",
            "LU = \n",
            "[[  4.   5.  -1.   2.   3.]\n",
            " [ 12.  13.   0.  10.   3.]\n",
            " [ -8.  -8.   5. -11.   4.]\n",
            " [ 16.  18.  -7.  20.   4.]\n",
            " [ -4.  -9.  31. -31.  -1.]]\n",
            "\n",
            "Comprobando con el modulo numpy, nuetra respuesta es: True\n",
            "Resolviendo el sistema tenemos que:\n",
            "Ly = c -> y = [34. -9. 26. 30. 40.]\n",
            "& Ux = y -> x = [1. 2. 3. 4. 5.]\n",
            "\n",
            "Aplicandola factorizacion LU con pivoteo parcial tenemos que:\n",
            "\n",
            "L = \n",
            "[[ 0.25       -0.11111111  0.5         1.          0.        ]\n",
            " [ 0.75        0.11111111  0.25        0.16666667  1.        ]\n",
            " [-0.5        -0.22222222  1.          0.          0.        ]\n",
            " [ 1.          0.          0.          0.          0.        ]\n",
            " [-0.25        1.          0.          0.          0.        ]]\n",
            "\n",
            "U = \n",
            "[[ 16.          18.          -7.          20.           4.        ]\n",
            " [  0.          -4.5         29.25       -26.           0.        ]\n",
            " [  0.           0.           8.          -6.77777778   6.        ]\n",
            " [  0.           0.           0.          -2.5         -1.        ]\n",
            " [  0.           0.           0.           0.          -1.33333333]]\n",
            "\n",
            "Entoces \n",
            "LU = \n",
            "[[  4.   5.  -1.   2.   3.]\n",
            " [ 12.  13.   0.  10.   3.]\n",
            " [ -8.  -8.   5. -11.   4.]\n",
            " [ 16.  18.  -7.  20.   4.]\n",
            " [ -4.  -9.  31. -31.  -1.]]\n",
            "\n",
            "piv = \n",
            "[3 4 2 0 1]\n",
            "\n",
            "Comprobando con el modulo numpy, nuetra respuesta es: True\n",
            "Resolviendo el sistema tenemos que:\n",
            "Ly = c -> y = [  34.  101.    6.  130. -116.]\n",
            "& Ux = y -> x = [ 498.94236111 -418.18611111 -138.03888889  -86.8          87.        ]\n"
          ]
        }
      ]
    },
    {
      "cell_type": "markdown",
      "metadata": {
        "id": "tkHxj7P6nrEm"
      },
      "source": [
        "En conclusión, tanto para el inciso a) como para el inciso b) notamos que el valor de y no cambia, en ninguna de las factorizaciones, mientras que el valor de la solución difiere de manera notable \n",
        "\n",
        "Aunque se incluyó la rutina LU con pivoteo, nos dimos cuenta que aun cuenta con un ligero error, el cual lastimosamente no hemos encontrado pero creimos importamte poner lo que hicimos y no dejarlo en blanco "
      ]
    },
    {
      "cell_type": "markdown",
      "metadata": {
        "id": "HEI0sJlH7bai"
      },
      "source": [
        "# <FONT COLOR=\"blue\">Ejercicio 27</FONT>"
      ]
    },
    {
      "cell_type": "code",
      "metadata": {
        "id": "IyZiFIJq7f4K"
      },
      "source": [
        ""
      ],
      "execution_count": null,
      "outputs": []
    },
    {
      "cell_type": "markdown",
      "metadata": {
        "id": "z1GQiOeG7gHj"
      },
      "source": [
        "# <FONT COLOR=\"blue\">Ejercicio 28</FONT>"
      ]
    },
    {
      "cell_type": "markdown",
      "metadata": {
        "id": "hgFLIzFaB-Q1"
      },
      "source": [
        "Dada la matriz \n",
        "$$A=\n",
        "\\begin{pmatrix}\n",
        "1 & 0 & 0 & 0 & 1\\\\\n",
        "-1 & 1 & 0 & 0 & 1\\\\\n",
        "-1 & -1 & 1 & 0 & 1\\\\\n",
        "-1 & -1 & -1 & 1 & 1\\\\\n",
        "-1 & -1 & -1 & -1 & 1\\\\\n",
        "\\end{pmatrix}\n",
        "$$\n",
        "1. ¿Qué sucede cuando se usa Eliminación Gaussina con pivoteo parcial?.\n",
        "2. Usar Eliminación Gaussina con pivoteo parcial para resolver sistemas de varios tamaños (al menos 5) con vectores b elegidos por cualquier criterio. Describir como se comporta la condición de la matriz.\n",
        "3. Escribir una rutina que factorice la matriz (LU) con pivoteo total.\n"
      ]
    },
    {
      "cell_type": "markdown",
      "metadata": {
        "id": "zSI_9tUiK5y-"
      },
      "source": [
        "Con la eliminación Gaussiana del "
      ]
    },
    {
      "cell_type": "code",
      "metadata": {
        "id": "5JtcpFV_7ikk",
        "colab": {
          "base_uri": "https://localhost:8080/"
        },
        "outputId": "5f915b7d-5f83-418c-e8a8-24c517f1e3b6"
      },
      "source": [
        "# algoritmo para descomposicion A=LU\n",
        "# la matriz A ya esta dada\n",
        "def factorizacionLU(A):\n",
        "    # dimension de la matriz\n",
        "    n = len(A)\n",
        "    # matriz L inicialmente es la identidad\n",
        "    L = np.identity(n)\n",
        "    # inicialmente la matriz A y la matriz U son iguales\n",
        "    U = np.zeros((n,n))\n",
        "    for i in range(0,n):\n",
        "        for j in range(0,n):\n",
        "            U[i][j] = A[i][j]\n",
        "    # eliminacion gaussiana\n",
        "    for i in range(0,n):\n",
        "        for j in range(i+1,n):\n",
        "            # guardar los factores de eliminacion gaussiana \n",
        "            # en la matriz L\n",
        "            factor = U[j][i]/U[i][i]\n",
        "            L[j][i] = factor\n",
        "            # realizar eliminacion gaussiana en la matriz U\n",
        "            # para quedar de forma triangular superior\n",
        "            for k in range(i,n):\n",
        "                U[j][k] = U[j][k] - factor*U[i][k]\n",
        "    return L,U\n",
        "\n",
        "def main():\n",
        "    # matriz A\n",
        "    A = np.array([[1,0,0,0,1],[-1,1,0,0,1],[-1,-1,1,0,1],[-1,-1,-1,1,1],[-1,-1,-1,-1,1]])\n",
        "    # llamar funcion de descomposicion LU para obtener/llenar matrices L,U\n",
        "    L,U=factorizacionLU(A)\n",
        "    #se imprimen las matrices y el vector b\n",
        "    print(A)\n",
        "    print(L)\n",
        "    print(U)\n",
        "    \n",
        "main()"
      ],
      "execution_count": null,
      "outputs": [
        {
          "output_type": "stream",
          "name": "stdout",
          "text": [
            "[[ 1  0  0  0  1]\n",
            " [-1  1  0  0  1]\n",
            " [-1 -1  1  0  1]\n",
            " [-1 -1 -1  1  1]\n",
            " [-1 -1 -1 -1  1]]\n",
            "[[ 1.  0.  0.  0.  0.]\n",
            " [-1.  1.  0.  0.  0.]\n",
            " [-1. -1.  1.  0.  0.]\n",
            " [-1. -1. -1.  1.  0.]\n",
            " [-1. -1. -1. -1.  1.]]\n",
            "[[ 1.  0.  0.  0.  1.]\n",
            " [ 0.  1.  0.  0.  2.]\n",
            " [ 0.  0.  1.  0.  4.]\n",
            " [ 0.  0.  0.  1.  8.]\n",
            " [ 0.  0.  0.  0. 16.]]\n"
          ]
        }
      ]
    },
    {
      "cell_type": "markdown",
      "metadata": {
        "id": "1_Egw2ZA7jLL"
      },
      "source": [
        "# <FONT COLOR=\"blue\">Ejercicio 29</FONT>\n",
        "Usar eliminación Gaussiana sin pivoteo para resolver el sistema:\n",
        "$$\n",
        "  \\begin{bmatrix}\n",
        "  \\epsilon & 1 \\\\\n",
        "  1        & 1\n",
        "  \\end{bmatrix}\n",
        "  \\begin{bmatrix}\n",
        "  x_1 \\\\\n",
        "  x_2\n",
        "  \\end{bmatrix}\n",
        "  =\n",
        "  \\begin{bmatrix}\n",
        "  1+\\epsilon \\\\\n",
        "  2\n",
        "  \\end{bmatrix}\n",
        "$$\n",
        "para $\\epsilon = 10^{-2k}$, con $k = 1,...,10$. La solución exacta es $x = \\begin{bmatrix} 1 & 1 \\end{bmatrix}^t$, ¿cómo se comporta la solución conforme $\\epsilon$ decrece?"
      ]
    },
    {
      "cell_type": "code",
      "metadata": {
        "id": "f4oYUsJE7k2k",
        "colab": {
          "base_uri": "https://localhost:8080/"
        },
        "outputId": "199b4f15-89b5-4ab8-9758-fb5dab9a6fd1"
      },
      "source": [
        "import numpy as np\n",
        "\n",
        "\n",
        "\n",
        "# Construcción del Metodo Gauss sin pivoteo:\n",
        "# Excepciones\n",
        "class slsException(Exception):\n",
        "    def __init__(self,valor):\n",
        "        self.valor = str(valor)\n",
        "    def __str__(self):\n",
        "        errores = {\"0\":\"Las dimensiones son diferentes. La matriz debe ser cuadrada.\",\n",
        "                  \"1\":\"Los elementos de la diagonal son cero. La matriz no es invertible.\",\n",
        "                  \"2\":\"Los elementos de la diagonal son cero.\",\n",
        "                  \"3\":\"Los elementos de la diagonal deben ser positivos.\"}\n",
        "        if self.valor in errores:\n",
        "            return f\"Error {self.valor}. {errores[self.valor]}\"\n",
        "        else:\n",
        "            return \"Error no clasificado\"\n",
        "# Sistema triangular superior\n",
        "def STS(U,rhs):\n",
        "    m,n = U.shape # dimensiones\n",
        "    if m != n: # misma dimensión\n",
        "        raise slsException(0)\n",
        "    b = rhs.copy() # copia para no modificar el original\n",
        "    x = np.zeros(b.shape,dtype = \"float64\") # almacena la solución\n",
        "    for j in reversed(range(n)): # aplicamos la fórmula para sustituir hacia atrás\n",
        "        if U[j,j] == 0:\n",
        "            raise slsException(1)\n",
        "        else:\n",
        "            x[j] = b[j]/U[j,j]\n",
        "            for i in range(j):\n",
        "                b[i] = b[i] - U[i,j]*x[j] # aplicamos fórmula de sustitución\n",
        "    return x\n",
        "# Metodo de Gauss sin pivoteo\n",
        "def Gauss(M,rhs):\n",
        "    A,b = M.copy(),rhs.copy() # copias para no modificar los originales\n",
        "    m,n = A.shape # dimensiones\n",
        "    if m != n: # misma dimensión cuadrada\n",
        "        raise slsException(0)\n",
        "    for j in range(n-1): # sobre las columnas\n",
        "        if A[j,j] == 0: # para si el pivotte es cero\n",
        "            raise slsException(2)\n",
        "        for k in range(j+1,n):\n",
        "            l = -A[k,j]/A[j,j] # multiplicadores para formar ceros en las columnas\n",
        "            for i in range(j+1,n): # siguiente fila\n",
        "                A[k,i] = A[k,i] + l*A[j,i] # aplicamos transforación a la submatriz restante\n",
        "            b[k] = b[k] + l*b[j]\n",
        "    return STS(A,b) # solución\n",
        "\n",
        "\n",
        "\n",
        "# Implementación del Metodo Gauss sin pivoteo:\n",
        "for k in range(10,0,-1): # K = 10,9,...,1\n",
        "  # Valor para epsilon\n",
        "  e = 10**(-2*k)\n",
        "  # Construccion de las matrices A y b dado epsilon\n",
        "  A = np.array([[e,1],[1,1]])\n",
        "  b = np.array([1+e,2])\n",
        "  # Solución al sistema de ecuaciones\n",
        "  x = Gauss(A,b)\n",
        "  print(\"Para K =\",k,\"la solución es:\",f\"x = {x}\",np.allclose(A@x,b))\n",
        "\n",
        "\n",
        "\n",
        "# Observaciones:\n",
        "print(\"\\n Observamos que la solución es más exacta conforme epsilon decrece\")"
      ],
      "execution_count": null,
      "outputs": [
        {
          "output_type": "stream",
          "name": "stdout",
          "text": [
            "Para K = 10 la solución es: x = [0. 1.] False\n",
            "Para K = 9 la solución es: x = [0. 1.] False\n",
            "Para K = 8 la solución es: x = [2.22044605 1.        ] False\n",
            "Para K = 7 la solución es: x = [0.99920072 1.        ] False\n",
            "Para K = 6 la solución es: x = [0.99986686 1.        ] False\n",
            "Para K = 5 la solución es: x = [1.00000008 1.        ] True\n",
            "Para K = 4 la solución es: x = [0.99999999 1.        ] True\n",
            "Para K = 3 la solución es: x = [1. 1.] True\n",
            "Para K = 2 la solución es: x = [1. 1.] True\n",
            "Para K = 1 la solución es: x = [1. 1.] True\n",
            "\n",
            " Observamos que la solución es más exacta conforme epsilon decrece\n"
          ]
        }
      ]
    },
    {
      "cell_type": "markdown",
      "metadata": {
        "id": "tvJ9fkwY7lPU"
      },
      "source": [
        "# <FONT COLOR=\"blue\">Ejercicio 30</FONT>"
      ]
    },
    {
      "cell_type": "code",
      "metadata": {
        "id": "dFIGnxax7pyC"
      },
      "source": [
        ""
      ],
      "execution_count": null,
      "outputs": []
    },
    {
      "cell_type": "markdown",
      "metadata": {
        "id": "yOKoLuYr7qVi"
      },
      "source": [
        "# <FONT COLOR=\"blue\">Ejercicio 31</FONT>"
      ]
    },
    {
      "cell_type": "code",
      "metadata": {
        "id": "qSfM_qYq7uw6"
      },
      "source": [
        ""
      ],
      "execution_count": null,
      "outputs": []
    },
    {
      "cell_type": "markdown",
      "metadata": {
        "id": "bYL-Alpv7uDT"
      },
      "source": [
        "# <FONT COLOR=\"blue\">Ejercicio 32</FONT>\n",
        "Encontrar la factorización de Cholesky de $A$ para las siguientes matrices:\n",
        "$$\n",
        "  A =\n",
        "  \\begin{bmatrix}\n",
        "  2  & -1 & 0 \\\\\n",
        "  -1 & 2  & -1 \\\\\n",
        "  0  & -1 & 2\n",
        "  \\end{bmatrix}; \\hspace{1cm}\n",
        "  B = \n",
        "  \\begin{bmatrix}\n",
        "  4 & 1  & 1  & 1 \\\\\n",
        "  1 & 3  & -1 & 1 \\\\\n",
        "  1 & -1 & 2  & 0 \\\\\n",
        "  1 & 1  & 0  & 2\n",
        "  \\end{bmatrix}\n",
        "  \\\\\n",
        "  C =\n",
        "  \\begin{bmatrix}\n",
        "  4  & 1  & -1 & 0 \\\\\n",
        "  1  & 3  & -1 & 0 \\\\\n",
        "  -1 & -1 & 5  & 2 \\\\\n",
        "  0  & 0  & 2  & 4\n",
        "  \\end{bmatrix}; \\hspace{1cm}\n",
        "  E =\n",
        "  \\begin{bmatrix}\n",
        "  6  & 2 & 1  & -1 \\\\\n",
        "  2  & 4 & 1  & 0 \\\\\n",
        "  1  & 1 & 4  & -1 \\\\\n",
        "  -1 & 0 & -1 & 3\n",
        "  \\end{bmatrix}\n",
        "$$\n",
        "Utilizando:\n",
        "\n",
        "(a) $A = LL^t$\n",
        "\n",
        "(b) $A = \\hat{L}\\hat{D}\\hat{L}^t$"
      ]
    },
    {
      "cell_type": "code",
      "metadata": {
        "id": "3TIQ5uTJ7xGi",
        "colab": {
          "base_uri": "https://localhost:8080/"
        },
        "outputId": "6b69e342-ce33-4020-e38e-50dd3936d8af"
      },
      "source": [
        "import numpy as np\n",
        "\n",
        "\n",
        "\n",
        "# Excepciones\n",
        "class slsException(Exception):\n",
        "    def __init__(self,valor):\n",
        "        self.valor = str(valor)\n",
        "    def __str__(self):\n",
        "        errores = {\"0\":\"Las dimensiones son diferentes. La matriz debe ser cuadrada.\",\n",
        "                  \"1\":\"Los elementos de la diagonal son cero. La matriz no es invertible.\",\n",
        "                  \"2\":\"Los elementos de la diagonal son cero.\",\n",
        "                  \"3\":\"Los elementos de la diagonal deben ser positivos.\"}\n",
        "        if self.valor in errores:\n",
        "            return f\"Error {self.valor}. {errores[self.valor]}\"\n",
        "        else:\n",
        "            return \"Error no clasificado\"\n",
        "# Factorización de Cholesky LL^t\n",
        "def chol_LLt(M):\n",
        "    m,n = M.shape # dimensiones\n",
        "    if m != n: # mismas dimenciones\n",
        "        raise slsException(0)\n",
        "    L = np.zeros(M.shape,dtype = \"float64\") # triangular inferior\n",
        "    for k in range(n):\n",
        "        s = 0.0\n",
        "        for r in range(k):\n",
        "            s += L[k,r]**2\n",
        "        L[k,k] = np.sqrt(M[k,k] - s) # sacamos raices de la diagonal\n",
        "        for j in range(k+1,n):\n",
        "            s = 0.0\n",
        "            for r in range(k):\n",
        "                s += L[j,r]*L[k,r] # aplicamos la formula vista en clase\n",
        "            L[j,k] = (M[j,k] - s)/L[k,k]\n",
        "    return L\n",
        "# Factorización LU\n",
        "def flu(A):\n",
        "    m,n = A.shape\n",
        "    if m!= n:\n",
        "        raise slsException(0)\n",
        "    L,U = np.eye(n),np.zeros((n,n)) # triangulares\n",
        "    for j in range(n):\n",
        "        for k in range(j,n):\n",
        "            s = 0\n",
        "            for i in range(j): # j-1 = range(j)\n",
        "                s += L[j,i]*U[i,k] # fila de A = (fila de L)(U)\n",
        "            U[j,k] = A[j,k] - s # fila de U = fila de A\n",
        "        for k in range(j+1,n):\n",
        "            s = 0\n",
        "            for i in range(j):\n",
        "                s += L[k,i]*U[i,j]\n",
        "            L[k,j] = (A[k,j] - s)/U[j,j] # aplicamos fórmula vista en clase \n",
        "    return L,U\n",
        "# Factorización de Cholesky LDL^t\n",
        "def chol_LDLt(M):\n",
        "    m,n = M.shape\n",
        "    if m != n:\n",
        "        raise slsException(0)\n",
        "    L,U = flu(M) # A = LU\n",
        "    D = np.diag(np.diag(U)) # D = diagonal de U \n",
        "    return L,D\n",
        "\n",
        "\n",
        "\n",
        "# Factorización de Cholesky LL^t (imprime la factorización (L) y la comprobación (A = LL^t))\n",
        "def f_chol_LLt(A):\n",
        "  L = chol_LLt(A)\n",
        "  print(f\"L = \\n {L,np.allclose(L@L.T,A)}\") # comprobación\n",
        "\n",
        "# Factorización de Cholesky LDL^t (imprime la factorización (L y D) y la comprobación (A = LDL^t))\n",
        "def f_chol_LDLt(A):\n",
        "  L,D = chol_LDLt(A)\n",
        "  print(f\"L = \\n {L}\",\"\\n\",f\"D = \\n {D}\",np.allclose(L@D@L.T,A)) # comprobación\n",
        "\n",
        "\n",
        "\n",
        "# Implementación de los métodos creados:\n",
        "# Matrices dadas\n",
        "A = np.array([[2,-1,0],[-1,2,-1],[0,-1,2]])\n",
        "B = np.array([[4,1,1,1],[1,3,-1,1],[1,-1,2,0],[1,1,0,2]])\n",
        "C = np.array([[4,1,-1,0],[1,3,-1,0],[-1,-1,5,2],[0,0,2,4]])\n",
        "E = np.array([[6,2,1,-1],[2,4,1,0],[1,1,4,-1],[-1,0,-1,3]])\n",
        "# Factorización de Cholesky A = LL^t\n",
        "print(\"FACTORIZACIÓN DE CHOLESKY A = LL^t\")\n",
        "print(\"\\n Para la matriz A:\")\n",
        "f_chol_LLt(A)\n",
        "print(\"\\n Para la matriz B:\")\n",
        "f_chol_LLt(B)\n",
        "print(\"\\n Para la matriz C:\")\n",
        "f_chol_LLt(C)\n",
        "print(\"\\n Para la matriz E:\")\n",
        "f_chol_LLt(E)\n",
        "# Factorización de Cholesky A = LDL^t\n",
        "print(\"\\n\\n FACTORIZACIÓN DE CHOLESKY A = LDL^t\")\n",
        "print(\"\\n Para la matriz A:\")\n",
        "f_chol_LDLt(A)\n",
        "print(\"\\n Para la matriz B:\")\n",
        "f_chol_LDLt(B)\n",
        "print(\"\\n Para la matriz C:\")\n",
        "f_chol_LDLt(C)\n",
        "print(\"\\n Para la matriz E:\")\n",
        "f_chol_LDLt(E)"
      ],
      "execution_count": null,
      "outputs": [
        {
          "output_type": "stream",
          "name": "stdout",
          "text": [
            "FACTORIZACIÓN DE CHOLESKY A = LL^t\n",
            "\n",
            " Para la matriz A:\n",
            "L = \n",
            " (array([[ 1.41421356,  0.        ,  0.        ],\n",
            "       [-0.70710678,  1.22474487,  0.        ],\n",
            "       [ 0.        , -0.81649658,  1.15470054]]), True)\n",
            "\n",
            " Para la matriz B:\n",
            "L = \n",
            " (array([[ 2.        ,  0.        ,  0.        ,  0.        ],\n",
            "       [ 0.5       ,  1.6583124 ,  0.        ,  0.        ],\n",
            "       [ 0.5       , -0.75377836,  1.08711461,  0.        ],\n",
            "       [ 0.5       ,  0.45226702,  0.0836242 ,  1.24034735]]), True)\n",
            "\n",
            " Para la matriz C:\n",
            "L = \n",
            " (array([[ 2.        ,  0.        ,  0.        ,  0.        ],\n",
            "       [ 0.5       ,  1.6583124 ,  0.        ,  0.        ],\n",
            "       [-0.5       , -0.45226702,  2.13200716,  0.        ],\n",
            "       [ 0.        ,  0.        ,  0.93808315,  1.76635217]]), True)\n",
            "\n",
            " Para la matriz E:\n",
            "L = \n",
            " (array([[ 2.44948974,  0.        ,  0.        ,  0.        ],\n",
            "       [ 0.81649658,  1.82574186,  0.        ,  0.        ],\n",
            "       [ 0.40824829,  0.36514837,  1.92353841,  0.        ],\n",
            "       [-0.40824829,  0.18257419, -0.46788772,  1.60657433]]), True)\n",
            "\n",
            "\n",
            " FACTORIZACIÓN DE CHOLESKY A = LDL^t\n",
            "\n",
            " Para la matriz A:\n",
            "L = \n",
            " [[ 1.          0.          0.        ]\n",
            " [-0.5         1.          0.        ]\n",
            " [ 0.         -0.66666667  1.        ]] \n",
            " D = \n",
            " [[2.         0.         0.        ]\n",
            " [0.         1.5        0.        ]\n",
            " [0.         0.         1.33333333]] True\n",
            "\n",
            " Para la matriz B:\n",
            "L = \n",
            " [[ 1.          0.          0.          0.        ]\n",
            " [ 0.25        1.          0.          0.        ]\n",
            " [ 0.25       -0.45454545  1.          0.        ]\n",
            " [ 0.25        0.27272727  0.07692308  1.        ]] \n",
            " D = \n",
            " [[4.         0.         0.         0.        ]\n",
            " [0.         2.75       0.         0.        ]\n",
            " [0.         0.         1.18181818 0.        ]\n",
            " [0.         0.         0.         1.53846154]] True\n",
            "\n",
            " Para la matriz C:\n",
            "L = \n",
            " [[ 1.          0.          0.          0.        ]\n",
            " [ 0.25        1.          0.          0.        ]\n",
            " [-0.25       -0.27272727  1.          0.        ]\n",
            " [ 0.          0.          0.44        1.        ]] \n",
            " D = \n",
            " [[4.         0.         0.         0.        ]\n",
            " [0.         2.75       0.         0.        ]\n",
            " [0.         0.         4.54545455 0.        ]\n",
            " [0.         0.         0.         3.12      ]] True\n",
            "\n",
            " Para la matriz E:\n",
            "L = \n",
            " [[ 1.          0.          0.          0.        ]\n",
            " [ 0.33333333  1.          0.          0.        ]\n",
            " [ 0.16666667  0.2         1.          0.        ]\n",
            " [-0.16666667  0.1        -0.24324324  1.        ]] \n",
            " D = \n",
            " [[6.         0.         0.         0.        ]\n",
            " [0.         3.33333333 0.         0.        ]\n",
            " [0.         0.         3.7        0.        ]\n",
            " [0.         0.         0.         2.58108108]] True\n"
          ]
        }
      ]
    }
  ]
}